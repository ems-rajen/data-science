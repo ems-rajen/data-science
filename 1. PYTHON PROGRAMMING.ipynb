{
 "cells": [
  {
   "cell_type": "markdown",
   "id": "ce02570c-f45e-45c2-9cc8-9a297114b53b",
   "metadata": {},
   "source": [
    "<h3><center>( Python programming : core + Oop + adv )</center></h3>"
   ]
  },
  {
   "cell_type": "markdown",
   "id": "5fd1e7cd-5e2e-4723-940c-00d867af3fb9",
   "metadata": {},
   "source": [
    "<h2> lang. Practical notes...</h2>"
   ]
  },
  {
   "cell_type": "markdown",
   "id": "ca66fd78-b9ad-4f8c-aec9-e28c4427a4fa",
   "metadata": {},
   "source": [
    "<pre>\n",
    "<b>Author : </b> Rajendra Kumar R.\n",
    "<b>Last updated : </b> Jan. 2024\n",
    "<b>IDE : </b> Jupyter notebook\n",
    "<b>Language : </b> pyhton 3.12.0\n",
    "<b>os : </b> Win 10 / win 11\n",
    "</pre>"
   ]
  },
  {
   "cell_type": "markdown",
   "id": "51c9add5-b8e7-41dc-b359-82902e7243d5",
   "metadata": {},
   "source": [
    "<center><h1>Python Fundamental</h1></center>"
   ]
  },
  {
   "cell_type": "code",
   "execution_count": null,
   "id": "ced34755-81b6-41c7-9403-ad60c455f1eb",
   "metadata": {},
   "outputs": [],
   "source": []
  },
  {
   "cell_type": "code",
   "execution_count": null,
   "id": "b8763408-7368-490e-af2f-7943c9e3567b",
   "metadata": {},
   "outputs": [],
   "source": []
  },
  {
   "cell_type": "code",
   "execution_count": null,
   "id": "ba135042-cc23-4d47-b778-ac7da9601510",
   "metadata": {},
   "outputs": [],
   "source": []
  },
  {
   "cell_type": "code",
   "execution_count": null,
   "id": "d0fd3130-e473-46d6-88d8-38dbd9694563",
   "metadata": {},
   "outputs": [],
   "source": []
  },
  {
   "cell_type": "code",
   "execution_count": null,
   "id": "145761ec-ccf5-45d9-9436-7e59b18a139c",
   "metadata": {},
   "outputs": [],
   "source": []
  },
  {
   "cell_type": "code",
   "execution_count": null,
   "id": "15e505f6-17c6-4aaa-b4c8-af2bdd6a28f5",
   "metadata": {},
   "outputs": [],
   "source": []
  },
  {
   "cell_type": "code",
   "execution_count": null,
   "id": "70d695fa-8732-4ae2-b8b5-fe114f99f22d",
   "metadata": {},
   "outputs": [],
   "source": []
  },
  {
   "cell_type": "code",
   "execution_count": null,
   "id": "b07c1491-b946-4e76-bfb4-ac2166b3afea",
   "metadata": {},
   "outputs": [],
   "source": []
  },
  {
   "cell_type": "code",
   "execution_count": null,
   "id": "09695348-f28d-4630-b37a-d8420175ede7",
   "metadata": {},
   "outputs": [],
   "source": []
  },
  {
   "cell_type": "markdown",
   "id": "041a5348-a1b8-4e4f-97c7-6270d0407ed6",
   "metadata": {},
   "source": [
    "### Comments in Python :\n",
    "Comments in Python are the lines in the code that are ignored by the interpreter during the execution of the program. Comments enhance the readability of the code and help the programmers to understand the code very carefully. we also comments code statements too."
   ]
  },
  {
   "cell_type": "markdown",
   "id": "b483ad41-7fd7-4bd6-837e-5e090662fde4",
   "metadata": {},
   "source": [
    "<b>types of comments : </b>there are various types of comments in python programming. These are giving below.\n",
    "\n",
    "1. single_line\n",
    "2. multiple_line\n",
    "3. string_literal\n",
    "4. Doc_string\n",
    "\n",
    "Let's see them one by one with examples, explanations and syntax. "
   ]
  },
  {
   "cell_type": "markdown",
   "id": "d34f7f3f-dc45-409d-aeec-9e39bf589307",
   "metadata": {},
   "source": [
    "<b>1. Single line Comments : </b>Python single-line comment starts with the hashtag symbol (#) with no white spaces and lasts till the end of the line. It’s useful for short explanations for variables, function declarations."
   ]
  },
  {
   "cell_type": "markdown",
   "id": "9872a928-b179-4e3b-9fd5-29d67a5d310d",
   "metadata": {},
   "source": [
    "<B>SYNTAX:</B> # comments\n",
    "<br><b>EXAMPLE:"
   ]
  },
  {
   "cell_type": "code",
   "execution_count": 1,
   "id": "8c3fb14e-e733-416f-afd2-72a14737be1b",
   "metadata": {},
   "outputs": [
    {
     "name": "stdout",
     "output_type": "stream",
     "text": [
      "line_1\n",
      "line_2\n",
      "line_4\n"
     ]
    }
   ],
   "source": [
    "print(\"line_1\")\n",
    "print(\"line_2\")\n",
    "# print(\"line_3\")\n",
    "print(\"line_4\")"
   ]
  },
  {
   "cell_type": "markdown",
   "id": "a80f9cab-9c32-432a-a94c-2b77d3734319",
   "metadata": {},
   "source": [
    "<b>2. Multiline Comments : </b>  Python does not provide the option for multiline. comments. However, there are different ways through which we can write multiline comments. like hashtag(#) or using string literals. we can use hashtag in starting of multiple lines that we want to comments."
   ]
  },
  {
   "cell_type": "markdown",
   "id": "991b2e80-22eb-44e2-a4a1-fd0b9aff9c05",
   "metadata": {},
   "source": [
    "<B>SYNTAX:</B>\n",
    "<pre>\n",
    "     # comments_1\n",
    "     # comments_2\n",
    "     # comments_3\n",
    "     # ....</pre>\n",
    "<b>EXAMPLE:"
   ]
  },
  {
   "cell_type": "code",
   "execution_count": 2,
   "id": "1a93489f-529f-49a6-96ec-72f271313bfb",
   "metadata": {},
   "outputs": [
    {
     "name": "stdout",
     "output_type": "stream",
     "text": [
      "line_1\n",
      "line_2\n",
      "line_6\n"
     ]
    }
   ],
   "source": [
    "print(\"line_1\")\n",
    "print(\"line_2\")\n",
    "# print(\"line_3\")\n",
    "# print(\"line_4\")\n",
    "# print(\"line_5\")\n",
    "print(\"line_6\")\n",
    "# print(\"line_7\")"
   ]
  },
  {
   "cell_type": "markdown",
   "id": "5d459364-2d61-476b-aa0d-01d3b7bd9571",
   "metadata": {},
   "source": [
    "<b>3. String Literals : </b> in this method, we use triple quotes('''comment''') or (\"\"\"comment\"\"\") to comments single or multiple line"
   ]
  },
  {
   "cell_type": "markdown",
   "id": "43a34514-7c06-47e8-8e87-8dca0482212c",
   "metadata": {},
   "source": [
    "<B>SYNTAX:</B>\n",
    "<pre>\n",
    "      code...statements\n",
    "    '''comments_1\n",
    "      comments_2\n",
    "      comments_3\n",
    "      ....'''\n",
    "      code...statements</pre>\n",
    "<b>EXAMPLE:"
   ]
  },
  {
   "cell_type": "code",
   "execution_count": 4,
   "id": "a527513a-97e3-4745-a4c6-977365f92492",
   "metadata": {},
   "outputs": [
    {
     "name": "stdout",
     "output_type": "stream",
     "text": [
      "line_1\n",
      "line_2\n",
      "line_6\n",
      "line_7\n"
     ]
    }
   ],
   "source": [
    "print(\"line_1\")\n",
    "print(\"line_2\")\n",
    "'''print(\"line_3\")\n",
    "print(\"line_4\")\n",
    "print(\"line_5\")'''\n",
    "print(\"line_6\")\n",
    "print(\"line_7\")"
   ]
  },
  {
   "cell_type": "markdown",
   "id": "b3acb7f1-2bd1-43da-9fa0-3b11b5020bf0",
   "metadata": {},
   "source": [
    "<B>SYNTAX:</B>\n",
    "<pre>code...statements\n",
    "    \"\"\" comments_1\n",
    "     comments_2\n",
    "     comments_3\n",
    "     ....\"\"\"\n",
    "     code...statements</pre>\n",
    "<b>EXAMPLE:"
   ]
  },
  {
   "cell_type": "code",
   "execution_count": 3,
   "id": "9a7474ce-b742-4097-91f3-22d1a20496cd",
   "metadata": {},
   "outputs": [
    {
     "name": "stdout",
     "output_type": "stream",
     "text": [
      "line_1\n",
      "line_2\n",
      "line_7\n"
     ]
    }
   ],
   "source": [
    "print(\"line_1\")\n",
    "print(\"line_2\")\n",
    "\"\"\"print(\"line_3\")\n",
    "print(\"line_4\")\n",
    "print(\"line_5\")\n",
    "print(\"line_6\")\"\"\"\n",
    "print(\"line_7\")"
   ]
  },
  {
   "cell_type": "markdown",
   "id": "2729f61c-6720-4862-84f0-a8ed47f7d169",
   "metadata": {},
   "source": [
    "<b>4. Doc_string Comments : </b>Python docstring is the string literals with triple quotes that appeared right after the function.\n",
    "It is used to associate documentation that has been written with Python modules, functions, classes & methods and describe what they do. it is done using <b>\"__doc__attribute\"</b>."
   ]
  },
  {
   "cell_type": "markdown",
   "id": "c9888aa7-420b-42b3-ae1a-d361e4ff0fb3",
   "metadata": {},
   "source": [
    "<B>SYNTAX : </B>\n",
    "<pre>\n",
    "def function_name(args):\n",
    "    \"\"\"there is Doc_string\"\"\"\n",
    "    function defination and result\n",
    "\n",
    "print(function_name.__doc__)  ------> Print the docstring of multiply function\n",
    "</pre>\n",
    "<b>EXAMPLE : </B>"
   ]
  },
  {
   "cell_type": "code",
   "execution_count": 7,
   "id": "3846e711-57fe-445e-ae4d-912a9b809f35",
   "metadata": {},
   "outputs": [
    {
     "name": "stdout",
     "output_type": "stream",
     "text": [
      "Multiplies the value of a and b\n"
     ]
    },
    {
     "data": {
      "text/plain": [
       "6"
      ]
     },
     "execution_count": 7,
     "metadata": {},
     "output_type": "execute_result"
    }
   ],
   "source": [
    "def multiply(a, b): \n",
    "    \"\"\"Multiplies the value of a and b\"\"\"\n",
    "    return a*b \n",
    "\n",
    "print(multiply.__doc__)\n",
    "multiply(2,3)"
   ]
  },
  {
   "cell_type": "markdown",
   "id": "cc18a4a5-a88a-490a-8a42-008e3daa081b",
   "metadata": {},
   "source": [
    "### modules in python :\n",
    "* let's see basics of modules in python than we'll dive deep about it later.\n",
    "* modules are files that contain built-in functions, classes and variables.\n",
    "* there are three type of modules mostly\n",
    "1. <b>built-in(internal) : </b> all the modules exists in python standard library\n",
    "2. <b>external : </b> this is the we add from other sources not exists in python standard libraries.\n",
    "3. <b>user-define : </b> the modules user create for own purpose to improve own creativity."
   ]
  },
  {
   "cell_type": "markdown",
   "id": "0568865a-7c6e-4d16-8046-7a79a86eca4a",
   "metadata": {},
   "source": [
    "* let's see example of external module <b>playsounds</b> to play music."
   ]
  },
  {
   "cell_type": "code",
   "execution_count": 9,
   "id": "2c524213-6b21-4469-bb19-db4171dcd9a7",
   "metadata": {},
   "outputs": [
    {
     "name": "stdout",
     "output_type": "stream",
     "text": [
      "Requirement already satisfied: playsound in c:\\users\\rajen\\anaconda3\\lib\\site-packages (1.3.0)\n",
      "Note: you may need to restart the kernel to use updated packages.\n"
     ]
    }
   ],
   "source": [
    "pip install playsound"
   ]
  },
  {
   "cell_type": "code",
   "execution_count": null,
   "id": "fbca7db1-26e3-4eb5-ac3e-8641b7c19db8",
   "metadata": {},
   "outputs": [],
   "source": [
    "from playsound import playsound\n",
    "\n",
    "playsound('E:\\\\PROJECT_MEDIA\\\\Aathma Rama Ananda Ramana_-_Brodha_V-No_English_Only_Hindi_Version-Spirituality-ॐ_.mp3')"
   ]
  },
  {
   "cell_type": "markdown",
   "id": "6a237de7-b828-4071-84bf-b9c9aaeebf64",
   "metadata": {},
   "source": [
    "<b>NOTE : </b> always exchange '\\' and '/' to '\\\\' in path to execute the command coz single slash denoted to black_space character."
   ]
  },
  {
   "cell_type": "markdown",
   "id": "b6fe6935-e919-497f-8cb0-f14a9f569d69",
   "metadata": {},
   "source": [
    "* let's try to play video"
   ]
  },
  {
   "cell_type": "code",
   "execution_count": 6,
   "id": "1aad7fce-7924-4d57-8866-78d461a1c0e3",
   "metadata": {},
   "outputs": [
    {
     "name": "stdout",
     "output_type": "stream",
     "text": [
      "Requirement already satisfied: opencv-python in c:\\users\\rajen\\anaconda3\\lib\\site-packages (4.9.0.80)Note: you may need to restart the kernel to use updated packages.\n",
      "\n",
      "Requirement already satisfied: numpy>=1.21.2 in c:\\users\\rajen\\anaconda3\\lib\\site-packages (from opencv-python) (1.26.3)\n"
     ]
    }
   ],
   "source": [
    "pip install opencv-python"
   ]
  },
  {
   "cell_type": "code",
   "execution_count": 3,
   "id": "617086fa-2064-4ab6-9a47-c4e8e8fd5281",
   "metadata": {},
   "outputs": [
    {
     "name": "stdout",
     "output_type": "stream",
     "text": [
      "Requirement already satisfied: numpy in c:\\users\\rajen\\anaconda3\\lib\\site-packages (1.26.3)\n",
      "Note: you may need to restart the kernel to use updated packages.\n"
     ]
    }
   ],
   "source": [
    "pip install numpy"
   ]
  },
  {
   "cell_type": "code",
   "execution_count": 1,
   "id": "acb7cb0f-b730-4749-8fda-4908c941bbf3",
   "metadata": {},
   "outputs": [
    {
     "name": "stdout",
     "output_type": "stream",
     "text": [
      "Requirement already satisfied: ffpyplayer in c:\\users\\rajen\\anaconda3\\lib\\site-packages (4.5.1)\n",
      "Note: you may need to restart the kernel to use updated packages.\n"
     ]
    }
   ],
   "source": [
    "pip install ffpyplayer"
   ]
  },
  {
   "cell_type": "code",
   "execution_count": 1,
   "id": "770c8a00-a2c8-41ef-85d9-233f95fed4fa",
   "metadata": {},
   "outputs": [
    {
     "name": "stdout",
     "output_type": "stream",
     "text": [
      "End of video\n"
     ]
    }
   ],
   "source": [
    "import cv2\n",
    "import numpy as np\n",
    "#ffpyplayer for playing audio\n",
    "from ffpyplayer.player import MediaPlayer\n",
    "\n",
    "\n",
    "video_path=\"E:\\\\PROJECT_MEDIA\\\\Best_romantic_Animated_status_video_YouTube.mp4\"\n",
    "def PlayVideo(video_path):\n",
    "    video=cv2.VideoCapture(video_path)\n",
    "    player = MediaPlayer(video_path)\n",
    "    while True:\n",
    "        grabbed, frame=video.read()\n",
    "        audio_frame, val = player.get_frame()\n",
    "        if not grabbed:\n",
    "            print(\"End of video\")\n",
    "            break\n",
    "        if cv2.waitKey(28) & 0xFF == ord(\"q\"):\n",
    "            break\n",
    "        cv2.imshow(\"Video\", frame)\n",
    "        if val != 'eof' and audio_frame is not None:\n",
    "            #audio\n",
    "            img, t = audio_frame\n",
    "    video.release()\n",
    "    cv2.destroyAllWindows()\n",
    "PlayVideo(video_path)"
   ]
  },
  {
   "cell_type": "markdown",
   "id": "234fbf36-abb4-4133-8ca0-a660b15f9212",
   "metadata": {},
   "source": [
    "let's see <b>OS</b> built-in module."
   ]
  },
  {
   "cell_type": "code",
   "execution_count": 33,
   "id": "50af475f-861f-4d6a-8e26-1ca1e7aee66c",
   "metadata": {},
   "outputs": [
    {
     "name": "stdout",
     "output_type": "stream",
     "text": [
      "<built-in function listdir>\n"
     ]
    }
   ],
   "source": [
    "import os\n",
    "print(os.listdir)"
   ]
  },
  {
   "cell_type": "markdown",
   "id": "d289a405-c4bd-4320-bfc2-3f638bcf0907",
   "metadata": {},
   "source": [
    "Let's see \"print()\" function..."
   ]
  },
  {
   "cell_type": "markdown",
   "id": "47e65f4f-5d93-43b9-9b6c-6edf56c27c4b",
   "metadata": {},
   "source": [
    "### print() function :\n",
    "The print() function prints the specified message to the screen, or other standard output device.<br>\n",
    "<b>SYNTAX : </b> print(\"this is a section to write...\")\n",
    "<br>\n",
    "there are various way to use print() function."
   ]
  },
  {
   "cell_type": "markdown",
   "id": "d22b73cd-123b-4ec0-b0d9-e45cbc4aeb62",
   "metadata": {},
   "source": [
    "* default way :"
   ]
  },
  {
   "cell_type": "code",
   "execution_count": 34,
   "id": "6fe5b8ce-ac2a-4b98-bfe6-8a66fc40c9b8",
   "metadata": {},
   "outputs": [
    {
     "name": "stdout",
     "output_type": "stream",
     "text": [
      "hello world\n"
     ]
    }
   ],
   "source": [
    "print(\"hello world\")"
   ]
  },
  {
   "cell_type": "markdown",
   "id": "f73c3678-2bf3-4e10-96ac-13cbe5410e20",
   "metadata": {},
   "source": [
    "* we can use it as basic calculator"
   ]
  },
  {
   "cell_type": "code",
   "execution_count": 35,
   "id": "7d5ba5aa-1a48-458e-a090-8480e4e851f2",
   "metadata": {},
   "outputs": [
    {
     "name": "stdout",
     "output_type": "stream",
     "text": [
      "5\n"
     ]
    }
   ],
   "source": [
    "print(2+3)"
   ]
  },
  {
   "cell_type": "markdown",
   "id": "82dcde42-d1d1-494b-aa25-9db3e17141a0",
   "metadata": {},
   "source": [
    "* notebook cell also can work as print function if you only execute it with result statements"
   ]
  },
  {
   "cell_type": "code",
   "execution_count": 37,
   "id": "e8f8fbd9-3e76-4f41-af7a-95ce48ef086d",
   "metadata": {},
   "outputs": [
    {
     "data": {
      "text/plain": [
       "25"
      ]
     },
     "execution_count": 37,
     "metadata": {},
     "output_type": "execute_result"
    }
   ],
   "source": [
    "12 + 13"
   ]
  },
  {
   "cell_type": "markdown",
   "id": "bfedd9de-b2f3-4e7d-893b-a005d67eb0fa",
   "metadata": {},
   "source": [
    "* to print result with massage."
   ]
  },
  {
   "cell_type": "markdown",
   "id": "57c2193b-8a81-43a3-be0f-59a791c65b1c",
   "metadata": {},
   "source": [
    "1.  default way."
   ]
  },
  {
   "cell_type": "code",
   "execution_count": 39,
   "id": "dc4c50f7-9cd0-4a73-b3f4-3b0547b45a77",
   "metadata": {},
   "outputs": [
    {
     "name": "stdout",
     "output_type": "stream",
     "text": [
      "sum =  8\n"
     ]
    }
   ],
   "source": [
    "a = 5\n",
    "b = 3\n",
    "c = a + b\n",
    "\n",
    "print(\"sum = \",c)"
   ]
  },
  {
   "cell_type": "code",
   "execution_count": 40,
   "id": "84b5b427-efec-4b9e-b2b8-f990bb1889c0",
   "metadata": {},
   "outputs": [
    {
     "name": "stdout",
     "output_type": "stream",
     "text": [
      "sum of  5  and  3  is  8\n"
     ]
    }
   ],
   "source": [
    "a = 5\n",
    "b = 3\n",
    "c = a + b\n",
    "\n",
    "print(\"sum of \",a,\" and \",b,\" is \",c)   # default way"
   ]
  },
  {
   "cell_type": "markdown",
   "id": "9cdab1d4-590c-4f53-b059-69e069e162cb",
   "metadata": {},
   "source": [
    "* with f-string : \n",
    "  in this method you can print {values} in strings with using 'f' in starting of string in print() funtion.."
   ]
  },
  {
   "cell_type": "code",
   "execution_count": 41,
   "id": "30d4943f-a5a2-4697-92cf-6d934f8b4d6c",
   "metadata": {},
   "outputs": [
    {
     "name": "stdout",
     "output_type": "stream",
     "text": [
      "sum of 5 and 3 is 8\n"
     ]
    }
   ],
   "source": [
    "a = 5\n",
    "b = 3\n",
    "c = a + b\n",
    "\n",
    "print(f\"sum of {a} and {b} is {c}\")"
   ]
  },
  {
   "cell_type": "markdown",
   "id": "1a07317e-0470-4bfb-afb0-6d83ac8a577e",
   "metadata": {},
   "source": [
    "* format method."
   ]
  },
  {
   "cell_type": "code",
   "execution_count": 45,
   "id": "5c68fd04-dcee-4f86-a8af-053e6aa19eb4",
   "metadata": {},
   "outputs": [
    {
     "name": "stdout",
     "output_type": "stream",
     "text": [
      "ram and syam are friends and both are 25 years old and went to taj-mahal in vecetion.\n"
     ]
    }
   ],
   "source": [
    "name1 = 'ram'\n",
    "name2 = 'syam'\n",
    "age = 25\n",
    "place = 'taj-mahal'\n",
    "\n",
    "print(\"{} and {} are friends and both are {} years old and went to {} in vecetion.\".format(name1,name2,age,place))"
   ]
  },
  {
   "cell_type": "code",
   "execution_count": 43,
   "id": "64ec1e74-b5c5-4c4b-b94a-f8c8302157a8",
   "metadata": {},
   "outputs": [
    {
     "name": "stdout",
     "output_type": "stream",
     "text": [
      "my favorite place taj-mahal, and i'm ram with 25 years old.\n"
     ]
    }
   ],
   "source": [
    "name1 = 'ram'\n",
    "name2 = 'syam'\n",
    "age = 25\n",
    "place = 'taj-mahal'\n",
    "\n",
    "print(\"my favorite place {2}, and i'm {0} with {1} years old.\".format(name1,age,place))"
   ]
  },
  {
   "cell_type": "code",
   "execution_count": 46,
   "id": "e4b0a0d2-1f36-448f-8359-c6a0a2626ffe",
   "metadata": {},
   "outputs": [
    {
     "name": "stdout",
     "output_type": "stream",
     "text": [
      "ram and syam are good friends.\n"
     ]
    }
   ],
   "source": [
    "n1 = 'ram'\n",
    "n2 = 'syam'\n",
    "txt = \"{} and {} are good friends.\"\n",
    "\n",
    "print(txt.format(n1,n2))"
   ]
  },
  {
   "cell_type": "markdown",
   "id": "6f0dbf9a-fc70-4644-882e-17d9b4bff897",
   "metadata": {},
   "source": [
    "* using placeholder. % with d,i,c and f"
   ]
  },
  {
   "cell_type": "code",
   "execution_count": 48,
   "id": "49ab29e2-9c3f-4b7e-9b77-3b525cdbc041",
   "metadata": {},
   "outputs": [
    {
     "name": "stdout",
     "output_type": "stream",
     "text": [
      "sum of 5.000000 and 3.000000 is 8.0\n"
     ]
    }
   ],
   "source": [
    "a = 5.0\n",
    "b = 3.0\n",
    "c = a + b\n",
    "sum = 'sum of %f and %f is'%(a,b)\n",
    "print(sum,c)"
   ]
  },
  {
   "cell_type": "markdown",
   "id": "2684c5f1-8c23-462d-afe8-6e1643705890",
   "metadata": {},
   "source": [
    "* concate massage."
   ]
  },
  {
   "cell_type": "code",
   "execution_count": 49,
   "id": "de8a67d6-9382-44c0-bb5a-23ad67ecc12f",
   "metadata": {},
   "outputs": [
    {
     "name": "stdout",
     "output_type": "stream",
     "text": [
      "my name is john, and I am 34\n"
     ]
    }
   ],
   "source": [
    "age = '34'\n",
    "msg = 'my name is john, and I am ' + age\n",
    "\n",
    "print(msg)"
   ]
  },
  {
   "cell_type": "code",
   "execution_count": 51,
   "id": "aadf88ef-79ea-4156-8f0c-20e87ff47b77",
   "metadata": {},
   "outputs": [
    {
     "name": "stdout",
     "output_type": "stream",
     "text": [
      "i a rajam 25 years old\n"
     ]
    }
   ],
   "source": [
    "s1 = 'i a raj'\n",
    "s2 = 'am 25 years old'\n",
    "\n",
    "print(s1+s2)"
   ]
  },
  {
   "cell_type": "markdown",
   "id": "23fb8ff4-e932-41dc-8906-d2b5dd042b30",
   "metadata": {},
   "source": [
    "* other way."
   ]
  },
  {
   "cell_type": "code",
   "execution_count": 53,
   "id": "67989608-c51e-4705-bcda-a343afd7da4e",
   "metadata": {},
   "outputs": [
    {
     "name": "stdout",
     "output_type": "stream",
     "text": [
      "Iamram\n"
     ]
    }
   ],
   "source": [
    "x = 'I'\n",
    "y = 'am'\n",
    "z = 'ram'\n",
    "print(x + y + z)"
   ]
  },
  {
   "cell_type": "code",
   "execution_count": 52,
   "id": "b3eebba7-ac64-46af-b9de-4247236cca45",
   "metadata": {},
   "outputs": [
    {
     "name": "stdout",
     "output_type": "stream",
     "text": [
      "I am ram\n"
     ]
    }
   ],
   "source": [
    "x = 'I'\n",
    "y = 'am'\n",
    "z = 'ram'\n",
    "print(x,y,z)"
   ]
  },
  {
   "cell_type": "markdown",
   "id": "356878c8-6735-4007-b709-54d9bee82e92",
   "metadata": {},
   "source": [
    "### type() function : \n",
    "This is built0in function to print the data type of given variable or value. it take only one argument.</br>\n",
    "This code assigns variable ‘x’ different values of various data types in Python. It covers string, integer, float, complex, list, tuple, range, dictionary, set, frozenset, boolean, bytes, bytearray, memoryview, and the special value ‘None’ successively. Each assignment replaces the previous value, making ‘x’ take on the data type and value of the most recent assignment.\n",
    "\n",
    "<b>SYNTAX:</b> type(x)"
   ]
  },
  {
   "cell_type": "code",
   "execution_count": 1,
   "id": "7cb5b5a6-43ca-4f6d-b545-b2fabfccedca",
   "metadata": {},
   "outputs": [],
   "source": [
    "a = 12"
   ]
  },
  {
   "cell_type": "code",
   "execution_count": 2,
   "id": "6685ffb9-5a06-405d-8843-f6104e1f0676",
   "metadata": {},
   "outputs": [
    {
     "data": {
      "text/plain": [
       "int"
      ]
     },
     "execution_count": 2,
     "metadata": {},
     "output_type": "execute_result"
    }
   ],
   "source": [
    "type(a)"
   ]
  },
  {
   "cell_type": "code",
   "execution_count": 9,
   "id": "9419f876-829e-4ee8-abe6-28e18403c305",
   "metadata": {},
   "outputs": [
    {
     "name": "stdout",
     "output_type": "stream",
     "text": [
      "<class 'bool'>\n"
     ]
    }
   ],
   "source": [
    "b = True\n",
    "print(type(b))"
   ]
  },
  {
   "cell_type": "code",
   "execution_count": 8,
   "id": "8a584339-22d7-4f1d-9ee6-e3d9ba9afbdb",
   "metadata": {},
   "outputs": [
    {
     "name": "stdout",
     "output_type": "stream",
     "text": [
      "<class 'complex'>\n"
     ]
    }
   ],
   "source": [
    "c = 2 + 3j\n",
    "print(type(c))"
   ]
  },
  {
   "cell_type": "markdown",
   "id": "0fb1bd71-753e-4574-935f-84495bead1f3",
   "metadata": {},
   "source": [
    "### Data types:\n",
    "\n",
    "There are different types of data types in Python. Some built-in Python data types are set, frozenset"
   ]
  },
  {
   "cell_type": "markdown",
   "id": "9d089490-051d-4899-bb4c-9b9861dd5347",
   "metadata": {},
   "source": [
    "* <b>Numeric data types: </b> int, float, complex, long\n",
    "* <b>String data types: </b> str\n",
    "* <b>Sequence types:</b> list, tuple, range,\n",
    "* <b>Binary types: </b>bytes, bytearray, memoryviewe\n",
    "* <b>Mapping data type:</b> dict \n",
    "* <b>Boolean type: </b>bool\n",
    "* <b>Set data types: </b>set, frozenset\n",
    "* <b>None type : </b>None"
   ]
  },
  {
   "cell_type": "markdown",
   "id": "8be4f6e9-6b5d-4073-9b94-52c73f66136c",
   "metadata": {},
   "source": [
    "Let'a see them by examples."
   ]
  },
  {
   "cell_type": "markdown",
   "id": "26c672fd-574a-44bd-9a82-7e62e7279d5a",
   "metadata": {},
   "source": [
    "* <b>Numeric data type:</b>"
   ]
  },
  {
   "cell_type": "markdown",
   "id": "76f8a287-6dc1-47c6-a755-b58378284414",
   "metadata": {},
   "source": [
    "Python numeric data type is used to hold numeric values like;\n",
    "\n",
    "1. <b>int-</b>holds signed integers of non-limited length.\n",
    "2. <b>long-</b>holds long integers(exists in Python 2.x, deprecated in Python 3.x).\n",
    "3. <b>float-</b>holds floating precision numbers and it’s accurate up to 15 decimal places.\n",
    "4. <b>complex-</b>holds complex numbers."
   ]
  },
  {
   "cell_type": "markdown",
   "id": "d7a326ca-cf4f-4fde-97fc-83d4f7eb83f7",
   "metadata": {},
   "source": [
    "<b>1. Integer data type: </b>an integer is a whole number that can be positive, negative, or zero. Integers do not include decimals or fractions. <br>\n",
    "<b>Example:</b>\n",
    "Here are some examples of integers: <br>\n",
    "-5, 0, 1, 5, 8, 97, 3,043. <br>\n",
    "Here are some examples of numbers that are not integers:<br>\n",
    "-1.43, 1 3/4, 3.14, .09, 5,643.1. <br>\n",
    "Integers are also called \"round numbers\" or \"whole numbers\". In computer science, an integer is a value that can range from 0 to 65,535."
   ]
  },
  {
   "cell_type": "code",
   "execution_count": 3,
   "id": "caa9c52b-7ebf-48e1-964f-e029916908e6",
   "metadata": {},
   "outputs": [
    {
     "name": "stdout",
     "output_type": "stream",
     "text": [
      "a =  10\n",
      "data type of a =  <class 'int'>\n",
      "b =  -5\n",
      "data type of b =  <class 'int'>\n"
     ]
    }
   ],
   "source": [
    "a = 10\n",
    "b = -5\n",
    "\n",
    "print(\"a = \",a)\n",
    "print(\"data type of a = \",type(a))\n",
    "\n",
    "print(\"b = \",b)\n",
    "print(\"data type of b = \",type(b))"
   ]
  },
  {
   "cell_type": "markdown",
   "id": "0e0f9cea-a796-4c04-852e-226f9ab1266c",
   "metadata": {},
   "source": [
    "<b>2. float data type:</b>\n",
    "A floating point number, is a positive or negative whole number with a decimal point. For example, 5.5, 0.25, and -103.342 are all floating point numbers, while 91, and 0 are not. Floating point numbers get their name from the way the decimal point can \"float\" to any position necessary."
   ]
  },
  {
   "cell_type": "code",
   "execution_count": 4,
   "id": "36873064-1218-45ca-bc93-87d70d23ac51",
   "metadata": {},
   "outputs": [
    {
     "name": "stdout",
     "output_type": "stream",
     "text": [
      "a =  10.6\n",
      "data type of a =  <class 'float'>\n",
      "b =  -5.13\n",
      "data type of b =  <class 'float'>\n"
     ]
    }
   ],
   "source": [
    "a = 10.6\n",
    "b = -5.13\n",
    "\n",
    "print(\"a = \",a)\n",
    "print(\"data type of a = \",type(a))\n",
    "\n",
    "print(\"b = \",b)\n",
    "print(\"data type of b = \",type(b))"
   ]
  },
  {
   "cell_type": "markdown",
   "id": "358a7ab4-5a3c-4412-a09f-6c35fa77c7bf",
   "metadata": {},
   "source": [
    "<b>3. complex number:</b> In mathematics, a complex number is an element of a number system that extends the real numbers with a specific element denoted i, called the imaginary unit and satisfying the equation; every complex number can be expressed in the form, where a and b are real numbers<br>\n",
    "<b>SYNTAX:</b> complex numbers are: a + bi, a - bi, bi."
   ]
  },
  {
   "cell_type": "code",
   "execution_count": 8,
   "id": "a96e9cca-4cc5-4f48-b560-db1d493ac726",
   "metadata": {},
   "outputs": [
    {
     "name": "stdout",
     "output_type": "stream",
     "text": [
      "a =  (3+4j)\n",
      "<class 'complex'>\n",
      "b =  3j\n",
      "<class 'complex'>\n"
     ]
    }
   ],
   "source": [
    "a = 3 + 4j\n",
    "b = 3j\n",
    "\n",
    "print(\"a = \",a)\n",
    "print(type(a))\n",
    "\n",
    "print(\"b = \",b)\n",
    "print(type(b))"
   ]
  },
  {
   "cell_type": "markdown",
   "id": "7fbf494e-b0f4-42c9-8d35-70ad7384e493",
   "metadata": {},
   "source": [
    "* some basic math with complex numbers."
   ]
  },
  {
   "cell_type": "code",
   "execution_count": 1,
   "id": "ccde6fdc-6701-49da-956e-8bf06d031175",
   "metadata": {},
   "outputs": [
    {
     "name": "stdout",
     "output_type": "stream",
     "text": [
      "a + b (8+13j)\n",
      "<class 'complex'>\n",
      "a - b (-2-5j)\n",
      "<class 'complex'>\n",
      "a * b (-21+47j)\n",
      "<class 'complex'>\n",
      "a / b (0.4811320754716981-0.06603773584905659j)\n",
      "<class 'complex'>\n",
      "a ** b (0.714704513387209+0.19923326288380847j)\n",
      "<class 'complex'>\n"
     ]
    }
   ],
   "source": [
    "#  complex number operations\n",
    "a = 3 + 4j\n",
    "b = 5 + 9j\n",
    "\n",
    "c1 = a + b\n",
    "c2 = a - b\n",
    "c3 = a * b\n",
    "c4 = a / b\n",
    "c5 = a ** b\n",
    "\n",
    "print(\"a + b\",c1)\n",
    "print(type(c1))\n",
    "print(\"a - b\",c2)\n",
    "print(type(c2))\n",
    "print(\"a * b\",c3)\n",
    "print(type(c3))\n",
    "print(\"a / b\",c4)\n",
    "print(type(c4))\n",
    "print(\"a ** b\",c5)\n",
    "print(type(c5))"
   ]
  },
  {
   "cell_type": "markdown",
   "id": "10d5180e-00d6-4024-a3f1-a6dc69d4ae16",
   "metadata": {},
   "source": [
    "<b>4. long data type : </b>The long data type stores integers like int , but gives a wider range of values at the cost of taking more memory. Long stores at least 32 bits, giving it a range of -2,147,483,648 to 2,147,483,647. Alternatively, use unsigned long for a range of 0 to 4,294,967,295."
   ]
  },
  {
   "cell_type": "raw",
   "id": "3ff1abd6-fa61-4327-a5ef-d1f7da3fb64e",
   "metadata": {},
   "source": [
    "b = 187687654564658970978909869576453\n",
    "print(\"b = \",b)\n",
    "print(type(b))\n",
    "----------------------------------------------\n",
    "b =  187687654564658970978909869576453\n",
    "<class 'long'>"
   ]
  },
  {
   "cell_type": "markdown",
   "id": "75c1ffb2-2d1a-4e5a-8828-b258686ca9b5",
   "metadata": {},
   "source": [
    "<b>RANDOM NUMBER : </b>to get random number in python we use random module"
   ]
  },
  {
   "cell_type": "markdown",
   "id": "680e2333-91cb-4472-a7c8-9af3002a99f2",
   "metadata": {},
   "source": [
    "<b>EXAMPLE:</b> let's see some basic code will dive deep later."
   ]
  },
  {
   "cell_type": "code",
   "execution_count": 14,
   "id": "8e9b4c3b-7421-409c-b12d-c74ae7c05149",
   "metadata": {},
   "outputs": [
    {
     "name": "stdout",
     "output_type": "stream",
     "text": [
      "5\n"
     ]
    }
   ],
   "source": [
    "import random\n",
    "a = [1,2,3,4,5]\n",
    "print(random.choice(a))   \n",
    "# check it again"
   ]
  },
  {
   "cell_type": "code",
   "execution_count": 11,
   "id": "231d2a6c-54d3-4639-89fe-13941bfea83d",
   "metadata": {},
   "outputs": [
    {
     "name": "stdout",
     "output_type": "stream",
     "text": [
      "0.5419794621608753\n"
     ]
    }
   ],
   "source": [
    "import random\n",
    "num = random.random()\n",
    "print(num)"
   ]
  },
  {
   "cell_type": "markdown",
   "id": "7791c1a7-fd41-4c31-a6e1-629e0b810b38",
   "metadata": {},
   "source": [
    "* <b>Strings : </b>The string is a sequence of characters. Python supports Unicode characters. Generally, strings are represented by either single or double-quotes."
   ]
  },
  {
   "cell_type": "markdown",
   "id": "e4d61c75-79c1-4cd3-a262-7f48c4e512be",
   "metadata": {},
   "source": [
    "* string with single qoute"
   ]
  },
  {
   "cell_type": "code",
   "execution_count": 15,
   "id": "58db8ff3-60e6-4141-b92e-d00c879e7ea3",
   "metadata": {},
   "outputs": [
    {
     "name": "stdout",
     "output_type": "stream",
     "text": [
      "a =  i am string\n",
      "data type of a =  <class 'str'>\n"
     ]
    }
   ],
   "source": [
    "a = 'i am string'\n",
    "print(\"a = \",a)\n",
    "print(\"data type of a = \",type(a))"
   ]
  },
  {
   "cell_type": "markdown",
   "id": "015348d5-30a0-43b9-896e-4920a7dda894",
   "metadata": {},
   "source": [
    "* string with double qoute"
   ]
  },
  {
   "cell_type": "code",
   "execution_count": 16,
   "id": "44469ac0-36fa-44b4-92b6-9a3fc016664f",
   "metadata": {},
   "outputs": [
    {
     "name": "stdout",
     "output_type": "stream",
     "text": [
      "a =  i am string\n",
      "data type of a =  <class 'str'>\n"
     ]
    }
   ],
   "source": [
    "a = \"i am string\"\n",
    "print(\"a = \",a)\n",
    "print(\"data type of a = \",type(a))"
   ]
  },
  {
   "cell_type": "markdown",
   "id": "4808074b-22af-4a31-a88e-e2a931598888",
   "metadata": {},
   "source": [
    "* string with multiple line with single quote"
   ]
  },
  {
   "cell_type": "code",
   "execution_count": 17,
   "id": "fb844375-cc7a-4269-88fb-4123ecea8790",
   "metadata": {},
   "outputs": [
    {
     "name": "stdout",
     "output_type": "stream",
     "text": [
      "a =  i am\n",
      "a string\n",
      "with\n",
      "multiple line \n",
      "data type of a =  <class 'str'>\n"
     ]
    }
   ],
   "source": [
    "a = '''i am\n",
    "a string\n",
    "with\n",
    "multiple line '''\n",
    "print(\"a = \",a)\n",
    "print(\"data type of a = \",type(a))"
   ]
  },
  {
   "cell_type": "markdown",
   "id": "5143dfc8-a73f-4f0e-83ec-c627e4f898a2",
   "metadata": {},
   "source": [
    "* string with multiple line with double quote"
   ]
  },
  {
   "cell_type": "code",
   "execution_count": null,
   "id": "77563924-9b08-4d1f-b52a-31b431f3d320",
   "metadata": {},
   "outputs": [],
   "source": [
    "a = \"\"\"i am\n",
    "a string\n",
    "with\n",
    "multiple line\"\"\"\n",
    "print(\"a = \",a)\n",
    "print(\"data type of a = \",type(a))"
   ]
  },
  {
   "cell_type": "markdown",
   "id": "e78c2813-6543-4698-a5d6-55db5c94f163",
   "metadata": {},
   "source": [
    "* string types according to quotes used inside or outside of strings."
   ]
  },
  {
   "cell_type": "code",
   "execution_count": 18,
   "id": "3472e807-2473-49af-a121-abd7eb95b4a3",
   "metadata": {},
   "outputs": [
    {
     "name": "stdout",
     "output_type": "stream",
     "text": [
      "strings are :\n",
      "1.  \"ram\" and \"shyam\" is my friend.\n",
      "<class 'str'>\n",
      "2.  mohan is meena's friend\n",
      "<class 'str'>\n",
      "3.  \"ram\" is mohan's brother and a good student\n",
      "<class 'str'>\n",
      "4.  \"ram\" is mohan's brother and a good student\n",
      "<class 'str'>\n"
     ]
    }
   ],
   "source": [
    "a = '\"ram\" and \"shyam\" is my friend.'\n",
    "b = \"mohan is meena's friend\"\n",
    "c = '''\"ram\" is mohan's brother and a good student'''\n",
    "d = \"\"\"\"ram\" is mohan's brother and a good student\"\"\"\n",
    "\n",
    "print('strings are :')\n",
    "print(\"1. \",a)\n",
    "print(type(a))\n",
    "print(\"2. \",b)\n",
    "print(type(b))\n",
    "print(\"3. \",c)\n",
    "print(type(c))\n",
    "print(\"4. \",d)\n",
    "print(type(d))"
   ]
  },
  {
   "cell_type": "markdown",
   "id": "aee7c616-1a24-4f36-8734-f90b524f4fb9",
   "metadata": {},
   "source": [
    "<b>NOTE :</b>We'll see string functions later."
   ]
  },
  {
   "cell_type": "markdown",
   "id": "28cfcad4-0543-43c8-8703-b772a21a4e86",
   "metadata": {},
   "source": [
    "* <b>Sequence data type :</b>"
   ]
  },
  {
   "cell_type": "markdown",
   "id": "e19c61b4-0919-4b32-ac5b-6cdd49951558",
   "metadata": {},
   "source": [
    "<b>NOTE :</b>We'll see these data types later."
   ]
  },
  {
   "cell_type": "markdown",
   "id": "d0b9d204-ec17-43a3-b5c8-6ad70e234457",
   "metadata": {},
   "source": [
    "<b>1. list: </b>\r\n",
    "A list is a data structure in Python that is a mutable, or changeable, ordered sequence of elements. Each element or value that is inside of a list is called an item. Just as strings are defined as characters between quotes, lists are defined by having values between square brackets [ ] ."
   ]
  },
  {
   "cell_type": "code",
   "execution_count": 2,
   "id": "0b4a24ab-5178-424f-8732-8b631434b010",
   "metadata": {},
   "outputs": [
    {
     "name": "stdout",
     "output_type": "stream",
     "text": [
      "[10, 11, 12, 13, 14, 15]\n",
      "<class 'list'>\n"
     ]
    }
   ],
   "source": [
    "x = [10, 11, 12, 13, 14, 15]\n",
    "\n",
    "print(x)\n",
    "print(type(x))"
   ]
  },
  {
   "cell_type": "markdown",
   "id": "0db79bf4-f44c-4314-9acb-1b14f35be87a",
   "metadata": {},
   "source": [
    "<b>2. tuple: </b>Python tuples are a type of data structure that is very similar to lists. The main difference between the two is that tuples are immutable, meaning they cannot be changed once they are created. This makes them ideal for storing data that should not be modified, such as database records."
   ]
  },
  {
   "cell_type": "code",
   "execution_count": 4,
   "id": "fdaf3bb1-ac41-46c4-aa11-eaba1065f2b8",
   "metadata": {},
   "outputs": [
    {
     "name": "stdout",
     "output_type": "stream",
     "text": [
      "(10, 11, 12, 13, 14, 15)\n",
      "<class 'tuple'>\n"
     ]
    }
   ],
   "source": [
    "x = (10, 11, 12, 13, 14, 15)\n",
    "\n",
    "print(x)\n",
    "print(type(x))"
   ]
  },
  {
   "cell_type": "markdown",
   "id": "26dd98db-a65e-41cb-991c-90e34e507953",
   "metadata": {},
   "source": [
    "<b>3. range:</b><br>\n",
    "range is a function that returns a sequence of numbers. By default, range returns a sequence that begins at 0 and increments in steps of 1. The range function only works with integers."
   ]
  },
  {
   "cell_type": "code",
   "execution_count": 5,
   "id": "2ba0ea3c-17e2-4248-8587-61f3a5309ae2",
   "metadata": {},
   "outputs": [
    {
     "name": "stdout",
     "output_type": "stream",
     "text": [
      "0\n",
      "1\n",
      "2\n",
      "3\n",
      "4\n",
      "5\n"
     ]
    }
   ],
   "source": [
    "x = range(6)\n",
    "for n in x:\n",
    "    print(n)"
   ]
  },
  {
   "cell_type": "markdown",
   "id": "62b16678-ccd6-4b36-94c3-d5e93ee425de",
   "metadata": {},
   "source": [
    "* <b>binary data type:</b>"
   ]
  },
  {
   "cell_type": "markdown",
   "id": "3a280e59-4ddc-4a57-9819-3467bea9d71f",
   "metadata": {},
   "source": [
    "<b>1. byte: </b>byte is a digital information unit that typically consists of 8 bits each of which consists of either a 0 or 1. A byte is a computer architecture term for memory storage that encodes a single character of text in a computer."
   ]
  },
  {
   "cell_type": "code",
   "execution_count": 8,
   "id": "88fd2e71-b7d3-4d00-885d-300e9054e5db",
   "metadata": {},
   "outputs": [
    {
     "name": "stdout",
     "output_type": "stream",
     "text": [
      "b'Hello'\n",
      "<class 'bytes'>\n"
     ]
    }
   ],
   "source": [
    "x = b\"Hello\"\n",
    "\n",
    "print(x)\n",
    "print(type(x)) "
   ]
  },
  {
   "cell_type": "markdown",
   "id": "2200a22f-96ca-46fa-831a-e579dc8ebe7f",
   "metadata": {},
   "source": [
    "<b>2. bytearray: </b>The bytearray type is a mutable sequence of integers in the range between 0 and 255. It allows you to work directly with binary data. It can be used to work with low-level data such as that inside of images or arriving directly from the network. Bytearray type inherits methods from both list and str types."
   ]
  },
  {
   "cell_type": "code",
   "execution_count": 7,
   "id": "c9741154-8aad-4436-b67e-26c4966a580a",
   "metadata": {},
   "outputs": [
    {
     "name": "stdout",
     "output_type": "stream",
     "text": [
      "bytearray(b'\\x00\\x00\\x00\\x00\\x00')\n",
      "<class 'bytearray'>\n"
     ]
    }
   ],
   "source": [
    "x = bytearray(5)\n",
    "\n",
    "print(x)\n",
    "print(type(x)) "
   ]
  },
  {
   "cell_type": "markdown",
   "id": "689cde52-5c4e-4387-81ad-823886e03e7d",
   "metadata": {},
   "source": [
    "<b>3. memoryview: </b>In Python, a memory view is a secure technique to expose the buffer protocol. It allows you to access an object's internal buffers by constructing a memory view object. The memoryview() method in Python returns a memoryview object based on the bytes or bytearray parameter."
   ]
  },
  {
   "cell_type": "code",
   "execution_count": 6,
   "id": "9b211b05-f07b-46e4-8972-cffc9f2425bb",
   "metadata": {},
   "outputs": [
    {
     "name": "stdout",
     "output_type": "stream",
     "text": [
      "<memory at 0x0000020AE693E380>\n",
      "<class 'memoryview'>\n"
     ]
    }
   ],
   "source": [
    "x = memoryview(bytes(5))\n",
    "\n",
    "print(x)\n",
    "print(type(x)) "
   ]
  },
  {
   "cell_type": "markdown",
   "id": "a0d33d1a-46f9-424b-9e3d-4f7c6d6334c0",
   "metadata": {},
   "source": [
    "* <b>mapping data type: </b>The mapping data type in Python includes dictionaries. Dictionaries are used to store key-value pairs, where each key is associated with a value."
   ]
  },
  {
   "cell_type": "markdown",
   "id": "0106cf2d-d98f-4b9d-8d0e-85a49fd2549c",
   "metadata": {},
   "source": [
    "<b>1. dictionary: </b>Dictionaries are Python's implementation of a data structure that is more generally known as an associative array. A dictionary consists of a collection of key-value pairs. Each key-value pair maps the key to its associated value."
   ]
  },
  {
   "cell_type": "code",
   "execution_count": 9,
   "id": "c6351383-d75c-482a-88a5-a90f4e3cc1aa",
   "metadata": {},
   "outputs": [
    {
     "name": "stdout",
     "output_type": "stream",
     "text": [
      "{'name': 'John', 'age': 36}\n",
      "<class 'dict'>\n"
     ]
    }
   ],
   "source": [
    "x = {\"name\" : \"John\", \"age\" : 36}\n",
    "\n",
    "print(x)\n",
    "print(type(x)) "
   ]
  },
  {
   "cell_type": "markdown",
   "id": "07c8ed54-3f2b-4a7a-8e97-42a9304a7898",
   "metadata": {},
   "source": [
    "<b>NOTE :</b>We'll see these data types later."
   ]
  },
  {
   "cell_type": "markdown",
   "id": "7999eda0-210d-4950-9fc3-44e4d141e8a6",
   "metadata": {},
   "source": [
    "* <b>bool data type: </b>The python data type bool is used to store two values i.e True and False . Bool is used to test whether the result of an expression is true or false. Let's see them by examples,"
   ]
  },
  {
   "cell_type": "code",
   "execution_count": 22,
   "id": "0f95f0ab-4b52-45ed-a309-e1a4fabc7bc4",
   "metadata": {},
   "outputs": [
    {
     "name": "stdout",
     "output_type": "stream",
     "text": [
      "True\n",
      "<class 'bool'>\n",
      "False\n",
      "<class 'bool'>\n"
     ]
    }
   ],
   "source": [
    "a = True  #boolean\n",
    "b = False \n",
    "print(a)\n",
    "print(type(a))\n",
    "print(b)\n",
    "print(type(b))"
   ]
  },
  {
   "cell_type": "code",
   "execution_count": 21,
   "id": "49f336db-f344-4a2c-9c21-388ef3bab9b8",
   "metadata": {},
   "outputs": [
    {
     "name": "stdout",
     "output_type": "stream",
     "text": [
      "True\n",
      "False\n",
      "False\n"
     ]
    }
   ],
   "source": [
    "print(10 > 9)\n",
    "print(10 == 9)\n",
    "print(10 < 9)"
   ]
  },
  {
   "cell_type": "code",
   "execution_count": 20,
   "id": "4c80ba7a-e5a7-4ab2-ae0f-9c8691e16e84",
   "metadata": {},
   "outputs": [
    {
     "name": "stdout",
     "output_type": "stream",
     "text": [
      "True\n",
      "True\n"
     ]
    }
   ],
   "source": [
    "print(bool(\"Hello\"))\n",
    "print(bool(15))"
   ]
  },
  {
   "cell_type": "markdown",
   "id": "7ea6327c-2816-4ff1-8a4d-ee88f153072c",
   "metadata": {},
   "source": [
    "* <b>set data type:</b>"
   ]
  },
  {
   "cell_type": "markdown",
   "id": "08959afa-a5ca-46b2-988d-fc1585cb0ab7",
   "metadata": {},
   "source": [
    "<b>1. set: </b>A Set in Python is a collection of data type that is unordered and unindexed. It is mutable, i.e., we can remove or add elements to it. Set in python is similar to mathematical sets, and operations like intersection, union, symmetric difference, and more can be applied."
   ]
  },
  {
   "cell_type": "code",
   "execution_count": 11,
   "id": "3dc2f157-be45-4118-a943-493d0edb7bd4",
   "metadata": {},
   "outputs": [
    {
     "name": "stdout",
     "output_type": "stream",
     "text": [
      "{'cherry', 'banana', 'apple'}\n",
      "<class 'set'>\n"
     ]
    }
   ],
   "source": [
    "x = {\"apple\", \"banana\", \"cherry\"}\n",
    "\n",
    "print(x)\n",
    "print(type(x))"
   ]
  },
  {
   "cell_type": "markdown",
   "id": "abfb6236-76a0-46f3-bc7d-8f4927d78978",
   "metadata": {},
   "source": [
    "<b>NOTE :</b>We'll see these data types later.`"
   ]
  },
  {
   "cell_type": "markdown",
   "id": "51706335-1f6e-4ca5-ac0c-4265fe8a4d30",
   "metadata": {},
   "source": [
    "<b>2. frozen set: </b> An immutable version of a Python set object is a frozen set. While parts of a set can be changed at any moment, elements of a frozen set don't change after they've been created. As a result, frozen sets can be used as Dictionary keys or as elements of other sets."
   ]
  },
  {
   "cell_type": "code",
   "execution_count": 10,
   "id": "ba46fe0e-780c-4e9b-aa66-3d513060beed",
   "metadata": {},
   "outputs": [
    {
     "name": "stdout",
     "output_type": "stream",
     "text": [
      "frozenset({'cherry', 'banana', 'apple'})\n",
      "<class 'frozenset'>\n"
     ]
    }
   ],
   "source": [
    "x = frozenset({\"apple\", \"banana\", \"cherry\"})\n",
    "\n",
    "print(x)\n",
    "print(type(x))"
   ]
  },
  {
   "cell_type": "markdown",
   "id": "7ab668d7-480f-4eb4-96e5-bef610a6989a",
   "metadata": {},
   "source": [
    "<b>Quiz: </b>difference between set and frozen set."
   ]
  },
  {
   "cell_type": "markdown",
   "id": "d4a87ce0-6849-47fb-8bce-04fcd21d14ee",
   "metadata": {},
   "source": [
    "<p>The set type is mutable, meaning it can be changed, and the frozenset type is immutable, meaning it can't be changed.</p>\n",
    "<p>Here is a table that summarizes the key differences between sets and frozensets:</p>\n",
    "\n",
    "<table style=\"width:100%\">\n",
    "  <tr>\n",
    "    <th>feature</th>\n",
    "    <th>set</th>\n",
    "    <th>frozenset</th>\n",
    "  </tr>\n",
    "  <tr>\n",
    "    <td>mutability</td>\n",
    "    <td>mutable</td>\n",
    "    <td>immutable</td>\n",
    "  </tr>  \n",
    "  <tr>\n",
    "    <td>hashable</td>\n",
    "    <td>yes</td>\n",
    "    <td>yes</td>\n",
    "  </tr>\n",
    "  <tr>\n",
    "    <td>ordered</td>\n",
    "    <td>no</td>\n",
    "    <td>no</td>\n",
    "  </tr>\n",
    "</table>"
   ]
  },
  {
   "cell_type": "raw",
   "id": "7a954fab-4464-4cbe-9688-76456285acf0",
   "metadata": {},
   "source": [
    "# Create a set\n",
    "my_set = {1, 2, 3}\n",
    "\n",
    "# Add an element to the set\n",
    "my_set.add(4)\n",
    "\n",
    "# Remove an element from the set\n",
    "my_set.remove(2)\n",
    "\n",
    "# Create a frozenset\n",
    "my_frozenset = frozenset({1, 2, 3})\n",
    "\n",
    "# Try to add an element to the frozenset\n",
    "# This will raise a TypeError\n",
    "my_frozenset.add(4)\n",
    "\n",
    "# Try to remove an element from the frozenset\n",
    "# This will also raise a TypeError\n",
    "my_frozenset.remove(2)"
   ]
  },
  {
   "cell_type": "markdown",
   "id": "1826961d-28c4-4310-adb3-b7da9f5ba76d",
   "metadata": {},
   "source": [
    "* <b>None data type :</b>\n",
    "In Python, None is a special keyword that represents the absence of a value or a null value. It is an object of its own datatype, the NoneType. We can assign None to any variable, but you can not create other NoneType objects. It can be used in a variety of situations, such as when you want to assign a value to a variable but don't have a value yet, when you want to pass a value to a function but don't have a value to pass, or when you want to return a value from a function but don't have a value to return."
   ]
  },
  {
   "cell_type": "code",
   "execution_count": 19,
   "id": "becdc9fe-2609-4304-bcd2-ebe2f9a545f9",
   "metadata": {},
   "outputs": [
    {
     "name": "stdout",
     "output_type": "stream",
     "text": [
      "None\n",
      "<class 'NoneType'>\n"
     ]
    }
   ],
   "source": [
    "a = None\n",
    "print(a)\n",
    "print(type(a))"
   ]
  },
  {
   "cell_type": "markdown",
   "id": "04c24722-08a6-4dde-aeec-5fefdf2b6f03",
   "metadata": {},
   "source": [
    "### Variable :\n",
    "A Python variable is a reserved memory location to store values. In other words, a variable in a python program gives data to the computer for processing. Every value in Python has a datatype. Different data types in Python are Numbers, List, Tuple, Strings, Dictionary, etc."
   ]
  },
  {
   "cell_type": "markdown",
   "id": "6e4dd796-13f4-4afb-ad48-fd9f78b3eb95",
   "metadata": {},
   "source": [
    "<b>Rules for Python variables:</b>\n",
    "* A Python variable name must start with a letter or the underscore character.\n",
    "* A Python variable name cannot start with a number.\n",
    "* A Python variable name can only contain alpha-numeric characters and underscores (A-z, 0-9, and _ ).\n",
    "* Variable in Python names are case-sensitive (name, Name, and NAME are three different variables).\n",
    "* The reserved words(keywords) in Python cannot be used to name the variable in Python.\n",
    "  \n",
    "<b>Notes: </b>\n",
    "* The value stored in a variable can be changed during program execution.\n",
    "* A Variables in Python is only a name given to a memory location, all the operations done on the variable effects that memory location."
   ]
  },
  {
   "cell_type": "markdown",
   "id": "54702621-b655-48ed-8fd1-7ef34f7ab50d",
   "metadata": {},
   "source": [
    "<b>[Do]</b><br>\n",
    "best way to naming variable is to use camel case ex. 'MyName' see 'M' and 'N' and only we can use '_' between characters<br><br>"
   ]
  },
  {
   "cell_type": "code",
   "execution_count": 4,
   "id": "d15b4d9d-ee83-4f30-9609-131001c71a00",
   "metadata": {},
   "outputs": [],
   "source": [
    "a = 10\n",
    "ram = 5\n",
    "MyName = 'raj'\n",
    "my_name = 'raj'\n",
    "_my_name = 'raj'\n",
    "my_name2 = 'raj'\n",
    "MYNAME = 'raj'"
   ]
  },
  {
   "cell_type": "markdown",
   "id": "e4447a42-9183-4f8d-9915-6b89f27c8913",
   "metadata": {},
   "source": [
    "<b>[Don't]</b><br>\n",
    "no space, no special character"
   ]
  },
  {
   "cell_type": "raw",
   "id": "07771a0a-08cc-4eb9-b604-e817d5f5cd11",
   "metadata": {},
   "source": [
    "a b = 10\n",
    "a%b = 1\n",
    "a-b = 'ram'\n",
    "2name = 'ram'"
   ]
  },
  {
   "cell_type": "markdown",
   "id": "ed10e967-59df-4174-ad1b-1c7df6d8edba",
   "metadata": {},
   "source": [
    "* multiple values in multiple variables"
   ]
  },
  {
   "cell_type": "code",
   "execution_count": 5,
   "id": "ed885abd-c5d2-4796-970b-35f98833db7a",
   "metadata": {},
   "outputs": [
    {
     "name": "stdout",
     "output_type": "stream",
     "text": [
      "a,b,c = 10,11,12\n",
      "a =  10\n",
      "c =  11\n",
      "c =  12\n"
     ]
    }
   ],
   "source": [
    "a,b,c = 10,11,12\n",
    "\n",
    "print(\"a,b,c = 10,11,12\")\n",
    "print(\"a = \",a)\n",
    "print(\"c = \",b)\n",
    "print(\"c = \",c)"
   ]
  },
  {
   "cell_type": "markdown",
   "id": "07425c2c-2875-4f05-b422-e838c9169f68",
   "metadata": {},
   "source": [
    "* put single values in multiple variables"
   ]
  },
  {
   "cell_type": "code",
   "execution_count": 8,
   "id": "ed44e3c2-7290-465c-8ed2-71b8c668ad17",
   "metadata": {},
   "outputs": [
    {
     "name": "stdout",
     "output_type": "stream",
     "text": [
      "x = y = z = 'ram'\n",
      "x =  ram\n",
      "y =  ram\n",
      "z =  ram\n"
     ]
    }
   ],
   "source": [
    "x = y = z = 'ram'\n",
    "\n",
    "print(\"x = y = z = 'ram'\")\n",
    "print(\"x = \",x)\n",
    "print(\"y = \",y)\n",
    "print(\"z = \",z)"
   ]
  },
  {
   "cell_type": "markdown",
   "id": "3217f798-2e70-4274-b205-9bbe238daed5",
   "metadata": {},
   "source": [
    "* if you have collection of value i.e. list, tuple, set than you can extract their values in different-different variable."
   ]
  },
  {
   "cell_type": "code",
   "execution_count": 7,
   "id": "3ec381ef-1104-4a68-891e-b7eadd1a5635",
   "metadata": {},
   "outputs": [
    {
     "name": "stdout",
     "output_type": "stream",
     "text": [
      "list =  ['oudi', 'suzuki', 'benz', 'toyota']\n",
      "a =  oudi\n",
      "b =  suzuki\n",
      "c =  benz\n",
      "d =  toyota\n"
     ]
    }
   ],
   "source": [
    "cars = ['oudi', 'suzuki', 'benz', 'toyota']\n",
    "a, b, c, d = cars\n",
    "print(\"list = \",cars)\n",
    "print(\"a = \",a)\n",
    "print(\"b = \",b)\n",
    "print(\"c = \",c)\n",
    "print(\"d = \",d)"
   ]
  },
  {
   "cell_type": "markdown",
   "id": "ae3fd8ad-d01d-407f-8bb8-d3199b853ee1",
   "metadata": {},
   "source": [
    "### Operators in python :\n",
    "In Python programming, Operators in general are used to perform operations on values and variables. These are standard symbols used for the purpose of logical and arithmetic operations. In this article, we will look into different types of Python operators.ed."
   ]
  },
  {
   "cell_type": "markdown",
   "id": "691a0f77-eca0-4437-857b-2d4158b10855",
   "metadata": {},
   "source": [
    "* <b>OPERATORS:</b> These are the special symbols. Eg- + , * , /, etc.\n",
    "* <b>OPERAND:</b> It is the value on which the operator is applied."
   ]
  },
  {
   "cell_type": "markdown",
   "id": "50eb6221-1dc6-4f3f-bd8a-fdc2e94acd74",
   "metadata": {},
   "source": [
    "<b>types of operators:</b><br>\n",
    "* Arithmetic operators\n",
    "* Assignment operators\n",
    "* Comparison/ Relational operators\n",
    "* Logical operators\n",
    "* Identity operators\n",
    "* Membership operators\n",
    "* Bitwise operators"
   ]
  },
  {
   "cell_type": "markdown",
   "id": "5ac7af02-2fd0-4953-8664-2c8dd550c0a3",
   "metadata": {},
   "source": [
    "<b>1. Arithmatic Operators : </b>Python Arithmetic operators are used to perform basic mathematical operations like addition, subtraction, multiplication, and division. In Python 3.x the result of division is a floating-point while in Python 2.x division of 2 integers was an integer. To obtain an integer result in Python 3.x floored (// integer) is used.\n",
    "\n",
    "it is used for basic math problems."
   ]
  },
  {
   "cell_type": "markdown",
   "id": "abd17e1a-3eef-4bc0-baea-cc62f405642f",
   "metadata": {},
   "source": [
    "* variable with values"
   ]
  },
  {
   "cell_type": "code",
   "execution_count": 1,
   "id": "e81ab132-8a9d-494a-8eae-fc69db89c42d",
   "metadata": {},
   "outputs": [],
   "source": [
    "a = 5\n",
    "b = 3\n",
    "c = 2.4\n",
    "d = 3.1\n",
    "e = True\n",
    "f = False"
   ]
  },
  {
   "cell_type": "markdown",
   "id": "34905d20-f95e-4bcb-9f5e-20faef97864c",
   "metadata": {},
   "source": [
    "* addition/ sum"
   ]
  },
  {
   "cell_type": "code",
   "execution_count": 9,
   "id": "4ebb70f2-6d2b-4305-a007-81b05badcebc",
   "metadata": {},
   "outputs": [
    {
     "name": "stdout",
     "output_type": "stream",
     "text": [
      "sum of 5 and 3 : 8\n",
      "sum of 2.4 and 3.1 : 5.5\n"
     ]
    }
   ],
   "source": [
    "a = 5\n",
    "b = 3\n",
    "c = 2.4\n",
    "d = 3.1\n",
    "\n",
    "sum1 = a + b\n",
    "sum2 = c + d\n",
    "print(f\"sum of {a} and {b} :\",sum1)\n",
    "print(f\"sum of {c} and {d} :\",sum2)"
   ]
  },
  {
   "cell_type": "markdown",
   "id": "d4039186-db3a-45db-a554-f3423e44ff6b",
   "metadata": {},
   "source": [
    "* subtraction"
   ]
  },
  {
   "cell_type": "code",
   "execution_count": 10,
   "id": "f2b793e7-d838-40ed-9a73-4241b7ebd7c2",
   "metadata": {},
   "outputs": [
    {
     "name": "stdout",
     "output_type": "stream",
     "text": [
      "sub of 5 and 3 : 2\n",
      "sub of 2.4 and 3.1 : -0.7000000000000002\n"
     ]
    }
   ],
   "source": [
    "a = 5\n",
    "b = 3\n",
    "c = 2.4\n",
    "d = 3.1\n",
    "\n",
    "sub1 = a - b\n",
    "sub2 = c - d\n",
    "print(f\"sub of {a} and {b} :\",sub1)\n",
    "print(f\"sub of {c} and {d} :\",sub2)"
   ]
  },
  {
   "cell_type": "markdown",
   "id": "755e77cf-487c-4dc6-9357-66d299ae83c6",
   "metadata": {},
   "source": [
    "* multiplication"
   ]
  },
  {
   "cell_type": "code",
   "execution_count": 11,
   "id": "71abae10-612d-4dbc-bce1-00138d0f6fc3",
   "metadata": {},
   "outputs": [
    {
     "name": "stdout",
     "output_type": "stream",
     "text": [
      "mul of 5 and 3 : 15\n",
      "mul of 2.4 and 3.1 : 7.4399999999999995\n"
     ]
    }
   ],
   "source": [
    "a = 5\n",
    "b = 3\n",
    "c = 2.4\n",
    "d = 3.1\n",
    "\n",
    "mul1 = a * b\n",
    "mul2 = c * d\n",
    "print(f\"mul of {a} and {b} :\",mul1)\n",
    "print(f\"mul of {c} and {d} :\",mul2)"
   ]
  },
  {
   "cell_type": "markdown",
   "id": "27d5898b-71fe-43a8-8a13-0ca5b510b5e8",
   "metadata": {},
   "source": [
    "* division"
   ]
  },
  {
   "cell_type": "markdown",
   "id": "33c12870-1639-4e64-8e46-f8a4603c97e6",
   "metadata": {},
   "source": [
    "There are two types of division operators: \n",
    "\n",
    "1. Float division<br>\n",
    "2. Floor division<br>\n",
    "\n",
    "<b>Float division:</b>\n",
    "The quotient returned by this operator is always a float number, no matter if two numbers are integers. It is just a normal math division.\n",
    "\n",
    "<b>Example:</b> The code performs division operations and prints the results. It demonstrates that both integer and floating-point divisions return accurate results. For example, ’10/2′ results in ‘5.0’, and ‘-10/2’ results in ‘-5.0’."
   ]
  },
  {
   "cell_type": "code",
   "execution_count": 9,
   "id": "55a9f3d4-428a-44b7-8efe-1dc1e594a166",
   "metadata": {},
   "outputs": [
    {
     "name": "stdout",
     "output_type": "stream",
     "text": [
      "1.0\n",
      "5.0\n",
      "-5.0\n",
      "10.0\n"
     ]
    }
   ],
   "source": [
    "print(5/5) \n",
    "print(10/2) \n",
    "print(-10/2) \n",
    "print(20.0/2) "
   ]
  },
  {
   "cell_type": "code",
   "execution_count": 12,
   "id": "990eab19-7712-4e6e-9efd-80e02070c2d1",
   "metadata": {},
   "outputs": [
    {
     "name": "stdout",
     "output_type": "stream",
     "text": [
      "3 divided by 5 : 0.6\n",
      "3.1divided by 2.4 : 1.2916666666666667\n"
     ]
    }
   ],
   "source": [
    "a = 5\n",
    "b = 3\n",
    "c = 2.4\n",
    "d = 3.1\n",
    "\n",
    "div1 = b / a\n",
    "div2 = d / c\n",
    "print(f\"{b} divided by {a} :\",div1)\n",
    "print(f\"{d}divided by {c} :\",div2)"
   ]
  },
  {
   "cell_type": "markdown",
   "id": "6f644b7a-a235-4ea2-8ff5-a3666b6c4cdf",
   "metadata": {},
   "source": [
    "<b>Integer division(Floor division):</b>\n",
    "The quotient returned by this operator is dependent on the argument being passed. If any of the numbers is float, it returns output in float. It is also known as Floor division because, if any number is negative, then the output will be floored.\n",
    "\n",
    "In other words,<br>\n",
    "Floor division is a normal division operation except that it returns the largest possible integer. This integer is either less than or equal to the normal division result. Floor function is mathematically denoted by this [] symbol.\n",
    "\n",
    "<b>Example:</b> The code demonstrates integer (floor) division operations using the ‘//’ operator. It provides results as follows: ’10//3′ equals ‘3’, ‘-5//2’ equals ‘-3’, ‘5.0//2′ equals ‘2.0’, and ‘-5.0//2’ equals ‘-3.0’. Integer division returns the largest integer less than or equal to the division result."
   ]
  },
  {
   "cell_type": "code",
   "execution_count": 8,
   "id": "55da48bb-a518-499c-8842-c74a9a00ba49",
   "metadata": {},
   "outputs": [
    {
     "name": "stdout",
     "output_type": "stream",
     "text": [
      "3\n",
      "-3\n",
      "2.0\n",
      "-3.0\n"
     ]
    }
   ],
   "source": [
    "print(10//3) \n",
    "print (-5//2) \n",
    "print (5.0//2) \n",
    "print (-5.0//2)"
   ]
  },
  {
   "cell_type": "code",
   "execution_count": 14,
   "id": "9ddd553d-d185-4160-bd7c-c4216c64967a",
   "metadata": {},
   "outputs": [
    {
     "name": "stdout",
     "output_type": "stream",
     "text": [
      "floor division of 3 and 5 : 0\n",
      "floor division of 3.1 and 2.4 : 1.0\n"
     ]
    }
   ],
   "source": [
    "a = 5\n",
    "b = 3\n",
    "c = 2.4\n",
    "d = 3.1\n",
    "\n",
    "div1 = b // a\n",
    "div2 = d // c\n",
    "print(f\"floor division of {b} and {a} :\",div1)\n",
    "print(f\"floor division of {d} and {c} :\",div2)"
   ]
  },
  {
   "cell_type": "markdown",
   "id": "88692ddd-d550-49c9-8529-9b295828eafc",
   "metadata": {},
   "source": [
    "* exponatial/ power"
   ]
  },
  {
   "cell_type": "code",
   "execution_count": 3,
   "id": "508dfb58-cf01-4eef-b5b7-b09da4071bd9",
   "metadata": {},
   "outputs": [
    {
     "name": "stdout",
     "output_type": "stream",
     "text": [
      "a to the power b : 125\n",
      "c to the power d : 15.088805115741808\n"
     ]
    }
   ],
   "source": [
    "a = 5\n",
    "b = 3\n",
    "c = 2.4\n",
    "d = 3.1\n",
    "\n",
    "ex1 = a ** b\n",
    "ex2 = c ** d\n",
    "print(\"a to the power b :\",ex1) \n",
    "print(\"c to the power d :\",ex2)"
   ]
  },
  {
   "cell_type": "markdown",
   "id": "f30a1087-f56f-4315-b983-df917e0e9887",
   "metadata": {},
   "source": [
    "* reminder/modulus"
   ]
  },
  {
   "cell_type": "code",
   "execution_count": 13,
   "id": "30049459-023b-4103-bfa2-22149bb0e207",
   "metadata": {},
   "outputs": [
    {
     "name": "stdout",
     "output_type": "stream",
     "text": [
      "mod of 5 and 3 : 2\n",
      "mod of 2.4 and 3.1 : 2.4\n"
     ]
    }
   ],
   "source": [
    "a = 5\n",
    "b = 3\n",
    "c = 2.4\n",
    "d = 3.1\n",
    "\n",
    "rem1 = a % b\n",
    "rem2 = c % d\n",
    "print(f\"mod of {a} and {b} :\",rem1)\n",
    "print(f\"mod of {c} and {d} :\",rem2)"
   ]
  },
  {
   "cell_type": "markdown",
   "id": "9f73fe0e-ff46-4249-89a5-438b2e9adec7",
   "metadata": {},
   "source": [
    "<b>2. Assignment Operators : </b>Python Assignment operators are used to assign values to the variables. who hold '=' and used to assign value to exponant(variable)."
   ]
  },
  {
   "cell_type": "code",
   "execution_count": 17,
   "id": "65135fb8-8ac4-45e0-ba6c-0b36efc4b24f",
   "metadata": {},
   "outputs": [
    {
     "name": "stdout",
     "output_type": "stream",
     "text": [
      "x = 4\n",
      "(x += 3)= 7\n",
      "(x -= 3)= 4\n",
      "(x *= 3)= 12\n",
      "(x /= 3)= 4.0\n",
      "(x %= 3)= 1.0\n",
      "(x /= 3)= 0.3333333333333333\n",
      "(x **= 3)= 0.03703703703703703\n"
     ]
    }
   ],
   "source": [
    "x = 4\n",
    "print(\"x =\", x)\n",
    "\n",
    "x += 3  #x = x + 3\n",
    "print(\"(x += 3)=\",x)\n",
    "\n",
    "x -= 3  #x = x - 3\n",
    "print(\"(x -= 3)=\",x)\n",
    "\n",
    "x *= 3  #x = x * 3\n",
    "print(\"(x *= 3)=\",x)\n",
    "\n",
    "x /= 3  #x = x / 3\n",
    "print(\"(x /= 3)=\",x)\n",
    "\n",
    "x %= 3  #x = x % 3\n",
    "print(\"(x %= 3)=\",x)\n",
    "\n",
    "x /= 3  #x = x // 3\n",
    "print(\"(x /= 3)=\",x)\n",
    "\n",
    "x **= 3  #x = x ** 3\n",
    "print(\"(x **= 3)=\",x)"
   ]
  },
  {
   "cell_type": "markdown",
   "id": "735d0be9-eb4f-4c20-8946-7f43f13c3360",
   "metadata": {},
   "source": [
    "<b>3. Comparison/relational operators: </b>Comparison operators are used to compare two values. Comparison operators compare values and return true or false. They are also known as relational operators."
   ]
  },
  {
   "cell_type": "code",
   "execution_count": 18,
   "id": "92c49f95-77f5-4acd-8841-5ec35683fefc",
   "metadata": {},
   "outputs": [
    {
     "name": "stdout",
     "output_type": "stream",
     "text": [
      "(x == y) =  False\n",
      "(x != y) =  True\n",
      "(x < y) =  True\n",
      "(x <= y) =  True\n",
      "(x > y) =  False\n",
      "(x >= y) =  False\n"
     ]
    }
   ],
   "source": [
    "x = 5\n",
    "y = 8\n",
    "\n",
    "print(\"(x == y) = \",x == y)\n",
    "print(\"(x != y) = \",x != y)\n",
    "print(\"(x < y) = \",x < y)\n",
    "print(\"(x <= y) = \",x <= y)\n",
    "print(\"(x > y) = \",x > y)\n",
    "print(\"(x >= y) = \",x >= y)"
   ]
  },
  {
   "cell_type": "markdown",
   "id": "06407ab8-99ba-45ac-97df-dc12fb6cf638",
   "metadata": {},
   "source": [
    "<b>4. Logical operator: </b>Returns True if both statements are true rather than false."
   ]
  },
  {
   "cell_type": "code",
   "execution_count": 20,
   "id": "4ad4f587-121b-4005-aeb8-de524f8f4a44",
   "metadata": {},
   "outputs": [
    {
     "name": "stdout",
     "output_type": "stream",
     "text": [
      "value of 'bool1 and bool2' is :  False\n",
      "value of 'bool1 or bool2' is :  True\n",
      "value of 'not bool2' is :  True\n"
     ]
    }
   ],
   "source": [
    "bool1 = True\n",
    "bool2 = False\n",
    "\n",
    "print(\"value of 'bool1 and bool2' is : \",bool1 and bool2)\n",
    "print(\"value of 'bool1 or bool2' is : \",bool1 or bool2)\n",
    "print(\"value of 'not bool2' is : \",not bool2)"
   ]
  },
  {
   "cell_type": "markdown",
   "id": "b9eb9cb7-50b0-4d1b-89db-bb79e0a613d4",
   "metadata": {},
   "source": [
    "<b>5. Identity Operators: </b>identity operators are the operators who used to compare the object that they are equal to or not."
   ]
  },
  {
   "cell_type": "code",
   "execution_count": 22,
   "id": "e2cb7f14-c3ae-422c-b67e-9224b26e5b90",
   "metadata": {},
   "outputs": [
    {
     "name": "stdout",
     "output_type": "stream",
     "text": [
      "x = 10, y = 15, z = 10\n",
      "x is y :  False\n",
      "x is not y :  True\n",
      "x is z :  True\n"
     ]
    }
   ],
   "source": [
    "x = 10\n",
    "y = 15\n",
    "z = 10\n",
    "\n",
    "print(\"x = 10, y = 15, z = 10\")\n",
    "print(\"x is y : \", x is y)\n",
    "print(\"x is not y : \", x is not y)\n",
    "print(\"x is z : \", x is z)"
   ]
  },
  {
   "cell_type": "markdown",
   "id": "72eff6bf-d473-4374-a1b5-51ad441f0d64",
   "metadata": {},
   "source": [
    "<b>6. membership operators: </b>it is used to test that specific value in give sequence or not."
   ]
  },
  {
   "cell_type": "code",
   "execution_count": 23,
   "id": "efdf42a5-7641-4ab8-9510-70d952bb4836",
   "metadata": {},
   "outputs": [
    {
     "name": "stdout",
     "output_type": "stream",
     "text": [
      "1 in x =  True\n",
      "1 not in x =  False\n"
     ]
    }
   ],
   "source": [
    "x = [1, 2, 3, 4, 5]\n",
    "\n",
    "print(\"1 in x = \",1 in x)\n",
    "print(\"1 not in x = \",1 not in x)"
   ]
  },
  {
   "cell_type": "markdown",
   "id": "d50ee0c2-f9a6-449a-ad55-09ec17ede061",
   "metadata": {},
   "source": [
    "<b>7. Bitwise operator: </b>Bitwise operators are used to compare (binary) numbers.\n",
    "\n",
    "<b>Note:</b> Python bitwise operators work only on integers."
   ]
  },
  {
   "cell_type": "markdown",
   "id": "748a716b-0511-4b35-8f5f-b0b34f1ab4d4",
   "metadata": {},
   "source": [
    "* <b>Bitwise AND (&) operator: </b>Returns 1 if both the bits are 1 else 0."
   ]
  },
  {
   "cell_type": "code",
   "execution_count": 24,
   "id": "abd60209-ea52-4386-a6be-12f306f1fa16",
   "metadata": {},
   "outputs": [
    {
     "name": "stdout",
     "output_type": "stream",
     "text": [
      "2\n"
     ]
    }
   ],
   "source": [
    "print(6 & 3)"
   ]
  },
  {
   "cell_type": "markdown",
   "id": "2b6dce50-dd2b-478c-9f92-1598d51864e0",
   "metadata": {},
   "source": [
    "<pre><b>EXPLAINATION:</b>\n",
    "The & operator compares each bit and set it to 1 if both are 1, otherwise it is set to 0:\n",
    "\n",
    "6 = 0000000000000110\n",
    "3 = 0000000000000011\n",
    "--------------------\n",
    "2 = 0000000000000010\n",
    "====================\n",
    "\n",
    "Decimal numbers and their binary values:\n",
    "0 = 0000000000000000\n",
    "1 = 0000000000000001\n",
    "2 = 0000000000000010\n",
    "3 = 0000000000000011\n",
    "4 = 0000000000000100\n",
    "5 = 0000000000000101\n",
    "6 = 0000000000000110\n",
    "7 = 0000000000000111</pre>"
   ]
  },
  {
   "cell_type": "markdown",
   "id": "3458eeec-7b02-43dd-9907-93412e27cfca",
   "metadata": {},
   "source": [
    "* <b>Bitwise OR(|) operator: </b>Returns 1 if either of the bit is 1 else 0."
   ]
  },
  {
   "cell_type": "code",
   "execution_count": 25,
   "id": "cd5e039d-0da6-4a34-9bae-7380e72ab585",
   "metadata": {},
   "outputs": [
    {
     "name": "stdout",
     "output_type": "stream",
     "text": [
      "7\n"
     ]
    }
   ],
   "source": [
    "print(6 | 3)"
   ]
  },
  {
   "cell_type": "markdown",
   "id": "b7704eaa-9fd7-4e9c-97bf-6e20ef0e6c7b",
   "metadata": {},
   "source": [
    "<pre><b>EXPLAINATION:</b>\n",
    "The | operator compares each bit and set it to 1 if one or both is 1, otherwise it is set to 0:\n",
    "\n",
    "6 = 0000000000000110\n",
    "3 = 0000000000000011\n",
    "--------------------\n",
    "7 = 0000000000000111\n",
    "====================\n",
    "\n",
    "Decimal numbers and their binary values:\n",
    "0 = 0000000000000000\n",
    "1 = 0000000000000001\n",
    "2 = 0000000000000010\n",
    "3 = 0000000000000011\n",
    "4 = 0000000000000100\n",
    "5 = 0000000000000101\n",
    "6 = 0000000000000110\n",
    "7 = 0000000000000111</pre>"
   ]
  },
  {
   "cell_type": "markdown",
   "id": "87dc1585-5188-4c08-9897-587526378878",
   "metadata": {},
   "source": [
    "* <b>Bitwise Not(~) operator: </b>inverts individual bits"
   ]
  },
  {
   "cell_type": "code",
   "execution_count": 27,
   "id": "9336c2d6-18b8-490d-bbae-e9f1efce0dde",
   "metadata": {},
   "outputs": [
    {
     "name": "stdout",
     "output_type": "stream",
     "text": [
      "-4\n"
     ]
    }
   ],
   "source": [
    "print(~3)"
   ]
  },
  {
   "cell_type": "markdown",
   "id": "0b29d6e6-c6ae-4a8f-bc6f-6916072ed962",
   "metadata": {},
   "source": [
    "<pre><b>EXPLAINATION:</b>\n",
    "The ~ operator inverts each bit (0 becomes 1 and 1 becomes 0).\n",
    "\n",
    "Inverted 3 becomes -4:\n",
    " 3 = 0000000000000011\n",
    "-4 = 1111111111111100\n",
    "\n",
    "Decimal numbers and their binary values:\n",
    " 4 = 0000000000000100\n",
    " 3 = 0000000000000011\n",
    " 2 = 0000000000000010\n",
    " 1 = 0000000000000001\n",
    " 0 = 0000000000000000\n",
    "-1 = 1111111111111111\n",
    "-2 = 1111111111111110\n",
    "-3 = 1111111111111101\n",
    "-4 = 1111111111111100</pre>"
   ]
  },
  {
   "cell_type": "markdown",
   "id": "0d897852-59c6-48ac-b80a-695f1a55ed90",
   "metadata": {},
   "source": [
    "* Bitwise XOR(^) operator"
   ]
  },
  {
   "cell_type": "code",
   "execution_count": 36,
   "id": "246dff13-ccc7-43f9-96ca-dd9dd3f8e2d8",
   "metadata": {},
   "outputs": [
    {
     "name": "stdout",
     "output_type": "stream",
     "text": [
      "14\n"
     ]
    }
   ],
   "source": [
    "print(10 ^ 4)"
   ]
  },
  {
   "cell_type": "markdown",
   "id": "a540528f-59f5-4c55-8186-8463770de999",
   "metadata": {},
   "source": [
    "<pre><b>EXPLAINATION:</b>\n",
    "a = 10 = 1010 (Binary)\n",
    "b = 4 =  0100 (Binary)\n",
    "\n",
    "a ^ b = 1010\n",
    "         ^\n",
    "        0100\n",
    "      = 1110\n",
    "      = 14 (Decimal)</pre>"
   ]
  },
  {
   "cell_type": "markdown",
   "id": "51ddab0b-7cb4-40eb-b083-cea6f7464e02",
   "metadata": {},
   "source": [
    "* <b> Bitwise right shift(>>) operator:</b> The left operand’s value is moved toward right by the number of bits specified by the right operand."
   ]
  },
  {
   "cell_type": "code",
   "execution_count": 29,
   "id": "b519882d-1406-459f-8a25-c2845bbc530c",
   "metadata": {},
   "outputs": [
    {
     "name": "stdout",
     "output_type": "stream",
     "text": [
      "2\n"
     ]
    }
   ],
   "source": [
    "print(8 >> 2)"
   ]
  },
  {
   "cell_type": "markdown",
   "id": "0b0d5032-0e30-4c93-9014-fa8e5bb01634",
   "metadata": {},
   "source": [
    "<pre><b>EXPLAINATION:</b>\n",
    "The >> operator moves each bit the specified number of times to the right. Empty holes at the left are filled with 0's.\n",
    "\n",
    "If you move each bit 2 times to the right, 8 becomes 2:\n",
    " 8 = 0000000000001000\n",
    "becomes\n",
    " 2 = 0000000000000010\n",
    "\n",
    "Decimal numbers and their binary values:\n",
    " 0 = 0000000000000000\n",
    " 1 = 0000000000000001\n",
    " 2 = 0000000000000010\n",
    " 3 = 0000000000000011\n",
    " 4 = 0000000000000100\n",
    " 5 = 0000000000000101\n",
    " 6 = 0000000000000110\n",
    " 7 = 0000000000000111\n",
    " 8 = 0000000000001000\n",
    " 9 = 0000000000001001\n",
    "10 = 0000000000001010\n",
    "11 = 0000000000001011\n",
    "12 = 0000000000001100</pre>"
   ]
  },
  {
   "cell_type": "markdown",
   "id": "8443468e-a491-488c-9eef-3c1728406e4f",
   "metadata": {},
   "source": [
    "* <b>Bitwise left shift(<<) operator:</b>The left operand’s value is moved toward left by the number of bits specified by the right operand."
   ]
  },
  {
   "cell_type": "code",
   "execution_count": 30,
   "id": "e3e7ae4f-5b9a-40f0-b80e-303cecb2ff38",
   "metadata": {},
   "outputs": [
    {
     "name": "stdout",
     "output_type": "stream",
     "text": [
      "12\n"
     ]
    }
   ],
   "source": [
    "print(3 << 2)"
   ]
  },
  {
   "cell_type": "markdown",
   "id": "864201d3-5559-473c-862a-56dd2447a6b9",
   "metadata": {},
   "source": [
    "<pre><b>EXPLAINATION:</b>\n",
    "The << operator inserts the specified number of 0's (in this case 2) from the right and let the same amount of leftmost bits fall off:\n",
    "\n",
    "If you push 00 in from the left:\n",
    " 3 = 0000000000000011\n",
    "becomes\n",
    "12 = 0000000000001100\n",
    "\n",
    "Decimal numbers and their binary values:\n",
    " 0 = 0000000000000000\n",
    " 1 = 0000000000000001\n",
    " 2 = 0000000000000010\n",
    " 3 = 0000000000000011\n",
    " 4 = 0000000000000100\n",
    " 5 = 0000000000000101\n",
    " 6 = 0000000000000110\n",
    " 7 = 0000000000000111\n",
    " 8 = 0000000000001000\n",
    " 9 = 0000000000001001\n",
    "10 = 0000000000001010\n",
    "11 = 0000000000001011\n",
    "12 = 0000000000001100</pre>"
   ]
  },
  {
   "cell_type": "markdown",
   "id": "b24dc548-a495-48e7-a056-cb4afa9936a2",
   "metadata": {},
   "source": [
    "# Operator Precedence\n",
    "Operator precedence describes the order in which operations are performed.\n",
    "(read online)\n",
    "\n",
    "operator and operator preceding in w3school and geeks for geeks portal match"
   ]
  },
  {
   "cell_type": "markdown",
   "id": "fee42f72-1f17-4afb-bb6b-99ac1f4d80a9",
   "metadata": {},
   "source": [
    "### Operator Precedence and Associativity in Python"
   ]
  },
  {
   "cell_type": "markdown",
   "id": "05a5d2c4-2dbc-49eb-a828-501ef6fff8a7",
   "metadata": {},
   "source": [
    "operators have different levels of precedence, which determine the order in which they are evaluated. When multiple operators are present in an expression, the ones with higher precedence are evaluated first. In the case of operators with the same precedence, their associativity comes into play, determining the order of evaluation."
   ]
  },
  {
   "cell_type": "code",
   "execution_count": null,
   "id": "4b559029-fde0-4685-aa7c-b88ca30f50e4",
   "metadata": {},
   "outputs": [],
   "source": []
  },
  {
   "cell_type": "code",
   "execution_count": null,
   "id": "9b56048d-c4c9-4d40-9997-3d21b21f8bc9",
   "metadata": {},
   "outputs": [],
   "source": []
  },
  {
   "cell_type": "markdown",
   "id": "8db5c052-eaea-4c6f-8c9e-fc0acacf321b",
   "metadata": {},
   "source": [
    "* <B>Precedence of Python Operators:</B>\n",
    "This is used in an expression with more than one operator with different precedence to determine which operation to perform first.\n",
    "\n",
    "<B>EXAMPLE:</B>"
   ]
  },
  {
   "cell_type": "markdown",
   "id": "e04aa85a-0cd5-47ea-ad8a-bc239c2f9eda",
   "metadata": {},
   "source": [
    "* Precedence of <b>'+' </b> & <b> '*'</b>"
   ]
  },
  {
   "cell_type": "code",
   "execution_count": 2,
   "id": "59454925-645e-46bb-8a28-db14e13d7133",
   "metadata": {},
   "outputs": [
    {
     "name": "stdout",
     "output_type": "stream",
     "text": [
      "610\n"
     ]
    }
   ],
   "source": [
    "expr = 10 + 20 * 30\n",
    "print(expr)"
   ]
  },
  {
   "cell_type": "markdown",
   "id": "bbc6b01d-7d78-4d52-b43b-7e8134d720d1",
   "metadata": {},
   "source": [
    "<b>EXPLAINATION:</b><br>\n",
    "<b>10 + 20 * 30</b> is calculated as <b>10 + (20 * 30) </b><br>\n",
    "and<b> not as (10 + 20) * 30</b><br>"
   ]
  },
  {
   "cell_type": "markdown",
   "id": "c7e1a101-c30f-4d57-8e50-5c14edf1a352",
   "metadata": {},
   "source": [
    "* <b>Precedence of Logical Operators in Python:</b>\n",
    "In the given code, the ‘if‘ block is executed even if the age is 0. Because the precedence of logical ‘and‘ is greater than the logical ‘or‘.<br><br>\n",
    "An expression is a collection of numbers, variables, operations, and built-in or user-defined function calls. The Python interpreter can evaluate a valid expression."
   ]
  },
  {
   "cell_type": "markdown",
   "id": "c855b492-6eab-4661-be1d-90689055ccf2",
   "metadata": {},
   "source": [
    "* Precedence of <b>'or'</b> & <b>'and'</b>"
   ]
  },
  {
   "cell_type": "code",
   "execution_count": 3,
   "id": "14a8418a-282f-47bc-bb7a-0299aed06303",
   "metadata": {},
   "outputs": [
    {
     "name": "stdout",
     "output_type": "stream",
     "text": [
      "Hello! Welcome.\n"
     ]
    }
   ],
   "source": [
    "name = \"Alex\"\n",
    "age = 0\n",
    "\n",
    "if name == \"Alex\" or name == \"John\" and age >= 2:\n",
    "\tprint(\"Hello! Welcome.\")\n",
    "else:\n",
    "\tprint(\"Good Bye!!\")\n"
   ]
  },
  {
   "cell_type": "markdown",
   "id": "1feeabaf-1a37-4f87-aa8d-5f6c35c8f230",
   "metadata": {},
   "source": [
    "Hence, To run the ‘else‘ block we can use parenthesis( ) as their precedence is highest among all the operators."
   ]
  },
  {
   "cell_type": "code",
   "execution_count": 5,
   "id": "224b3d5e-2fc7-41d8-a581-538d5da2a76b",
   "metadata": {},
   "outputs": [
    {
     "name": "stdout",
     "output_type": "stream",
     "text": [
      "Good Bye!!\n"
     ]
    }
   ],
   "source": [
    "name = \"Alex\"\n",
    "age = 0\n",
    "\n",
    "if (name == \"Alex\" or name == \"John\") and age >= 2:\n",
    "\tprint(\"Hello! Welcome.\")\n",
    "else:\n",
    "\tprint(\"Good Bye!!\")"
   ]
  },
  {
   "cell_type": "markdown",
   "id": "63b579d4-4564-4a26-953b-05c8ed4cecd2",
   "metadata": {},
   "source": [
    "* <b>Associativity of Python Operators:</b>\n",
    "If an expression contains two or more operators with the same precedence then Operator Associativity is used to determine. It can either be Left to Right or from Right to Left.\n",
    "\n",
    "<b>EXAMPLE:</b><br>\n",
    "In this code, ‘*’ and ‘/’ have the same precedence and their associativity is Left to Right, so the expression “100 / 10 * 10” is treated as “(100 / 10) * 10”."
   ]
  },
  {
   "cell_type": "code",
   "execution_count": 7,
   "id": "f8495e48-d000-450b-970a-676b9a048b87",
   "metadata": {},
   "outputs": [
    {
     "name": "stdout",
     "output_type": "stream",
     "text": [
      "100.0\n",
      "6\n",
      "0\n",
      "512\n"
     ]
    }
   ],
   "source": [
    "print(100 / 10 * 10)\n",
    "print(5 - 2 + 3)\n",
    "print(5 - (2 + 3))\n",
    "print(2 ** 3 ** 2)"
   ]
  },
  {
   "cell_type": "markdown",
   "id": "2664554e-9e2e-4904-8c9b-622b9853aa1c",
   "metadata": {},
   "source": [
    "<pre>\n",
    "<b>EXPLAINATIONS :</b><br>\n",
    "1. Left-right associativity :<br>\n",
    "for <b>print(100 / 10 * 10)</b>\n",
    "=> 100 / 10 * 10 is calculated as\n",
    "=> (100 / 10) * 10 and not\n",
    "=> as 100 / (10 * 10)\n",
    "Ans. = 100.0\n",
    "-------------------------------------\n",
    "2. Left-right associativity:<br>\n",
    "for<b> print(5 - 2 + 3)</b>\n",
    "=> 5 - 2 + 3 is calculated as\n",
    "=> (5 - 2) + 3 and not\n",
    "=> as 5 - (2 + 3)\n",
    "Ans. = 6\n",
    "-------------------------------------\n",
    "3. left-right associativity:<br>\n",
    "<b>print(5 - (2 + 3))</b>\n",
    "=> 5 - (2 + 3) is calculated as\n",
    "=> 5 - 5\n",
    "Ans. = 0\n",
    "-------------------------------------\n",
    "4. right-left associativity:<br>\n",
    "for <b>print(2 ** 3 ** 2)</b>\n",
    "=> 2 ** 3 ** 2 is calculated as\n",
    "=> 2 ** (3 ** 2) and not\n",
    "=> as (2 ** 3) ** 2\n",
    "Ans. = 512 </pre>"
   ]
  },
  {
   "cell_type": "markdown",
   "id": "760e1391-3975-49ea-8204-b341f98505fc",
   "metadata": {},
   "source": [
    "<B>Operators Precedence and Associativity in Python:</B>\n",
    "Operators Precedence and Associativity are two main characteristics of operators that determine the evaluation order of sub-expressions in the absence of brackets.\n",
    "\n",
    "<b>EXAMPLE:</b>\n",
    "\n",
    "100 + 200 / 10 - 3 * 10"
   ]
  },
  {
   "cell_type": "code",
   "execution_count": 10,
   "id": "e1ad27e4-e1a6-4b32-8ee5-2fd5ab390707",
   "metadata": {},
   "outputs": [
    {
     "name": "stdout",
     "output_type": "stream",
     "text": [
      "90.0\n"
     ]
    }
   ],
   "source": [
    "expression = 100 + 200 / 10 - 3 * 10\n",
    "print(expression)"
   ]
  },
  {
   "cell_type": "markdown",
   "id": "032b35c8-a364-42d0-8e10-fa3e245007c8",
   "metadata": {},
   "source": [
    "<pre>\n",
    "<b>EXPLAINATION:</b><br>\n",
    "100 + 200 / 10 - 3 * 10 is calculated as 100 + (200 / 10) - (3 * 10)\n",
    "and not as (100 + 200) / (10 - 3) * 10\n",
    "----------------------------------------------------------------------\n",
    "=> 100 + (200 / 10) - (3 * 10)\n",
    "=> 100 + 20 - 30\n",
    "=> (100 + 20) - 30\n",
    "=> 120 - 30\n",
    "Ans. 90\n",
    "</pre>"
   ]
  },
  {
   "cell_type": "markdown",
   "id": "a31603f2-9708-45d9-81ac-f743288f7586",
   "metadata": {},
   "source": [
    "* <b>Non-associative Operators: </b>\n",
    "In Python, most operators have associativity, which means they are evaluated from left to right or right to left when they have the same precedence. However, there are a few operators that are non-associative, meaning they cannot be chained together."
   ]
  },
  {
   "cell_type": "markdown",
   "id": "20d275eb-6e4e-41e2-b3b6-5bb55a87c861",
   "metadata": {},
   "source": [
    "<pre>\n",
    "<b>EXAMPLE:</b>\n",
    "    \n",
    "a = 5\n",
    "b = 10\n",
    "c = 15\n",
    "\n",
    "a = b = (a < b) += (b < c)\n",
    "<b>ERROR:</b>\n",
    "Cell In[8], line 5\n",
    "    a = b = (a < b) <b>+=</b> (b < c)\n",
    "                    ^\n",
    "<b>SyntaxError:</b> invalid syntax</pre>"
   ]
  },
  {
   "cell_type": "markdown",
   "id": "f2f2978b-5369-4d81-a551-012f2b5c3210",
   "metadata": {},
   "source": [
    "<b>NOTE:</b>The following table shows the precedence of Python operators. It's in reverse order (the upper operator holds higher precedence than the lower operator).\n",
    "\n",
    "<table width = 100%>\n",
    "<tbody><tr>\n",
    "<th>Operators</th>\n",
    "<th>Meaning</th>\n",
    "</tr>\n",
    "<tr>\n",
    "<td>()</td>\n",
    "<td>Parentheses</td>\n",
    "</tr>\n",
    "<tr>\n",
    "<td>**</td>\n",
    "<td>Exponent</td>\n",
    "</tr>\n",
    "<tr>\n",
    "<td>+x, -x, ~x</td>\n",
    "<td>Unary plus, Unary minus, Bitwise NOT</td>\n",
    "</tr>\n",
    "<tr>\n",
    "<td>*, /, //, %</td>\n",
    "<td>Multiplication, Division, Floor division, Modulus</td>\n",
    "</tr>\n",
    "<tr>\n",
    "<td>+, -</td>\n",
    "<td>Addition, Subtraction</td>\n",
    "</tr>\n",
    "<tr>\n",
    "<td>&lt;&lt;, &gt;&gt;</td>\n",
    "<td>Bitwise shift operators</td>\n",
    "</tr>\n",
    "<tr>\n",
    "<td>&amp;</td>\n",
    "<td>Bitwise AND</td>\n",
    "</tr>\n",
    "<tr>\n",
    "<td>^</td>\n",
    "<td>Bitwise XOR</td>\n",
    "</tr>\n",
    "<tr>\n",
    "<td>|</td>\n",
    "<td>Bitwise OR</td>\n",
    "</tr>\n",
    "<tr>\n",
    "<td>==, !=, &gt;, &gt;=, &lt;, &lt;=, is, is not, in, not in</td>\n",
    "<td>Comparisons, Identity, Membership operators</td>\n",
    "</tr>\n",
    "<tr>\n",
    "<td>not</td>\n",
    "<td>Logical NOT</td>\n",
    "</tr>\n",
    "<tr>\n",
    "<td>and</td>\n",
    "<td>Logical AND</td>\n",
    "</tr>\n",
    "<tr>\n",
    "<td>or</td>\n",
    "<td>Logical OR</td>\n",
    "</tr>\n",
    "</tbody></table>"
   ]
  },
  {
   "cell_type": "markdown",
   "id": "32c6fefe-930b-48fd-85b4-9fefab1e3267",
   "metadata": {},
   "source": [
    "### Type Conveersion and Type Casting:\n",
    "The two terms type casting and the type conversion are used in a program to convert one data type to another data type. The conversion of data type is possible only by the compiler when they are compatible with each other. Let's discuss the difference between type casting and type conversion in any programming language."
   ]
  },
  {
   "cell_type": "markdown",
   "id": "08172775-d326-4f0b-8b42-ae4dd36776b1",
   "metadata": {},
   "source": [
    "#### 1. type casting:\n",
    "<b>What is a type casting? </b>When a data type is converted into another data type by a programmer or user while writing a program code of any programming language, the mechanism is known as type casting. The programmer manually uses it to convert one data type into another. It is used if we want to change the target data type to another data type. Remember that the destination data type must be smaller than the source data type. Hence it is also called a narrowing conversion.\n",
    "\n",
    "There may be times when you want to specify a type on to a variable. This can be done with casting. Python is an object-orientated language, and as such it uses classes to define data types, including its primitive types.\n",
    "\n",
    "Casting in python is therefore done using constructor functions:"
   ]
  },
  {
   "cell_type": "markdown",
   "id": "6f47ebe5-4d0f-47d9-9dc3-018dd8e7258e",
   "metadata": {},
   "source": [
    "* <b>int() - </b>constructs an integer number from an integer literal, a float literal (by removing all decimals), or a string literal (providing the string represents a whole number)\n",
    "* <b>float() - </b>constructs a float number from an integer literal, a float literal or a string literal (providing the string represents a float or an integer)\n",
    "* <b>str() - </b>constructs a string from a wide variety of data types, including strings, integer literals and float literals"
   ]
  },
  {
   "cell_type": "markdown",
   "id": "f8666805-98ec-4db0-816c-12bbdd991811",
   "metadata": {},
   "source": [
    "* Integers:"
   ]
  },
  {
   "cell_type": "code",
   "execution_count": 19,
   "id": "2434590c-5d87-42cf-886e-d66429f03ca1",
   "metadata": {},
   "outputs": [
    {
     "name": "stdout",
     "output_type": "stream",
     "text": [
      "1 type of x :  <class 'int'>\n",
      "2 type of y :  <class 'int'>\n",
      "3 type of z :  <class 'int'>\n"
     ]
    }
   ],
   "source": [
    "x = int(1)   # x will be 1\n",
    "y = int(2.8) # y will be 2\n",
    "z = int(\"3\") # z will be 3\n",
    "#q = int('1.5')     # unable to do\n",
    "\n",
    "print(x,\"type of x : \",type(x))\n",
    "print(y,\"type of y : \",type(y))\n",
    "print(z,\"type of z : \",type(z))\n",
    "#print(q,\"type of q : \",type(q))"
   ]
  },
  {
   "cell_type": "markdown",
   "id": "f1410fdf-4ba2-4f2f-b0a1-70f5a64f3824",
   "metadata": {},
   "source": [
    "* Floats:"
   ]
  },
  {
   "cell_type": "code",
   "execution_count": 20,
   "id": "829b24de-3c20-4a92-b6d7-a9f4e6882ae3",
   "metadata": {},
   "outputs": [
    {
     "name": "stdout",
     "output_type": "stream",
     "text": [
      "1.0 <class 'float'>\n",
      "2.8 <class 'float'>\n",
      "3.0 <class 'float'>\n",
      "4.2 <class 'float'>\n"
     ]
    }
   ],
   "source": [
    "x = float(1)     # x will be 1.0\n",
    "y = float(2.8)   # y will be 2.8\n",
    "z = float(\"3\")   # z will be 3.0\n",
    "w = float(\"4.2\") # w will be 4.2\n",
    "\n",
    "print(x,type(x))\n",
    "print(y,type(y))\n",
    "print(z,type(z))\n",
    "print(w,type(w))"
   ]
  },
  {
   "cell_type": "markdown",
   "id": "4367ab3e-8669-4936-ad19-b2b954e734a7",
   "metadata": {},
   "source": [
    "* Strings:"
   ]
  },
  {
   "cell_type": "code",
   "execution_count": 21,
   "id": "ac2fc154-507c-40ec-8b0c-1f3c9865a551",
   "metadata": {},
   "outputs": [
    {
     "name": "stdout",
     "output_type": "stream",
     "text": [
      "s1 <class 'str'>\n",
      "2 <class 'str'>\n",
      "3.0 <class 'str'>\n"
     ]
    }
   ],
   "source": [
    "x = str(\"s1\") # x will be 's1'\n",
    "y = str(2)    # y will be '2'\n",
    "z = str(3.0)  # z will be '3.0'  \n",
    "\n",
    "print(x,type(x))\n",
    "print(y,type(y))\n",
    "print(z,type(z))"
   ]
  },
  {
   "cell_type": "markdown",
   "id": "5b612a8c-5ca5-47cc-9486-f2b47e6885fc",
   "metadata": {},
   "source": [
    "#### 2. type conversion:\n",
    "<b>What is a type conversion? </b>\n",
    "\n",
    "type conversion is a technique to convert data type from one to another in possible ways.\n",
    "to see the data type we use type() function and to covernt data type in typer converstion we use int(), float() and complex() functions.\n",
    "\n",
    "You can convert from one type to another with the int(), float(), and complex() methods:"
   ]
  },
  {
   "cell_type": "code",
   "execution_count": 28,
   "id": "3cb7f54a-2b66-4741-add8-553c02bb50d8",
   "metadata": {},
   "outputs": [
    {
     "name": "stdout",
     "output_type": "stream",
     "text": [
      "x :  <class 'int'>\n",
      "y :  <class 'float'>\n",
      "z :  <class 'complex'>\n",
      "1.0\n",
      "2\n",
      "(1+0j)\n",
      "<class 'float'>\n",
      "<class 'int'>\n",
      "<class 'complex'>\n"
     ]
    }
   ],
   "source": [
    "x = 1    # int\n",
    "y = 2.8  # float\n",
    "z = 1j   # complex\n",
    "\n",
    "# before conversion\n",
    "print(\"x : \",type(x))\n",
    "print(\"y : \",type(y))\n",
    "print(\"z : \",type(z))\n",
    "\n",
    "#convert from int to float:\n",
    "a = float(x)\n",
    "\n",
    "#convert from float to int:\n",
    "b = int(y)\n",
    "\n",
    "#convert from int to complex:\n",
    "c = complex(x)\n",
    "\n",
    "print(a)\n",
    "print(b)\n",
    "print(c)\n",
    "\n",
    "print(type(a))\n",
    "print(type(b))\n",
    "print(type(c))"
   ]
  },
  {
   "cell_type": "markdown",
   "id": "9ca38a0b-f45c-40cc-8ab7-bfd2fce8f447",
   "metadata": {},
   "source": [
    "#### Difference betweenType Casting &Type Conversion:\n",
    "<table>\n",
    "<tbody><tr>\n",
    "<th>S.N.</th>\n",
    "<th>Type Casting</th>\n",
    "<th>Type Conversion</th>\n",
    "</tr>\n",
    "<tr>\n",
    "<td>1</td>\n",
    "<td>Type casting is a mechanism in which one data type is converted to another data type using a casting () operator by a programmer.</td>\n",
    "<td>Type conversion allows a compiler to convert one data type to another data type at the compile time of a program or code.</td>\n",
    "</tr>\n",
    "<tr>\n",
    "<td>2</td>\n",
    "<td>It can be used both compatible data type and incompatible data type.</td>\n",
    "<td>Type conversion is only used with compatible data types, and hence it does not require any casting operator.</td>\n",
    "</tr>\n",
    "<tr>\n",
    "<td>3</td>\n",
    "<td>It requires a programmer to manually casting one data into another type.</td>\n",
    "<td>It does not require any programmer intervention to convert one data type to another because the compiler automatically compiles it at the run time of a program.</td>\n",
    "</tr>\n",
    "<tr>\n",
    "<td>4</td>\n",
    "<td>It is used while designing a program by the programmer.</td>\n",
    "<td>It is used or take place at the compile time of a program.</td>\n",
    "</tr>\n",
    "<tr>\n",
    "<td>5</td>\n",
    "<td>When casting one data type to another, the destination data type must be smaller than the source data.</td>\n",
    "<td>When converting one data type to another, the destination type should be greater than the source data type.</td>\n",
    "</tr>\n",
    "<tr>\n",
    "<td>6</td>\n",
    "<td>It is also known as narrowing conversion because one larger data type converts to a smaller data type.</td>\n",
    "<td>It is also known as widening conversion because one smaller data type converts to a larger data type.</td>\n",
    "</tr>\n",
    "<tr>\n",
    "<td>7</td>\n",
    "<td>It is more reliable and efficient.</td>\n",
    "<td>It is less efficient and less reliable.</td>\n",
    "</tr>\n",
    "<tr>\n",
    "<td>8</td>\n",
    "<td>There is a possibility of data or information being lost in type casting.</td>\n",
    "<td>In type conversion, data is unlikely to be lost when converting from a small to a large data type.</td>\n",
    "</tr>\n",
    "<tr>\n",
    "<td>8</td>\n",
    "<td><pre>float b = 3.0;\n",
    "int a = (int) b</pre></td>\n",
    "<td><pre>int x = 5, y = 2, c;\n",
    "float q = 12.5, p;\n",
    "p = q/x;</pre></td>\n",
    "</tr>\n",
    "</tbody></table>"
   ]
  },
  {
   "cell_type": "markdown",
   "id": "74f8090f-20f9-40d3-b299-7087e6e5a000",
   "metadata": {},
   "source": [
    "### Input() function :\n",
    " it's used to take user input. By default, it returns the user input in form of a string."
   ]
  },
  {
   "cell_type": "code",
   "execution_count": 1,
   "id": "ea8a3304-b29b-4c15-87db-1592ddc59d60",
   "metadata": {},
   "outputs": [
    {
     "name": "stdin",
     "output_type": "stream",
     "text": [
      "enter your name :  raj\n",
      "enter your address :  indore\n"
     ]
    },
    {
     "name": "stdout",
     "output_type": "stream",
     "text": [
      "my name is  raj  and  i live in  indore\n",
      "my name is raj and i live in indore\n"
     ]
    }
   ],
   "source": [
    "name = input('enter your name : ')\n",
    "add = input(\"enter your address : \")\n",
    "\n",
    "print(\"my name is \",name,\" and \",\"i live in \",add)   #default type\n",
    "print(f\"my name is {name} and i live in {add}\")      # using f-string"
   ]
  },
  {
   "cell_type": "markdown",
   "id": "fc584e92-c807-4225-852a-c092737a7444",
   "metadata": {},
   "source": [
    "<b>NOTE: </b>input function take input as 'string' by default but with type conversion we can take input as any data type i.e. int and float."
   ]
  },
  {
   "cell_type": "code",
   "execution_count": 3,
   "id": "84e46754-20b5-422c-a6d2-b18530f962ba",
   "metadata": {},
   "outputs": [
    {
     "name": "stdin",
     "output_type": "stream",
     "text": [
      "enter any number:  12.4\n"
     ]
    },
    {
     "name": "stdout",
     "output_type": "stream",
     "text": [
      "12.4\n",
      "<class 'str'>\n"
     ]
    }
   ],
   "source": [
    "a = input(\"enter any number: \")\n",
    "print(a)\n",
    "print(type(a))"
   ]
  },
  {
   "cell_type": "code",
   "execution_count": 4,
   "id": "0ef50a37-8b94-42a8-87ce-76eda5d8b787",
   "metadata": {},
   "outputs": [
    {
     "name": "stdin",
     "output_type": "stream",
     "text": [
      "enter any number:  12\n"
     ]
    },
    {
     "name": "stdout",
     "output_type": "stream",
     "text": [
      "12.0\n",
      "<class 'float'>\n"
     ]
    }
   ],
   "source": [
    "a = float(input(\"enter any number: \"))\n",
    "print(a)\n",
    "print(type(a))"
   ]
  },
  {
   "cell_type": "code",
   "execution_count": 5,
   "id": "b08ca82c-8697-450c-8e0d-98d2701fae5e",
   "metadata": {},
   "outputs": [
    {
     "name": "stdin",
     "output_type": "stream",
     "text": [
      "enter any number:  12\n"
     ]
    },
    {
     "name": "stdout",
     "output_type": "stream",
     "text": [
      "12\n",
      "<class 'int'>\n"
     ]
    }
   ],
   "source": [
    "a = int(input(\"enter any number: \"))\n",
    "print(a)\n",
    "print(type(a))"
   ]
  },
  {
   "cell_type": "code",
   "execution_count": 6,
   "id": "5c3a24b6-249b-44e9-85c3-8115e50db65f",
   "metadata": {},
   "outputs": [
    {
     "name": "stdin",
     "output_type": "stream",
     "text": [
      "enter no. 1 : 12.5\n",
      "enter no. 2 : 13.7\n"
     ]
    },
    {
     "name": "stdout",
     "output_type": "stream",
     "text": [
      "sum of 12.500000 and 13.700000 is 26.2\n"
     ]
    }
   ],
   "source": [
    "a = float(input(\"enter no. 1 :\"))\n",
    "b = float(input(\"enter no. 2 :\"))\n",
    "c = a + b\n",
    "sum = 'sum of %f and %f is'%(a,b)\n",
    "print(sum,c)"
   ]
  },
  {
   "cell_type": "markdown",
   "id": "7b8003ed-9c58-4cc8-bc05-62fa83849eb1",
   "metadata": {},
   "source": [
    "### Strings (data type) :\n",
    "sequence of character is known as string. there are various operation and functions, we can applied on strings."
   ]
  },
  {
   "cell_type": "code",
   "execution_count": 8,
   "id": "0be3fc4c-cbe2-469a-8877-330a0a299f1d",
   "metadata": {},
   "outputs": [
    {
     "name": "stdout",
     "output_type": "stream",
     "text": [
      "python programming\n",
      "<class 'str'>\n"
     ]
    }
   ],
   "source": [
    "str1 = \"python programming\"\n",
    "\n",
    "print(str1)\n",
    "print(type(str1))"
   ]
  },
  {
   "cell_type": "code",
   "execution_count": 9,
   "id": "9df8e291-9f4c-428b-96ca-f5064088447d",
   "metadata": {},
   "outputs": [
    {
     "name": "stdin",
     "output_type": "stream",
     "text": [
      "enter name :  xxxx\n"
     ]
    },
    {
     "name": "stdout",
     "output_type": "stream",
     "text": [
      "good morning !!!, xxxx\n",
      "good morning !!!, xxxx\n"
     ]
    }
   ],
   "source": [
    "greet = 'good morning !!!, '\n",
    "name = input(\"enter name : \")\n",
    "\n",
    "print(greet+name)\n",
    "\n",
    "msg = greet+name\n",
    "print(msg)"
   ]
  },
  {
   "cell_type": "markdown",
   "id": "9390020f-9e9b-4f2d-8e28-c70dc1c38529",
   "metadata": {},
   "source": [
    "* <b>String indexing:</b>\n",
    "\n",
    "In Python, individual characters of a String can be accessed by using the method of Indexing. Indexing allows negative address references to access characters from the back of the String, e.g. -1 refers to the last character, -2 refers to the second last character, and so on. \r\n",
    "\r\n",
    "While accessing an index out of the range will cause an IndexError. Only Integers are allowed to be passed as an index, float or other types that will cause a TypeError."
   ]
  },
  {
   "cell_type": "markdown",
   "id": "30ffbbdd-51d2-4283-9674-33e7658b9ee5",
   "metadata": {},
   "source": [
    "<b>1. positive indexing :</b>\n",
    "The first character has an index of 0 , the character at position x has an index x - 1 , and the last character in the string has an index of string_length - 1 . If the index is greater than string_length - 1 , Python returns the error IndexError: string index out of range."
   ]
  },
  {
   "cell_type": "markdown",
   "id": "6dd699d2-1aaf-49d8-a10a-d5c77226eca9",
   "metadata": {},
   "source": [
    "<pre>\n",
    "n-element ->   +--+--+--+--+--+--+--+--+       +--+\n",
    "string:    ->  |__|__|__|__|__|__|__|__|.......|__|\n",
    "+ve index: ->   0  1  2  3  4  5  6  7 ........(n-1)\n",
    "</pre>"
   ]
  },
  {
   "cell_type": "code",
   "execution_count": 10,
   "id": "29ee7172-d0ab-403b-b6f1-626ca065e1bd",
   "metadata": {},
   "outputs": [
    {
     "name": "stdout",
     "output_type": "stream",
     "text": [
      "index of 0 : R\n",
      "index of 2 : j\n",
      "index of 18 : d\n"
     ]
    }
   ],
   "source": [
    "name = \"Rajendra Kumar Randa\"\n",
    "print(\"index of 0 :\", name[0])\n",
    "print(\"index of 2 :\", name[2])\n",
    "print(\"index of 18 :\", name[18])"
   ]
  },
  {
   "cell_type": "markdown",
   "id": "52e1c306-c9f4-4f91-8ee0-05d4cfa516ba",
   "metadata": {},
   "source": [
    "<b>ERROR :</b>\n",
    "<pre>\n",
    "name = \"Rajendra Kumar Randa\"\n",
    "print(\"index of 23 :\", name[23])\n",
    "\n",
    "-------------------------------------------------------------------\n",
    "IndexError                      Traceback (most recent call last)\n",
    "Cell In[11], line 2\n",
    "      1 name = \"Rajendra Kumar Randa\"\n",
    "----> 2 <b>print(\"index of 23 :\", name[23])</b>\n",
    "    \n",
    "IndexError: string index out of range</pre>"
   ]
  },
  {
   "cell_type": "markdown",
   "id": "f214ee48-e17a-4b5e-840f-95a20fe9cf50",
   "metadata": {},
   "source": [
    "<b>2. nagative index: </b>\n",
    "Negative indexing retrieves elements from the end by providing negative numbers as sequence indexes.\n",
    "\n",
    "it goes to string = [-n, .... , -4, -3, -2, -1]"
   ]
  },
  {
   "cell_type": "markdown",
   "id": "040ed07d-514c-445d-a6fe-b43fbc2c44af",
   "metadata": {},
   "source": [
    "<pre>\n",
    "               +--+--+--+--+--+--+--+--+\n",
    "string:    ->  |__|__|__|__|__|__|__|__|\n",
    "+ve index: ->   -8 -7 -6 -5 -4 -3 -2 -1 \n",
    "</pre>"
   ]
  },
  {
   "cell_type": "code",
   "execution_count": 12,
   "id": "e51c00de-e7cb-481e-97b9-41a10d985689",
   "metadata": {},
   "outputs": [
    {
     "name": "stdout",
     "output_type": "stream",
     "text": [
      "index of 2 : d\n",
      "index of 2 : r\n"
     ]
    }
   ],
   "source": [
    "name = \"Rajendra Kumar Randa\"\n",
    "\n",
    "print(\"index of 2 :\", name[-2])\n",
    "print(\"index of 2 :\", name[-14])"
   ]
  },
  {
   "cell_type": "markdown",
   "id": "a1ccde7e-45e7-4231-9715-97a362b31d89",
   "metadata": {},
   "source": [
    "* <b>String Slicing :</b>\n",
    "In Python, the String Slicing method is used to access a range of characters in the String. Slicing in a String is done by using a Slicing operator, i.e., a colon (:).  One thing to keep in mind while using this method is that the string returned after slicing includes the character at the start index but not the character at the last index.\n",
    "\n",
    "<b>SYNTAX :</b> str_name(start_index:end_index:skip_increment_indexing_number)"
   ]
  },
  {
   "cell_type": "code",
   "execution_count": 14,
   "id": "05f0f1ee-990a-48dd-9884-39539e889f0b",
   "metadata": {},
   "outputs": [
    {
     "name": "stdout",
     "output_type": "stream",
     "text": [
      "Rajendra Kumar Randa\n",
      "<class 'str'>\n",
      "20\n",
      "R\n",
      "e\n",
      "n\n",
      "Rajen\n",
      "Raje\n",
      "Rajendra Kumar Randa\n",
      "an\n",
      "an\n",
      "Rajend\n"
     ]
    }
   ],
   "source": [
    "name = \"Rajendra Kumar Randa\"\n",
    "\n",
    "print(name)\n",
    "print(type(name))\n",
    "print(len(name))\n",
    "\n",
    "print(name[0])\n",
    "print(name[3])\n",
    "print(name[4]) #not work for out of index\n",
    "print(name[:5])\n",
    "print(name[:4])\n",
    "print(name[0:])\n",
    "# print(name[1:3]) #[1:2]\n",
    "c = name[-4:-2] #nagative index\n",
    "print(c)\n",
    "print(name[-4:-2])\n",
    "d = name[1::5] #ski p indexing value\n",
    "d = name[0:6:1] #string[start_index:end_index:skip_index]\n",
    "print(d)"
   ]
  },
  {
   "cell_type": "code",
   "execution_count": 15,
   "id": "a4a85753-daee-43ad-9692-1fbd0f3ba13e",
   "metadata": {},
   "outputs": [
    {
     "name": "stdout",
     "output_type": "stream",
     "text": [
      "[0, 2, 4, 6, 8]\n"
     ]
    }
   ],
   "source": [
    "l = [0, 1, 2, 3, 4, 5, 6, 7, 8]\n",
    "m = l[0:9:2]\n",
    "print(m)"
   ]
  },
  {
   "cell_type": "markdown",
   "id": "73d77a27-5b0f-42d0-b77a-a6e3a9db2656",
   "metadata": {},
   "source": [
    "<b>Functions on Strings : </b>"
   ]
  },
  {
   "cell_type": "code",
   "execution_count": 16,
   "id": "5fbcc112-5995-4dee-ab00-b45417357920",
   "metadata": {},
   "outputs": [],
   "source": [
    "story = '''In “The Necklace” by Guy de Maupassant, the main character, \n",
    "Mathilde, has always dreamed of being an aristocrat but lives in \n",
    "poverty. Embarrassed about her lack of fine possessions, she borrows a \n",
    "necklace from a wealthy friend but loses it. The story is known for its \n",
    "subversive and influential twist ending.'''"
   ]
  },
  {
   "cell_type": "code",
   "execution_count": 19,
   "id": "48c3bfe9-8d76-4532-8051-d599be256a72",
   "metadata": {},
   "outputs": [
    {
     "data": {
      "text/plain": [
       "'In “The Necklace” by Guy de Maupassant, the main character, \\nMathilde, has always dreamed of being an aristocrat but lives in \\npoverty. Embarrassed about her lack of fine possessions, she borrows a \\nnecklace from a wealthy friend but loses it. The story is known for its \\nsubversive and influential twist ending.'"
      ]
     },
     "execution_count": 19,
     "metadata": {},
     "output_type": "execute_result"
    }
   ],
   "source": [
    "story"
   ]
  },
  {
   "cell_type": "code",
   "execution_count": 20,
   "id": "e2ad61dc-4424-4b98-8135-a0f4268d7fab",
   "metadata": {},
   "outputs": [
    {
     "name": "stdout",
     "output_type": "stream",
     "text": [
      "In “The Necklace” by Guy de Maupassant, the main character, \n",
      "Mathilde, has always dreamed of being an aristocrat but lives in \n",
      "poverty. Embarrassed about her lack of fine possessions, she borrows a \n",
      "necklace from a wealthy friend but loses it. The story is known for its \n",
      "subversive and influential twist ending.\n"
     ]
    }
   ],
   "source": [
    "print(story)"
   ]
  },
  {
   "cell_type": "code",
   "execution_count": 18,
   "id": "70627a58-1a24-4160-afab-8c62ec069aa5",
   "metadata": {},
   "outputs": [
    {
     "name": "stdout",
     "output_type": "stream",
     "text": [
      "length :  312\n"
     ]
    }
   ],
   "source": [
    "print(\"length : \",len(story))"
   ]
  },
  {
   "cell_type": "code",
   "execution_count": 1,
   "id": "642c9671-eb74-4a4f-9851-e54c3d5baa6b",
   "metadata": {},
   "outputs": [
    {
     "name": "stdout",
     "output_type": "stream",
     "text": [
      "A quick brown fox jumps  over the lazy dog . dog are smart pet.\n",
      "63\n",
      "False\n",
      "True\n",
      "False\n",
      "True\n",
      "1\n",
      "1\n",
      "14\n",
      "14\n",
      "1\n",
      "A quick brown fox jumps  over the lazy cat . cat are smart pet.\n"
     ]
    }
   ],
   "source": [
    "story = \"A quick brown fox jumps  over the lazy dog . dog are smart pet.\"\n",
    "\n",
    "print(story)\n",
    "print(len(story))\n",
    "print(story.startswith(' '))\n",
    "print(story.startswith('A'))\n",
    "print(story.endswith(\"dog\"))\n",
    "print(story.endswith(\".\"))\n",
    "print(story.count(\"v\"))\n",
    "print(story.count(\"brown\"))\n",
    "print(story.count(\" \"))\n",
    "print(story.find(\"fox\"))\n",
    "print(story.find(\" \"))\n",
    "print(story.replace(\"dog\", \"cat\"))"
   ]
  },
  {
   "cell_type": "markdown",
   "id": "7259a6f7-4c88-4e54-aee0-84ce57769ad9",
   "metadata": {},
   "source": [
    "* put center to any string use <b>string_name.center(total_space_for_string) </b>\n",
    "* put center to any string use <b>string_name.center(total_space_for_string,\"character_used_to_fill_space\") </b>\n",
    "* put right side to any string use <b>string_name.rjust(total_space_for_string,\"character_used_to_fill_space\")</b>\n",
    "* put left side to any string use <b>string_name.ljust(total_space_for_string,\"character_used_to_fill_space\")</b>"
   ]
  },
  {
   "cell_type": "code",
   "execution_count": 1,
   "id": "2573e5aa-07ea-42ff-9f27-0d387f6e035d",
   "metadata": {},
   "outputs": [
    {
     "name": "stdout",
     "output_type": "stream",
     "text": [
      "                 you are welcome                  \n",
      "*****************you are welcome******************\n",
      "***********************************you are welcome\n",
      "you are welcome***********************************\n"
     ]
    }
   ],
   "source": [
    "s = \"you are welcome\"\n",
    "\n",
    "print(s.center(50))\n",
    "print(s.center(50,'*'))\n",
    "print(s.rjust(50,'*'))\n",
    "print(s.ljust(50,'*'))"
   ]
  },
  {
   "cell_type": "markdown",
   "id": "a169f135-dfce-4b3e-8f4b-8ee3e961c083",
   "metadata": {},
   "source": [
    "### space sequence character:\n",
    "they are special characters who used to make output better.\n",
    "some of them are :\n",
    "* \\n : new line\n",
    "* \\t : a tab\n",
    "* \\ \\ : useing \\\n",
    "* \\ : use same quote as start or end inside the strings and etc."
   ]
  },
  {
   "cell_type": "markdown",
   "id": "c6a807fd-60e9-4d39-a41b-456264c2a171",
   "metadata": {},
   "source": [
    "<b>EXAMPLES:</b>"
   ]
  },
  {
   "cell_type": "code",
   "execution_count": 22,
   "id": "c67125cf-e435-49cd-a544-e9f3d363b591",
   "metadata": {},
   "outputs": [
    {
     "name": "stdout",
     "output_type": "stream",
     "text": [
      "this is a ball.\n",
      "this color is blue.\n",
      "in maths,\n",
      "\tif we divide 2 into 2 (2/2) is 1\n",
      " and this is harry's\tball.\\'\n"
     ]
    }
   ],
   "source": [
    "new_story = \"this is a ball.\\nthis color is blue.\\nin maths,\\n\\tif we divide 2 into 2 (2/2) is 1\\n and this is harry\\'s\\tball.\\\\'\"\n",
    "\n",
    "print(new_story)"
   ]
  },
  {
   "cell_type": "markdown",
   "id": "25d2f710-bdfd-495f-8bd3-73bfe2ef2d5d",
   "metadata": {},
   "source": [
    "* <b>Quiz.</b>format giving letter usinf space sequence characters.<br>\n",
    "letter = \"Dear <|NAME|>, greeting from company 'ABC'. I'm happy to tell about your selection. you're selected. have a great day! date: <|DATE|>\".<br>\n",
    "<b>NOTE:</b> \"NAME\" and \"DATE\" are given by users."
   ]
  },
  {
   "cell_type": "code",
   "execution_count": 23,
   "id": "8a718a7d-c219-4cec-80af-4b4535d0283d",
   "metadata": {},
   "outputs": [
    {
     "name": "stdin",
     "output_type": "stream",
     "text": [
      "enter your name:  raj\n",
      "enter date:  12/12/24\n"
     ]
    },
    {
     "name": "stdout",
     "output_type": "stream",
     "text": [
      "********** greeting ************\n",
      "Dear raj ,\n",
      "greeting from company 'ABC'. I'm happy to tell about your selection. \n",
      "you're selected.\n",
      "\n",
      "have a great day!\n",
      "\t\t\t\t\t\tdate: 12/12/24\n"
     ]
    }
   ],
   "source": [
    "letter = '''Dear <|NAME|> ,\n",
    "greeting from company 'ABC'. I'm happy to tell about your selection. \n",
    "you're selected.\\n\n",
    "have a great day!\n",
    "\\t\\t\\t\\t\\t\\tdate: <|DATE|>'''\n",
    "\n",
    "name = input(\"enter your name: \")\n",
    "date = input(\"enter date: \")\n",
    "\n",
    "letter = letter.replace(\"<|NAME|>\",name)\n",
    "letter = letter.replace(\"<|DATE|>\",date)\n",
    "\n",
    "print(\"********** greeting ************\")\n",
    "print(letter)"
   ]
  },
  {
   "cell_type": "markdown",
   "id": "57fe2fe0-d9a8-47ab-9765-c8e624822e84",
   "metadata": {},
   "source": [
    "<b>QUIZ :</b> find double space and exchange it to single?<br>\n",
    "1. str1 = \"this is my  ball.\"<br>\n",
    "2. str2 = \"this is my pen.\"<br>\n",
    "3. str3 = \"this  is my  book.\"<br>"
   ]
  },
  {
   "cell_type": "code",
   "execution_count": 25,
   "id": "e8f95653-65de-4556-a533-03c8a4cdd92c",
   "metadata": {},
   "outputs": [
    {
     "name": "stdout",
     "output_type": "stream",
     "text": [
      "10\n",
      "-1\n",
      "this is my book.\n"
     ]
    }
   ],
   "source": [
    "str1 = \"this is my  ball.\"\n",
    "str2 = \"this is my pen.\"\n",
    "str3 = \"this  is my  book.\"\n",
    "doublespace1 = str1.find(\"  \")\n",
    "doublespace2 = str2.find(\"  \")\n",
    "print(doublespace1)\n",
    "print(doublespace2)\n",
    "\n",
    "str3 = str3.replace(\"  \",\" \")\n",
    "print(str3)"
   ]
  },
  {
   "cell_type": "markdown",
   "id": "acc47243-0e45-453b-870b-efe79dc7d870",
   "metadata": {},
   "source": [
    "<b>QUIZ : </b>format the given latter? \n",
    "ltr = \"dear harry, this python course is nice!thanks!\""
   ]
  },
  {
   "cell_type": "code",
   "execution_count": 26,
   "id": "44b17989-785d-409a-bb67-c8233be9b2ea",
   "metadata": {},
   "outputs": [
    {
     "name": "stdout",
     "output_type": "stream",
     "text": [
      "dear harry, \n",
      "\tthis python course is nice!\n",
      "\t\t\t\t\t\t\tthanks!\n"
     ]
    }
   ],
   "source": [
    "formatted_letter = \"dear harry, \\n\\tthis python course is nice!\\n\\t\\t\\t\\t\\t\\t\\tthanks!\"\n",
    "print(formatted_letter)"
   ]
  },
  {
   "cell_type": "markdown",
   "id": "347bd814-5346-42fb-bde2-38533d9da23d",
   "metadata": {},
   "source": [
    "### List (data type) :\n",
    "Lists are used to store multiple items in a single variable.\n",
    "it's changable/ mutable and indexed/ordered, it allows duplicates."
   ]
  },
  {
   "cell_type": "markdown",
   "id": "aba567b6-b921-47ca-acb5-4943f734cd0c",
   "metadata": {},
   "source": [
    "* <b>empty list: </b> we represent empty list or list with no elements via \"[ ]\" sign or list()."
   ]
  },
  {
   "cell_type": "code",
   "execution_count": 20,
   "id": "15f809b3-b622-45a8-9394-2cc3d50e070b",
   "metadata": {},
   "outputs": [
    {
     "name": "stdout",
     "output_type": "stream",
     "text": [
      "[]\n",
      "0\n",
      "<class 'list'>\n"
     ]
    }
   ],
   "source": [
    "l = []\n",
    "print(l)\n",
    "print(len(l))\n",
    "print(type(l))"
   ]
  },
  {
   "cell_type": "code",
   "execution_count": 21,
   "id": "4d3512b3-fe3c-4669-8d34-5a558ee5eb9f",
   "metadata": {},
   "outputs": [
    {
     "name": "stdout",
     "output_type": "stream",
     "text": [
      "[]\n",
      "0\n",
      "<class 'list'>\n"
     ]
    }
   ],
   "source": [
    "l = list()\n",
    "print(l)\n",
    "print(len(l))\n",
    "print(type(l))"
   ]
  },
  {
   "cell_type": "markdown",
   "id": "5fc25507-7503-4c60-bccc-e3f68dd02dc2",
   "metadata": {},
   "source": [
    "* <b>insert function: </b> It is used to insert an element in any list.<br>"
   ]
  },
  {
   "cell_type": "markdown",
   "id": "f0aa011c-3b4d-4e0b-890f-1d851456ff4b",
   "metadata": {},
   "source": [
    "<b>SYNTAX:</b>\n",
    "<pre>\n",
    "list_name.insert(index,value)\n",
    "</pre>"
   ]
  },
  {
   "cell_type": "markdown",
   "id": "c398070a-0160-4f08-bba6-d5a465768d3d",
   "metadata": {},
   "source": [
    "where, <b>index</b> is the position we want to insert the element and <b>value</b> is the value of element we want to insert."
   ]
  },
  {
   "cell_type": "code",
   "execution_count": 3,
   "id": "6708a35f-bc08-4600-9ed2-bb70be0ef67f",
   "metadata": {},
   "outputs": [
    {
     "name": "stdout",
     "output_type": "stream",
     "text": [
      "[2]\n",
      "1\n",
      "<class 'list'>\n"
     ]
    }
   ],
   "source": [
    "l = []\n",
    "l.insert(0,2)  # list_name[index, value]\n",
    "print(l)\n",
    "print(len(l))\n",
    "print(type(l))"
   ]
  },
  {
   "cell_type": "code",
   "execution_count": 32,
   "id": "353e1cb6-60c8-475d-9704-da2cb8caaf71",
   "metadata": {},
   "outputs": [
    {
     "name": "stdout",
     "output_type": "stream",
     "text": [
      "[1, 16, 56, 10, 14, 1, 0]\n",
      "insert '2.3' on index[0] :  [2.3, 1, 16, 56, 10, 14, 1, 0]\n"
     ]
    }
   ],
   "source": [
    "num = [1, 16, 56, 10, 14, 1, 0]\n",
    "print(num)\n",
    "\n",
    "\n",
    "num.insert(0, 2.3)      # insert(index no, value)\n",
    "print(\"insert '2.3' on index[0] : \",num)"
   ]
  },
  {
   "cell_type": "markdown",
   "id": "320a64b3-289d-4f6b-a68a-6af03cd07a30",
   "metadata": {},
   "source": [
    "* basic function of list:"
   ]
  },
  {
   "cell_type": "code",
   "execution_count": 22,
   "id": "5d2ed824-cb2f-4cf7-8e00-462c83ec63dc",
   "metadata": {},
   "outputs": [
    {
     "name": "stdout",
     "output_type": "stream",
     "text": [
      "list :  [1, 2.3, 'ram', True, 0, 0, 0]\n",
      "type :  <class 'list'>\n",
      "length :  7\n"
     ]
    }
   ],
   "source": [
    "a = [1, 2.3, 'ram', True, 0, 0, 0]\n",
    "\n",
    "print(\"list : \",a)\n",
    "print(\"type : \",type(a))\n",
    "print(\"length : \",len(a))"
   ]
  },
  {
   "cell_type": "markdown",
   "id": "8e0c0471-c48c-41ce-93ed-5f203dee56ec",
   "metadata": {},
   "source": [
    "* <b>indexing in list: </b> it works same as work on string elements.<br>\n",
    "<b>+ve index:</b> it works like: [0,1,2,.......,n-2,n-1]<br>\n",
    "<b>-ve index:</b> it works like: [n,n-1,.......,-3,-2,-1]"
   ]
  },
  {
   "cell_type": "code",
   "execution_count": 7,
   "id": "9dd28418-9be6-4cb7-9e12-57ccebe1c3e0",
   "metadata": {},
   "outputs": [
    {
     "name": "stdout",
     "output_type": "stream",
     "text": [
      "list :  [1, 2.3, 'ram', True, 0, 0, 0]\n",
      "type :  <class 'list'>\n",
      "length :  7\n",
      "index of [0] :  1\n",
      "index of [2] :  ram\n",
      "type of element of list on index[1] :  <class 'float'>\n",
      "type of element of list on index[2] :  <class 'str'>\n"
     ]
    }
   ],
   "source": [
    "a = [1, 2.3, 'ram', True, 0, 0, 0]\n",
    "\n",
    "print(\"list : \",a)\n",
    "print(\"index of [0] : \",a[0])\n",
    "print(\"index of [2] : \",a[2])\n",
    "print(\"type of element of list on index[1] : \",type(a[1]))\n",
    "print(\"type of element of list on index[2] : \",type(a[2]))"
   ]
  },
  {
   "cell_type": "code",
   "execution_count": 28,
   "id": "375384e4-8fed-49e7-92c9-238648dcbff1",
   "metadata": {},
   "outputs": [
    {
     "name": "stdout",
     "output_type": "stream",
     "text": [
      " list of friends =  ['ram', 'syam', 'mohan', 'sohan', 'meena', 'sita', 4, 500]\n",
      "friends[3] =   sohan\n",
      "friends[-3] =   sita\n"
     ]
    }
   ],
   "source": [
    "friends = [\"ram\",\"syam\",\"mohan\",\"sohan\",\"meena\",\"sita\", 4, 500]\n",
    "\n",
    "print(\" list of friends = \",friends)\n",
    "print(\"friends[3] =  \",friends[3])\n",
    "print(\"friends[-3] =  \",friends[-3])"
   ]
  },
  {
   "cell_type": "markdown",
   "id": "28ba9a1e-64c3-44b3-848b-313562a1a0f3",
   "metadata": {},
   "source": [
    "<pre><b>ERROR:</b>out of index.\n",
    "\n",
    "a = [1, 2.3, 'ram', True, 0, 0, 0]\n",
    "print(\"index of [7] : \",a[7])\n",
    "-------------------------------------------------------------\n",
    "IndexError                  Traceback (most recent call last)\n",
    "Cell In[6], line 2\n",
    "      1 a = [1, 2.3, 'ram', True, 0, 0, 0]\n",
    "----><b>2 print(\"index of [7] : \",a[7])</b>\n",
    "\n",
    "<b>IndexError:</b> list index out of range</pre>"
   ]
  },
  {
   "cell_type": "markdown",
   "id": "d00ab61e-6582-46aa-8c11-3e21a218b21c",
   "metadata": {},
   "source": [
    "* <b>update function: </b>it is used to update the value.<br>\n",
    "<b>list_name[index]  = new_value</b>"
   ]
  },
  {
   "cell_type": "code",
   "execution_count": 23,
   "id": "53bf62df-f631-46ae-bb3a-0839ef13936e",
   "metadata": {},
   "outputs": [
    {
     "name": "stdout",
     "output_type": "stream",
     "text": [
      "before update item on index[6] list will be :  [1, 2.3, 'ram', True, 0, 0, 0]\n",
      "after update item on index[6] list will be :  [1, 2.3, 'ram', True, 0, 0, 9]\n"
     ]
    }
   ],
   "source": [
    "a = [1, 2.3, 'ram', True, 0, 0, 0]\n",
    "\n",
    "print(\"before update item on index[6] list will be : \",a)\n",
    "a[6] = 9\n",
    "print(\"after update item on index[6] list will be : \",a)"
   ]
  },
  {
   "cell_type": "code",
   "execution_count": 30,
   "id": "e38112d3-7239-4ba7-8b5e-8c5023d88a1d",
   "metadata": {},
   "outputs": [
    {
     "name": "stdout",
     "output_type": "stream",
     "text": [
      " list of friends =  ['ram', 'syam', 'mohan', 'sohan', 'meena', 'sita', 4, 500]\n",
      "after update item on index[1] friends list will be :  ['ram', 'juhi', 'mohan', 'sohan', 'meena', 'sita', 4, 500]\n"
     ]
    }
   ],
   "source": [
    "friends = [\"ram\",\"syam\",\"mohan\",\"sohan\",\"meena\",\"sita\", 4, 500]\n",
    "\n",
    "print(\" list of friends = \",friends)\n",
    "friends[1] = \"juhi\"\n",
    "print(\"after update item on index[1] friends list will be : \",friends)"
   ]
  },
  {
   "cell_type": "code",
   "execution_count": 31,
   "id": "13909ea9-3b79-4688-9f07-421eee23ffad",
   "metadata": {},
   "outputs": [
    {
     "name": "stdout",
     "output_type": "stream",
     "text": [
      " list of friends =  ['ram', 'syam', 'mohan', 'sohan', 'meena', 'sita', 4, 500]\n",
      "after update item on index[-1] friends list will be :  ['ram', 'syam', 'mohan', 'sohan', 'meena', 'sita', 4, 'kajal']\n"
     ]
    }
   ],
   "source": [
    "friends = [\"ram\",\"syam\",\"mohan\",\"sohan\",\"meena\",\"sita\", 4, 500]\n",
    "\n",
    "print(\" list of friends = \",friends)\n",
    "friends[-1] = \"kajal\"\n",
    "print(\"after update item on index[-1] friends list will be : \",friends)"
   ]
  },
  {
   "cell_type": "markdown",
   "id": "41c1cd2e-6308-4c8d-88d4-c9d5e7f942e3",
   "metadata": {},
   "source": [
    "* <b>slicing in list:</b> it means print or choose specific part of list.<br>\n",
    "<b>SYNTAX: </b> list_name[starting_index:ending_index:skipping_index_numbers]\n",
    "\n",
    "<b>NOTE: </b>you can skip anyone of part of index, if you skip any part than then default values of starting_index is '0', ending_index is 'n' and skipping_index_numbers is 1"
   ]
  },
  {
   "cell_type": "code",
   "execution_count": 29,
   "id": "1e06aa4c-d2f1-4ce8-b15d-1a4d456ce23d",
   "metadata": {},
   "outputs": [
    {
     "name": "stdout",
     "output_type": "stream",
     "text": [
      " list of friends =  ['ram', 'syam', 'mohan', 'sohan', 'meena', 'sita', 4, 500]\n",
      "slice with index friends[:4] =  ['ram', 'syam', 'mohan', 'sohan']\n",
      "slice with index friends[-4:] =  ['meena', 'sita', 4, 500]\n"
     ]
    }
   ],
   "source": [
    "friends = [\"ram\",\"syam\",\"mohan\",\"sohan\",\"meena\",\"sita\", 4, 500]\n",
    "\n",
    "print(\" list of friends = \",friends)\n",
    "print(\"slice with index friends[:4] = \",friends[:4]) #slice with index\n",
    "print(\"slice with index friends[-4:] = \",friends[-4:]) #slice with index"
   ]
  },
  {
   "cell_type": "markdown",
   "id": "594bfe33-ee28-4368-bf0b-e75c4cf5ffc2",
   "metadata": {},
   "source": [
    "<b>NOTE: </b> list work on all function of string as string."
   ]
  },
  {
   "cell_type": "code",
   "execution_count": 10,
   "id": "cba86baf-b99d-4836-8002-736a1e5be564",
   "metadata": {},
   "outputs": [
    {
     "name": "stdout",
     "output_type": "stream",
     "text": [
      "num[:3] =  [1, 16, 56]\n",
      "num[3:] =  [10, 0, 14, 0]\n",
      "num[::2] =  [1, 56, 0, 0]\n"
     ]
    }
   ],
   "source": [
    "num = [1, 16, 56, 10, 0, 14, 0]\n",
    "\n",
    "print(\"num[:3] = \",num[:3])    # num[0:3]\n",
    "print(\"num[3:] = \",num[3:])    # num[3:last element]\n",
    "print(\"num[::2] = \",num[::2])    #num[0:n-1:2nd element skipped]"
   ]
  },
  {
   "cell_type": "markdown",
   "id": "d9bca726-3edd-410c-9446-90be6ad04de2",
   "metadata": {},
   "source": [
    "* <b>sort function: </b>used to sort the elements of list.<br>\n",
    "<b>SYNTAX: </b> list_name.sort()"
   ]
  },
  {
   "cell_type": "code",
   "execution_count": 16,
   "id": "f57da888-7b08-46f0-905a-e32750df118c",
   "metadata": {},
   "outputs": [
    {
     "name": "stdout",
     "output_type": "stream",
     "text": [
      "list :  [1, 16, 56, 10, 0, 14, 0]\n",
      "sorted list :  [0, 0, 1, 10, 14, 16, 56]\n"
     ]
    }
   ],
   "source": [
    "num = [1, 16, 56, 10, 0, 14, 0]\n",
    "print(\"list : \",num)\n",
    "num.sort()\n",
    "print(\"sorted list : \",num)"
   ]
  },
  {
   "cell_type": "markdown",
   "id": "45ccfa53-79f8-4a02-8c04-22f0c1191f71",
   "metadata": {},
   "source": [
    "* <b>reverse function: </b>used to reverse the elements of list.<br>\n",
    "<b>SYNTAX: </b> list_name.reverse()"
   ]
  },
  {
   "cell_type": "code",
   "execution_count": 17,
   "id": "0ff0b384-1ee2-4edb-9f9d-92fe34aee3dd",
   "metadata": {},
   "outputs": [
    {
     "name": "stdout",
     "output_type": "stream",
     "text": [
      "list :  [1, 16, 56, 10, 0, 14, 0]\n",
      "reversed list :  [0, 14, 0, 10, 56, 16, 1]\n"
     ]
    }
   ],
   "source": [
    "num = [1, 16, 56, 10, 0, 14, 0]\n",
    "\n",
    "print(\"list : \",num)\n",
    "num.reverse()\n",
    "print(\"reversed list : \",num)"
   ]
  },
  {
   "cell_type": "markdown",
   "id": "c235951a-12bd-4d3b-922e-dbeb7955c910",
   "metadata": {},
   "source": [
    "* <b>append function:</b> this function add value after the last element.<br>\n",
    "<b>SYNTAX: </b> list_name.append(value)"
   ]
  },
  {
   "cell_type": "code",
   "execution_count": 19,
   "id": "1f954172-695b-4da0-990e-54b2c6e6a0e8",
   "metadata": {},
   "outputs": [
    {
     "name": "stdout",
     "output_type": "stream",
     "text": [
      "[1, 16, 56, 10, 14, 1, 0]\n",
      "append 50 :  [1, 16, 56, 10, 14, 1, 0, 50]\n"
     ]
    }
   ],
   "source": [
    "num = [1, 16, 56, 10, 14, 1, 0]\n",
    "print(num)\n",
    "\n",
    "num.append(50)\n",
    "print(\"append 50 : \",num)"
   ]
  },
  {
   "cell_type": "markdown",
   "id": "67c1df7e-2afb-407b-8467-ba9621d5fae8",
   "metadata": {},
   "source": [
    "* <b>pop function: </b> it is used to remove the elements using index or last added item.<br>\n",
    "<b>SYNTAX:</b> <b>type 1-</b>list_name.pop(index), <b>type 2-</b>list_name.pop()<br>\n",
    "type 1,remove the element exists in given index and type 2, remove last added item in list."
   ]
  },
  {
   "cell_type": "markdown",
   "id": "6735d857-9fbc-43d9-b8c2-92ac8c501635",
   "metadata": {},
   "source": [
    "<b>type 1-</b>list_name.pop(index),<br>\n",
    "type 1,remove the element exists in given index in list."
   ]
  },
  {
   "cell_type": "code",
   "execution_count": 12,
   "id": "e28de7a8-dc3f-4513-b7e9-7024792eab38",
   "metadata": {},
   "outputs": [
    {
     "name": "stdout",
     "output_type": "stream",
     "text": [
      "[1, 16, 56, 10, 14, 1, 0]\n",
      "pop '1' :  [1, 56, 10, 14, 1, 0]\n"
     ]
    }
   ],
   "source": [
    "num = [1, 16, 56, 10, 14, 1, 0]\n",
    "print(num)\n",
    "num.pop(1)      # pop(index)\n",
    "print(\"pop '1' : \",num)"
   ]
  },
  {
   "cell_type": "markdown",
   "id": "11104694-80cc-432f-b74a-844aa589f1b3",
   "metadata": {},
   "source": [
    "<b>type 2-</b>list_name.pop()<br>\n",
    "type 2, remove last added item in list."
   ]
  },
  {
   "cell_type": "code",
   "execution_count": 11,
   "id": "f7787315-4419-4159-8ce0-79ad4cbee04f",
   "metadata": {},
   "outputs": [
    {
     "name": "stdout",
     "output_type": "stream",
     "text": [
      "[1, 16, 56, 10]\n",
      "[1, 13, 16, 56, 10, 10, 14, 1, 0]\n",
      "pop :  [1, 13, 16, 56, 10, 10, 14, 1]\n"
     ]
    }
   ],
   "source": [
    "num = [1, 16, 56, 10]\n",
    "print(num)\n",
    "# insert some elements in the last index(append)\n",
    "num.append(10)\n",
    "num.append(14)\n",
    "num.append(1)\n",
    "num.append(0)\n",
    "num.insert(1,13)\n",
    "print(num)\n",
    "\n",
    "num.pop()\n",
    "print(\"pop : \",num)  #remove last added item"
   ]
  },
  {
   "cell_type": "markdown",
   "id": "59145a02-90c0-4618-8132-1cd5fc28471a",
   "metadata": {},
   "source": [
    "* <b>remove function: </b> it removes the element from list.<br>\n",
    "<b>SYNATX: </b>list_name(value)"
   ]
  },
  {
   "cell_type": "code",
   "execution_count": 15,
   "id": "65b521db-f199-4c62-8c1f-ec48b63b4006",
   "metadata": {},
   "outputs": [
    {
     "name": "stdout",
     "output_type": "stream",
     "text": [
      "[1, 16, 56, 10, 14, 1, 0]\n",
      "remove '0' :  [1, 16, 56, 10, 14, 1]\n"
     ]
    }
   ],
   "source": [
    "num = [1, 16, 56, 10, 14, 1, 0]\n",
    "print(num)\n",
    "\n",
    "num.remove(0)   # remove(value)\n",
    "print(\"remove '0' : \",num)"
   ]
  },
  {
   "cell_type": "markdown",
   "id": "d1079d89-19ae-4006-8511-064551c77d4c",
   "metadata": {},
   "source": [
    "* <b> del function:</b> it is used to delete element and also delete whole list from source.<br>\n",
    "<b>SYNTAX:</b> <b>type 1-</b>list_name.del(index), <b>type 2-</b>list_name.del()<br>"
   ]
  },
  {
   "cell_type": "markdown",
   "id": "063add59-c8d1-40ce-96c0-0e736483ca18",
   "metadata": {},
   "source": [
    "<b>type 1-</b>list_name.pop(index)"
   ]
  },
  {
   "cell_type": "code",
   "execution_count": 16,
   "id": "b11f1724-d882-4706-ba6d-f1ebf83eddd4",
   "metadata": {},
   "outputs": [
    {
     "name": "stdout",
     "output_type": "stream",
     "text": [
      "[1, 16, 56, 10, 14, 1, 0]\n",
      "del index[1] :  [1, 56, 10, 14, 1, 0]\n"
     ]
    }
   ],
   "source": [
    "num = [1, 16, 56, 10, 14, 1, 0]\n",
    "print(num)\n",
    "\n",
    "del num[1]      # delete item permanently from source list on index 1\n",
    "print(\"del index[1] : \",num)"
   ]
  },
  {
   "cell_type": "markdown",
   "id": "2ea7a368-9260-4f95-a3a5-8cd0a3bf2121",
   "metadata": {},
   "source": [
    "<b>type 2-</b>list_name.pop()<br>\n",
    "* delete list permanently from source"
   ]
  },
  {
   "cell_type": "markdown",
   "id": "2f379c6f-0dac-4721-af5f-37cb22a27098",
   "metadata": {},
   "source": [
    "<pre><b>ERROR:</b>\n",
    "\n",
    "num = [1, 16, 56, 10, 14, 1, 0]\n",
    "\n",
    "print(num)\n",
    "del num         # delete list permanently from source\n",
    "print(num)\n",
    "--------------------------------------------------------------------\n",
    "[1, 16, 56, 10, 14, 1, 0]\n",
    "NameError                          Traceback (most recent call last)\n",
    "Cell In[14], line 8\n",
    "      5 print(\"del index[1] : \",num)\n",
    "      7 del num         # delete list permanently from source\n",
    "----> 8 print(num)      # after delete list permanently\n",
    "\n",
    "NameError: name 'num' is not defined</pre>"
   ]
  },
  {
   "cell_type": "markdown",
   "id": "ff24873c-2436-4611-a30d-2d434326f5d0",
   "metadata": {},
   "source": [
    "### diference between del and clear function in list:"
   ]
  },
  {
   "cell_type": "code",
   "execution_count": null,
   "id": "0677ad5e-b76c-41d4-b32a-64eb6362315f",
   "metadata": {},
   "outputs": [],
   "source": []
  },
  {
   "cell_type": "code",
   "execution_count": null,
   "id": "9559b1c2-82ac-4d03-bb0d-6d8fb5cc0dbc",
   "metadata": {},
   "outputs": [],
   "source": []
  },
  {
   "cell_type": "code",
   "execution_count": null,
   "id": "022e4735-1a72-4a2f-b670-657e1c3729a6",
   "metadata": {},
   "outputs": [],
   "source": []
  },
  {
   "cell_type": "raw",
   "id": "20bf23c4-27f1-4618-8227-9b4a0e2a13cc",
   "metadata": {},
   "source": [
    "clear and del functions:\n",
    "    \n",
    "a = [1,3,5,6,4,6,3]\n",
    "b = [1,3,54,2,5,7,4]\n",
    "# del, delete entire list\n",
    "# del a\n",
    "print(a)\n",
    "output: NameError: name 'a' is not defined\n",
    "# clear() the list content\n",
    "b.clear()\n",
    "print(b)\n",
    "output: []"
   ]
  },
  {
   "cell_type": "markdown",
   "id": "717af51e-30f4-4934-a5bf-c857ed64193f",
   "metadata": {},
   "source": [
    "* <b>extend function: </b> it is used to merge two data types."
   ]
  },
  {
   "cell_type": "markdown",
   "id": "8aac8b66-0873-461a-8293-bee038f3cc82",
   "metadata": {},
   "source": [
    "* list with list"
   ]
  },
  {
   "cell_type": "code",
   "execution_count": 17,
   "id": "70fdf827-016f-4506-8e61-0bdb0be6a2ef",
   "metadata": {},
   "outputs": [
    {
     "name": "stdout",
     "output_type": "stream",
     "text": [
      "['a', 'b', 'c', 'p', 'q', 'z']\n",
      "['a', 'b', 'c', 1, 2, 3]\n"
     ]
    }
   ],
   "source": [
    "x = ['a','b','c']\n",
    "y = ['p','q','z']\n",
    "x.extend(y)\n",
    "print(x)"
   ]
  },
  {
   "cell_type": "markdown",
   "id": "3cec4cc7-f254-4068-8bee-8f1b4021cb69",
   "metadata": {},
   "source": [
    "* list with tuple"
   ]
  },
  {
   "cell_type": "code",
   "execution_count": 19,
   "id": "022afa0f-4f6a-440c-be96-d644075fad65",
   "metadata": {},
   "outputs": [
    {
     "name": "stdout",
     "output_type": "stream",
     "text": [
      "['a', 'b', 'c', 1, 2, 3]\n"
     ]
    }
   ],
   "source": [
    "p = ['a','b','c']\n",
    "q = (1,2,3)\n",
    "p.extend(q)\n",
    "print(p)"
   ]
  },
  {
   "cell_type": "markdown",
   "id": "d77dcfcf-c67b-4186-a425-8acd8fda59f6",
   "metadata": {},
   "source": [
    "* <b>loops in list:</b>"
   ]
  },
  {
   "cell_type": "markdown",
   "id": "e94ec267-e2b7-42d9-aae0-993daea057e0",
   "metadata": {},
   "source": [
    "* check wether given string is in list or not. "
   ]
  },
  {
   "cell_type": "code",
   "execution_count": 1,
   "id": "e1a18629-c87e-43f4-a83b-239aba1f99fb",
   "metadata": {},
   "outputs": [
    {
     "name": "stdin",
     "output_type": "stream",
     "text": [
      "enter name : ram\n"
     ]
    },
    {
     "name": "stdout",
     "output_type": "stream",
     "text": [
      "yes,it is...\n"
     ]
    }
   ],
   "source": [
    "l = ['ram', 'sohan', 'mohan']\n",
    "x = input(\"enter name :\")\n",
    "if x in l:\n",
    "    print(\"yes,it is...\")\n",
    "else:\n",
    "    print(\"no, it is not...\")"
   ]
  },
  {
   "cell_type": "markdown",
   "id": "34b4c705-5379-409f-a281-1ab7f24e1b7c",
   "metadata": {},
   "source": [
    "* for loop in list:"
   ]
  },
  {
   "cell_type": "markdown",
   "id": "fc21d7dd-fb68-42de-8f7a-d7a43aaa2d87",
   "metadata": {},
   "source": [
    "* print item one by one all elements"
   ]
  },
  {
   "cell_type": "code",
   "execution_count": 3,
   "id": "a5126cef-15ee-4cd9-8f26-73488a65fc1d",
   "metadata": {},
   "outputs": [
    {
     "name": "stdout",
     "output_type": "stream",
     "text": [
      "0\n",
      "10\n",
      "20\n",
      "30\n",
      "40\n",
      "50\n",
      "60\n",
      "70\n",
      "8\n",
      "90\n",
      "100\n"
     ]
    }
   ],
   "source": [
    "x = [0, 10, 20, 30, 40, 50, 60, 70, 8, 90, 100]\n",
    "    \n",
    "for item in x:\n",
    "    print(item)"
   ]
  },
  {
   "cell_type": "markdown",
   "id": "7f489bda-cc46-4341-915a-25cba98cf572",
   "metadata": {},
   "source": [
    "* print all elements in list"
   ]
  },
  {
   "cell_type": "code",
   "execution_count": 15,
   "id": "d07db8ac-a0e3-4147-bad8-8899a98251a0",
   "metadata": {},
   "outputs": [
    {
     "name": "stdout",
     "output_type": "stream",
     "text": [
      "0\n",
      "10\n",
      "20\n",
      "30\n",
      "40\n",
      "50\n",
      "60\n",
      "70\n",
      "8\n",
      "90\n",
      "100\n"
     ]
    }
   ],
   "source": [
    "x = [0, 10, 20, 30, 40, 50, 60, 70, 8, 90, 100]\n",
    "    \n",
    "for item in range(len(x)):\n",
    "    print(x[item])"
   ]
  },
  {
   "cell_type": "markdown",
   "id": "c2ab6afd-5bc3-4880-bb15-772e7af85ed2",
   "metadata": {},
   "source": [
    "* print element via index using range() and len()"
   ]
  },
  {
   "cell_type": "code",
   "execution_count": 4,
   "id": "db32ea5b-8047-4e77-8247-08141f982f0c",
   "metadata": {},
   "outputs": [
    {
     "name": "stdout",
     "output_type": "stream",
     "text": [
      "40\n",
      "40\n",
      "40\n",
      "40\n",
      "40\n",
      "40\n",
      "40\n",
      "40\n",
      "40\n",
      "40\n",
      "40\n"
     ]
    }
   ],
   "source": [
    "x = [0, 10, 20, 30, 40, 50, 60, 70, 8, 90, 100]\n",
    "    \n",
    "for item in range(len(x)):\n",
    "    print(x[4])"
   ]
  },
  {
   "cell_type": "markdown",
   "id": "162942ae-3fc2-44b1-8f07-379349a00176",
   "metadata": {},
   "source": [
    "* print all element using while loop"
   ]
  },
  {
   "cell_type": "code",
   "execution_count": 12,
   "id": "24b46db9-618f-413b-b9f7-22b030039777",
   "metadata": {},
   "outputs": [
    {
     "name": "stdout",
     "output_type": "stream",
     "text": [
      "0\n",
      "10\n",
      "20\n",
      "30\n",
      "40\n",
      "50\n",
      "60\n",
      "70\n",
      "8\n",
      "90\n",
      "100\n"
     ]
    }
   ],
   "source": [
    "x = [0, 10, 20, 30, 40, 50, 60, 70, 8, 90, 100]\n",
    "i = 0\n",
    "while i < len(x):\n",
    "    print(x[i])\n",
    "    i = i + 1"
   ]
  },
  {
   "cell_type": "markdown",
   "id": "dcadd229-ed55-4ff4-8d6f-d2fd0da080d1",
   "metadata": {},
   "source": [
    "* for look in one-line"
   ]
  },
  {
   "cell_type": "code",
   "execution_count": 14,
   "id": "3e0b6e93-7d62-4cbf-b3ce-c53795a005c0",
   "metadata": {},
   "outputs": [
    {
     "name": "stdout",
     "output_type": "stream",
     "text": [
      "0\n",
      "10\n",
      "20\n",
      "30\n",
      "40\n",
      "50\n",
      "60\n",
      "70\n",
      "8\n",
      "90\n",
      "100\n"
     ]
    },
    {
     "data": {
      "text/plain": [
       "[None, None, None, None, None, None, None, None, None, None, None]"
      ]
     },
     "execution_count": 14,
     "metadata": {},
     "output_type": "execute_result"
    }
   ],
   "source": [
    "x = [0, 10, 20, 30, 40, 50, 60, 70, 8, 90, 100]\n",
    "    \n",
    "[print(item) for item in x] "
   ]
  },
  {
   "cell_type": "markdown",
   "id": "c5544e08-fa81-470f-ad80-015049627e68",
   "metadata": {},
   "source": [
    "### Tuple (data type) :\n",
    "it is collection of all type of data type. it is imutable(unchangable), allowed to hold duplicate values and also indexed/ordered."
   ]
  },
  {
   "cell_type": "markdown",
   "id": "230e75fe-beeb-40c3-bbae-0648e238855e",
   "metadata": {},
   "source": [
    "* empty tuple"
   ]
  },
  {
   "cell_type": "code",
   "execution_count": 17,
   "id": "9502f63a-5c45-4236-b501-29e0cc104c4a",
   "metadata": {},
   "outputs": [
    {
     "name": "stdout",
     "output_type": "stream",
     "text": [
      "()\n",
      "<class 'tuple'>\n",
      "0\n"
     ]
    }
   ],
   "source": [
    "empty_tuple = ()\n",
    "print(empty_tuple)\n",
    "print(type(empty_tuple))\n",
    "print(len(empty_tuple))"
   ]
  },
  {
   "cell_type": "code",
   "execution_count": 18,
   "id": "778ccdeb-c9b2-497c-8d8d-afecf4020f94",
   "metadata": {},
   "outputs": [
    {
     "name": "stdout",
     "output_type": "stream",
     "text": [
      "()\n",
      "<class 'tuple'>\n",
      "0\n"
     ]
    }
   ],
   "source": [
    "empty_tuple = tuple()\n",
    "print(empty_tuple)\n",
    "print(type(empty_tuple))\n",
    "print(len(empty_tuple))"
   ]
  },
  {
   "cell_type": "markdown",
   "id": "c5ccddc4-856f-4db7-823e-d3daab53c95a",
   "metadata": {},
   "source": [
    "* tuple with single value"
   ]
  },
  {
   "cell_type": "code",
   "execution_count": 19,
   "id": "3acc8db8-8085-40f1-9728-fc98f45e6229",
   "metadata": {},
   "outputs": [
    {
     "name": "stdout",
     "output_type": "stream",
     "text": [
      "3\n",
      "<class 'int'>\n",
      "(2,)\n",
      "<class 'tuple'>\n"
     ]
    }
   ],
   "source": [
    "t = (3)   # wrong way\n",
    "print(t)\n",
    "print(type(t))\n",
    "\n",
    "t = (2,)  # right way\n",
    "print(t)\n",
    "print(type(t))"
   ]
  },
  {
   "cell_type": "markdown",
   "id": "d0fc5bf8-a380-4642-b806-3e18a535f468",
   "metadata": {},
   "source": [
    "* some basic functions in tuple"
   ]
  },
  {
   "cell_type": "code",
   "execution_count": null,
   "id": "fc2e3af6-6ba7-48cc-bb59-9a707f7d558e",
   "metadata": {},
   "outputs": [],
   "source": [
    "t = (0, 12, 2.5, 24, 50, 2, 2, 2)\n",
    "print(t)\n",
    "print(type(t))\n",
    "print(type(t[2]))"
   ]
  },
  {
   "cell_type": "markdown",
   "id": "f9cf5e62-90d7-4700-9348-2098aefeb051",
   "metadata": {},
   "source": [
    "* <b>count function : </b> it returns number of repetition of any specific value.<br>\n",
    "<b>SYNTAX: </b> tuple_name.count(value)"
   ]
  },
  {
   "cell_type": "code",
   "execution_count": 26,
   "id": "68f2d7f0-74ff-45e2-8046-8d0b0c712ec4",
   "metadata": {},
   "outputs": [
    {
     "name": "stdout",
     "output_type": "stream",
     "text": [
      "(0, 12, 2.5, 24, 50, 2, 2, 2)\n",
      "count '2' :  3\n"
     ]
    }
   ],
   "source": [
    "t = (0, 12, 2.5, 24, 50, 2, 2, 2)\n",
    "print(t)\n",
    "print(\"count '2' : \", t.count(2))"
   ]
  },
  {
   "cell_type": "markdown",
   "id": "27d868bf-cca7-44ed-9841-2b71ccdab833",
   "metadata": {},
   "source": [
    "* <b>index function :</b> it returns index number of given value.<br>\n",
    "<b>SYNTAX: </b> tuple_name.index(value)"
   ]
  },
  {
   "cell_type": "code",
   "execution_count": 27,
   "id": "37ab6052-2d4e-490a-a41d-7f789723ea15",
   "metadata": {},
   "outputs": [
    {
     "name": "stdout",
     "output_type": "stream",
     "text": [
      "(0, 12, 2.5, 24, 50, 2, 2, 2)\n",
      "index(50) :  4\n"
     ]
    }
   ],
   "source": [
    "t = (0, 12, 2.5, 24, 50, 2, 2, 2)\n",
    "print(t)\n",
    "print(\"index(50) : \", t.index(50))   # return index no by value index(value)"
   ]
  },
  {
   "cell_type": "markdown",
   "id": "c72051dd-7515-44b1-aa29-1f9861ca9b2f",
   "metadata": {},
   "source": [
    "* how to update any item in tuple?"
   ]
  },
  {
   "cell_type": "markdown",
   "id": "ac558bb7-6e70-419a-bd46-597a7152e83a",
   "metadata": {},
   "source": [
    "steps to update tuples...<br>\n",
    "1. first, convert tuple into list\n",
    "2. update item of list\n",
    "3. convert list into tuple in the end"
   ]
  },
  {
   "cell_type": "code",
   "execution_count": 30,
   "id": "1af05593-da54-44a8-b1d3-1f78a97f99a4",
   "metadata": {},
   "outputs": [
    {
     "name": "stdout",
     "output_type": "stream",
     "text": [
      "('apple', 'banana', 'cherry')\n",
      "<class 'tuple'>\n",
      "['apple', 'kiwi', 'cherry']\n",
      "<class 'list'>\n",
      "('apple', 'kiwi', 'cherry')\n",
      "<class 'tuple'>\n"
     ]
    }
   ],
   "source": [
    "# given tuple\n",
    "x = ('apple','banana','cherry')\n",
    "print(x)\n",
    "print(type(x))\n",
    "\n",
    "# convert tuple into list and update item\n",
    "y = list(x)  \n",
    "y[1] = 'kiwi'\n",
    "\n",
    "print(y)\n",
    "print(type(y))\n",
    "\n",
    "# convert list into tuple\n",
    "x = tuple(y)\n",
    "print(x)\n",
    "print(type(x))"
   ]
  },
  {
   "cell_type": "markdown",
   "id": "c00d376e-d8ff-43c6-a218-164004a1ed58",
   "metadata": {},
   "source": [
    "<b>NOTE:</b> by this way we can perform all operation on tuples."
   ]
  },
  {
   "cell_type": "markdown",
   "id": "f48806e3-a75b-4fb0-a281-dc45a2df4eb0",
   "metadata": {},
   "source": [
    "* <b>loop with tuple:</b>"
   ]
  },
  {
   "cell_type": "markdown",
   "id": "bc071a30-c0ff-4185-a644-6d4681cabde7",
   "metadata": {},
   "source": [
    "* for loop in tuple"
   ]
  },
  {
   "cell_type": "code",
   "execution_count": 31,
   "id": "878bf0a2-e836-4192-81a3-8b871bf7d24e",
   "metadata": {},
   "outputs": [
    {
     "name": "stdout",
     "output_type": "stream",
     "text": [
      "1\n",
      "3\n",
      "5\n",
      "6\n",
      "7\n",
      "8\n"
     ]
    }
   ],
   "source": [
    "a = (1,3,5,6,7,8)\n",
    "for i in a:\n",
    "    print(i)"
   ]
  },
  {
   "cell_type": "markdown",
   "id": "602b468c-fa9e-435b-8aef-4c7df602c4fb",
   "metadata": {},
   "source": [
    "* for loop with len() in tuple"
   ]
  },
  {
   "cell_type": "code",
   "execution_count": 33,
   "id": "f7618f78-738c-4695-99df-bfecc9f45f73",
   "metadata": {},
   "outputs": [
    {
     "name": "stdout",
     "output_type": "stream",
     "text": [
      "1\n",
      "3\n",
      "5\n",
      "6\n",
      "7\n",
      "8\n"
     ]
    }
   ],
   "source": [
    "a = (1,3,5,6,7,8)\n",
    "for i in range(len(a)):\n",
    "    print(a[i])"
   ]
  },
  {
   "cell_type": "markdown",
   "id": "19b7b1c5-6b09-4405-b91a-db329a283bba",
   "metadata": {},
   "source": [
    "* while loop in tuple"
   ]
  },
  {
   "cell_type": "code",
   "execution_count": 32,
   "id": "7c133b50-20e0-4529-a851-0e5628e92eab",
   "metadata": {},
   "outputs": [
    {
     "name": "stdout",
     "output_type": "stream",
     "text": [
      "1\n",
      "3\n",
      "4\n",
      "5\n",
      "6\n"
     ]
    }
   ],
   "source": [
    "ab = (1,3,4,5,6)\n",
    "i = 0\n",
    "while i < len(ab):\n",
    "    print(ab[i])\n",
    "    i = i + 1"
   ]
  },
  {
   "cell_type": "markdown",
   "id": "d954e695-cf02-4549-8897-d1c4fbc1c69a",
   "metadata": {},
   "source": [
    "<b>math with tuple:</b>"
   ]
  },
  {
   "cell_type": "markdown",
   "id": "75dc579a-e8a8-4404-87fb-9ac67ee8a4d8",
   "metadata": {},
   "source": [
    "* Join two tuples"
   ]
  },
  {
   "cell_type": "code",
   "execution_count": 23,
   "id": "0a9a2d8c-a469-4442-8839-f3e35a4f2094",
   "metadata": {},
   "outputs": [
    {
     "name": "stdout",
     "output_type": "stream",
     "text": [
      "('a', 'b', 'c', 1, 2, 3)\n"
     ]
    }
   ],
   "source": [
    "tuple1 = (\"a\", \"b\" , \"c\")\n",
    "tuple2 = (1, 2, 3)\n",
    "tuple3 = tuple1 + tuple2\n",
    "print(tuple3)"
   ]
  },
  {
   "cell_type": "markdown",
   "id": "1fba22a5-25c3-4b9a-a550-b1f32b899fe9",
   "metadata": {},
   "source": [
    "* Multiply the tuple by any number"
   ]
  },
  {
   "cell_type": "code",
   "execution_count": 20,
   "id": "06adbbe9-3bcd-4924-998b-bf9d5ce15c93",
   "metadata": {},
   "outputs": [
    {
     "name": "stdout",
     "output_type": "stream",
     "text": [
      "('apple', 'banana', 'cherry', 'apple', 'banana', 'cherry')\n"
     ]
    }
   ],
   "source": [
    "fruits = (\"apple\", \"banana\", \"cherry\")\n",
    "mytuple = fruits * 2\n",
    "print(mytuple)"
   ]
  },
  {
   "cell_type": "markdown",
   "id": "5af638df-7299-46d0-8941-a3c9ee0da18a",
   "metadata": {},
   "source": [
    "### Using Asterisk*\n",
    "If the number of variables is less than the number of values, you can add an * to the variable name and the values will be assigned to the variable as a list."
   ]
  },
  {
   "cell_type": "code",
   "execution_count": 1,
   "id": "dca2fcd3-3a1e-43ef-a6fc-b2fa73156acf",
   "metadata": {},
   "outputs": [
    {
     "name": "stdout",
     "output_type": "stream",
     "text": [
      "apple\n",
      "banana\n",
      "['cherry', 'strawberry', 'raspberry']\n"
     ]
    }
   ],
   "source": [
    "fruits = (\"apple\", \"banana\", \"cherry\", \"strawberry\", \"raspberry\")\n",
    "\n",
    "(green, yellow, *red) = fruits\n",
    "\n",
    "print(green)\n",
    "print(yellow)\n",
    "print(red)"
   ]
  },
  {
   "cell_type": "markdown",
   "id": "4cfaf032-3a9a-4cf1-9f1c-09a23432a3d1",
   "metadata": {},
   "source": [
    "<b>NOTE: </b> Assign the rest of the values as a list in variable who hold asteric sign named \"red\""
   ]
  },
  {
   "cell_type": "markdown",
   "id": "7ee73b0a-c2cb-47c9-99cb-c7076fdecca7",
   "metadata": {},
   "source": [
    "<b>Quiz:</b> some questions about list and tuples."
   ]
  },
  {
   "cell_type": "markdown",
   "id": "2b75c5ec-8f5f-4ae2-b2ac-37a72b69ba16",
   "metadata": {},
   "source": [
    "<b>Quiz: </b> create a list with user define name of 5 fruits."
   ]
  },
  {
   "cell_type": "code",
   "execution_count": null,
   "id": "5712ba85-0605-4846-9f58-53b5363db2ea",
   "metadata": {},
   "outputs": [],
   "source": [
    "f1 = input(\"enter fruit no 1 : \")\n",
    "f2 = input(\"enter fruit no 2 : \")\n",
    "f3 = input(\"enter fruit no 3 : \")\n",
    "f4 = input(\"enter fruit no 4 : \")\n",
    "f5 = input(\"enter fruit no 5 : \")\n",
    "\n",
    "l =[f1, f2, f3, f4, f5]\n",
    "\n",
    "print(\"list of give fruits are : \", l)\n",
    "print(type(l))\n",
    "print(len(l))"
   ]
  },
  {
   "cell_type": "markdown",
   "id": "0c2faa22-7337-4f52-8567-fb537e8b9d7a",
   "metadata": {},
   "source": [
    "<b>Quiz:</b> create a collection of marks of 5 subject in increment order."
   ]
  },
  {
   "cell_type": "code",
   "execution_count": null,
   "id": "45771b8d-b54d-48d9-a572-7d108bfb3340",
   "metadata": {},
   "outputs": [],
   "source": [
    "m1  = int(input(\"enter marks of student no. 1 : \"))\n",
    "m2  = int(input(\"enter marks of student no. 2 : \"))\n",
    "m3  = int(input(\"enter marks of student no. 3 : \"))\n",
    "m4  = int(input(\"enter marks of student no. 4 : \"))\n",
    "m5  = int(input(\"enter marks of student no. 5 : \"))\n",
    "\n",
    "l = [m1, m2, m3, m4, m5]\n",
    "l.sort()\n",
    "print(\"marks of students are in sorted form : \", l)"
   ]
  },
  {
   "cell_type": "markdown",
   "id": "d5bbdf5d-c476-4075-88ad-e2a3d2e4ad1a",
   "metadata": {},
   "source": [
    "<b>Quiz:</b> prove that tuple is immutable?"
   ]
  },
  {
   "cell_type": "markdown",
   "id": "615641a1-4b00-45aa-b9a8-e5a5aecf900a",
   "metadata": {},
   "source": [
    "<pre><b>Explanation:</b> tuple is immutable.\n",
    "<Blockquote>   \n",
    "t = (1, 23, 45, 78, 0)\n",
    "t[1] = 20\n",
    "print(t)\n",
    "</Blockquote>\n",
    "---------------------------------------------------------------------------\n",
    "TypeError                                 Traceback (most recent call last)\n",
    "~\\AppData\\Local\\Temp\\ipykernel_24548\\2602675683.py in <module>\n",
    "      1 # prove that tuple is immutable?\n",
    "      2 t = (1, 23, 45, 78, 0)\n",
    "----> 3 t[1] = 20\n",
    "      4 print(t)\n",
    "\n",
    "TypeError: 'tuple' object does not support item assignment</pre>"
   ]
  },
  {
   "cell_type": "markdown",
   "id": "2fd79618-71f9-4a1a-93cc-5e0320e53d2c",
   "metadata": {},
   "source": [
    "<b>QUIZ:</b> WAP to calculate sum of all element in given list.<br>mylist = [12, 23, 34, 45]"
   ]
  },
  {
   "cell_type": "markdown",
   "id": "8d7ecc20-9eff-4b7f-95a3-804f62423491",
   "metadata": {},
   "source": [
    "* way 1 : sum of element of list without using loop"
   ]
  },
  {
   "cell_type": "code",
   "execution_count": 1,
   "id": "8420cda9-05d7-4f31-81bc-befd421a92f4",
   "metadata": {},
   "outputs": [
    {
     "name": "stdout",
     "output_type": "stream",
     "text": [
      "sum :  114\n"
     ]
    }
   ],
   "source": [
    "mylist = [12, 23, 34, 45]\n",
    "\n",
    "sum = mylist[0] + mylist[1] + mylist[2] + mylist[3]\n",
    "print(\"sum : \",sum)"
   ]
  },
  {
   "cell_type": "markdown",
   "id": "f44b07be-3cbe-40cf-b743-396c50e131c3",
   "metadata": {},
   "source": [
    "*way 2 : sum of element of list without using loop"
   ]
  },
  {
   "cell_type": "code",
   "execution_count": 4,
   "id": "1918f80c-71fe-4400-b2fe-94851a67fc5b",
   "metadata": {},
   "outputs": [
    {
     "name": "stdout",
     "output_type": "stream",
     "text": [
      "sum =  114\n"
     ]
    }
   ],
   "source": [
    "mylist = [12, 23, 34, 45]\n",
    "\n",
    "sum = 0\n",
    "for x in range(0, len(mylist)):\n",
    "    sum = sum + mylist[x]\n",
    "print(\"sum = \",sum)"
   ]
  },
  {
   "cell_type": "markdown",
   "id": "acd043a7-aa63-4af4-9a9b-240e4064823b",
   "metadata": {},
   "source": [
    "<b>QUIZ:</b> WAP to count zeroes in given tuple."
   ]
  },
  {
   "cell_type": "code",
   "execution_count": 7,
   "id": "1fca4af0-ac43-40e4-8cb2-ab67c08db18c",
   "metadata": {},
   "outputs": [
    {
     "name": "stdout",
     "output_type": "stream",
     "text": [
      "total no of zeroes :  4\n"
     ]
    }
   ],
   "source": [
    "t  = ( 0, 21, 1, 0, 4, 6, 23, 0, 0 )\n",
    "print(\"total no of zeroes : \",t.count(0))"
   ]
  },
  {
   "cell_type": "markdown",
   "id": "f53a408d-498c-46ef-beb4-bdcdf809999b",
   "metadata": {},
   "source": [
    "<b>QUIZ: </b> Using the tuple() method to make a tuple."
   ]
  },
  {
   "cell_type": "markdown",
   "id": "99c23b50-4f56-4923-92bd-f26685fb1163",
   "metadata": {},
   "source": [
    "* note the double round-brackets"
   ]
  },
  {
   "cell_type": "code",
   "execution_count": 8,
   "id": "4a78033c-9300-43b7-9eaf-de7d8c2e081b",
   "metadata": {},
   "outputs": [
    {
     "name": "stdout",
     "output_type": "stream",
     "text": [
      "('apple', 'banana', 'cherry')\n"
     ]
    }
   ],
   "source": [
    "thistuple = tuple((\"apple\", \"banana\", \"cherry\"))\n",
    "print(thistuple)"
   ]
  },
  {
   "cell_type": "markdown",
   "id": "fe114572-1bdf-4dc8-bbca-de454b2d3077",
   "metadata": {},
   "source": [
    "<pre><b>ERROR:</b>if you just use tuple() because tuple() with single paranthesis take only one args.\n",
    "\n",
    "thistuple = tuple(\"apple\", \"banana\", \"cherry\")\n",
    "print(thistuple)\n",
    "\n",
    "-------------------------------------------------------------------\n",
    "TypeError                        Traceback (most recent call last)\n",
    "Cell In[9], line 1\n",
    "----> 1 thistuple = tuple(\"apple\", \"banana\", \"cherry\")\n",
    "      2 print(thistuple)\n",
    "\n",
    "TypeError: tuple expected at most 1 argument, got 3"
   ]
  },
  {
   "cell_type": "markdown",
   "id": "26b436e7-a4d1-4a6d-9a73-f5b9e7e9081b",
   "metadata": {},
   "source": [
    "<b>QUIZ: </b> WAP to find out that given item is exist in tuple or not."
   ]
  },
  {
   "cell_type": "code",
   "execution_count": 10,
   "id": "f64ba697-fcf5-4387-9201-4aa3e304fd6e",
   "metadata": {},
   "outputs": [
    {
     "name": "stdout",
     "output_type": "stream",
     "text": [
      "true\n"
     ]
    }
   ],
   "source": [
    "t = (1,2,3,4,56)\n",
    "print(t)\n",
    "x = int() \n",
    "\n",
    "if x in t:\n",
    "    print(\"true\")\n",
    "else:\n",
    "    print(\"false\")"
   ]
  },
  {
   "cell_type": "markdown",
   "id": "84c73416-55f5-431c-8de3-5f67400d1d45",
   "metadata": {},
   "source": [
    "### Dictionary (data type) :\n",
    "its collection of 'key-value' pairs. it is indexed, unordered, mutable(changable), and hold non-duplicate keys. if two keys would be same than key will hold new updated value and if values are same it doesn't matter."
   ]
  },
  {
   "cell_type": "markdown",
   "id": "43691d4d-bc2b-43d6-ae6f-d996e9795fb7",
   "metadata": {},
   "source": [
    "* empty dictionary"
   ]
  },
  {
   "cell_type": "code",
   "execution_count": 2,
   "id": "36d7584f-c24c-4bd9-a100-98f6f87d2117",
   "metadata": {},
   "outputs": [
    {
     "name": "stdout",
     "output_type": "stream",
     "text": [
      "{}\n",
      "<class 'dict'>\n"
     ]
    }
   ],
   "source": [
    "empty_dict = {}\n",
    "print(empty_dict)\n",
    "print(type(empty_dict))"
   ]
  },
  {
   "cell_type": "code",
   "execution_count": 3,
   "id": "576eed65-dfb9-4477-9404-daa7f470c4ba",
   "metadata": {},
   "outputs": [
    {
     "name": "stdout",
     "output_type": "stream",
     "text": [
      "{}\n",
      "<class 'dict'>\n"
     ]
    }
   ],
   "source": [
    "empty_dict = dict()\n",
    "print(empty_dict)\n",
    "print(type(empty_dict))"
   ]
  },
  {
   "cell_type": "markdown",
   "id": "af30891b-986b-4dea-bb5f-f73f6943f01b",
   "metadata": {},
   "source": [
    "* simple dictionary"
   ]
  },
  {
   "cell_type": "code",
   "execution_count": 4,
   "id": "0898e051-9822-49f9-8a05-4cc4c490496b",
   "metadata": {},
   "outputs": [
    {
     "name": "stdout",
     "output_type": "stream",
     "text": [
      "{'a': 1, 'b': 2, 'c': 3}\n",
      "<class 'dict'>\n"
     ]
    }
   ],
   "source": [
    "d = {'a': 1,'b': 2,'c':3,}\n",
    "print(d)\n",
    "print(type(d))"
   ]
  },
  {
   "cell_type": "code",
   "execution_count": 5,
   "id": "debf5d8e-1f32-4232-9fc4-7d944557184f",
   "metadata": {},
   "outputs": [
    {
     "name": "stdout",
     "output_type": "stream",
     "text": [
      "{'x': 1, 'y': True, 'z': 'raj'}\n",
      "<class 'dict'>\n"
     ]
    }
   ],
   "source": [
    "d2 = dict(x = 1, y = True, z = 'raj')\n",
    "print(d2)\n",
    "print(type(d2))"
   ]
  },
  {
   "cell_type": "markdown",
   "id": "ad939fc6-a11f-4b12-ba42-0128115072be",
   "metadata": {},
   "source": [
    "* Let's see a complex dictionary"
   ]
  },
  {
   "cell_type": "code",
   "execution_count": 6,
   "id": "1699e408-3409-40b2-ad0f-0523306fc44c",
   "metadata": {},
   "outputs": [
    {
     "name": "stdout",
     "output_type": "stream",
     "text": [
      "Dictionary is :  {'red': 'one type of color', 'fast': 'in a quick manner', 'harry': 'a programmer', 'l': [1, 2, 3, 4, 5], 't': (10, 20, 30, 40, 50), 'D': {'nu': [11, 12, 13, 14], 'tu': (110, 120, 130, 140), 'di': {'x': [7, 8, 9], 'y': (77, 88, 99), 'd2': {'m': [9, 99, 999], 'n': [8, 88, 888], 'o': (5, 55, 555)}}}}\n",
      "type of Dictionary is :  <class 'dict'>\n",
      "type of 'o' is :  <class 'tuple'>\n",
      "value of 'red' is :  one type of color\n",
      "value of 'fast' is :  in a quick manner\n",
      "value of 'harry' is :  a programmer\n",
      "value of 'l' is :  [1, 2, 3, 4, 5]\n",
      "value of 't' is :  (10, 20, 30, 40, 50)\n",
      "value of 'D' is :  {'nu': [11, 12, 13, 14], 'tu': (110, 120, 130, 140), 'di': {'x': [7, 8, 9], 'y': (77, 88, 99), 'd2': {'m': [9, 99, 999], 'n': [8, 88, 888], 'o': (5, 55, 555)}}}\n",
      "value of 'nu' is :  [11, 12, 13, 14]\n",
      "value of 'di' is :  {'x': [7, 8, 9], 'y': (77, 88, 99), 'd2': {'m': [9, 99, 999], 'n': [8, 88, 888], 'o': (5, 55, 555)}}\n",
      "value of 'x' is :  [7, 8, 9]\n",
      "value of 'd2' is :  {'m': [9, 99, 999], 'n': [8, 88, 888], 'o': (5, 55, 555)}\n",
      "value of 'o' is :  (5, 55, 555)\n",
      "keys :  dict_keys(['red', 'fast', 'harry', 'l', 't', 'D'])\n",
      "type of values :  <class 'dict_values'>\n",
      "values :  dict_values(['one type of color', 'in a quick manner', 'a programmer', [1, 2, 3, 4, 5], (10, 20, 30, 40, 50), {'nu': [11, 12, 13, 14], 'tu': (110, 120, 130, 140), 'di': {'x': [7, 8, 9], 'y': (77, 88, 99), 'd2': {'m': [9, 99, 999], 'n': [8, 88, 888], 'o': (5, 55, 555)}}}])\n",
      "type of keys :  <class 'dict_keys'>\n",
      "item :  dict_items([('red', 'one type of color'), ('fast', 'in a quick manner'), ('harry', 'a programmer'), ('l', [1, 2, 3, 4, 5]), ('t', (10, 20, 30, 40, 50)), ('D', {'nu': [11, 12, 13, 14], 'tu': (110, 120, 130, 140), 'di': {'x': [7, 8, 9], 'y': (77, 88, 99), 'd2': {'m': [9, 99, 999], 'n': [8, 88, 888], 'o': (5, 55, 555)}}})])\n",
      "keys :  ['red', 'fast', 'harry', 'l', 't', 'D']\n",
      "dict_items([('red', 'one type of color'), ('fast', 'in a quick manner'), ('harry', 'a programmer'), ('l', [1, 2, 3, 4, 5]), ('t', (10, 20, 30, 40, 50)), ('D', {'nu': [11, 12, 13, 14], 'tu': (110, 120, 130, 140), 'di': {'x': [7, 8, 9], 'y': (77, 88, 99), 'd2': {'m': [9, 99, 999], 'n': [8, 88, 888], 'o': (5, 55, 555)}, 'hero': 'save the life'}}), ('marks', ['a', 'b', 'c'])])\n"
     ]
    }
   ],
   "source": [
    "myDict = {\n",
    "    \"red\"  : 'one type of color',\n",
    "    \"fast\" : 'in a quick manner',\n",
    "    \"harry\": 'a programmer',\n",
    "    \"l\"    : [1, 2, 3, 4, 5],\n",
    "    \"t\"    : (10, 20, 30, 40, 50),\n",
    "    \"D\"    : {\n",
    "        \"nu\": [11, 12, 13, 14],\n",
    "        \"tu\": (110, 120, 130, 140),\n",
    "        \"di\": {\n",
    "            \"x\" : [7, 8, 9],\n",
    "            \"y\" : (77, 88, 99),\n",
    "            \"d2\":{\"m\": [9, 99, 999],\n",
    "                  \"n\": [8, 88, 888],\n",
    "                  \"o\":(5,55,555),\n",
    "                 }\n",
    "              }\n",
    "    },\n",
    "  }\n",
    "\n",
    "# print dictionary\n",
    "print(\"Dictionary is : \",myDict)\n",
    "\n",
    "# type of element N dictionary\n",
    "print(\"type of Dictionary is : \",type(myDict))\n",
    "print(\"type of 'o' is : \",type(myDict['D']['di']['d2']['o']))\n",
    "\n",
    "\n",
    "# print elements\n",
    "print(\"value of 'red' is : \",myDict['red'])\n",
    "print(\"value of 'fast' is : \",myDict['fast'])\n",
    "print(\"value of 'harry' is : \",myDict['harry'])\n",
    "print(\"value of 'l' is : \",myDict['l'])\n",
    "print(\"value of 't' is : \",myDict['t'])\n",
    "print(\"value of 'D' is : \",myDict['D'])\n",
    "\n",
    "# print inner elements\n",
    "print(\"value of 'nu' is : \",myDict['D']['nu'])\n",
    "print(\"value of 'di' is : \",myDict['D']['di'])\n",
    "\n",
    "# print inner value\n",
    "print(\"value of 'x' is : \",myDict['D']['di']['x'])\n",
    "print(\"value of 'd2' is : \",myDict['D']['di']['d2'])\n",
    "print(\"value of 'o' is : \",myDict['D']['di']['d2']['o'])\n",
    "\n",
    "print(\"keys : \",myDict.keys())\n",
    "print(\"type of values : \",type(myDict.values()))\n",
    "print(\"values : \",myDict.values())\n",
    "print(\"type of keys : \",type(myDict.keys()))\n",
    "\n",
    "# item() if you want to see key-value pair\n",
    "print(\"item : \",myDict.items())\n",
    "\n",
    "# convert key to list of keys:\n",
    "print(\"keys : \",list(myDict.keys()))\n",
    "\n",
    "# add value\n",
    "myDict['marks'] = ['a','b','c']\n",
    "myDict['D']['di']['hero'] = 'save the life'\n",
    "print(myDict.items())"
   ]
  },
  {
   "cell_type": "code",
   "execution_count": 7,
   "id": "7eec74df-4441-4e2d-a13f-d795a91606dd",
   "metadata": {},
   "outputs": [
    {
     "name": "stdout",
     "output_type": "stream",
     "text": [
      "{'a': 'this is a', 'b': 'this is b', 'c': 'this is c'}\n",
      "dict_items([('a', 'this is a'), ('b', 'this is b'), ('c', 'this is c')])\n",
      "dict_keys(['a', 'b', 'c'])\n",
      "dict_values(['this is a', 'this is b', 'this is c'])\n",
      "after update :  {'a': 'this is a', 'b': 'this is b', 'c': 'this is c', 'd': 'this is d'}\n",
      "this is d\n",
      "this is d\n"
     ]
    }
   ],
   "source": [
    "newDict = {\n",
    "    'a': 'this is a',\n",
    "    'b': 'this is b',\n",
    "    'c': 'this is c',\n",
    "}\n",
    "print(newDict)\n",
    "print(newDict.items())\n",
    "print(newDict.keys())\n",
    "print(newDict.values())\n",
    "\n",
    "newDict['d'] = 'this is d'\n",
    "print('after update : ',newDict)\n",
    "\n",
    "print(newDict['d'])\n",
    "print(newDict.get('d'))"
   ]
  },
  {
   "cell_type": "markdown",
   "id": "6c1dda8f-d290-4530-84ed-2d9630296438",
   "metadata": {},
   "source": [
    "<b>Quiz: </b> Difference between \" get() \" and traditional \"[ ]\" method."
   ]
  },
  {
   "cell_type": "markdown",
   "id": "9fb43b2b-61c4-42f8-a877-4df16fca7338",
   "metadata": {},
   "source": [
    "<pre><b>difference:</b> we use get mathod in the place of using [] mathod b'coz if that pair would not exist in our dictionary than get() will return 'none' but [] will throw error\n",
    "<Blockquote>\n",
    "newDict = {\n",
    "    'a': 'this is a',\n",
    "    'b': 'this is b',\n",
    "    'c': 'this is c',\n",
    "}\n",
    "    \n",
    "# when u put right key\n",
    "print(newDict.get(\"c\"))\n",
    "print(newDict[\"c\"])\n",
    "\n",
    "# when u put wrong key\n",
    "print(newDict.get(\"d\")) #output : None\n",
    "print(newDict[\"d\"]) #output : error(keyError)\n",
    "\n",
    "</Blockquote>\n",
    "<b>Output:</b>\n",
    "this is c\n",
    "this is c\n",
    "None\n",
    "---------------------------------------------------------------------------\n",
    "<b>KeyError</b>                Traceback (most recent call last)\n",
    "Cell <b>In[1], line 13</b>\n",
    "     11 # when u put wrong key\n",
    "     12 print(newDict.get(\"d\")) #output : None\n",
    "---> <b>13</b> print(newDict[\"d\"])\n",
    "\n",
    "<b>KeyError:</b> 'd'</pre>"
   ]
  },
  {
   "cell_type": "markdown",
   "id": "f51ae7bc-e5c3-4af5-8c2d-2052c3faffef",
   "metadata": {},
   "source": [
    "* dictionary with if"
   ]
  },
  {
   "cell_type": "code",
   "execution_count": 7,
   "id": "e90e4f76-8f79-4359-af68-cf475cfb6e1c",
   "metadata": {},
   "outputs": [
    {
     "name": "stdout",
     "output_type": "stream",
     "text": [
      "Yes, 'model' is one of the keys in the thisdict dictionary\n"
     ]
    }
   ],
   "source": [
    "thisdict = {\n",
    "  \"brand\": \"Ford\",\n",
    "  \"model\": \"Mustang\",\n",
    "  \"year\": 1964\n",
    "}\n",
    "if \"model\" in thisdict:\n",
    "  print(\"Yes, 'model' is one of the keys in the thisdict dictionary\")"
   ]
  },
  {
   "cell_type": "markdown",
   "id": "6daab787-c5b6-4f3b-945d-5b7dc63baae2",
   "metadata": {},
   "source": [
    "* chane the value in dictionary using \"[ ]\" traditional method"
   ]
  },
  {
   "cell_type": "code",
   "execution_count": 9,
   "id": "00e09cf4-17e5-4d45-91d0-fbd831335c1c",
   "metadata": {},
   "outputs": [
    {
     "name": "stdout",
     "output_type": "stream",
     "text": [
      "{'brand': 'Ford', 'model': 'Mustang', 'year': 1964}\n",
      "{'brand': 'Ford', 'model': 'Mustang', 'year': 2018}\n"
     ]
    }
   ],
   "source": [
    "thisdict = {\n",
    "  \"brand\": \"Ford\",\n",
    "  \"model\": \"Mustang\",\n",
    "  \"year\": 1964\n",
    "}\n",
    "\n",
    "print(thisdict)\n",
    "# Change the value:\n",
    "thisdict[\"year\"] = 2018\n",
    "print(thisdict)"
   ]
  },
  {
   "cell_type": "markdown",
   "id": "b78e48ae-3e55-460b-8f00-ebea2d2e1f63",
   "metadata": {},
   "source": [
    "* chane the value in dictionary using \"update()\" method"
   ]
  },
  {
   "cell_type": "code",
   "execution_count": 10,
   "id": "74713837-8d26-496f-b164-9c92c96fe220",
   "metadata": {},
   "outputs": [
    {
     "name": "stdout",
     "output_type": "stream",
     "text": [
      "{'brand': 'Ford', 'model': 'Mustang', 'year': 1964}\n",
      "{'brand': 'Ford', 'model': 'Mustang', 'year': 2020}\n"
     ]
    }
   ],
   "source": [
    "thisdict = {\n",
    "  \"brand\": \"Ford\",\n",
    "  \"model\": \"Mustang\",\n",
    "  \"year\": 1964\n",
    "}\n",
    "\n",
    "print(thisdict)\n",
    "# update dictionary\n",
    "thisdict.update({'year':2020})\n",
    "print(thisdict)"
   ]
  },
  {
   "cell_type": "markdown",
   "id": "85bd1e98-f302-4f64-88d7-26417cddc2ed",
   "metadata": {},
   "source": [
    "* chane the value in dictionary using \"[ ]\" traditional method"
   ]
  },
  {
   "cell_type": "code",
   "execution_count": 11,
   "id": "582da635-c951-4e29-9216-475fbb3b4f81",
   "metadata": {},
   "outputs": [
    {
     "name": "stdout",
     "output_type": "stream",
     "text": [
      "{'brand': 'Ford', 'model': 'Mustang', 'year': 1964}\n",
      "{'brand': 'Ford', 'model': 'Mustang', 'year': 1964, 'engin': '900CC'}\n"
     ]
    }
   ],
   "source": [
    "# Change the value:\n",
    "thisdict = {\n",
    "  \"brand\": \"Ford\",\n",
    "  \"model\": \"Mustang\",\n",
    "  \"year\": 1964\n",
    "}\n",
    "\n",
    "print(thisdict)\n",
    "# add pair\n",
    "thisdict['engin'] = '900CC'\n",
    "print(thisdict)"
   ]
  },
  {
   "cell_type": "markdown",
   "id": "628893e5-551a-453e-977b-c8e58476015d",
   "metadata": {},
   "source": [
    "* chane the value in dictionary using \"update()\" method"
   ]
  },
  {
   "cell_type": "code",
   "execution_count": 12,
   "id": "a70a698e-2c56-4429-b8e4-33e36a19c12f",
   "metadata": {},
   "outputs": [
    {
     "name": "stdout",
     "output_type": "stream",
     "text": [
      "{'brand': 'Ford', 'model': 'Mustang', 'year': 1964}\n",
      "{'brand': 'Ford', 'model': 'Mustang', 'year': 1964, 'color': 'blue'}\n"
     ]
    }
   ],
   "source": [
    "# Change the value:\n",
    "thisdict = {\n",
    "  \"brand\": \"Ford\",\n",
    "  \"model\": \"Mustang\",\n",
    "  \"year\": 1964\n",
    "}\n",
    "\n",
    "print(thisdict)\n",
    "# add pair\n",
    "thisdict.update({'color': 'blue'})\n",
    "print(thisdict)"
   ]
  },
  {
   "cell_type": "markdown",
   "id": "966a5285-5294-4aea-91bf-c4e804e919bf",
   "metadata": {},
   "source": [
    "<b>Quiz: </b> Difference between \" update() \" and traditional \"[ ]\" method."
   ]
  },
  {
   "cell_type": "markdown",
   "id": "b48b202a-7a4a-47a5-8ca8-b38509477c54",
   "metadata": {},
   "source": [
    "<b>Ans.</b> The main difference between the update() method and the traditional method of adding key-value pairs to a dictionary in Python is that the update() method merges two dictionaries into one, while the traditional method overwrites the existing dictionary with the new key-value pairs. Using update method we can add new pair but with traditional method we can't."
   ]
  },
  {
   "cell_type": "code",
   "execution_count": 18,
   "id": "1384a91f-18f7-4a36-96d9-dc246c0e9814",
   "metadata": {},
   "outputs": [
    {
     "name": "stdout",
     "output_type": "stream",
     "text": [
      "d1 =  {1: 'a', 2: 'b'}\n",
      "d2 =  {3: 'c', 4: 'd'}\n",
      "after update via d1.update(d2) : \n",
      "d1 =  {1: 'a', 2: 'b', 3: 'c', 4: 'd'}\n",
      "d2 =  {3: 'c', 4: 'd'}\n"
     ]
    }
   ],
   "source": [
    "d1 = {1: 'a', 2: 'b'}\n",
    "d2 = {3: 'c', 4: 'd'}\n",
    "\n",
    "print(\"d1 = \",d1)\n",
    "print(\"d2 = \",d2)\n",
    "\n",
    "d1.update(d2)\n",
    "print(\"after update via d1.update(d2) : \")\n",
    "\n",
    "print(\"d1 = \",d1)\n",
    "print(\"d2 = \",d2)"
   ]
  },
  {
   "cell_type": "code",
   "execution_count": 20,
   "id": "cb9860f3-7900-4fb1-b084-78c160ecba06",
   "metadata": {},
   "outputs": [
    {
     "name": "stdout",
     "output_type": "stream",
     "text": [
      "d1 =  {1: 'a', 2: 'b'}\n",
      "d2 =  {3: 'c', 4: 'd'}\n",
      "after update via d2.update(d1) : \n",
      "d1 =  {1: 'a', 2: 'b'}\n",
      "d2 =  {3: 'c', 4: 'd', 1: 'a', 2: 'b'}\n"
     ]
    }
   ],
   "source": [
    "d1 = {1: 'a', 2: 'b'}\n",
    "d2 = {3: 'c', 4: 'd'}\n",
    "\n",
    "print(\"d1 = \",d1)\n",
    "print(\"d2 = \",d2)\n",
    "d2.update(d1)\n",
    "print(\"after update via d2.update(d1) : \")\n",
    "\n",
    "print(\"d1 = \",d1)\n",
    "print(\"d2 = \",d2)"
   ]
  },
  {
   "cell_type": "markdown",
   "id": "85624203-dfd7-4e1a-8083-ea148eb0ece9",
   "metadata": {},
   "source": [
    "* update method can also update more than one pairs with creating dict objects"
   ]
  },
  {
   "cell_type": "code",
   "execution_count": 24,
   "id": "80e87483-b4c7-4da3-943b-f9101c6badee",
   "metadata": {},
   "outputs": [
    {
     "name": "stdout",
     "output_type": "stream",
     "text": [
      "d1 =  {1: 'a', 2: 'b'}\n",
      "d1 =  {1: 'a', 2: 'b', 'a': 1, 'b': 2}\n"
     ]
    }
   ],
   "source": [
    "d1 = {1: 'a', 2: 'b'}\n",
    "\n",
    "print(\"d1 = \",d1)\n",
    "d1.update([('a', 1), ('b', 2)])\n",
    "print(\"d1 = \",d1)"
   ]
  },
  {
   "cell_type": "code",
   "execution_count": 22,
   "id": "260c3880-7247-4c8d-811b-dd547f976c25",
   "metadata": {},
   "outputs": [
    {
     "name": "stdout",
     "output_type": "stream",
     "text": [
      "d1 =  {1: 'a', 2: 'b'}\n",
      "d2 =  {3: 'c', 4: 'd'}\n",
      "after change value:\n",
      "d1 =  {1: 'x', 2: 'b'}\n",
      "d2 =  {3: 'p', 4: 'd'}\n"
     ]
    }
   ],
   "source": [
    "d1 = {1: 'a', 2: 'b'}\n",
    "d2 = {3: 'c', 4: 'd'}\n",
    "\n",
    "print(\"d1 = \",d1)\n",
    "print(\"d2 = \",d2)\n",
    "\n",
    "d1[1] = 'x'\n",
    "d2[3] = 'p'\n",
    "\n",
    "print(\"after change value:\")\n",
    "\n",
    "print(\"d1 = \",d1)\n",
    "print(\"d2 = \",d2)"
   ]
  },
  {
   "cell_type": "markdown",
   "id": "812a202c-a81f-4e27-8ec8-194b0abd0430",
   "metadata": {},
   "source": [
    "* delete pair in dictionary"
   ]
  },
  {
   "cell_type": "code",
   "execution_count": 15,
   "id": "0f0acc08-4543-4706-957c-5c35a57742a4",
   "metadata": {},
   "outputs": [
    {
     "name": "stdout",
     "output_type": "stream",
     "text": [
      "{'brand': 'Ford', 'model': 'Mustang', 'year': 1964, 'engin': '900CC'}\n",
      "{'brand': 'Ford', 'model': 'Mustang', 'year': 1964}\n"
     ]
    }
   ],
   "source": [
    "thisdict = {\n",
    "  \"brand\": \"Ford\",\n",
    "  \"model\": \"Mustang\",\n",
    "  \"year\": 1964,\n",
    "  'engin': '900CC'\n",
    "}\n",
    "\n",
    "print(thisdict)\n",
    "# delete pair\n",
    "del thisdict['engin']\n",
    "print(thisdict)"
   ]
  },
  {
   "cell_type": "markdown",
   "id": "4bbd1a18-1644-409d-927d-7776152cf489",
   "metadata": {},
   "source": [
    "* <b>loops in dictionary</b>"
   ]
  },
  {
   "cell_type": "markdown",
   "id": "0e053de2-696b-44c2-b40c-2b0d72e4bbe8",
   "metadata": {},
   "source": [
    "* print all key names"
   ]
  },
  {
   "cell_type": "code",
   "execution_count": 4,
   "id": "49403567-3ae6-410c-b5a5-5e9a2302d846",
   "metadata": {},
   "outputs": [
    {
     "name": "stdout",
     "output_type": "stream",
     "text": [
      "brand\n",
      "model\n",
      "year\n"
     ]
    }
   ],
   "source": [
    "thisdict = {\n",
    "  \"brand\": \"Ford\",\n",
    "  \"model\": \"Mustang\",\n",
    "  \"year\": 1964\n",
    " }\n",
    "\n",
    "# print all key names\n",
    "for x in thisdict:\n",
    "    print(x)"
   ]
  },
  {
   "cell_type": "markdown",
   "id": "c5316fc4-ad8c-4c3a-a99a-2e68edadfee2",
   "metadata": {},
   "source": [
    "* print all keys"
   ]
  },
  {
   "cell_type": "code",
   "execution_count": 5,
   "id": "542e94a1-5756-4d96-8663-9d3630db158e",
   "metadata": {},
   "outputs": [
    {
     "name": "stdout",
     "output_type": "stream",
     "text": [
      "brand\n",
      "model\n",
      "year\n"
     ]
    }
   ],
   "source": [
    "thisdict = {\n",
    "  \"brand\": \"Ford\",\n",
    "  \"model\": \"Mustang\",\n",
    "  \"year\": 1964\n",
    " }\n",
    "    \n",
    "# print all keys\n",
    "for x in thisdict.keys():\n",
    "    print(x)"
   ]
  },
  {
   "cell_type": "markdown",
   "id": "0a235c5d-83c5-4b55-9cde-856fdce937d3",
   "metadata": {},
   "source": [
    "* print all values"
   ]
  },
  {
   "cell_type": "code",
   "execution_count": null,
   "id": "008ca05d-927e-44c6-b41f-6a8cd24fd82a",
   "metadata": {},
   "outputs": [],
   "source": [
    "thisdict = {\n",
    "  \"brand\": \"Ford\",\n",
    "  \"model\": \"Mustang\",\n",
    "  \"year\": 1964\n",
    " }\n",
    "\n",
    "# print all values\n",
    "for x in thisdict:\n",
    "    print(thisdict[x])"
   ]
  },
  {
   "cell_type": "markdown",
   "id": "1a2a20e0-4d11-4ee8-ae81-28a6b27c1aaa",
   "metadata": {},
   "source": [
    "* print all values"
   ]
  },
  {
   "cell_type": "code",
   "execution_count": 6,
   "id": "680a924e-0581-474d-92ef-b138ea64b565",
   "metadata": {},
   "outputs": [
    {
     "name": "stdout",
     "output_type": "stream",
     "text": [
      "Ford\n",
      "Mustang\n",
      "1964\n"
     ]
    }
   ],
   "source": [
    "thisdict = {\n",
    "  \"brand\": \"Ford\",\n",
    "  \"model\": \"Mustang\",\n",
    "  \"year\": 1964\n",
    " }\n",
    "    \n",
    "# print all values\n",
    "for x in thisdict.values():\n",
    "    print(x)"
   ]
  },
  {
   "cell_type": "markdown",
   "id": "1f26d57a-002a-444b-90d0-c5c03336f680",
   "metadata": {},
   "source": [
    "* print pairs of dict"
   ]
  },
  {
   "cell_type": "code",
   "execution_count": null,
   "id": "ed1c5339-6890-4e61-87fd-ca1fcc7a1c21",
   "metadata": {},
   "outputs": [],
   "source": [
    "thisdict = {\n",
    "  \"brand\": \"Ford\",\n",
    "  \"model\": \"Mustang\",\n",
    "  \"year\": 1964\n",
    " }\n",
    "   \n",
    "# print pairs of dict\n",
    "for x,y in thisdict.items():\n",
    "    print(x,y)"
   ]
  },
  {
   "cell_type": "markdown",
   "id": "ace8d04f-4211-484e-9afe-d5f8363fa155",
   "metadata": {},
   "source": [
    "* print pairs of dict in better way"
   ]
  },
  {
   "cell_type": "code",
   "execution_count": 7,
   "id": "c42afd42-2510-4839-853d-b503a860173a",
   "metadata": {},
   "outputs": [
    {
     "name": "stdout",
     "output_type": "stream",
     "text": [
      "brand  :  Ford\n",
      "model  :  Mustang\n",
      "year  :  1964\n"
     ]
    }
   ],
   "source": [
    "thisdict = {\n",
    "  \"brand\": \"Ford\",\n",
    "  \"model\": \"Mustang\",\n",
    "  \"year\": 1964\n",
    " }\n",
    "\n",
    "# print pairs of dict in better way\n",
    "for x,y in thisdict.items():\n",
    "    print(x,\" : \",y)"
   ]
  },
  {
   "cell_type": "markdown",
   "id": "2e43a17f-c912-40a1-aad5-dbc8e2cc4dcc",
   "metadata": {},
   "source": [
    "* <b>copy the dictionary from one to another object</b>"
   ]
  },
  {
   "cell_type": "markdown",
   "id": "6e5f878f-01fc-466e-8053-060416426b94",
   "metadata": {},
   "source": [
    "* using tradional method"
   ]
  },
  {
   "cell_type": "code",
   "execution_count": 9,
   "id": "00be1dbe-0b68-45d5-8346-81dd80bcde00",
   "metadata": {},
   "outputs": [
    {
     "name": "stdout",
     "output_type": "stream",
     "text": [
      "{'brand': 'Ford', 'model': 'Mustang', 'year': 1964}\n"
     ]
    }
   ],
   "source": [
    "thisdict = {\n",
    "  \"brand\": \"Ford\",\n",
    "  \"model\": \"Mustang\",\n",
    "  \"year\": 1964\n",
    " }\n",
    "\n",
    "# make a copy of dict using dict()\n",
    "mydict = dict(thisdict)\n",
    "print(mydict)"
   ]
  },
  {
   "cell_type": "markdown",
   "id": "d9aebd63-48d6-4ddc-896f-012594f905a9",
   "metadata": {},
   "source": [
    "* using copy method"
   ]
  },
  {
   "cell_type": "code",
   "execution_count": 8,
   "id": "508dcb59-4d9a-45be-8a79-002f9e9c1452",
   "metadata": {},
   "outputs": [
    {
     "name": "stdout",
     "output_type": "stream",
     "text": [
      "{'brand': 'Ford', 'model': 'Mustang', 'year': 1964}\n"
     ]
    }
   ],
   "source": [
    "thisdict = {\n",
    "  \"brand\": \"Ford\",\n",
    "  \"model\": \"Mustang\",\n",
    "  \"year\": 1964\n",
    " }\n",
    "\n",
    "# make a copy of dict using co[y]\n",
    "mydict = thisdict.copy()\n",
    "print(mydict)"
   ]
  },
  {
   "cell_type": "markdown",
   "id": "d31213af-589d-47ba-b85d-6c5c85cae4d8",
   "metadata": {},
   "source": [
    "* nexted dictionary"
   ]
  },
  {
   "cell_type": "code",
   "execution_count": 10,
   "id": "7ba72061-d38d-4df6-952f-404475b7be6a",
   "metadata": {},
   "outputs": [
    {
     "name": "stdout",
     "output_type": "stream",
     "text": [
      "Tobias\n"
     ]
    }
   ],
   "source": [
    "child1 = {\n",
    "  \"name\" : \"Emil\",\n",
    "  \"year\" : 2004\n",
    "}\n",
    "child2 = {\n",
    "  \"name\" : \"Tobias\",\n",
    "  \"year\" : 2007\n",
    "}\n",
    "child3 = {\n",
    "  \"name\" : \"Linus\",\n",
    "  \"year\" : 2011\n",
    "}\n",
    "\n",
    "myfamily = {\n",
    "  \"child1\" : child1,\n",
    "  \"child2\" : child2,\n",
    "  \"child3\" : child3\n",
    "}\n",
    "\n",
    "print(myfamily[\"child2\"][\"name\"])"
   ]
  },
  {
   "cell_type": "markdown",
   "id": "6db19ecb-f40a-4db8-ac43-ba7c615e8212",
   "metadata": {},
   "source": [
    "<b>NOTE : </b> Python has a set of built-in methods that you can use on dictionaries.\n",
    "\n",
    "<table>\n",
    "<tbody>\n",
    "    <tr>\n",
    "        <th>Method</th>\n",
    "        <th>Description</th>\n",
    "    </tr>\n",
    "    <tr>\n",
    "        <td>clear()</td>\n",
    "        <td>Removes all the elements from the dictionary</td>\n",
    "    </tr>\n",
    "    <tr>\n",
    "        <td>copy()</td>\n",
    "        <td>Returns a copy of the dictionary</td>\n",
    "    </tr>\n",
    "    <tr>\n",
    "        <td>fromkeys()</td>\n",
    "        <td>Returns a dictionary with the specified keys and value</td>\n",
    "    </tr>\n",
    "    <tr>\n",
    "        <td>get()</td>\n",
    "        <td>Returns the value of the specified key</td>\n",
    "    </tr>\n",
    "    <tr>\n",
    "        <td>items()</td>\n",
    "        <td>Returns a list containing a tuple for each key value pair</td>\n",
    "    </tr>\n",
    "    <tr>\n",
    "        <td>keys()</td>\n",
    "        <td>Returns a list containing the dictionary's keys</td>\n",
    "    </tr>\n",
    "    <tr>\n",
    "        <td>pop()\n",
    "        </td><td>Removes the element with the specified key</td>\n",
    "    </tr>\n",
    "    <tr>\n",
    "        <td>popitem()</td>\n",
    "        <td>Removes the last inserted key-value pair</td>\n",
    "    </tr>\n",
    "    <tr>\n",
    "        <td>setdefault()</td>\n",
    "        <td> Returns the value of the specified key. If the key does not exist insert the key, with the specified value</td>\n",
    "    </tr>\n",
    "    <tr>\n",
    "        <td>update()</td>\n",
    "        <td>Updates the dictionary with the specified key-value pairs</td>\n",
    "    </tr>\n",
    "    <tr>\n",
    "        <td>values()</td>\n",
    "        <td>Returns a list of all the values in the dictionary</td>\n",
    "    </tr>\n",
    "</tbody>\n",
    "</table>"
   ]
  },
  {
   "cell_type": "markdown",
   "id": "ca3e7f64-6975-420a-a92c-85fcc5b757f8",
   "metadata": {},
   "source": [
    "### Set (data type) : \n",
    "it is non-pair, immutable/non-changable, non.indexed, unordered and not hold duplicate values. you can't change value but u can add or delete values."
   ]
  },
  {
   "cell_type": "markdown",
   "id": "b16ee88d-82b0-4aac-a7b2-ae7f06f54242",
   "metadata": {},
   "source": [
    "* empty set"
   ]
  },
  {
   "cell_type": "code",
   "execution_count": 11,
   "id": "2d2a9883-249d-4e77-bf0f-e96e86aca9ae",
   "metadata": {},
   "outputs": [
    {
     "name": "stdout",
     "output_type": "stream",
     "text": [
      "set()\n",
      "<class 'set'>\n"
     ]
    }
   ],
   "source": [
    "g = set()\n",
    "print(g)\n",
    "print(type(g))"
   ]
  },
  {
   "cell_type": "markdown",
   "id": "d1723b1d-3801-4392-909d-be4e6f5b3d18",
   "metadata": {},
   "source": [
    "* add elements in empty set"
   ]
  },
  {
   "cell_type": "code",
   "execution_count": 12,
   "id": "740cdc5e-7e69-4aab-b9c1-13e5d0a91b8e",
   "metadata": {},
   "outputs": [
    {
     "name": "stdout",
     "output_type": "stream",
     "text": [
      "set()\n",
      "{10, 20, 30}\n"
     ]
    }
   ],
   "source": [
    "g = set()\n",
    "print(g)\n",
    "\n",
    "g.add(10)\n",
    "g.add(20)\n",
    "g.add(30)\n",
    "print(g)"
   ]
  },
  {
   "cell_type": "code",
   "execution_count": 13,
   "id": "e0f19a2d-0f6d-4d24-8ae1-6f1b73ff883a",
   "metadata": {},
   "outputs": [
    {
     "name": "stdout",
     "output_type": "stream",
     "text": [
      "s :  {10, 20, 30}\n",
      "<class 'set'>\n",
      "s :  {40, 10, 20, 30}\n",
      "4\n"
     ]
    }
   ],
   "source": [
    "s = {10, 20, 30}\n",
    "print(\"s : \",s)\n",
    "print(type(s))\n",
    "s.add(40)\n",
    "print(\"s : \",s)\n",
    "print(len(s))"
   ]
  },
  {
   "cell_type": "markdown",
   "id": "377f7a36-bca9-4216-85a2-79dd0ce88cdb",
   "metadata": {},
   "source": [
    "<pre>\n",
    "<b>NOTE :</b> you can't add mutable item in set data type.\n",
    "<Blockquote>\n",
    "a = {11, 21, 31, 42, 51, True, 12.5, 3+9j}\n",
    "print(a)\n",
    "a.add(['a','b'])\n",
    "print(a)\n",
    "\n",
    "<b>Output:</b>\n",
    "{True, 42, 11, 12.5, 51, 21, (3+9j), 31}\n",
    "----------------------------------------------------------------\n",
    "<b>TypeError</b>               Traceback (most recent call last)\n",
    "Cell In[15], line 3\n",
    "      1 a = {11, 21, 31, 42, 51, True, 12.5, 3+9j}\n",
    "      2 print(a)\n",
    "----> <b>3</b> a.add(['a','b'])\n",
    "      4 print(a)\n",
    "\n",
    "<b>TypeError: </b> unhashable type: 'list'\n",
    "</Blockquote>\n",
    "</pre>"
   ]
  },
  {
   "cell_type": "markdown",
   "id": "e05a70db-6273-41ed-92e5-f03067f22394",
   "metadata": {},
   "source": [
    "* delete elements using remove method"
   ]
  },
  {
   "cell_type": "code",
   "execution_count": null,
   "id": "1da638cc-b3a9-49c8-bcd8-5f45cdd3a130",
   "metadata": {},
   "outputs": [],
   "source": [
    "a = {11, 21, 31, 42, 51, True, 12.5, 3+9j}\n",
    "print(a)\n",
    "a.remove(21)   \n",
    "print(\"remove 21 :\",a)\n",
    "a.pop()  # remove random item\n",
    "print(a)"
   ]
  },
  {
   "cell_type": "markdown",
   "id": "48b9a426-524e-40ab-829a-4576fc789975",
   "metadata": {},
   "source": [
    "* delete elements using pop method"
   ]
  },
  {
   "cell_type": "code",
   "execution_count": 16,
   "id": "3ec3566b-c20e-4a2b-b7e1-f1a4c2b37841",
   "metadata": {},
   "outputs": [
    {
     "name": "stdout",
     "output_type": "stream",
     "text": [
      "{True, 42, 11, 12.5, 51, 21, (3+9j), 31}\n",
      "{42, 11, 12.5, 51, 21, (3+9j), 31}\n"
     ]
    }
   ],
   "source": [
    "a = {11, 21, 31, 42, 51, True, 12.5, 3+9j}\n",
    "print(a)\n",
    "a.pop()  # remove random item\n",
    "print(a)"
   ]
  },
  {
   "cell_type": "code",
   "execution_count": 17,
   "id": "e3374ad6-14ba-4ad9-87eb-59bc58ccbaac",
   "metadata": {},
   "outputs": [
    {
     "name": "stdout",
     "output_type": "stream",
     "text": [
      "{10, 35, 20, 30}\n",
      "<class 'set'>\n"
     ]
    }
   ],
   "source": [
    "b = set()\n",
    "b.add(10)\n",
    "b.add(20)\n",
    "b.add(30)\n",
    "b.add(35)\n",
    "print(b)\n",
    "print(type(b))"
   ]
  },
  {
   "cell_type": "markdown",
   "id": "c334b04b-e5ae-4a70-9e97-1b2ad96c4bac",
   "metadata": {},
   "source": [
    "* <b>set in basic math</b>"
   ]
  },
  {
   "cell_type": "markdown",
   "id": "474d1a22-90d8-462e-9b4d-1af2dd3c5944",
   "metadata": {},
   "source": [
    "<b>1. union : </b>"
   ]
  },
  {
   "cell_type": "code",
   "execution_count": 20,
   "id": "b9758e65-1cac-4c26-a0af-f009f2e1a768",
   "metadata": {},
   "outputs": [
    {
     "name": "stdout",
     "output_type": "stream",
     "text": [
      "s1 =  {1, 2, 3, 4, 5, 7, 9, 11}\n",
      "s2 =  {1, 2, 3, 4, 5, 6, 8, 10}\n",
      "union of 's1' and 's2' is : {1, 2, 3, 4, 5, 6, 7, 8, 9, 10, 11}\n"
     ]
    }
   ],
   "source": [
    "# union\n",
    "s1 = {1, 2, 3, 4, 5, 7, 9, 11}\n",
    "s2 = {1, 2, 4, 6, 8, 10, 3, 5}\n",
    "\n",
    "x = s1.union(s2)\n",
    "\n",
    "print('s1 = ',s1)\n",
    "print('s2 = ',s2)\n",
    "\n",
    "print(\"union of 's1' and 's2' is :\",x)"
   ]
  },
  {
   "cell_type": "markdown",
   "id": "817125de-2e25-4909-874e-f8fd42d80d2f",
   "metadata": {},
   "source": [
    "<b>2. intersectoin : </b>"
   ]
  },
  {
   "cell_type": "code",
   "execution_count": 19,
   "id": "eb9bba54-e9b9-4498-8d89-d8c669366d98",
   "metadata": {},
   "outputs": [
    {
     "name": "stdout",
     "output_type": "stream",
     "text": [
      "s1 =  {1, 2, 3, 4, 5, 7, 9, 11}\n",
      "s2 =  {1, 2, 3, 4, 5, 6, 8, 10}\n",
      "intersection of 's1' and 's2' is : {1, 2, 3, 4, 5}\n"
     ]
    }
   ],
   "source": [
    "# intersection\n",
    "s1 = {1, 2, 3, 4, 5, 7, 9, 11}\n",
    "s2 = {1, 2, 4, 6, 8, 10, 3, 5}\n",
    "\n",
    "y = s1.intersection(s2)\n",
    "\n",
    "print('s1 = ',s1)\n",
    "print('s2 = ',s2)\n",
    "\n",
    "print(\"intersection of 's1' and 's2' is :\",y)"
   ]
  },
  {
   "cell_type": "markdown",
   "id": "92bc811f-bc4d-417d-a879-8e1695e88b5a",
   "metadata": {},
   "source": [
    "<b>3. symmetric_difference_update :</b>"
   ]
  },
  {
   "cell_type": "code",
   "execution_count": 21,
   "id": "cd4abcd2-1da2-4de7-be35-e2382785e41c",
   "metadata": {},
   "outputs": [
    {
     "name": "stdout",
     "output_type": "stream",
     "text": [
      "s1 =  {6, 7, 8, 9, 10, 11}\n",
      "s2 =  {1, 2, 3, 4, 5, 6, 8, 10}\n",
      "all element who are not in both set s1 and s2 :  None\n"
     ]
    }
   ],
   "source": [
    "# union and intersection\n",
    "s1 = {1, 2, 3, 4, 5, 7, 9, 11}\n",
    "s2 = {1, 2, 4, 6, 8, 10, 3, 5}\n",
    "\n",
    "z = s1.symmetric_difference_update(s2)\n",
    "\n",
    "print('s1 = ',s1)\n",
    "print('s2 = ',s2)\n",
    "\n",
    "print(\"all element who are not in both set s1 and s2 : \",z)"
   ]
  },
  {
   "cell_type": "markdown",
   "id": "fbbfb81d-6108-49d7-aa9d-d95a1a95c2b7",
   "metadata": {},
   "source": [
    "* print more than one set in single time"
   ]
  },
  {
   "cell_type": "code",
   "execution_count": 22,
   "id": "e08f6be4-d783-4e26-a9bc-31d48ec64fd9",
   "metadata": {},
   "outputs": [
    {
     "name": "stdout",
     "output_type": "stream",
     "text": [
      "set() {True, 2.5, 'a', 12} {False, 13, 'char', 12.65}\n"
     ]
    }
   ],
   "source": [
    "s1 = set()\n",
    "s2 = {'a', True, 2.5, 12}\n",
    "s3 = set(('char', False, 12.65, 13))\n",
    "print(s1,s2,s3)"
   ]
  },
  {
   "cell_type": "markdown",
   "id": "f186c2fd-a403-42e9-b611-0618682de549",
   "metadata": {},
   "source": [
    "* <b>set with loops</b>"
   ]
  },
  {
   "cell_type": "markdown",
   "id": "cd0fcb44-a6f1-4674-a1ee-e31f545a32cc",
   "metadata": {},
   "source": [
    "* for in sets"
   ]
  },
  {
   "cell_type": "code",
   "execution_count": 3,
   "id": "3a2981fb-141a-40b3-901a-a5f23a62f5fa",
   "metadata": {},
   "outputs": [
    {
     "name": "stdout",
     "output_type": "stream",
     "text": [
      "gita\n",
      "sita\n",
      "raj\n",
      "mohan\n"
     ]
    }
   ],
   "source": [
    "myset = {'raj', 'mohan', 'sita', 'gita'}\n",
    "for x in myset:\n",
    "    print(x)"
   ]
  },
  {
   "cell_type": "markdown",
   "id": "f0a85c9e-48bb-435b-9c58-4cffc32933e2",
   "metadata": {},
   "source": [
    "* check value present or not"
   ]
  },
  {
   "cell_type": "code",
   "execution_count": 4,
   "id": "4f884820-9433-42f4-9e4d-6f8e482a0401",
   "metadata": {},
   "outputs": [
    {
     "name": "stdout",
     "output_type": "stream",
     "text": [
      "True\n"
     ]
    }
   ],
   "source": [
    "print('raj' in myset)"
   ]
  },
  {
   "cell_type": "markdown",
   "id": "eb6f1f30-bdc5-4563-91ff-ae04ef472822",
   "metadata": {},
   "source": [
    "* update function in set"
   ]
  },
  {
   "cell_type": "code",
   "execution_count": 5,
   "id": "baedabbd-6d5b-4815-9170-92accd671bc7",
   "metadata": {},
   "outputs": [
    {
     "name": "stdout",
     "output_type": "stream",
     "text": [
      "{'c', 1, 'b', 2, 3, 'a'}\n",
      "{1, 2, 3, 'c', 'b', 'a'}\n"
     ]
    }
   ],
   "source": [
    "a1 = {'a', 'b', 'c'}\n",
    "a2 = {1, 2, 3}\n",
    "a1.update(a2)\n",
    "print(a1)\n",
    "a2.update(a1)\n",
    "print(a2)"
   ]
  },
  {
   "cell_type": "markdown",
   "id": "6f2ec32c-11ed-4619-b149-ba2991992700",
   "metadata": {},
   "source": [
    "* remove function "
   ]
  },
  {
   "cell_type": "code",
   "execution_count": 8,
   "id": "953af86e-167d-4781-9a18-fb1439baa4af",
   "metadata": {},
   "outputs": [
    {
     "name": "stdout",
     "output_type": "stream",
     "text": [
      "set :  {'d', 12, 45, 'a', 's'}\n",
      "after removing 12 :  {'d', 45, 'a', 's'}\n"
     ]
    }
   ],
   "source": [
    "o = {'a', 12, 'd', 45, 's'}\n",
    "\n",
    "print(\"set : \",o)\n",
    "o.remove(12)\n",
    "print('after removing 12 : ',o)"
   ]
  },
  {
   "cell_type": "markdown",
   "id": "c57f17a9-38a0-4b58-ab62-76120d6923ea",
   "metadata": {},
   "source": [
    "* discard function "
   ]
  },
  {
   "cell_type": "code",
   "execution_count": 9,
   "id": "60f332d1-f533-421a-a0b2-4b74027df07a",
   "metadata": {},
   "outputs": [
    {
     "name": "stdout",
     "output_type": "stream",
     "text": [
      "set :  {'d', 12, 45, 'a', 's'}\n",
      "after discarding \"a\" :  {'d', 12, 45, 's'}\n"
     ]
    }
   ],
   "source": [
    "o = {'a', 12, 'd', 45, 's'}\n",
    "\n",
    "print(\"set : \",o)\n",
    "o.discard('a')\n",
    "print('after discarding \"a\" : ',o)"
   ]
  },
  {
   "cell_type": "markdown",
   "id": "1d853e2b-f1d4-4484-abac-d45ef970b18f",
   "metadata": {},
   "source": [
    "* delete function "
   ]
  },
  {
   "cell_type": "markdown",
   "id": "02fad400-9846-4790-bc5a-ccf3a5390ddf",
   "metadata": {},
   "source": [
    "<b>del method in set : </b> The <b>del</b> keyword in Python can be used to delete an object. In Python, everything is an object, so the del keyword can also be used to delete variables, lists, or parts of a list, etc.\n",
    "\r\n",
    "One way to use the del keyword is to delete an element from a set. To do this, you can pass the element you want to delete to the del keyword. For example, the following code will delete the element 1 from the set my_set:"
   ]
  },
  {
   "cell_type": "code",
   "execution_count": 3,
   "id": "934e0971-cb2f-45a6-b3d8-aa68ab3956d3",
   "metadata": {},
   "outputs": [
    {
     "name": "stdout",
     "output_type": "stream",
     "text": [
      "{1, 3, 5, 7, 9}\n"
     ]
    }
   ],
   "source": [
    "x = {1, 3, 5, 7, 9}\n",
    "print(x)\n",
    "del x"
   ]
  },
  {
   "cell_type": "markdown",
   "id": "a9dfd11c-1a6d-482e-b986-d3f71fb26fbd",
   "metadata": {},
   "source": [
    "<pre><b>NOTE: </b> after deleting the set.<br>\n",
    "<Blockquote>\n",
    "x = {1, 3, 5, 7, 9}\n",
    "print(x)\n",
    "del x\n",
    "print(x)\n",
    "\n",
    "-----------------------------------------------------------------\n",
    "<b>NameError</b>                Traceback (most recent call last)\n",
    "Cell <b>In[11], line 4</b>\n",
    "      2 print(x)\n",
    "      3 del x\n",
    "----> <b>4</b> print(x)\n",
    "\n",
    "<b>NameError</b>: name 'x' is not defined</Blockquote></pre>"
   ]
  },
  {
   "cell_type": "markdown",
   "id": "a3ef3ab4-02aa-41c9-ab62-5557b1b3e5e8",
   "metadata": {},
   "source": [
    "<b>Quiz : </b> Difference between discard and remove function?\n",
    "\n",
    "<b>Ans.: </b>There are two methods to remove an item from a set in Python:<br>\n",
    "<b>discard() method: </b>The discard() method removes the specified item from the set if it is present. It does not raise an error if the item is not present in the set.<br>\n",
    "<b>remove() method: </b> The remove() method removes the specified item from the set if it is present. It raises an error if the item is not present in the set.t?"
   ]
  },
  {
   "cell_type": "markdown",
   "id": "a0365bf5-f8a4-45a0-9c47-880721d94b74",
   "metadata": {},
   "source": [
    "Let's see is by code"
   ]
  },
  {
   "cell_type": "markdown",
   "id": "2bc82df7-f9a5-4892-b218-b9c6adca1b4d",
   "metadata": {},
   "source": [
    "<pre>\n",
    "<b>code with discard():</b>\n",
    "<Blockquote>\n",
    "my_set = {1, 2, 3, 4, 5}\n",
    "my_set.discard(6)\n",
    "print(my_set)\n",
    "</Blockquote>\n",
    "<b>Output:</b>\n",
    "{1, 2, 3, 4, 5}</pre>"
   ]
  },
  {
   "cell_type": "markdown",
   "id": "5163f732-678d-4037-acb3-350f7551ff2a",
   "metadata": {},
   "source": [
    "<pre><b>code with remove:</b>\n",
    "<Blockquote>\n",
    "{1, 2, 3, 4, 5}\n",
    "my_set.remove(6)\n",
    "print(my_set)\n",
    "</Blockquote>\n",
    "<b>Output:</b>\n",
    "--------------------------------------------------------------\n",
    "<b>KeyError</b>              Traceback (most recent call last)\n",
    "Cell <b>In[2], line 2</b>\n",
    "      1 {1, 2, 3, 4, 5}\n",
    "----> <b>2</b> my_set.remove(6)\n",
    "      3 print(my_set)\n",
    "\n",
    "<b>KeyError</b>: 6   </pre>"
   ]
  },
  {
   "cell_type": "markdown",
   "id": "61762d9d-f080-4f5a-9d69-4cc02909d068",
   "metadata": {},
   "source": [
    "<b>NOTE:</b>As you can see, the discard() method did not raise an error when the item 6 was not present in the set, while the remove() method did."
   ]
  },
  {
   "cell_type": "markdown",
   "id": "261649db-de55-4bf1-9ef4-b8658845fe08",
   "metadata": {},
   "source": [
    "Which method you should use depends on your needs. If you are sure that the item you want to remove is present in the set, then you can use the remove() method. However, if you are not sure, then you should use the discard() method to avoid raising an error.\n",
    "How do you delete items from a se</pre>t?"
   ]
  },
  {
   "cell_type": "markdown",
   "id": "e488e6d4-cfb9-4405-9cea-a017cb2d4b34",
   "metadata": {},
   "source": [
    "<b>NOTE : </b>Python has a set of built-in methods that you can use on sets.<br>"
   ]
  },
  {
   "cell_type": "markdown",
   "id": "dee21fb0-38bf-4524-8934-8ff6ccf445ca",
   "metadata": {},
   "source": [
    "<table>\n",
    "<tbody>\n",
    "    <tr>\n",
    "        <th>Method</th>\n",
    "        <th>Description</th>\n",
    "    </tr>\n",
    "    <tr>\n",
    "        <td>add()</td>\n",
    "        <td>Adds an element to the set</td>\n",
    "    </tr>\n",
    "    <tr>\n",
    "        <td>clear()</td>\n",
    "        <td>Removes all the elements from the set</td>\n",
    "    </tr>\n",
    "    <tr>\n",
    "        <td>copy()</td>\n",
    "        <td>Returns a copy of the set</td>\n",
    "    </tr>\n",
    "    <tr>\n",
    "        <td>difference()</td>\n",
    "        <td>Returns a set containing the difference between two or more sets</td>\n",
    "    </tr>\n",
    "    <tr>\n",
    "        <td>difference_update()</td>\n",
    "        <td>Removes the items in this set that are also included in another, specified set</td>\n",
    "    </tr>\n",
    "    <tr>\n",
    "        <td>discard()</td>\n",
    "        <td>Remove the specified item</td>\n",
    "    </tr>\n",
    "    <tr>\n",
    "        <td>intersection()</td>\n",
    "        <td>Returns a set, that is the intersection of two other sets</td>\n",
    "    </tr>\n",
    "    <tr>\n",
    "        <td>intersection_update()</td>\n",
    "        <td>Removes the items in this set that are not present in other, specified set(s)</td>\n",
    "    </tr>\n",
    "    <tr>\n",
    "        <td>isdisjoint()</td>\n",
    "        <td>Returns whether two sets have a intersection or not</td>\n",
    "    </tr>\n",
    "    <tr>\n",
    "        <td>issubset()</td>\n",
    "        <td>Returns whether another set contains this set or not</td>\n",
    "    </tr>\n",
    "    <tr>\n",
    "        <td>issuperset()</td>\n",
    "        <td>Returns whether this set contains another set or not</td>\n",
    "    </tr>\n",
    "    <tr>\n",
    "        <td>pop()</td>\n",
    "        <td>Removes an element from the set</td>\n",
    "    </tr>\n",
    "    <tr>\n",
    "        <td>remove()</td>\n",
    "        <td>Removes the specified element</td>\n",
    "    </tr>\n",
    "    <tr><td>symmetric_difference()</td>\n",
    "        <td>Returns a set with the symmetric differences of two sets</td>\n",
    "    </tr>\n",
    "    <tr><td>symmetric_difference_update()</td>\n",
    "        <td>inserts the symmetric differences from this set and another</td>\n",
    "    </tr>\n",
    "    <tr><td>union()</td>\n",
    "        <td>Return a set containing the union of sets</td>\n",
    "    </tr>\n",
    "    <tr><td>update()</td>\n",
    "        <td>Update the set with the union of this set and others</td>\n",
    "    </tr>\n",
    "</tbody>\n",
    "</table>"
   ]
  },
  {
   "cell_type": "markdown",
   "id": "a8da1a5f-9f8d-4f7c-9a3c-6fd6ff1b8ee3",
   "metadata": {},
   "source": [
    "<b>Ques.: </b> create empty dict and allow your 4 friend to enter their fav_lang and use keys as their names, assume name will be unique"
   ]
  },
  {
   "cell_type": "code",
   "execution_count": 1,
   "id": "a1efa6ad-6c04-4faf-93a7-3d22bcd2ece2",
   "metadata": {},
   "outputs": [
    {
     "name": "stdin",
     "output_type": "stream",
     "text": [
      "enter favorite language of geeta :  eng\n",
      "enter favorite language of meeta :  hin\n",
      "enter favorite language of seeta :  guj\n",
      "enter favorite language of neeta :  marathi\n"
     ]
    },
    {
     "name": "stdout",
     "output_type": "stream",
     "text": [
      "dict_items([('geeta', 'eng'), ('meeta', 'hin'), ('seeta', 'guj'), ('neeta', 'marathi')])\n"
     ]
    }
   ],
   "source": [
    "f1 = input('enter favorite language of geeta : ')\n",
    "f2 = input('enter favorite language of meeta : ')\n",
    "f3 = input('enter favorite language of seeta : ')\n",
    "f4 = input('enter favorite language of neeta : ')\n",
    "dict = {}\n",
    "dict['geeta'] = f1\n",
    "dict['meeta'] = f2\n",
    "dict['seeta'] = f3\n",
    "dict['neeta'] = f4\n",
    "print(dict.items())"
   ]
  },
  {
   "cell_type": "markdown",
   "id": "db8dc8c0-cf27-4e99-99dd-7825bc6dba35",
   "metadata": {},
   "source": [
    "<b>Ques.: </b> can you change the value inside a list which is contained in sets<br> \n",
    "s = {8, 7, 12, [1, 2]}\n",
    "\n",
    "<b>Ans.: </b> no, coz set is immutable so list can never containned in set and\n",
    "another thing if it'll be tuple than you can't change coz it's non-changable means hashable"
   ]
  },
  {
   "cell_type": "markdown",
   "id": "5e76ae34-a62f-4916-982c-dc8174d05742",
   "metadata": {},
   "source": [
    "### Indentation:\n",
    "the spaces at the beginning of a code line. Where in other programming languages the indentation in code is for readability only, \n",
    "the indentation in Python is very important. Python uses indentation to \n",
    "indicate a block of code.<b>it is white space before statements to make them a single unit or block</b>\n",
    "<pre>\n",
    "    <b>example:</b>\n",
    "<Blockquote>a = 22\n",
    "if a > 9 :\n",
    "    print(\"greater\")\n",
    "else:\n",
    "    print(\"lesser\")</Blockquote></pre>"
   ]
  },
  {
   "cell_type": "markdown",
   "id": "1cfdbafd-c2e3-4937-83aa-221b29907bd4",
   "metadata": {},
   "source": [
    "### pass statement:\n",
    "if statements cannot be empty, but if you for some reason have an if statement with no content, put in the pass statement to avoid getting an error.\n",
    "\n",
    "<b>pass</b>: it means null statement(stands for do nothing with previous statement)"
   ]
  },
  {
   "cell_type": "code",
   "execution_count": 2,
   "id": "88aa38ab-86e4-4126-b17b-a5d8fdc1a81b",
   "metadata": {},
   "outputs": [],
   "source": [
    "a = 33\n",
    "b = 200\n",
    "\n",
    "if b > a:\n",
    "    pass"
   ]
  },
  {
   "cell_type": "code",
   "execution_count": 1,
   "id": "5b0bcada-3aa2-4949-9ca8-1b7291a2c36f",
   "metadata": {},
   "outputs": [
    {
     "name": "stdout",
     "output_type": "stream",
     "text": [
      "that's it...\n"
     ]
    }
   ],
   "source": [
    "i = 4\n",
    "if i > 3 :\n",
    "    pass\n",
    "while i > 6 :\n",
    "    pass\n",
    "def run(player):\n",
    "    pass\n",
    "print(\"that's it...\")"
   ]
  },
  {
   "cell_type": "markdown",
   "id": "5875258d-0a89-4d80-851f-447e27a11acf",
   "metadata": {},
   "source": [
    "* we can use pass statement to skip writing control statement or code inside of function to complete it later"
   ]
  },
  {
   "cell_type": "code",
   "execution_count": 3,
   "id": "f6e30c6a-a475-43ef-a63d-b37b98f7831b",
   "metadata": {},
   "outputs": [
    {
     "name": "stdout",
     "output_type": "stream",
     "text": [
      "usefull to create empty function using 'pass' statement \n"
     ]
    }
   ],
   "source": [
    "def dummy(drug):\n",
    "    pass\n",
    "\n",
    "dummy('a')\n",
    "print(\"usefull to create empty function using 'pass' statement \")"
   ]
  },
  {
   "cell_type": "markdown",
   "id": "dfd5ac89-0322-4ced-a69d-da2c1a42a4a2",
   "metadata": {},
   "source": [
    "# Control statements:\n",
    "            it works like a ladder when 1st condition will go true it'll go for execute the code under it rather than go for next condition or code.\n",
    "\n",
    "it's work ladder if 1st will true than it'll never go for next. if, elif and else also optional and work anywhere if-elif-else ladder.\n",
    "\n",
    "python support usual conditions from math:\n",
    "    \n",
    "* Equals: a == b\n",
    "* Not Equals: a != b\n",
    "* Less than: a < b\n",
    "* Less than or equal to: a <= b\n",
    "* Greater than: a > b\n",
    "* Greater than or equal to: a >= b\n",
    "\n",
    "<b>Type of control statement in python:</b><br>\n",
    "\n",
    "1. if\n",
    "2. nested if\n",
    "3. elif\n",
    "4. if-else\n",
    "5. if-elif-else"
   ]
  },
  {
   "cell_type": "markdown",
   "id": "15d174df-816f-4012-a40e-86feb0b88626",
   "metadata": {},
   "source": [
    "<b> 1. if : </b>it works only and only when if condition will be true than next statement will execute."
   ]
  },
  {
   "cell_type": "markdown",
   "id": "1bb96eb9-b1ef-4288-8e41-1d407ff653a1",
   "metadata": {},
   "source": [
    "<b>SYNTAX :</b>\n",
    "<pre>if(condition):\n",
    "        code/statements</pre>"
   ]
  },
  {
   "cell_type": "markdown",
   "id": "6ee96604-9d57-439f-932b-868725b1786e",
   "metadata": {},
   "source": [
    "* execute only print() and only condition will true"
   ]
  },
  {
   "cell_type": "code",
   "execution_count": 3,
   "id": "6a43295b-c907-4a74-972d-f0b633eb1b01",
   "metadata": {},
   "outputs": [
    {
     "name": "stdout",
     "output_type": "stream",
     "text": [
      "b is greater than a\n"
     ]
    }
   ],
   "source": [
    "a = 33\n",
    "b = 200\n",
    "if b > a :\n",
    "    print(\"b is greater than a\")"
   ]
  },
  {
   "cell_type": "markdown",
   "id": "52b8daf5-6aac-4783-ada9-e6d7a4342cea",
   "metadata": {},
   "source": [
    "* execute but no output when condition isn't true"
   ]
  },
  {
   "cell_type": "code",
   "execution_count": null,
   "id": "b62b5b28-306a-4879-bed7-6b0c7a5f7457",
   "metadata": {},
   "outputs": [],
   "source": [
    "a = 33\n",
    "b = 200\n",
    "if b < a :\n",
    "    print(\"b is greater than a\")"
   ]
  },
  {
   "cell_type": "markdown",
   "id": "2b35f85d-cdb9-4d0c-bddc-fb52e2074343",
   "metadata": {},
   "source": [
    "* <b>one life with if:</b>"
   ]
  },
  {
   "cell_type": "code",
   "execution_count": 1,
   "id": "347848d2-4a0a-481f-b82d-1b8838eda97a",
   "metadata": {},
   "outputs": [
    {
     "name": "stdout",
     "output_type": "stream",
     "text": [
      "a is greater than b\n"
     ]
    }
   ],
   "source": [
    "a, b = 15, 12\n",
    "if a > b : print(\"a is greater than b\")"
   ]
  },
  {
   "cell_type": "markdown",
   "id": "22f91947-a68c-4cd9-ad7b-7893a3e4ec79",
   "metadata": {},
   "source": [
    "<b>2. Nested if : </b> we can use multiple if inside each other with condition and also inside itself as per our need. innner if only work if outer if executes."
   ]
  },
  {
   "cell_type": "markdown",
   "id": "7e64905b-cf87-4bf6-9829-2c66233081f0",
   "metadata": {},
   "source": [
    "<b>SYNTAX :</b>\n",
    "<pre>if(condition):\n",
    "        code/statements\n",
    "        if(condition):\n",
    "                code/statements\n",
    "            ...........\n",
    "</pre>"
   ]
  },
  {
   "cell_type": "code",
   "execution_count": 5,
   "id": "f9ddcb00-edc0-4a5e-9559-db6241a3d7ab",
   "metadata": {},
   "outputs": [
    {
     "name": "stdout",
     "output_type": "stream",
     "text": [
      "you are eligible to vote\n"
     ]
    }
   ],
   "source": [
    "age = 19\n",
    "\n",
    "if age >= 18:\n",
    "    print(\"you are eligible to vote\")\n",
    "    if age >= 21:\n",
    "        print(\"you can drive a car\")"
   ]
  },
  {
   "cell_type": "code",
   "execution_count": 6,
   "id": "f5e21770-6be1-4651-82b6-a0fa0d85a5bf",
   "metadata": {},
   "outputs": [
    {
     "name": "stdout",
     "output_type": "stream",
     "text": [
      "you are eligible to vote\n",
      "you can drive a car\n"
     ]
    }
   ],
   "source": [
    "age = 26\n",
    "\n",
    "if age >= 18:\n",
    "    print(\"you are eligible to vote\")\n",
    "    if age >= 21:\n",
    "        print(\"you can drive a car\")"
   ]
  },
  {
   "cell_type": "code",
   "execution_count": 7,
   "id": "e8f585ac-d256-4d77-92ca-388b699bcf18",
   "metadata": {},
   "outputs": [],
   "source": [
    "age = 15\n",
    "\n",
    "if age >= 18:\n",
    "    print(\"you are eligible to vote\")\n",
    "    if age >= 21:\n",
    "        print(\"you can drive a car\")"
   ]
  },
  {
   "cell_type": "code",
   "execution_count": 3,
   "id": "5cfcc25f-6cc1-4097-8e72-94a107631fd0",
   "metadata": {},
   "outputs": [
    {
     "name": "stdin",
     "output_type": "stream",
     "text": [
      "enter age : 78\n"
     ]
    },
    {
     "name": "stdout",
     "output_type": "stream",
     "text": [
      "you are eligible to vote\n",
      "you can drive a car\n"
     ]
    }
   ],
   "source": [
    "age = int(input(\"enter age :\"))\n",
    "\n",
    "if age >= 18:\n",
    "    print(\"you are eligible to vote\")\n",
    "    if age >= 21:\n",
    "        print(\"you can drive a car\")"
   ]
  },
  {
   "cell_type": "markdown",
   "id": "2d573a04-8157-48e0-bb4d-0caf2b96f4fa",
   "metadata": {},
   "source": [
    "<b>3. elif : </b> It works when previous conditions were not true, then try this condition."
   ]
  },
  {
   "cell_type": "markdown",
   "id": "27d63430-a15c-429f-a297-7fd44af1c599",
   "metadata": {},
   "source": [
    "<b>SYNTAX :</b>\n",
    "<pre>\n",
    "if(condition):\n",
    "        code/statements\n",
    "elif(condition):\n",
    "         code/statements\n",
    "            ...........\n",
    "</pre>"
   ]
  },
  {
   "cell_type": "code",
   "execution_count": 8,
   "id": "903dda63-e842-4247-94f6-8112f307835a",
   "metadata": {},
   "outputs": [
    {
     "name": "stdout",
     "output_type": "stream",
     "text": [
      "a and b other are equals\n"
     ]
    }
   ],
   "source": [
    "a = 33\n",
    "b = 33\n",
    "\n",
    "if a > b :\n",
    "    print(\"a is greater than b...\")\n",
    "elif a == b :\n",
    "    print(\"a and b other are equals\")"
   ]
  },
  {
   "cell_type": "code",
   "execution_count": 9,
   "id": "160b2c51-9f3e-4543-86a0-dcc82e71fb00",
   "metadata": {},
   "outputs": [
    {
     "name": "stdout",
     "output_type": "stream",
     "text": [
      "a is greater than b...\n"
     ]
    }
   ],
   "source": [
    "a = 33\n",
    "b = 32\n",
    "\n",
    "if a > b :\n",
    "    print(\"a is greater than b...\")\n",
    "elif a == b :\n",
    "    print(\"a and b other are equals\")"
   ]
  },
  {
   "cell_type": "code",
   "execution_count": 11,
   "id": "c3b1668f-df14-4fa1-a25a-614692eaded6",
   "metadata": {},
   "outputs": [],
   "source": [
    "a = 12\n",
    "\n",
    "if(a==7):\n",
    "  print(\"yes\")\n",
    "elif(a>56):\n",
    "  print(\"yes or no\") #no output"
   ]
  },
  {
   "cell_type": "code",
   "execution_count": null,
   "id": "f7280aaf-c8f1-4a27-8365-69d7f1c2759e",
   "metadata": {},
   "outputs": [],
   "source": []
  },
  {
   "cell_type": "markdown",
   "id": "2f06b9cf-14cd-4373-ba0a-92249f94dd11",
   "metadata": {},
   "source": [
    "<b>4. else : </b>it works whenever another all conditions will be false. it can work with all statements."
   ]
  },
  {
   "cell_type": "markdown",
   "id": "9c726689-8376-4a98-8a5c-f5bda446e87e",
   "metadata": {},
   "source": [
    "<b>SYNTAX :</b>\n",
    "<pre>\n",
    "loop/control statement(condition):\n",
    "    code/statements\n",
    "...........\n",
    "else:\n",
    "    code/statemrnts\n",
    "</pre>"
   ]
  },
  {
   "cell_type": "code",
   "execution_count": 13,
   "id": "cef53201-ffd2-4b73-9a56-263e2a534cb6",
   "metadata": {},
   "outputs": [
    {
     "name": "stdout",
     "output_type": "stream",
     "text": [
      "greater\n"
     ]
    }
   ],
   "source": [
    "a = 22\n",
    "if a > 9 :\n",
    "    print(\"greater\")\n",
    "else:\n",
    "    print(\"lesser\")"
   ]
  },
  {
   "cell_type": "code",
   "execution_count": 14,
   "id": "3aa46394-9ba2-4155-be1c-912616ff21ab",
   "metadata": {},
   "outputs": [
    {
     "name": "stdout",
     "output_type": "stream",
     "text": [
      "lesser\n"
     ]
    }
   ],
   "source": [
    "a = 2\n",
    "if a > 9 :\n",
    "    print(\"greater\")\n",
    "else:\n",
    "    print(\"lesser\")"
   ]
  },
  {
   "cell_type": "code",
   "execution_count": 15,
   "id": "d8402bb5-62ab-4cd6-8e65-a686ddfc0611",
   "metadata": {},
   "outputs": [
    {
     "name": "stdin",
     "output_type": "stream",
     "text": [
      "enter age:  15\n"
     ]
    },
    {
     "name": "stdout",
     "output_type": "stream",
     "text": [
      "no\n"
     ]
    }
   ],
   "source": [
    "age = int(input(\"enter age: \"))\n",
    "if age >= 18 :\n",
    "    print(\"yes\")\n",
    "else:\n",
    "    print(\"no\")"
   ]
  },
  {
   "cell_type": "markdown",
   "id": "b4193003-815a-411a-8fa9-6ed4425c05a4",
   "metadata": {},
   "source": [
    "* u can work if your age is : age greater than 33 and also age less than 55"
   ]
  },
  {
   "cell_type": "code",
   "execution_count": 16,
   "id": "b56cc04c-8552-4075-bdca-baebc10d6cfd",
   "metadata": {},
   "outputs": [
    {
     "name": "stdin",
     "output_type": "stream",
     "text": [
      "enter age:  35\n"
     ]
    },
    {
     "name": "stdout",
     "output_type": "stream",
     "text": [
      "you're  35 ,you can work....\n"
     ]
    }
   ],
   "source": [
    "age = int(input(\"enter age: \"))\n",
    "if(age>33 and age<55):\n",
    "    print(\"you're \",age,\",you can work....\")\n",
    "else:\n",
    "    print(\"you're \",age,\",you can't work...\")"
   ]
  },
  {
   "cell_type": "markdown",
   "id": "e3f1c2ec-e3a0-409c-99e6-58614a0dc75d",
   "metadata": {},
   "source": [
    "* <b>one line with if-else:</b>"
   ]
  },
  {
   "cell_type": "code",
   "execution_count": 2,
   "id": "b991d8ec-c5be-4cd4-aeef-07912ae63624",
   "metadata": {},
   "outputs": [
    {
     "name": "stdout",
     "output_type": "stream",
     "text": [
      "b is greater than a\n"
     ]
    }
   ],
   "source": [
    "a = 2\n",
    "b = 330\n",
    "print(\"a is greater than b\") if a > b else print(\"b is greater than a\")"
   ]
  },
  {
   "cell_type": "markdown",
   "id": "e9a9da4a-87ae-4706-a1cf-ca6092bc92d0",
   "metadata": {},
   "source": [
    "* <b>nested if-else :</b>"
   ]
  },
  {
   "cell_type": "code",
   "execution_count": 12,
   "id": "989e1fba-a191-4dbc-89d3-2b3939cf67fe",
   "metadata": {},
   "outputs": [
    {
     "name": "stdout",
     "output_type": "stream",
     "text": [
      "x is above 10 \n",
      "and also above 20\n"
     ]
    }
   ],
   "source": [
    "x = 40\n",
    "\n",
    "if x > 10 :\n",
    "    print(\"x is above 10 \")\n",
    "    if x > 20 :\n",
    "        print(\"and also above 20\")\n",
    "    else:\n",
    "        print(\"and not above 20\")\n",
    "else:\n",
    "    print(\"less then 10\")"
   ]
  },
  {
   "cell_type": "markdown",
   "id": "11dd258b-13d8-4908-8881-520c35e7d698",
   "metadata": {},
   "source": [
    "<b>5. if-elif-else : </b> it work like ladder of conditions you can use all keywords togather in code also anywhere else in code where you need to execute statements with conditions."
   ]
  },
  {
   "cell_type": "code",
   "execution_count": 19,
   "id": "a2b2a5b4-8aa7-4cce-ae5f-79f57c03a280",
   "metadata": {},
   "outputs": [
    {
     "name": "stdout",
     "output_type": "stream",
     "text": [
      "b is lesser than a\n"
     ]
    }
   ],
   "source": [
    "a = 200\n",
    "b = 33\n",
    "if b > a :\n",
    "    print(\"b is greater than a\")\n",
    "elif a == b:\n",
    "    print(\"b and a both are equals\")\n",
    "else:\n",
    "    print(\"b is lesser than a\")"
   ]
  },
  {
   "cell_type": "markdown",
   "id": "29d1edd0-ddb7-4579-9a36-c8f656783b84",
   "metadata": {},
   "source": [
    "* <b>one line with ternary operator or conditional expressions:</b>"
   ]
  },
  {
   "cell_type": "code",
   "execution_count": 12,
   "id": "5045482f-e411-4300-9d80-732488192776",
   "metadata": {},
   "outputs": [
    {
     "name": "stdout",
     "output_type": "stream",
     "text": [
      "=\n"
     ]
    }
   ],
   "source": [
    "a = 330\n",
    "b = 330\n",
    "print(\"A\") if a > b else print(\"=\") if b == a else print(\"B\")"
   ]
  },
  {
   "cell_type": "markdown",
   "id": "3803110c-6f36-4e7c-a034-5868fdba78c9",
   "metadata": {},
   "source": [
    "* 'and' in if statements:"
   ]
  },
  {
   "cell_type": "code",
   "execution_count": 3,
   "id": "1884612f-34ec-4d54-a52c-68946b085cc1",
   "metadata": {},
   "outputs": [
    {
     "name": "stdout",
     "output_type": "stream",
     "text": [
      "bothe conditions are true...\n"
     ]
    }
   ],
   "source": [
    "a = 200\n",
    "b = 33\n",
    "c = 500\n",
    "if a > b and c > a : \n",
    "    print(\"bothe conditions are true...\")\n",
    "else:\n",
    "    print(\"both conditions are not true...\")"
   ]
  },
  {
   "cell_type": "markdown",
   "id": "42f662bc-4f08-4390-b907-6cf2ac5ac8ca",
   "metadata": {},
   "source": [
    "* 'or' in if statements:"
   ]
  },
  {
   "cell_type": "code",
   "execution_count": 4,
   "id": "898a23e0-8549-481a-83b3-f9489bbebff1",
   "metadata": {},
   "outputs": [
    {
     "name": "stdout",
     "output_type": "stream",
     "text": [
      "anyone of them, condition should be true...\n"
     ]
    }
   ],
   "source": [
    "a = 200\n",
    "b = 33\n",
    "c = 500\n",
    "if a > b or c < a : \n",
    "    print(\"anyone of them, condition should be true...\")\n",
    "else:\n",
    "    print(\"both conditions are not true...\")"
   ]
  },
  {
   "cell_type": "markdown",
   "id": "c47c4887-bf4a-4517-9452-073f05d2bf42",
   "metadata": {},
   "source": [
    "* 'not' in if statement:"
   ]
  },
  {
   "cell_type": "code",
   "execution_count": 5,
   "id": "090b3e45-50d8-4bf1-9049-bbf93529915d",
   "metadata": {},
   "outputs": [
    {
     "name": "stdout",
     "output_type": "stream",
     "text": [
      "b is not greater than a\n"
     ]
    }
   ],
   "source": [
    "a = 10\n",
    "b = 5\n",
    "if not a < b : \n",
    "    print(\"b is not greater than a\")\n",
    "else:\n",
    "    print(\"it is  true b is greater than a\")"
   ]
  },
  {
   "cell_type": "markdown",
   "id": "222b1e1d-86dc-40b2-ae30-4ee896b81ef9",
   "metadata": {},
   "source": [
    "* 'is' if statement:"
   ]
  },
  {
   "cell_type": "code",
   "execution_count": null,
   "id": "38f393d4-e02e-4e2a-b286-03c73bcf7f8f",
   "metadata": {},
   "outputs": [],
   "source": [
    "a = None\n",
    "if a is None:\n",
    "    print(True)\n",
    "elif a < 0 or a > 0 :\n",
    "    print(False)\n",
    "else:\n",
    "    print(\"a is zero\")"
   ]
  },
  {
   "cell_type": "markdown",
   "id": "bbb2d36d-d004-4231-a583-5b2f875e986b",
   "metadata": {},
   "source": [
    "* 'in' if statement:"
   ]
  },
  {
   "cell_type": "code",
   "execution_count": 7,
   "id": "99a4975f-fbe1-4e2d-9b07-e9151f1bcf16",
   "metadata": {},
   "outputs": [
    {
     "name": "stdout",
     "output_type": "stream",
     "text": [
      "True\n"
     ]
    }
   ],
   "source": [
    "a = [1, 3, 5, 7, 9]\n",
    "x = 7\n",
    "\n",
    "if x in a:\n",
    "    print(True)\n",
    "else:\n",
    "    print(False)"
   ]
  },
  {
   "cell_type": "markdown",
   "id": "af0221af-8c84-4046-b681-8f376e75e491",
   "metadata": {},
   "source": [
    "* a complex example"
   ]
  },
  {
   "cell_type": "code",
   "execution_count": null,
   "id": "9024381b-393f-4da4-83ce-6934ed342157",
   "metadata": {},
   "outputs": [],
   "source": [
    "a = 12\n",
    "if(a==7):\n",
    "    print(\"yes\")\n",
    "elif(a>56):\n",
    "    print(\"yes or no\")\n",
    "else:\n",
    "    print(\"i'm optional\")"
   ]
  },
  {
   "cell_type": "markdown",
   "id": "ebd64d08-c6d3-41c1-b8a8-43f7ac8343e9",
   "metadata": {},
   "source": [
    "<b>Quiz: </b> a spam comment is defined as a text containing keywords [make a lot of money, buy now,suscribe this,click this,] WAP to detect it."
   ]
  },
  {
   "cell_type": "code",
   "execution_count": 8,
   "id": "e86c499c-77b8-42e2-a6af-ee53f87e6198",
   "metadata": {},
   "outputs": [
    {
     "name": "stdout",
     "output_type": "stream",
     "text": [
      "make a lot of money,buy now,suscribe this,click this\n"
     ]
    },
    {
     "name": "stdin",
     "output_type": "stream",
     "text": [
      "to check your comment spam or not\n",
      "enter your comment :\n",
      " click this\n"
     ]
    },
    {
     "name": "stdout",
     "output_type": "stream",
     "text": [
      "your comment is spam..\n"
     ]
    }
   ],
   "source": [
    "print(\"make a lot of money,buy now,suscribe this,click this\")\n",
    "comment = input(\"to check your comment spam or not\\nenter your comment :\\n\")\n",
    "if(\"make a lot of money\" in comment or \"buy now\" in comment or\n",
    "\"suscribe this\" in comment or \"click this\" in comment):\n",
    "   print(\"your comment is spam..\")\n",
    "else:\n",
    "   print(\"your comment is not spam..\")"
   ]
  },
  {
   "cell_type": "markdown",
   "id": "b87bc071-7c1b-4564-9cc8-8fb11e331660",
   "metadata": {},
   "source": [
    "* in other way"
   ]
  },
  {
   "cell_type": "code",
   "execution_count": 10,
   "id": "3865fc12-9294-4215-8d35-06d4dd7c3897",
   "metadata": {},
   "outputs": [
    {
     "name": "stdout",
     "output_type": "stream",
     "text": [
      "keywords =  ['make a lot of money,buy now', 'suscribe this', 'click this']\n"
     ]
    },
    {
     "name": "stdin",
     "output_type": "stream",
     "text": [
      "to check your comment spam or not\n",
      "enter your comment :\n",
      " aaaa\n"
     ]
    },
    {
     "name": "stdout",
     "output_type": "stream",
     "text": [
      "your comment is not spam..\n"
     ]
    }
   ],
   "source": [
    "keywords = [\"make a lot of money,buy now\", \"suscribe this\", \"click this\"]\n",
    "print(\"keywords = \",keywords)\n",
    "\n",
    "comment = input(\"to check your comment spam or not\\nenter your comment :\\n\")\n",
    "\n",
    "\n",
    "\n",
    "if comment in keywords :\n",
    "   print(\"your comment is spam..\")\n",
    "else:\n",
    "   print(\"your comment is not spam..\")"
   ]
  },
  {
   "cell_type": "markdown",
   "id": "b3eec5cd-62f1-44a7-b7f9-d27ae7da2c4c",
   "metadata": {},
   "source": [
    "<b>Quiz : </b> WAP given username hold 10char or not"
   ]
  },
  {
   "cell_type": "code",
   "execution_count": 13,
   "id": "381a1aeb-e29f-4cc6-bf9b-45fa601363d3",
   "metadata": {},
   "outputs": [
    {
     "name": "stdin",
     "output_type": "stream",
     "text": [
      "enter your username :  asdegdfgfhejg\n"
     ]
    },
    {
     "name": "stdout",
     "output_type": "stream",
     "text": [
      "valid username\n"
     ]
    }
   ],
   "source": [
    "username = input(\"enter your username : \")\n",
    "total_char = len(username)\n",
    "\n",
    "if total_char >= 10 :\n",
    "    print(\"valid username\")\n",
    "else:\n",
    "    print(\"invalid username\")"
   ]
  },
  {
   "cell_type": "markdown",
   "id": "eccd3b3d-c127-450c-a73b-2d07fa44fb6e",
   "metadata": {},
   "source": [
    "* in other way"
   ]
  },
  {
   "cell_type": "code",
   "execution_count": 12,
   "id": "5a04e7af-24e9-4460-a53f-5bd7fa8598d1",
   "metadata": {},
   "outputs": [
    {
     "name": "stdin",
     "output_type": "stream",
     "text": [
      "enter your username :  gsdfgsdfghsfrthsfgh\n"
     ]
    },
    {
     "name": "stdout",
     "output_type": "stream",
     "text": [
      "valid username\n"
     ]
    }
   ],
   "source": [
    "username = input(\"enter your username : \")\n",
    "\n",
    "if len(username) >= 10 :\n",
    "    print(\"valid username\")\n",
    "else:\n",
    "    print(\"invalid username\")"
   ]
  },
  {
   "cell_type": "markdown",
   "id": "6452f412-76fe-42d7-80aa-efc04d6b905a",
   "metadata": {},
   "source": [
    "<b>Quiz: </b> WAP to check ,whether name in list or not. <br>\n",
    "[\"raj\",\"mohan\",\"sohan\",\"sita\",\"gita\"]"
   ]
  },
  {
   "cell_type": "code",
   "execution_count": 14,
   "id": "97729a42-c82b-4d5d-b66b-402680723225",
   "metadata": {},
   "outputs": [
    {
     "name": "stdin",
     "output_type": "stream",
     "text": [
      "enter name to check wether name is in list or not :  raj\n"
     ]
    },
    {
     "name": "stdout",
     "output_type": "stream",
     "text": [
      "name is exist in list...\n"
     ]
    }
   ],
   "source": [
    "names = [\"raj\",\"mohan\",\"sohan\",\"sita\",\"gita\"]\n",
    "name = input(\"enter name to check wether name is in list or not : \")\n",
    "\n",
    "if name in names:\n",
    "    print(\"name is exist in list...\")\n",
    "else:\n",
    "    print(\"name isn't exist in list...\")"
   ]
  },
  {
   "cell_type": "markdown",
   "id": "5cba8909-182f-4579-b2e2-2306068701e4",
   "metadata": {},
   "source": [
    "<b>Quiz : </b> wap to findout any string/name is exixt in post or not."
   ]
  },
  {
   "cell_type": "code",
   "execution_count": null,
   "id": "8cbb3e4c-3e4d-4ff2-a455-9b8acdb4e85e",
   "metadata": {},
   "outputs": [],
   "source": []
  },
  {
   "cell_type": "code",
   "execution_count": null,
   "id": "2e038bf1-a1e7-4619-9da6-9c9944c07783",
   "metadata": {},
   "outputs": [],
   "source": [
    "post = input(\"enter post : \")\n",
    "name = input(\"enter name to search : \")\n",
    "if name in post:\n",
    "    print(\"name is exist in list...\")\n",
    "else:\n",
    "    print(\"name isn't exist in list...\")"
   ]
  },
  {
   "cell_type": "markdown",
   "id": "e4a4712c-556e-4c02-a04b-ccb3238622dd",
   "metadata": {},
   "source": [
    "# LOOP : \n",
    "Looping means repeating something over and over until a particular condition is satisfied. It is <b>repeatation of block of statement</b>.\n",
    "\n",
    "Python has two primitive loop commands:\n",
    "* while loops\n",
    "* for loops"
   ]
  },
  {
   "cell_type": "markdown",
   "id": "e2f3d942-4f04-43f5-bb35-09d37d0300e9",
   "metadata": {},
   "source": [
    "<b>1. While : </b> With the while loop we can execute a set of statements as long as a condition is true."
   ]
  },
  {
   "cell_type": "markdown",
   "id": "75ae250e-e515-4322-8c07-cf519e831870",
   "metadata": {},
   "source": [
    "<b>SYNTAX :</b>\n",
    "<pre>\n",
    "code...........\n",
    "    \n",
    "While(condition):\n",
    "    code/statements\n",
    "    ...........\n",
    "    ...........\n",
    "    \n",
    "code...........\n",
    "</pre>"
   ]
  },
  {
   "cell_type": "markdown",
   "id": "e2faaf77-f8dc-4283-8e37-5c4a47813bb0",
   "metadata": {},
   "source": [
    "<pre><b>NOTE:</b> don't write infinite loop\n",
    "<b>Example : </b>\n",
    "<Blockquote>i = 0\n",
    "while i < 10 :\n",
    "    print(\"yes.....\")</Blockquote>\n",
    "\n",
    "<b>Output:</b> it'll print unlimited time <b>yes.....</b>\n",
    "</pre>"
   ]
  },
  {
   "cell_type": "markdown",
   "id": "a3a48f98-0b58-4be3-a340-9e1a8add160b",
   "metadata": {},
   "source": [
    "* print yes 10 time"
   ]
  },
  {
   "cell_type": "code",
   "execution_count": 1,
   "id": "33ec5852-3d4b-47f5-8d55-6b5dd471b1ab",
   "metadata": {},
   "outputs": [
    {
     "name": "stdout",
     "output_type": "stream",
     "text": [
      "yes  1\n",
      "yes  2\n",
      "yes  3\n",
      "yes  4\n",
      "yes  5\n",
      "yes  6\n",
      "yes  7\n",
      "yes  8\n",
      "yes  9\n",
      "yes  10\n",
      "Done...!\n"
     ]
    }
   ],
   "source": [
    "i = 1\n",
    "while i < 11 :\n",
    "    print(\"yes \",i)\n",
    "    i = i + 1\n",
    "print(\"Done...!\")"
   ]
  },
  {
   "cell_type": "markdown",
   "id": "751f70d9-4ece-458f-8133-2ba4f45ab6b1",
   "metadata": {},
   "source": [
    "* print number series from 1 - 1"
   ]
  },
  {
   "cell_type": "code",
   "execution_count": 5,
   "id": "a0a6e4af-70ea-4cdd-ad15-9621d6022fd0",
   "metadata": {},
   "outputs": [
    {
     "name": "stdout",
     "output_type": "stream",
     "text": [
      "numbers from 1 to 15 : \n",
      "1\n",
      "2\n",
      "3\n",
      "4\n",
      "5\n",
      "6\n",
      "7\n",
      "8\n",
      "9\n",
      "10\n",
      "11\n",
      "12\n",
      "13\n",
      "14\n",
      "15\n",
      "that's it\n"
     ]
    }
   ],
   "source": [
    "print(\"numbers from 1 to 15 : \")\n",
    "\n",
    "i = 1\n",
    "while i <= 15 :\n",
    "    print(i)\n",
    "    i += 1\n",
    "    \n",
    "print(\"that's it\")"
   ]
  },
  {
   "cell_type": "code",
   "execution_count": 6,
   "id": "88426813-609e-4338-946e-59fa2f636a0f",
   "metadata": {},
   "outputs": [
    {
     "name": "stdout",
     "output_type": "stream",
     "text": [
      "numbers from 1 to 15 : \n",
      "1\n",
      "2\n",
      "3\n",
      "4\n",
      "5\n",
      "6\n",
      "7\n",
      "8\n",
      "9\n",
      "10\n",
      "11\n",
      "12\n",
      "13\n",
      "14\n",
      "15\n",
      "that's it\n"
     ]
    }
   ],
   "source": [
    "print(\"numbers from 1 to 15 : \")\n",
    "\n",
    "i = 1\n",
    "while i < 16 :\n",
    "    print(i)\n",
    "    i += 1\n",
    "    \n",
    "print(\"that's it\")"
   ]
  },
  {
   "cell_type": "markdown",
   "id": "2b5077af-98ef-4035-b4ef-ea81fb1bfefe",
   "metadata": {},
   "source": [
    "* print string multiple times"
   ]
  },
  {
   "cell_type": "code",
   "execution_count": 7,
   "id": "dc75c256-32ba-49ba-88d2-c7f33d14bd65",
   "metadata": {},
   "outputs": [
    {
     "name": "stdout",
     "output_type": "stream",
     "text": [
      "1 . I'm rajendra\n",
      "2 . I'm rajendra\n",
      "3 . I'm rajendra\n",
      "4 . I'm rajendra\n",
      "5 . I'm rajendra\n"
     ]
    }
   ],
   "source": [
    "i = 1\n",
    "while i < 6 :\n",
    "    print(i, \". I'm rajendra\")\n",
    "    i = i + 1"
   ]
  },
  {
   "cell_type": "markdown",
   "id": "1b7f0732-ee33-4e22-81ce-7516e05ce9ef",
   "metadata": {},
   "source": [
    "* print element from collection / list"
   ]
  },
  {
   "cell_type": "code",
   "execution_count": 9,
   "id": "0d414ce8-2c27-467e-8396-26cfa9acc377",
   "metadata": {},
   "outputs": [
    {
     "name": "stdout",
     "output_type": "stream",
     "text": [
      "apple\n",
      "banana\n",
      "papaya\n",
      "graps\n",
      "mango\n",
      "cherry\n"
     ]
    }
   ],
   "source": [
    "fruit = ['apple', 'banana', 'papaya', 'graps', 'mango', 'cherry']\n",
    "\n",
    "i = 0\n",
    "while i < len(fruit) :\n",
    "    print(fruit[i])\n",
    "    i = i + 1"
   ]
  },
  {
   "cell_type": "markdown",
   "id": "34bdb1fa-3dce-4f6a-aec7-fd5576826a5f",
   "metadata": {},
   "source": [
    "<b>Extra : </b> while with break, continue and pass."
   ]
  },
  {
   "cell_type": "markdown",
   "id": "f42db5e2-0f35-421d-8143-f5dc356f1f14",
   "metadata": {},
   "source": [
    "<b>break : </b> when break condition is true in loop then after successful executing break statement loop stop printing values."
   ]
  },
  {
   "cell_type": "code",
   "execution_count": 22,
   "id": "f3a17d32-9160-40f6-9814-ae49ed2ae792",
   "metadata": {},
   "outputs": [
    {
     "name": "stdout",
     "output_type": "stream",
     "text": [
      "1\n",
      "2\n",
      "3\n",
      "4\n",
      "5\n"
     ]
    }
   ],
   "source": [
    "i = 1\n",
    "while i < 9 :\n",
    "    print(i)\n",
    "    if i == 5 :\n",
    "        break\n",
    "    i = i + 1"
   ]
  },
  {
   "cell_type": "markdown",
   "id": "e2a2bd6a-1522-48b1-8686-1b6e131c8a19",
   "metadata": {},
   "source": [
    "<b>continue: </b> when condition for continue is true than that value skipped and againg loop will start the printing values."
   ]
  },
  {
   "cell_type": "code",
   "execution_count": 23,
   "id": "38461045-9d05-455d-b191-53a73d79367e",
   "metadata": {},
   "outputs": [
    {
     "name": "stdout",
     "output_type": "stream",
     "text": [
      "1\n",
      "2\n",
      "4\n",
      "5\n",
      "6\n"
     ]
    }
   ],
   "source": [
    "i = 0\n",
    "while i < 6 :\n",
    "    i += 1\n",
    "    if i == 3 :\n",
    "        continue\n",
    "    print(i)"
   ]
  },
  {
   "cell_type": "markdown",
   "id": "ca1c500f-799e-4733-b233-96704f268ab0",
   "metadata": {},
   "source": [
    "<pre><b>pass: </b> it means null statement(stands for do nothing with previous statement) <b>but it is rare</b>\n",
    "<Blockquote>i = 1\n",
    "while i < 6 :\n",
    "    pass\n",
    "    print(i)</Blockquote>\n",
    "</pre>"
   ]
  },
  {
   "cell_type": "markdown",
   "id": "6e35ff35-5130-4bb3-ae08-37a927fcaa09",
   "metadata": {},
   "source": [
    "### <b>\"else\"</b> works everywhere same as else work with if control statements."
   ]
  },
  {
   "cell_type": "markdown",
   "id": "c1a9060e-299d-474b-b556-519eca428448",
   "metadata": {},
   "source": [
    "<b>else :</b> when loop condition is false then else condition execute."
   ]
  },
  {
   "cell_type": "code",
   "execution_count": 1,
   "id": "ca99e9a3-cdb8-40c7-b536-4b3f943122c2",
   "metadata": {},
   "outputs": [
    {
     "name": "stdin",
     "output_type": "stream",
     "text": [
      "enter any number :  8\n"
     ]
    },
    {
     "name": "stdout",
     "output_type": "stream",
     "text": [
      " i is greater than 6\n"
     ]
    }
   ],
   "source": [
    "i = int(input(\"enter any number : \"))\n",
    "while i < 6 :\n",
    "    print(i)\n",
    "    i += 1\n",
    "else:\n",
    "    print(\" i is greater than 6\")"
   ]
  },
  {
   "cell_type": "markdown",
   "id": "92382cc1-7892-428a-aa3b-3d8a4245f4a4",
   "metadata": {},
   "source": [
    "<b>2. For loop : </b> For used to iterate through a sequesnce data types like list, tuple, string or iterables\n",
    "with operators (is,in,range)"
   ]
  },
  {
   "cell_type": "markdown",
   "id": "2a299a22-af76-446b-908a-e8eb60b3ff1d",
   "metadata": {},
   "source": [
    "<b>SYNTAX :</b>\n",
    "<pre>\n",
    "code...........\n",
    ".............\n",
    "for iterator in/is dataframes(list,tuple,set):\n",
    "    code/statements.....\n",
    "    ...........\n",
    "    ...........\n",
    "    \n",
    "code...........\n",
    "</pre>"
   ]
  },
  {
   "cell_type": "markdown",
   "id": "9d9bd421-8401-4a99-b3e5-703f47036adc",
   "metadata": {},
   "source": [
    "* print all elemets of sequence."
   ]
  },
  {
   "cell_type": "code",
   "execution_count": 1,
   "id": "8db8487b-edc8-4606-9d1a-6ae88598351e",
   "metadata": {},
   "outputs": [
    {
     "name": "stdout",
     "output_type": "stream",
     "text": [
      "banana\n",
      "mango\n",
      "apple\n",
      "watermalon\n",
      "graps\n"
     ]
    }
   ],
   "source": [
    "fruits = ['banana', 'mango', 'apple', 'watermalon', 'graps']\n",
    "for items in fruits:\n",
    "    print(items)"
   ]
  },
  {
   "cell_type": "markdown",
   "id": "b956f972-5e86-4db9-be0d-645e084c814d",
   "metadata": {},
   "source": [
    "* print all elements with each elements of another element of sequence."
   ]
  },
  {
   "cell_type": "code",
   "execution_count": 2,
   "id": "ad77a7f6-589c-4af4-b6c4-69efa299afa1",
   "metadata": {},
   "outputs": [
    {
     "name": "stdout",
     "output_type": "stream",
     "text": [
      "red apple\n",
      "red banana\n",
      "red cherry\n",
      "big apple\n",
      "big banana\n",
      "big cherry\n",
      "tasty apple\n",
      "tasty banana\n",
      "tasty cherry\n"
     ]
    }
   ],
   "source": [
    "adj = [\"red\", \"big\", \"tasty\"]\n",
    "fruits = [\"apple\", \"banana\", \"cherry\"]\n",
    "\n",
    "for x in adj:\n",
    "    for y in fruits:\n",
    "        print(x, y)"
   ]
  },
  {
   "cell_type": "markdown",
   "id": "b2a6d381-18d4-44b4-9dd9-29503d5ff2e2",
   "metadata": {},
   "source": [
    "* <b>for with range:</b> range() function is used to generate sequence of number.\n",
    "\n",
    "it's print until 'range' default starting values of range is 0 if there is single value and if there is 2 then first is starting index and end with (index-1)."
   ]
  },
  {
   "cell_type": "markdown",
   "id": "b72c0821-6f19-423b-b45a-14d066076eb5",
   "metadata": {},
   "source": [
    "* print range 0 to 7"
   ]
  },
  {
   "cell_type": "code",
   "execution_count": 3,
   "id": "a54413cb-1c05-4cf4-9ab9-a6568caa85c7",
   "metadata": {},
   "outputs": [
    {
     "name": "stdout",
     "output_type": "stream",
     "text": [
      "0\n",
      "1\n",
      "2\n",
      "3\n",
      "4\n",
      "5\n",
      "6\n",
      "7\n"
     ]
    }
   ],
   "source": [
    "for i in range(8):\n",
    "    print(i)"
   ]
  },
  {
   "cell_type": "markdown",
   "id": "36c03f6b-223b-4b1b-87d7-7d7ef1d96373",
   "metadata": {},
   "source": [
    "* print number between range of 1 - 10 "
   ]
  },
  {
   "cell_type": "code",
   "execution_count": 4,
   "id": "e39a079e-dc20-45af-b2d5-2048e5006f9d",
   "metadata": {},
   "outputs": [
    {
     "name": "stdout",
     "output_type": "stream",
     "text": [
      "1\n",
      "2\n",
      "3\n",
      "4\n",
      "5\n",
      "6\n",
      "7\n",
      "8\n",
      "9\n",
      "10\n"
     ]
    }
   ],
   "source": [
    "for i in range(1,11):\n",
    "    print(i)"
   ]
  },
  {
   "cell_type": "markdown",
   "id": "3c1bfde8-b6c6-40f8-b851-0cea5389fd18",
   "metadata": {},
   "source": [
    "* range(1,10,2) = 1-10 with spacing 2"
   ]
  },
  {
   "cell_type": "code",
   "execution_count": 5,
   "id": "c5de55b5-4d71-4b39-b4d4-969201459e0f",
   "metadata": {},
   "outputs": [
    {
     "name": "stdout",
     "output_type": "stream",
     "text": [
      "1\n",
      "3\n",
      "5\n",
      "7\n",
      "9\n"
     ]
    }
   ],
   "source": [
    "for i in range(1,11,2):\n",
    "    print(i)"
   ]
  },
  {
   "cell_type": "markdown",
   "id": "223f6645-1902-4e43-a8ac-753bd45e536e",
   "metadata": {},
   "source": [
    "* <b> else in for : </b> else will execute when for loop will exit with condition."
   ]
  },
  {
   "cell_type": "code",
   "execution_count": 6,
   "id": "da79e131-55aa-47b2-8928-d95222e49032",
   "metadata": {},
   "outputs": [
    {
     "name": "stdout",
     "output_type": "stream",
     "text": [
      "0\n",
      "1\n",
      "2\n",
      "3\n",
      "4\n",
      "5\n",
      "6\n",
      "7\n",
      "8\n",
      "9\n",
      "10\n",
      "this is inside of 'for'\n"
     ]
    }
   ],
   "source": [
    "for i in range(11):\n",
    "    print(i)\n",
    "\n",
    "else:   #when condition will be false\n",
    "    print(\"this is inside of 'for'\")"
   ]
  },
  {
   "cell_type": "markdown",
   "id": "8cec5412-b15f-407a-9042-deeb0bbcb3b1",
   "metadata": {},
   "source": [
    "* <b>break with for loop :</b>\n",
    "\n",
    "* if loop will execute with condition, then break will stop generating output\n",
    "* else will execute when for loop will exit with condition\n",
    "* not exit with break, else will run with suceess termination of for  "
   ]
  },
  {
   "cell_type": "code",
   "execution_count": 7,
   "id": "80fdd944-40e5-4b2d-b742-cc42616119aa",
   "metadata": {},
   "outputs": [
    {
     "name": "stdout",
     "output_type": "stream",
     "text": [
      "0\n",
      "1\n",
      "2\n",
      "3\n",
      "4\n",
      "5\n"
     ]
    }
   ],
   "source": [
    "for i in range(11):\n",
    "    print(i)\n",
    "    if i == 5 :\n",
    "        break\n",
    "else:\n",
    "    print(\"this is inside of 'for'\")      # 0 1 2 3 4 5"
   ]
  },
  {
   "cell_type": "code",
   "execution_count": 9,
   "id": "3780859b-99db-4f6a-8c5d-0cef270cf59c",
   "metadata": {},
   "outputs": [
    {
     "name": "stdout",
     "output_type": "stream",
     "text": [
      "0\n",
      "1\n",
      "2\n",
      "3\n",
      "4\n",
      "5\n"
     ]
    }
   ],
   "source": [
    "for i in range(8):\n",
    "    print(i)\n",
    "    if(i==5):\n",
    "        break\n",
    "else:\n",
    "    print(\"this is inside of 'for'\")  # 0 1 2 3 this is inside of 'for'"
   ]
  },
  {
   "cell_type": "markdown",
   "id": "f618c02f-b910-4bd7-be7f-e55a856befa2",
   "metadata": {},
   "source": [
    "* <b>continue with for loop :</b> if condition will be true than continue statement skip generating that all input creating under the condition when it is true then start printing the ouput."
   ]
  },
  {
   "cell_type": "code",
   "execution_count": 11,
   "id": "c1f5e9ea-a1ce-48ed-b082-585ef6e39462",
   "metadata": {},
   "outputs": [
    {
     "name": "stdout",
     "output_type": "stream",
     "text": [
      "0\n",
      "1\n",
      "2\n",
      "3\n",
      "4\n",
      "6\n",
      "8\n",
      "9\n",
      "10\n"
     ]
    }
   ],
   "source": [
    "for i in range(11):\n",
    "    if i == 5 or i == 7 :\n",
    "        continue\n",
    "    print(i)"
   ]
  },
  {
   "cell_type": "markdown",
   "id": "126381ba-e09f-4d17-9976-7aef64ca1895",
   "metadata": {},
   "source": [
    "* print multiplication table using loop."
   ]
  },
  {
   "cell_type": "markdown",
   "id": "dd7ddb95-df3c-4dd6-b1e8-b5abb3b1a0b9",
   "metadata": {},
   "source": [
    "<b> way 1 : </b>"
   ]
  },
  {
   "cell_type": "code",
   "execution_count": 16,
   "id": "fdac781c-c2c2-49ed-a10f-d2f01f5de9eb",
   "metadata": {},
   "outputs": [
    {
     "name": "stdin",
     "output_type": "stream",
     "text": [
      "enter number to print table :  2\n"
     ]
    },
    {
     "name": "stdout",
     "output_type": "stream",
     "text": [
      "2\n",
      "4\n",
      "6\n",
      "8\n",
      "10\n",
      "12\n",
      "14\n",
      "16\n",
      "18\n",
      "20\n"
     ]
    }
   ],
   "source": [
    "num = int(input(\"enter number to print table : \"))\n",
    "i = 1\n",
    "for i in range(1,11):\n",
    "    print(i * num)"
   ]
  },
  {
   "cell_type": "markdown",
   "id": "355906d8-54ae-4246-a2c4-05251334ed51",
   "metadata": {},
   "source": [
    "<b> way 2 : </b>"
   ]
  },
  {
   "cell_type": "code",
   "execution_count": 17,
   "id": "febc8eb3-18e2-4456-a60d-56051496aee0",
   "metadata": {},
   "outputs": [
    {
     "name": "stdin",
     "output_type": "stream",
     "text": [
      "enter number to print table :  2\n"
     ]
    },
    {
     "name": "stdout",
     "output_type": "stream",
     "text": [
      "2  X  1  =  2\n",
      "2  X  2  =  4\n",
      "2  X  3  =  6\n",
      "2  X  4  =  8\n",
      "2  X  5  =  10\n",
      "2  X  6  =  12\n",
      "2  X  7  =  14\n",
      "2  X  8  =  16\n",
      "2  X  9  =  18\n",
      "2  X  10  =  20\n"
     ]
    }
   ],
   "source": [
    "num = int(input(\"enter number to print table : \"))\n",
    "i = 1\n",
    "for i in range(1,11):\n",
    "    print(num, \" X \" ,i, \" = \",i*num)"
   ]
  },
  {
   "cell_type": "markdown",
   "id": "b869ac4b-9f72-46f5-87ab-46a207332edd",
   "metadata": {},
   "source": [
    "<b> way 3 : </b>"
   ]
  },
  {
   "cell_type": "code",
   "execution_count": 18,
   "id": "94446594-7d65-4bca-b048-8df3e09f5931",
   "metadata": {},
   "outputs": [
    {
     "name": "stdin",
     "output_type": "stream",
     "text": [
      "enter number to print table :  2\n"
     ]
    },
    {
     "name": "stdout",
     "output_type": "stream",
     "text": [
      "2 X 1 = 2\n",
      "2 X 2 = 4\n",
      "2 X 3 = 6\n",
      "2 X 4 = 8\n",
      "2 X 5 = 10\n",
      "2 X 6 = 12\n",
      "2 X 7 = 14\n",
      "2 X 8 = 16\n",
      "2 X 9 = 18\n",
      "2 X 10 = 20\n"
     ]
    }
   ],
   "source": [
    "num = int(input(\"enter number to print table : \"))\n",
    "i = 1\n",
    "for i in range(1,11):\n",
    "    print(f\"{num} X {i} = {i*num}\")"
   ]
  },
  {
   "cell_type": "markdown",
   "id": "584956b4-a795-4ab7-b619-b2bde5fab4a8",
   "metadata": {},
   "source": [
    "<b>NOTE : </b> try to study str() and fstrings too  f\"string_char {values,express,calculation}string_char {values,express,calculation}string_char {values,express,calculation}\" via online sources or in string chapter."
   ]
  },
  {
   "cell_type": "markdown",
   "id": "40325eca-3086-446b-af6f-2109accea9eb",
   "metadata": {},
   "source": [
    "<b>Quiz :</b> WAP to greet those all whose name start with 's'.\n",
    "\n",
    "names = ['ram', 'mohan', 'sohan', 'sita', 'suresh', 'lakhan', 'sachin', 'harry']"
   ]
  },
  {
   "cell_type": "code",
   "execution_count": 20,
   "id": "a137f0c9-252b-41e1-badb-86172940e3bb",
   "metadata": {},
   "outputs": [
    {
     "name": "stdout",
     "output_type": "stream",
     "text": [
      "list :  ['ram', 'mohan', 'sohan', 'sita', 'suresh', 'lakhan', 'sachin', 'harry'] \n",
      "greeting for all whose names starts with 's' :\n",
      "Good morning...!,  sohan\n",
      "Good morning...!,  sita\n",
      "Good morning...!,  suresh\n",
      "Good morning...!,  sachin\n"
     ]
    }
   ],
   "source": [
    "names = ['ram', 'mohan', 'sohan', 'sita', 'suresh', 'lakhan', 'sachin', 'harry']\n",
    "print(\"list : \",names,\"\\ngreeting for all whose names starts with 's' :\")\n",
    "\n",
    "for name in names:\n",
    "    if name.startswith(\"s\"):\n",
    "        print(\"Good morning...!, \",name)"
   ]
  },
  {
   "cell_type": "markdown",
   "id": "02e0d784-0b04-44ab-84c5-9e291cd728f8",
   "metadata": {},
   "source": [
    "<b>Quiz :</b> WAP to check weather number is prime or not."
   ]
  },
  {
   "cell_type": "code",
   "execution_count": 22,
   "id": "9d9f5a9e-4b21-4beb-bcc7-def90d55218d",
   "metadata": {},
   "outputs": [
    {
     "name": "stdin",
     "output_type": "stream",
     "text": [
      "enter any number to check wether number is prime or not :  7\n"
     ]
    },
    {
     "name": "stdout",
     "output_type": "stream",
     "text": [
      "7  is prime number...\n"
     ]
    }
   ],
   "source": [
    "num = int(input(\"enter any number to check wether number is prime or not : \"))\n",
    "prime = True\n",
    "for i in range(2,num):\n",
    "    if num % i == 0 and num != 2 :\n",
    "        prime = False\n",
    "        break\n",
    "\n",
    "if prime:\n",
    "    print(num,\" is prime number...\")\n",
    "else:\n",
    "    print(num,\" is not prime number...\")"
   ]
  },
  {
   "cell_type": "markdown",
   "id": "12bfc959-1f72-4d53-925b-7266b83bf2b2",
   "metadata": {},
   "source": [
    "<b>Quiz : </b> WAP to findout factorial."
   ]
  },
  {
   "cell_type": "code",
   "execution_count": 23,
   "id": "14c662ea-0ac4-42c9-b496-bc77e140bbde",
   "metadata": {},
   "outputs": [
    {
     "name": "stdin",
     "output_type": "stream",
     "text": [
      "enter any number to get factorial :  5\n"
     ]
    },
    {
     "name": "stdout",
     "output_type": "stream",
     "text": [
      "factorial of 5 is : 120\n"
     ]
    }
   ],
   "source": [
    "num = int(input(\"enter any number to get factorial : \"))\n",
    "fact = 1\n",
    "for i in range(1,num+1):\n",
    "    fact = fact *i\n",
    "print(f\"factorial of {num} is : {fact}\")"
   ]
  },
  {
   "cell_type": "markdown",
   "id": "8d493a1c-750a-4155-a865-60125a5f87a8",
   "metadata": {},
   "source": [
    "<b>Quiz : </b> WAP to print first 'n' natual number using while loop."
   ]
  },
  {
   "cell_type": "code",
   "execution_count": 25,
   "id": "21588d38-e3ea-4703-8bf5-1b891623ea92",
   "metadata": {},
   "outputs": [
    {
     "name": "stdin",
     "output_type": "stream",
     "text": [
      "enter range to get sum of first natural number :  5\n"
     ]
    },
    {
     "name": "stdout",
     "output_type": "stream",
     "text": [
      "natural no. are : \n",
      "1\n",
      "2\n",
      "3\n",
      "4\n",
      "5\n",
      "sum of first 5 natural no. is : 15\n"
     ]
    }
   ],
   "source": [
    "num = int(input(\"enter range to get sum of first natural number : \"))\n",
    "sum = 0\n",
    "i = 1\n",
    "print(\"natural no. are : \")\n",
    "while i < num+1 :\n",
    "    sum = sum + i\n",
    "    n = i\n",
    "    print(n)\n",
    "    i += 1\n",
    "print(f\"sum of first {i-1} natural no. is : {sum}\")"
   ]
  },
  {
   "cell_type": "markdown",
   "id": "072e1ae7-eaae-4c03-abf5-2184634da151",
   "metadata": {},
   "source": [
    "<b>Quiz : </b> WAP to print first 'n' natual number using for loop."
   ]
  },
  {
   "cell_type": "code",
   "execution_count": 24,
   "id": "3791ea97-8f0c-4299-b578-9372051fe0c2",
   "metadata": {},
   "outputs": [
    {
     "name": "stdin",
     "output_type": "stream",
     "text": [
      "enter range to get sum of first natural number :  5\n"
     ]
    },
    {
     "name": "stdout",
     "output_type": "stream",
     "text": [
      "natural no. are : \n",
      "1\n",
      "2\n",
      "3\n",
      "4\n",
      "5\n",
      "sum of first 5 natural no. is : 15\n"
     ]
    }
   ],
   "source": [
    "num = int(input(\"enter range to get sum of first natural number : \"))\n",
    "sum = 0\n",
    "i = 1\n",
    "print(\"natural no. are : \")\n",
    "for i in range(i,num+1) :\n",
    "    sum = sum + i\n",
    "    n = i\n",
    "    print(n)\n",
    "    i += 1\n",
    "print(f\"sum of first {i-1} natural no. is : {sum}\")"
   ]
  },
  {
   "cell_type": "markdown",
   "id": "5f2d1f4d-7ef5-4218-b09e-bdc8f8b68e19",
   "metadata": {},
   "source": [
    "<b>Quiz : </b> WAP to write Reverse Multiplication Table using loop."
   ]
  },
  {
   "cell_type": "code",
   "execution_count": 26,
   "id": "d3c647d2-7584-40c1-8bf3-f72816fb6e2e",
   "metadata": {},
   "outputs": [
    {
     "name": "stdin",
     "output_type": "stream",
     "text": [
      "enter number to get table :  2\n"
     ]
    },
    {
     "name": "stdout",
     "output_type": "stream",
     "text": [
      "2 X 10 = 20\n",
      "2 X 9 = 18\n",
      "2 X 8 = 16\n",
      "2 X 7 = 14\n",
      "2 X 6 = 12\n",
      "2 X 5 = 10\n",
      "2 X 4 = 8\n",
      "2 X 3 = 6\n",
      "2 X 2 = 4\n",
      "2 X 1 = 2\n"
     ]
    }
   ],
   "source": [
    "num = int(input(\"enter number to get table : \"))\n",
    "limit = 10\n",
    "i = 0\n",
    "for i in range(limit,i,-1):\n",
    "    print(f\"{num} X {i} = {num*i}\")"
   ]
  },
  {
   "cell_type": "markdown",
   "id": "b6e4557b-4b0a-4e63-a375-445da163e7ae",
   "metadata": {},
   "source": [
    "### Let's try patterns using control statements and loops :"
   ]
  },
  {
   "cell_type": "markdown",
   "id": "2d04c3a7-2d94-4124-afe4-f3ce8b42fcd8",
   "metadata": {},
   "source": [
    "<b>1. print tringle :</b>"
   ]
  },
  {
   "cell_type": "raw",
   "id": "77a20c73-db81-4bff-aeb1-d49e65942030",
   "metadata": {},
   "source": [
    "  *  \n",
    " *** \n",
    "*****"
   ]
  },
  {
   "cell_type": "code",
   "execution_count": 11,
   "id": "cf00a6f0-05a2-47b8-8f36-bc29dc28fede",
   "metadata": {},
   "outputs": [
    {
     "name": "stdout",
     "output_type": "stream",
     "text": [
      "  *  \n",
      " *** \n",
      "*****\n"
     ]
    }
   ],
   "source": [
    "i = 3\n",
    "for i in range(3) :\n",
    "    print(\" \" * (3-i-1),end=\"\")\n",
    "    print(\"*\" * (2*i+1),end=\"\")\n",
    "    print(\" \" * (3-i-1))"
   ]
  },
  {
   "cell_type": "code",
   "execution_count": 17,
   "id": "ed40dd91-dc8a-4f97-b12b-f6699aa079bd",
   "metadata": {},
   "outputs": [
    {
     "name": "stdin",
     "output_type": "stream",
     "text": [
      "enter range :  3\n"
     ]
    },
    {
     "name": "stdout",
     "output_type": "stream",
     "text": [
      "  *  \n",
      " *** \n",
      "*****\n"
     ]
    }
   ],
   "source": [
    "n = int(input(\"enter range : \"))\n",
    "i = n\n",
    "for i in range(n):\n",
    "    print(\" \" * (n-i-1),end = \"\")\n",
    "    print(\"*\" * (2*i+1),end = \"\")\n",
    "    print(\" \" * (n-i-1))"
   ]
  },
  {
   "cell_type": "markdown",
   "id": "b8f27770-752a-4654-b107-585c34ed2d05",
   "metadata": {},
   "source": [
    "<b>2. right side tringle :</b>"
   ]
  },
  {
   "cell_type": "code",
   "execution_count": 18,
   "id": "031516c0-52cb-4392-abb6-4b92d031db82",
   "metadata": {},
   "outputs": [
    {
     "name": "stdout",
     "output_type": "stream",
     "text": [
      "*\n",
      "**\n",
      "***\n",
      "****\n"
     ]
    }
   ],
   "source": [
    "for i in range(4):\n",
    "    print(\"*\" * (i+1))"
   ]
  },
  {
   "cell_type": "code",
   "execution_count": 19,
   "id": "dd668194-4b3e-41f8-afe0-d4cd625436c8",
   "metadata": {},
   "outputs": [
    {
     "name": "stdin",
     "output_type": "stream",
     "text": [
      "enter range :  3\n"
     ]
    },
    {
     "name": "stdout",
     "output_type": "stream",
     "text": [
      "*\n",
      "**\n",
      "***\n"
     ]
    }
   ],
   "source": [
    "n = int(input(\"enter range : \"))\n",
    "for i in range(n) : \n",
    "    print(\"*\" * (i + 1))"
   ]
  },
  {
   "cell_type": "markdown",
   "id": "05d05bf2-e9fa-471c-bbee-e5f86c1769d1",
   "metadata": {},
   "source": [
    "<b>3. left side tringle :</b>"
   ]
  },
  {
   "cell_type": "code",
   "execution_count": 20,
   "id": "7e4baece-d812-419f-8b90-7715cfe4f0c2",
   "metadata": {},
   "outputs": [
    {
     "name": "stdout",
     "output_type": "stream",
     "text": [
      "*****\n",
      "****\n",
      "***\n",
      "**\n",
      "*\n"
     ]
    }
   ],
   "source": [
    "for i in range(5) :\n",
    "    print(\"*\" * (5-i))"
   ]
  },
  {
   "cell_type": "code",
   "execution_count": 23,
   "id": "b06a076c-2d42-4ef6-9b68-993692a40f18",
   "metadata": {},
   "outputs": [
    {
     "name": "stdin",
     "output_type": "stream",
     "text": [
      "enter range :  5\n"
     ]
    },
    {
     "name": "stdout",
     "output_type": "stream",
     "text": [
      "*****\n",
      "****\n",
      "***\n",
      "**\n",
      "*\n"
     ]
    }
   ],
   "source": [
    "n = int(input(\"enter range : \"))\n",
    "for i in range(n):\n",
    "    print(\"*\" * (n-i))"
   ]
  },
  {
   "cell_type": "markdown",
   "id": "20366dfe-0c52-4a46-8437-e4842c9b3826",
   "metadata": {},
   "source": [
    "* <b>some more patterns :</b>"
   ]
  },
  {
   "cell_type": "code",
   "execution_count": null,
   "id": "7b56b33c-6bf8-44ad-81f5-3e147fb2475b",
   "metadata": {},
   "outputs": [],
   "source": []
  },
  {
   "cell_type": "markdown",
   "id": "ca6698a8-cc42-4d62-9574-bcafd237a401",
   "metadata": {},
   "source": [
    "### Function & Recursion:"
   ]
  },
  {
   "cell_type": "markdown",
   "id": "b12b1e6d-3006-4bf3-9b34-0fb770d0f3e8",
   "metadata": {},
   "source": [
    "### function:\n",
    "group of statement or specific task you can use it and we can stop repeatation to write code and use it many times."
   ]
  },
  {
   "cell_type": "markdown",
   "id": "4c33d698-5fc9-470e-bd56-417ade6eee66",
   "metadata": {},
   "source": [
    "A function is a block of code which only runs when it is called. You can pass data, known as parameters, into a function. A function can return data as a result."
   ]
  },
  {
   "cell_type": "markdown",
   "id": "6aa4f8fa-3237-4093-81c2-80031355dfb6",
   "metadata": {},
   "source": [
    "when a code gets bigger in size and complexity of it grows,it gets difficult to track specific statement. so, a function can be reused by the programmer in a given program any number of times."
   ]
  },
  {
   "cell_type": "markdown",
   "id": "d04a267f-c936-478b-a5de-beec7db267be",
   "metadata": {},
   "source": [
    "<b>SYNTAX : </b>\n",
    "<pre>\n",
    "def function_name(parameters):                ---> function defination\n",
    "                  block_of_statements;        ---> function_body\n",
    "              \n",
    "function(parameter)                           ---> funtion calling</pre>"
   ]
  },
  {
   "cell_type": "markdown",
   "id": "42076775-55d0-4f13-9b81-fe34951801b8",
   "metadata": {},
   "source": [
    "1. in simple way"
   ]
  },
  {
   "cell_type": "code",
   "execution_count": 25,
   "id": "8c0e4f76-d02e-41ed-b3a3-94f4947504e9",
   "metadata": {},
   "outputs": [
    {
     "name": "stdout",
     "output_type": "stream",
     "text": [
      "71.5\n",
      "81.5\n"
     ]
    }
   ],
   "source": [
    "marks1 = [45, 78, 86, 77]\n",
    "marks2 = [75, 89, 92, 70]\n",
    "\n",
    "p1 = ((sum(marks1) / 400) * 100)\n",
    "p2 = ((sum(marks2) / 400) * 100)\n",
    "\n",
    "print(p1)\n",
    "print(p2)"
   ]
  },
  {
   "cell_type": "markdown",
   "id": "b5f423ec-4acd-4496-bca2-f283d2ada7ce",
   "metadata": {},
   "source": [
    "2. using function"
   ]
  },
  {
   "cell_type": "code",
   "execution_count": 27,
   "id": "9475982d-e6d4-4d12-b05a-235da8255327",
   "metadata": {},
   "outputs": [
    {
     "name": "stdout",
     "output_type": "stream",
     "text": [
      "71.5\n",
      "81.5\n"
     ]
    }
   ],
   "source": [
    "def percent(marks):                        # function definition\n",
    "    return (sum(marks) / 400) * 100        # function body\n",
    "\n",
    "marks1 = [45, 78, 86, 77]\n",
    "marks2 = [75, 89, 92, 70]\n",
    "\n",
    "p1 = percent(marks1)      # function calling\n",
    "p2 = percent(marks2)      # function calling\n",
    "\n",
    "print(p1)\n",
    "print(p2)"
   ]
  },
  {
   "cell_type": "markdown",
   "id": "aab28af9-7c37-49a7-9972-3a056e2969ab",
   "metadata": {},
   "source": [
    "* some more"
   ]
  },
  {
   "cell_type": "code",
   "execution_count": 28,
   "id": "e2388921-d0ec-46ff-a214-3bbd507bdd4b",
   "metadata": {},
   "outputs": [
    {
     "name": "stdout",
     "output_type": "stream",
     "text": [
      "you are welcome\n",
      "have a good day !! ram\n"
     ]
    }
   ],
   "source": [
    "def demo():\n",
    "    print('you are welcome')\n",
    "def demo1(name):\n",
    "    print('have a good day !!',name)\n",
    "\n",
    "demo()\n",
    "demo1('ram')"
   ]
  },
  {
   "cell_type": "markdown",
   "id": "371298b3-f906-46e7-997c-a58eef593433",
   "metadata": {},
   "source": [
    "### types of functions :"
   ]
  },
  {
   "cell_type": "markdown",
   "id": "7982dff9-d9b0-48d7-8196-7607dfdb5cf2",
   "metadata": {},
   "source": [
    "function can return results or print directly but most of them, there are two type of functions :\n",
    "\n",
    "1. built-in : already define in python's library\n",
    "2. user-defined : defined by users"
   ]
  },
  {
   "cell_type": "markdown",
   "id": "4cc2c7b8-5c22-44e5-90b1-a55a6be868ff",
   "metadata": {},
   "source": [
    "* <b>built-in function :</b>"
   ]
  },
  {
   "cell_type": "code",
   "execution_count": 29,
   "id": "3f0e1fe9-7cbe-4c43-9e0e-851b4b468a72",
   "metadata": {},
   "outputs": [
    {
     "name": "stdout",
     "output_type": "stream",
     "text": [
      "100\n"
     ]
    }
   ],
   "source": [
    "mark = [10, 20, 30, 40]\n",
    "print(sum(mark))    # here sum()  is built-in function"
   ]
  },
  {
   "cell_type": "markdown",
   "id": "1051c8f9-3854-4b1e-9991-12b9f985a108",
   "metadata": {},
   "source": [
    "* <b>user defined function :</b>"
   ]
  },
  {
   "cell_type": "code",
   "execution_count": 31,
   "id": "793d7a6b-53dc-48c2-8a83-c8c9d1507d03",
   "metadata": {},
   "outputs": [
    {
     "name": "stdout",
     "output_type": "stream",
     "text": [
      "good morning !!!, raj\n"
     ]
    }
   ],
   "source": [
    "def greet(name):\n",
    "    print('good morning !!!,', name)    # here greet is user define function\n",
    "greet('raj')"
   ]
  },
  {
   "cell_type": "markdown",
   "id": "2c6fd457-d87d-4602-b534-b0b95fa0e519",
   "metadata": {},
   "source": [
    "* let's see them in deep by some more examples :"
   ]
  },
  {
   "cell_type": "code",
   "execution_count": 2,
   "id": "dc6e218f-2707-4d37-99a2-f9d8b97d0001",
   "metadata": {},
   "outputs": [
    {
     "name": "stdout",
     "output_type": "stream",
     "text": [
      "219\n"
     ]
    }
   ],
   "source": [
    "def add(x,y,z):\n",
    "    return x + y + z\n",
    "    \n",
    "a = add(45,85,89)\n",
    "print(a)"
   ]
  },
  {
   "cell_type": "code",
   "execution_count": 1,
   "id": "e9719712-7da8-4d9f-8c10-bff695fe3dfd",
   "metadata": {},
   "outputs": [
    {
     "name": "stdout",
     "output_type": "stream",
     "text": [
      "219\n"
     ]
    }
   ],
   "source": [
    "def add(x,y,z):\n",
    "    sum =  x + y + z\n",
    "    return sum\n",
    "    \n",
    "a = add(45,85,89)\n",
    "print(a)"
   ]
  },
  {
   "cell_type": "code",
   "execution_count": 3,
   "id": "9373dadf-da7b-41f9-8a6d-d407d95c99f6",
   "metadata": {},
   "outputs": [
    {
     "data": {
      "text/plain": [
       "'hello Mr. R'"
      ]
     },
     "execution_count": 3,
     "metadata": {},
     "output_type": "execute_result"
    }
   ],
   "source": [
    "def gret(name):\n",
    "    gr = \"hello \" + name\n",
    "    return gr\n",
    "    \n",
    "gret('Mr. R')"
   ]
  },
  {
   "cell_type": "code",
   "execution_count": 5,
   "id": "ae08b3fa-5f12-4b34-a5cf-133baa452828",
   "metadata": {},
   "outputs": [
    {
     "name": "stdout",
     "output_type": "stream",
     "text": [
      "addition :  60 \n",
      "subtraction :  15\n"
     ]
    }
   ],
   "source": [
    "def add(x,y):\n",
    "    return x + y\n",
    "\n",
    "def sub(x,y):\n",
    "    return x - y\n",
    "\n",
    "a = add(45,15)\n",
    "b = sub(26,11)\n",
    "print(\"addition : \",a,\"\\nsubtraction : \",b)"
   ]
  },
  {
   "cell_type": "code",
   "execution_count": 6,
   "id": "384ae1dd-e7b9-4354-9f8c-20955fc6710a",
   "metadata": {},
   "outputs": [
    {
     "name": "stdout",
     "output_type": "stream",
     "text": [
      "addition :  60 \n",
      "subtraction :  15\n"
     ]
    }
   ],
   "source": [
    "def add(x,y):\n",
    "    add = x + y\n",
    "    return add\n",
    "\n",
    "def sub(x,y):\n",
    "    sub = x - y\n",
    "    return sub\n",
    "\n",
    "a = add(45,15)\n",
    "b = sub(26,11)\n",
    "print(\"addition : \",a,\"\\nsubtraction : \",b)"
   ]
  },
  {
   "cell_type": "markdown",
   "id": "bccbce01-a1fc-4e47-839a-408edb09e3d0",
   "metadata": {},
   "source": [
    "* <h4>Arguments in functions :</h4>\n",
    "The terms parameter and argument can be used for the same thing: information that are passed into a function. From a function's perspective: A parameter is the variable listed inside the parentheses in the function definition. An argument is the value that are sent to the function when it is called."
   ]
  },
  {
   "cell_type": "markdown",
   "id": "b070b045-ea2e-4861-8e4a-8dbcb4c34d1e",
   "metadata": {},
   "source": [
    "There are two type of arguments in function:<br>\n",
    "\n",
    "<b>1. Formal Arguments : </b> the args used in function's definition.<br>\n",
    "<b>2. Actual Arguments : </b>  the args used in function's calling.<br>\n",
    "Let's understand it by following example."
   ]
  },
  {
   "cell_type": "code",
   "execution_count": 1,
   "id": "b24909a6-3b9d-494f-a1db-5c90ef12f9f7",
   "metadata": {},
   "outputs": [
    {
     "data": {
      "text/plain": [
       "5"
      ]
     },
     "execution_count": 1,
     "metadata": {},
     "output_type": "execute_result"
    }
   ],
   "source": [
    "def add(a,b):     # formal args : a,b\n",
    "    return a + b\n",
    "\n",
    "add(2,3)     # Actual args : 2,3"
   ]
  },
  {
   "cell_type": "markdown",
   "id": "0c2e8d68-4534-4007-bf12-e729ce51c452",
   "metadata": {},
   "source": [
    "there are <b>four</b> types of argument in python functions as per use.\n",
    "* number of arguments/ required/ positional argument\n",
    "* keyword arguments\n",
    "* default arguments\n",
    "* variable arguments"
   ]
  },
  {
   "cell_type": "markdown",
   "id": "a51f7b16-fd0d-43bd-ad8a-172d2951f6d3",
   "metadata": {},
   "source": [
    "<b>1. number of arguments/ required argument/ positional argument : </b>\n",
    "there are any number of args can have in function if you put there specific number of args then that would be necessary to give same number of args as input of values at function's calling.\n",
    "\n",
    "By default, a function must be called with the correct number of arguments. Meaning that if your function expects 2 arguments, you have to call the function with 2 arguments, not more, and not less.\n",
    "\n",
    "it follows the position order.\n",
    "\n",
    "the no. of args and order of args in the function call must be the same as that in the function definition.\n",
    "\n",
    "you can't call any function without required args."
   ]
  },
  {
   "cell_type": "markdown",
   "id": "24b9ee5f-c443-421e-850f-c8a1c4f673b7",
   "metadata": {},
   "source": [
    "<b>Example : </b> we create a function expects 2 arguments. so, we only can gets 2 arguments, it means not more than 2 and aslo less than 2."
   ]
  },
  {
   "cell_type": "markdown",
   "id": "709ca4c4-9d47-439d-80fa-28ac10a6b1e0",
   "metadata": {},
   "source": [
    "<b>SYNTAX : </b>\n",
    "<pre>\n",
    "def function_name(args1,args2):                ------------> function definition \n",
    "    function body....\n",
    "    .................\n",
    "\n",
    "function_name(parameter1, parameter2)           ----------> function calling with required args\n",
    "</pre>"
   ]
  },
  {
   "cell_type": "code",
   "execution_count": 8,
   "id": "9ac6dd47-d2d7-4e83-b218-5110b30084a7",
   "metadata": {},
   "outputs": [
    {
     "name": "stdout",
     "output_type": "stream",
     "text": [
      "my full name is raj - kumar.\n"
     ]
    }
   ],
   "source": [
    "def fullName(x,y):\n",
    "    print(f\"my full name is {x} - {y}.\")\n",
    "\n",
    "fullName(\"raj\", \"kumar\")"
   ]
  },
  {
   "cell_type": "code",
   "execution_count": 4,
   "id": "d31ee565-c4b7-4a2b-bc03-b004e90d9131",
   "metadata": {},
   "outputs": [
    {
     "name": "stdout",
     "output_type": "stream",
     "text": [
      "way 1 :\n",
      "1 =  1\n",
      "2 =  2\n",
      "3 =  3\n",
      "way 2 :\n",
      "1 =  3\n",
      "2 =  2\n",
      "3 =  1\n"
     ]
    }
   ],
   "source": [
    "def order(a,b,c):\n",
    "    print(\"1 = \",a)\n",
    "    print(\"2 = \",b)\n",
    "    print(\"3 = \",c)\n",
    "\n",
    "print(\"way 1 :\")\n",
    "order(1,2,3)\n",
    "print(\"way 2 :\")\n",
    "order(3,2,1)   # see the order of values"
   ]
  },
  {
   "cell_type": "markdown",
   "id": "b17e3139-59a2-42d7-ae00-5703fa68bd47",
   "metadata": {},
   "source": [
    "* if we don't give same number of args as that function expect than"
   ]
  },
  {
   "cell_type": "markdown",
   "id": "cf9865b5-c020-415a-abb4-e921f65ecff6",
   "metadata": {},
   "source": [
    "<pre><b>ERROR of No. of Args :</b>\n",
    "<Blockquote>\n",
    "def myfun(x,y):\n",
    "    print(f\"my full name is {x} {y}.\")\n",
    "\n",
    "myfun(\"raj\")\n",
    "</Blockquote>\n",
    "<b>Output:</b>\n",
    "---------------------------------------------------------------------------\n",
    "<b>TypeError</b>                          Traceback (most recent call last)\n",
    "Cell <b>In[9], line 3</b>\n",
    "      1 def myfun(x,y):\n",
    "      2     print(f\"my full name is {x} {y}.\")\n",
    "----> <b>4</b> myfun(\"raj\")\n",
    "\n",
    "<b>TypeError:</b> myfun() missing 1 required positional argument: 'y'</pre>"
   ]
  },
  {
   "cell_type": "markdown",
   "id": "3375a769-d70a-4ea1-ba78-93fb2197ee1c",
   "metadata": {},
   "source": [
    "<b>2. Keyword Argument : </b> \n",
    "allow us to change the positional orgers of args. python interpreter uses the keywords provided to match the values with parameters."
   ]
  },
  {
   "cell_type": "markdown",
   "id": "d7ee7485-89e7-45a4-b02e-776d0df37b2b",
   "metadata": {},
   "source": [
    "<b>SYNTAX : </b>\n",
    "<pre>\n",
    "def fun_name(agrs, args):            -------> function definition\n",
    "    function body.....\n",
    "    ..................\n",
    "\n",
    "fun_name(args1 = value1, args1 = value2) -------> function calling with using formal args as keywords.\n",
    "</pre>"
   ]
  },
  {
   "cell_type": "code",
   "execution_count": 5,
   "id": "3722fd59-8798-4a6c-9e2f-2c437700fbab",
   "metadata": {},
   "outputs": [
    {
     "name": "stdout",
     "output_type": "stream",
     "text": [
      "my name is raj with 23 year's old...\n"
     ]
    }
   ],
   "source": [
    "def intro(name,age):\n",
    "    print(f\"my name is {name} with {age} year's old...\")\n",
    "\n",
    "intro(age = 23, name = \"raj\")"
   ]
  },
  {
   "cell_type": "markdown",
   "id": "924ef3e1-b3e4-44c6-8980-90fd88c8b86d",
   "metadata": {},
   "source": [
    "<b>3. default : </b>\n",
    "we can have a value as default argument in functions, if we have specify name = 'stranger' in line.\n",
    "\n",
    "for it, it write args with their default values and when we don't call function with right values it use default value given in function's definition."
   ]
  },
  {
   "cell_type": "markdown",
   "id": "ff665071-1732-459d-98c2-00f58663f7a4",
   "metadata": {},
   "source": [
    "<b>Example : </b> def function_name(args = values):"
   ]
  },
  {
   "cell_type": "code",
   "execution_count": null,
   "id": "0c858d6f-d1bf-4879-be78-8f9df2a65a05",
   "metadata": {},
   "outputs": [],
   "source": [
    "<b>SYNTAX : </b>\n",
    "<pre>\n",
    "def fun_name(agrs1, args2 = \"default value\"):     -------> function definition\n",
    "    function body.....\n",
    "    ..................\n",
    "\n",
    "fun_name(value1, value2)     -------> function calling with using formal args as keywords.\n",
    "</pre>"
   ]
  },
  {
   "cell_type": "code",
   "execution_count": 16,
   "id": "c332edbf-69d3-4015-8cda-691145da29b1",
   "metadata": {},
   "outputs": [
    {
     "name": "stdout",
     "output_type": "stream",
     "text": [
      "Good Morning !!!, stranger\n",
      "Good Morning !!!, raj\n"
     ]
    }
   ],
   "source": [
    "def greeting(name = 'stranger'):\n",
    "    gr = \"Good Morning !!!, \" + name\n",
    "    return gr\n",
    "\n",
    "a = greeting()\n",
    "b = greeting(\"raj\")\n",
    "print(a)\n",
    "print(b)"
   ]
  },
  {
   "cell_type": "markdown",
   "id": "e102c7f9-b298-45a2-a16e-092efed2623f",
   "metadata": {},
   "source": [
    "<b>NOTE : </b> it must be used as last argument in function's definition."
   ]
  },
  {
   "cell_type": "markdown",
   "id": "f83198c2-a5cf-4792-af62-5094271520ba",
   "metadata": {},
   "source": [
    "<pre><b>ERROR : </b>\n",
    "<Blockquote>def name(a,b=2,c):\n",
    "    print(\"a = \",a)\n",
    "    print(\"b = \",b)\n",
    "    print(\"c = \",c)\n",
    "\n",
    "name(a = 10, c = 5)</Blockquote>Blockquote>\n",
    "\n",
    "<Output :></b><br>\n",
    "----------------------------------------------------------------------\n",
    "<b>SyntaxError</b>\n",
    "<b>Cell In[6], line 1</b>\n",
    "    def name(a,b=2,c):\n",
    "                   ^\n",
    "<b>SyntaxError:</b> non-default argument follows default argument\n",
    "</pre>"
   ]
  },
  {
   "cell_type": "markdown",
   "id": "d636ac34-2b80-4fd4-a993-b77a8daf1ef6",
   "metadata": {},
   "source": [
    "<b>3. variable number arguments : </b> to add an orbitary args than specified during the function definition. Special Symbols Used for passing arguments, there are two types of keywords used in arguments. these are - \n",
    "\n",
    "1. *args (Non-Keyword Arguments)\n",
    "2. **kwargs (Keyword Arguments)"
   ]
  },
  {
   "cell_type": "markdown",
   "id": "1eff1da4-6e59-4c47-be18-f95d3d77fea5",
   "metadata": {},
   "source": [
    "<b>NOTE :</b>\n",
    "“We use the “wildcard” or “*” notation like this – *args OR **kwargs – as our function’s argument when we have doubts about the number of  arguments we should pass in a function.” "
   ]
  },
  {
   "cell_type": "markdown",
   "id": "d40b4889-2ed6-47c4-8a8a-d50455c4e8a3",
   "metadata": {},
   "source": [
    "<b>SYNTAX : </b>\n",
    "<pre>\n",
    "def function_name(args1,args2,..., *args):\n",
    "\n",
    "def function_name(args1,args2,..., *kwargs):\n",
    "</pre>"
   ]
  },
  {
   "cell_type": "markdown",
   "id": "41404421-09c0-43cc-83dc-5553fb6ade19",
   "metadata": {},
   "source": [
    "<b>SYNTAX : </b>if you have *args & **kwargs arguments.\n",
    "<pre>\n",
    "def function_name(args1,args2,..., *args, **kwargs):\n",
    "</pre>"
   ]
  },
  {
   "cell_type": "markdown",
   "id": "0fb3c78e-e9fc-428e-bbed-5f1a0f96bdd2",
   "metadata": {},
   "source": [
    "* <b>*args : </b>\n",
    "If you do not know how many arguments that will be passed into your function, add a * before the parameter name in the function definition.\n",
    "\n",
    "  This way the function will receive a tuple of arguments, and can access the items accordingly:"
   ]
  },
  {
   "cell_type": "markdown",
   "id": "096712c1-b886-4f4a-add6-58a5d20354b3",
   "metadata": {},
   "source": [
    "* If the number of arguments is unknown, add a * before the parameter name"
   ]
  },
  {
   "cell_type": "code",
   "execution_count": 9,
   "id": "f8b180c9-e1d9-4f47-b946-9391e4224cc8",
   "metadata": {},
   "outputs": [
    {
     "name": "stdout",
     "output_type": "stream",
     "text": [
      "()\n",
      "<class 'tuple'>\n",
      "(1,)\n",
      "<class 'tuple'>\n",
      "(1, 2, 3, 4, 5)\n",
      "<class 'tuple'>\n"
     ]
    }
   ],
   "source": [
    "def myfun(*args):\n",
    "    print(args)\n",
    "    print(type(args))\n",
    "\n",
    "myfun()\n",
    "myfun(1)\n",
    "myfun(1,2,3,4,5)"
   ]
  },
  {
   "cell_type": "markdown",
   "id": "d25686b0-76fc-444a-a735-45cd5172babd",
   "metadata": {},
   "source": [
    "* sum of numbers"
   ]
  },
  {
   "cell_type": "code",
   "execution_count": 11,
   "id": "ebca5d86-7cb7-4c30-9590-a752d99965f0",
   "metadata": {},
   "outputs": [
    {
     "name": "stdout",
     "output_type": "stream",
     "text": [
      "0\n",
      "4\n",
      "12\n"
     ]
    }
   ],
   "source": [
    "def add(*args):\n",
    "    sum = 0\n",
    "    for i in args:\n",
    "        sum = sum + i\n",
    "    print(sum)\n",
    "\n",
    "add()\n",
    "add(1,3)\n",
    "add(2,4,6)"
   ]
  },
  {
   "cell_type": "code",
   "execution_count": 15,
   "id": "150d649c-da83-4783-b371-4bc25a7c54cb",
   "metadata": {},
   "outputs": [
    {
     "name": "stdout",
     "output_type": "stream",
     "text": [
      "a :  1\n",
      "sum =  3\n",
      "a :  2\n",
      "sum =  10\n"
     ]
    }
   ],
   "source": [
    "def add(a, *args):\n",
    "    print(\"a : \",a)\n",
    "    sum = 0\n",
    "    for i in args:\n",
    "        sum = sum + i\n",
    "    print(\"sum = \",sum)\n",
    "\n",
    "add(1,3)\n",
    "add(2,4,6)"
   ]
  },
  {
   "cell_type": "markdown",
   "id": "e6e3dfe8-e2e1-4ccc-af9f-9b40a446cc5a",
   "metadata": {},
   "source": [
    "* If the number of arguments is unknown, add an asteric (*) before the parameter name:"
   ]
  },
  {
   "cell_type": "code",
   "execution_count": 8,
   "id": "5dfd43d8-a9e6-4186-82d8-98a246d8bb1b",
   "metadata": {},
   "outputs": [
    {
     "name": "stdout",
     "output_type": "stream",
     "text": [
      "my full name is rajendra, kumar randa\n"
     ]
    }
   ],
   "source": [
    "def myfun(*name):\n",
    "    result = f\"my full name is {name[0]}, {name[1]} {name[2]}\"\n",
    "    return result\n",
    "\n",
    "x = myfun('rajendra', 'kumar','randa')\n",
    "print(x)"
   ]
  },
  {
   "cell_type": "markdown",
   "id": "6c31bea6-94ac-4797-b6f1-edaddda0645f",
   "metadata": {},
   "source": [
    "<b>NOTE : </b> The phrase Keyword Arguments are often shortened to kwargs in Python documentations."
   ]
  },
  {
   "cell_type": "markdown",
   "id": "87875f6f-f2b9-4580-b33d-2996a8e1b212",
   "metadata": {},
   "source": [
    "* <b> **kwargs : </b>      If you do not know how many keyword arguments that will be passed into your function, add two asterisk: ** before the parameter name in the function definition. This way the function will receive a dictionary of arguments, and can access the items accordingly.\n",
    "\n",
    "If the number of keyword arguments is unknown, add a double ** before the parameter name.\n",
    "\n",
    "it takes key-value pairs like dictionary in argument and we can create dictionary and pass it as ** with variable name."
   ]
  },
  {
   "cell_type": "code",
   "execution_count": 27,
   "id": "b1f8aeff-2e28-4de5-a1b7-21292ef7481f",
   "metadata": {},
   "outputs": [
    {
     "name": "stdout",
     "output_type": "stream",
     "text": [
      "{'a': 3, 'b': 5}\n",
      "<class 'dict'>\n",
      "3\n"
     ]
    }
   ],
   "source": [
    "def myfun(**kwargs):\n",
    "    print(kwargs)\n",
    "    print(type(kwargs))\n",
    "    print(kwargs['a'])\n",
    "\n",
    "myfun(a = 3, b = 5)"
   ]
  },
  {
   "cell_type": "code",
   "execution_count": 32,
   "id": "f1c65bef-23f7-487a-91d9-a5b79eb7434f",
   "metadata": {},
   "outputs": [
    {
     "name": "stdout",
     "output_type": "stream",
     "text": [
      "a =  3\n",
      "dict_items([('a', 3), ('b', 5)])\n"
     ]
    }
   ],
   "source": [
    "def myfun(**kwargs):\n",
    "    print(\"a = \", kwargs['a'])\n",
    "    print(kwargs.items())\n",
    "\n",
    "myfun(a = 3, b = 5)"
   ]
  },
  {
   "cell_type": "code",
   "execution_count": 34,
   "id": "343dde06-4b8c-4afc-ae5e-0b63b93b8cb1",
   "metadata": {},
   "outputs": [
    {
     "name": "stdout",
     "output_type": "stream",
     "text": [
      "key :  a value :  3\n",
      "key :  b value :  5\n",
      "key :  a value :  2\n",
      "key :  b value :  4\n",
      "key :  c value :  6\n"
     ]
    }
   ],
   "source": [
    "def myfun(**kwargs):\n",
    "    for keys, values in kwargs.items():\n",
    "        print(\"key : \" ,keys,\"value : \",values)\n",
    "\n",
    "myfun(a = 3, b = 5)\n",
    "myfun(a = 2, b = 4, c = 6)"
   ]
  },
  {
   "cell_type": "code",
   "execution_count": 22,
   "id": "9e59dff1-6ab8-447d-8d1f-6de44bef15a3",
   "metadata": {},
   "outputs": [
    {
     "name": "stdout",
     "output_type": "stream",
     "text": [
      "first = Geeks\n",
      "mid = for\n",
      "last = Geeks\n"
     ]
    }
   ],
   "source": [
    "def myFun(**kwargs):\n",
    "    for key, value in kwargs.items():\n",
    "        print(f\"{key} = {value}\")\n",
    "\n",
    "# Driver code\n",
    "myFun(first='Geeks', mid='for', last='Geeks')"
   ]
  },
  {
   "cell_type": "code",
   "execution_count": 21,
   "id": "7226dd36-d6e1-46c2-bac9-f6062e45cebb",
   "metadata": {},
   "outputs": [
    {
     "name": "stdout",
     "output_type": "stream",
     "text": [
      "His last name is  Refsnes\n"
     ]
    }
   ],
   "source": [
    "def my_function(**kid):\n",
    "  print(\"His last name is \", kid[\"lname\"])\n",
    "\n",
    "my_function(fname = \"Tobias\", lname = \"Refsnes\")"
   ]
  },
  {
   "cell_type": "code",
   "execution_count": 23,
   "id": "5ccb9df4-755c-46c9-9d1d-082b2d202de3",
   "metadata": {},
   "outputs": [
    {
     "name": "stdout",
     "output_type": "stream",
     "text": [
      "a : this is a\n",
      "b : this is b\n",
      "c : this is c\n",
      "d : this is d\n"
     ]
    }
   ],
   "source": [
    "def fun1(**kwargs):\n",
    "    for key,value in kwargs.items():\n",
    "        print(key,\":\",value)\n",
    "        \n",
    "dict = {'a': 'this is a','b': 'this is b','c': 'this is c','d': 'this is d',}\n",
    "fun1(**dict)"
   ]
  },
  {
   "cell_type": "markdown",
   "id": "d424bfca-3d0b-4072-87b1-8bd2e1813612",
   "metadata": {},
   "source": [
    "<b>Ques. : </b> difference between *args and **kwargs is that *args is works for collection of values and **kwargs for dictionaries."
   ]
  },
  {
   "cell_type": "markdown",
   "id": "49815030-c119-4156-bd8a-2766eddf130a",
   "metadata": {},
   "source": [
    "by default use this argument in the last like (......**kwargs)<br>\n",
    "example of **kwargs with simple variable,"
   ]
  },
  {
   "cell_type": "code",
   "execution_count": 24,
   "id": "48c79295-7480-4273-8406-251ff1289ed8",
   "metadata": {},
   "outputs": [
    {
     "name": "stdout",
     "output_type": "stream",
     "text": [
      "this is string\n",
      "a : this is a\n",
      "b : this is b\n",
      "c : this is c\n",
      "d : this is d\n"
     ]
    }
   ],
   "source": [
    "def fun1(s,**kwargs):\n",
    "    print(s)\n",
    "    for key,value in kwargs.items():\n",
    "        print(key,\":\",value)\n",
    "        \n",
    "str = 'this is string'\n",
    "dict = {'a': 'this is a','b': 'this is b','c': 'this is c','d': 'this is d',}\n",
    "fun1(str,**dict)"
   ]
  },
  {
   "cell_type": "markdown",
   "id": "78cb66dc-f1e7-4380-b3df-a91b883ff6c4",
   "metadata": {},
   "source": [
    "let's see simple, *args and **kwargs type argument togather,<br>\n",
    "<b>order to use arguments :</b>\n",
    "default we use it in this order as : simple, default, *args, **kwargs"
   ]
  },
  {
   "cell_type": "markdown",
   "id": "758a80f9-4a78-4423-a5ba-0aaa81a1df6b",
   "metadata": {},
   "source": [
    "main thing in that, if you don't pass them as argument in the time of function calling they'll never give errors "
   ]
  },
  {
   "cell_type": "code",
   "execution_count": 36,
   "id": "cee6339d-8a80-46b9-8e81-3536d51dfe4b",
   "metadata": {},
   "outputs": [
    {
     "name": "stdout",
     "output_type": "stream",
     "text": [
      "this is python\n",
      "it is so simple\n",
      "([1, 2, 3, 4, 5], [9, 8, 7, 6], {0: 'this is 0', 'x': 'this is x', 'y': 'this is y', 'z': 'this is z'}, {0: 'this is 0', 'x': 'this is x', 'y': 'this is y', 'z': 'this is z'})\n",
      "{}\n"
     ]
    }
   ],
   "source": [
    "def show(x,y,*a,**c):\n",
    "    print(x)\n",
    "    print(y)\n",
    "    print(a)\n",
    "    print(c)\n",
    "    \n",
    "\n",
    "p = 'this is python'\n",
    "q = 'it is so simple'\n",
    "l1 = [1, 2, 3, 4, 5]\n",
    "l2 = [9, 8 , 7, 6]\n",
    "dict1 = {0: 'this is 0','x': 'this is x','y': 'this is y','z': 'this is z',}\n",
    "dict2 = {0: 'this is 0','x': 'this is x','y': 'this is y','z': 'this is z',}\n",
    "show(p,q,l1,l2,dict1,dict2)\n",
    "\n",
    "# only one * and ** parameter allowed"
   ]
  },
  {
   "cell_type": "code",
   "execution_count": 48,
   "id": "52724e56-ac34-4482-85d9-30dcfe260ff4",
   "metadata": {},
   "outputs": [
    {
     "name": "stdout",
     "output_type": "stream",
     "text": [
      "a ->  12\n",
      "b ->  10\n",
      "*t ->  (20, 30)\n",
      "**d ->  dict_items([('ONE', 'this is one'), ('TWO', 'this is two')])\n"
     ]
    }
   ],
   "source": [
    "def myfun(a,b =10,*t,**d):\n",
    "    print(\"a -> \",a)\n",
    "    print(\"b -> \",b)\n",
    "    print(\"*t -> \",t)\n",
    "    print(\"**d -> \", d.items())\n",
    "\n",
    "x = (10, 20, 30)\n",
    "y = {'ONE':\"this is one\",'TWO':\"this is two\"}\n",
    "myfun(12,*x ,**y )"
   ]
  },
  {
   "cell_type": "markdown",
   "id": "5bc36128-a9e7-49d6-b61e-8682811ff8e2",
   "metadata": {},
   "source": [
    "<b>4. variable argument : </b>\n",
    "using *args and **kwargs to call a function."
   ]
  },
  {
   "cell_type": "markdown",
   "id": "3de8f87c-0c04-455f-8118-0cd618be8604",
   "metadata": {},
   "source": [
    "<b>SYNTAX : </b><pre>\n",
    "def fun_name(args1,args2,args3):\n",
    "    function_body......\n",
    "    ...................\n",
    "\n",
    "fun_name(*args)\n",
    "fun_name(**kwargs)\n",
    "</pre>"
   ]
  },
  {
   "cell_type": "code",
   "execution_count": 35,
   "id": "2eda32b7-215c-4652-aafe-92f56c516014",
   "metadata": {},
   "outputs": [
    {
     "name": "stdout",
     "output_type": "stream",
     "text": [
      "1 3 5 7\n"
     ]
    }
   ],
   "source": [
    "def myfun(a,b,c,d):\n",
    "    print(a,b,c,d)\n",
    "\n",
    "t = (1,3,5,7)\n",
    "myfun(*t)"
   ]
  },
  {
   "cell_type": "code",
   "execution_count": 42,
   "id": "be0f962e-bc6b-470e-b28b-c7910f12a9bb",
   "metadata": {},
   "outputs": [
    {
     "name": "stdout",
     "output_type": "stream",
     "text": [
      "this is A this is B this is C this is D\n"
     ]
    }
   ],
   "source": [
    "def myfun(a,b,c,d):\n",
    "    print(a,b,c,d)\n",
    "\n",
    "d = {'a': \"this is A\", 'b':\"this is B\",'c':\"this is C\",'d': \"this is D\"}\n",
    "myfun(**d)"
   ]
  },
  {
   "cell_type": "markdown",
   "id": "5cde1232-7934-4a57-9382-7ea6102aa833",
   "metadata": {},
   "source": [
    "### Recursion:\n",
    "the function called himself is known as recursion."
   ]
  },
  {
   "cell_type": "markdown",
   "id": "fc4e4fb0-9654-4d90-9374-164905b3f138",
   "metadata": {},
   "source": [
    "<b>SYNTAX : </b>\n",
    "<pre>\n",
    "def function_name(args1, args2, .....):   ----> function definition \n",
    "    statement 1;                          ----> function body\n",
    "    function_name(args1, args2, .....)    ----> function calling itself:recursion\n",
    "\n",
    "function_name(args1, args2, ......)       ----> function calling\n",
    "</pre>"
   ]
  },
  {
   "cell_type": "markdown",
   "id": "33843746-c909-4167-80bb-eac7dc0c2a0e",
   "metadata": {},
   "source": [
    "* let's see that via example :"
   ]
  },
  {
   "cell_type": "code",
   "execution_count": 26,
   "id": "2c017063-9b8f-4180-8aae-d1af5b0601bf",
   "metadata": {},
   "outputs": [
    {
     "name": "stdout",
     "output_type": "stream",
     "text": [
      "120\n"
     ]
    }
   ],
   "source": [
    "# factorial : 4! = 4 * 3 * 2 * 1 = 42\n",
    "# n! = n * (n-1) * .......3 * 2 * 1 || fact(n) = n * fact(n-1)\n",
    "def fact(n):\n",
    "    if n == 1 or n == 0:       # coz fact of 1 or 0 is always 1\n",
    "        return 1\n",
    "    else:\n",
    "        return (n*fact(n-1))\n",
    "\n",
    "x = fact(5)\n",
    "print(x)"
   ]
  },
  {
   "cell_type": "markdown",
   "id": "2de3065f-542b-4347-83ff-8117536dca85",
   "metadata": {},
   "source": [
    "<b>NOTE : </b> be careful with using recursion  working to ensure that the function doesn't call infinitly himself.<br>\n",
    "recursion is sometimes the most direct way to code an algorithm."
   ]
  },
  {
   "cell_type": "markdown",
   "id": "d8ecc8dd-9ef8-4311-aae2-a59c99ae4bd7",
   "metadata": {},
   "source": [
    "### lambda/ Anonyoums function :\n",
    "this function create using 'lanbda' keyword.\n",
    "<br>A lambda function is a small anonymous function. it takes any number of \n",
    "arguments, but can only have one expression. it is also known as <b>one-line function</b>."
   ]
  },
  {
   "cell_type": "markdown",
   "id": "260c2f22-9dca-4d86-9d80-fc364aaca004",
   "metadata": {},
   "source": [
    "<b>SYNTAX : </b>\n",
    "<pre>\n",
    "lambda arguments : expression </pre>"
   ]
  },
  {
   "cell_type": "code",
   "execution_count": 27,
   "id": "efc5f759-da20-4b43-b578-91ef60142415",
   "metadata": {},
   "outputs": [
    {
     "name": "stdout",
     "output_type": "stream",
     "text": [
      "6\n",
      "9\n",
      "6\n"
     ]
    }
   ],
   "source": [
    "# lambda function: \n",
    "a = lambda num : num +1; print(a(5))\n",
    "square = lambda x : x*x\n",
    "sum = lambda x, y, z : x+y+z\n",
    "x = 3\n",
    "y = 2\n",
    "print(square(x)) #9\n",
    "print(sum(x,y,1)) #6"
   ]
  },
  {
   "cell_type": "markdown",
   "id": "4adacbbd-bd67-46ac-8e92-eb30129c4896",
   "metadata": {},
   "source": [
    "<b>Ques. :  Why Use Lambda Functions?</b><br>\n",
    "<b>Ans. : </b> The power of lambda is better shown when you use them as an anonymous function inside another function.<br>\n",
    "Say you have a function definition that takes one argument, and that argument will be multiplied with an unknown number.<br>\n",
    "why we use: if you wwant to create any function with one expression or\n",
    "need to return function as so you can use it that time and also can use \n",
    "it anywhere."
   ]
  },
  {
   "cell_type": "markdown",
   "id": "b781ff75-308e-4962-9f16-ad6da49f8d1d",
   "metadata": {},
   "source": [
    "* Add 10 to any given any number, and return the result."
   ]
  },
  {
   "cell_type": "code",
   "execution_count": 28,
   "id": "1e62a913-62f7-4a80-8e34-4e57facee686",
   "metadata": {},
   "outputs": [
    {
     "name": "stdout",
     "output_type": "stream",
     "text": [
      "15\n"
     ]
    }
   ],
   "source": [
    "x = lambda a : a + 10\n",
    "print(x(5))"
   ]
  },
  {
   "cell_type": "markdown",
   "id": "3d8df218-19c4-4bda-b192-879bcd4dd7ac",
   "metadata": {},
   "source": [
    "* Multiply argument a with argument b and return the result:"
   ]
  },
  {
   "cell_type": "code",
   "execution_count": 29,
   "id": "09772f9f-a70d-4867-b0e2-6fe711b83f44",
   "metadata": {},
   "outputs": [
    {
     "data": {
      "text/plain": [
       "8"
      ]
     },
     "execution_count": 29,
     "metadata": {},
     "output_type": "execute_result"
    }
   ],
   "source": [
    "x = lambda a,b : a * b\n",
    "x(2,4)"
   ]
  },
  {
   "cell_type": "markdown",
   "id": "d2260528-f319-451d-9e74-93a7215831f6",
   "metadata": {},
   "source": [
    "* Summarize argument a, b, and c and return the result:"
   ]
  },
  {
   "cell_type": "code",
   "execution_count": 30,
   "id": "e3f60958-5c9f-4fb5-a461-62906df92d6e",
   "metadata": {},
   "outputs": [
    {
     "name": "stdout",
     "output_type": "stream",
     "text": [
      "13\n"
     ]
    }
   ],
   "source": [
    "x = lambda a, b, c : a + b + c\n",
    "print(x(5, 6, 2))"
   ]
  },
  {
   "cell_type": "markdown",
   "id": "a3eda183-cbbd-4587-9fe0-1855f48ec894",
   "metadata": {},
   "source": [
    "### Array in python :\n",
    "\n",
    "Arrays are used to store multiple values in one single variable. it is the collection of dis-similar data elements in columns or in rows.\n",
    "\n",
    "An array is a special variable, which can hold more than one value at a time.\r\n",
    "\r\n",
    "If you have a list of items (a list of car names, for example), storing the cars in single variables could look like this:"
   ]
  },
  {
   "cell_type": "markdown",
   "id": "4c4dba84-3e91-46c8-a755-b7c29e1003d7",
   "metadata": {},
   "source": [
    "<b>SYNTAX : </b><br>\n",
    "<pre>\n",
    " array_name = [element1, element2, element3, ....., elementn]\n",
    "</pre>"
   ]
  },
  {
   "cell_type": "markdown",
   "id": "fbc231d0-74dd-443d-94cb-3bc55ff728c6",
   "metadata": {},
   "source": [
    "<b>NOTE : </b> Python does not have built-in support for Arrays, but Python Lists can be used instead."
   ]
  },
  {
   "cell_type": "markdown",
   "id": "fa4cfe05-2d74-46c0-868e-6ac75891e6b1",
   "metadata": {},
   "source": [
    "<b>NOTE : </b> This page shows you how to use LISTS as ARRAYS, however, to work with arrays in Python you will have to import a library, like the \"<u>NumPy library</u>\"."
   ]
  },
  {
   "cell_type": "markdown",
   "id": "247074f3-b211-47cb-b869-807ce882cb7a",
   "metadata": {},
   "source": [
    "* create an array"
   ]
  },
  {
   "cell_type": "code",
   "execution_count": 4,
   "id": "b0d96730-20a7-473a-85ea-c9658c7453c2",
   "metadata": {},
   "outputs": [
    {
     "name": "stdout",
     "output_type": "stream",
     "text": [
      "[]\n",
      "<class 'list'>\n"
     ]
    }
   ],
   "source": [
    "ar = []\n",
    "print(ar)\n",
    "print(type(ar))"
   ]
  },
  {
   "cell_type": "code",
   "execution_count": 2,
   "id": "6f3ae1a0-8c81-4876-97e5-6544017654c0",
   "metadata": {},
   "outputs": [
    {
     "name": "stdout",
     "output_type": "stream",
     "text": [
      "['ford', 'volvo', 'BMW']\n",
      "<class 'list'>\n"
     ]
    }
   ],
   "source": [
    "cars = ['ford', 'volvo', 'BMW']\n",
    "\n",
    "print(cars)\n",
    "print(type(cars))"
   ]
  },
  {
   "cell_type": "markdown",
   "id": "3b6150ac-68dc-4c2d-8550-3a9d9c21201d",
   "metadata": {},
   "source": [
    "* access the elements"
   ]
  },
  {
   "cell_type": "code",
   "execution_count": 8,
   "id": "050b6ec3-1ff5-487a-b3f4-65a4eae74ed3",
   "metadata": {},
   "outputs": [
    {
     "name": "stdout",
     "output_type": "stream",
     "text": [
      "ford\n"
     ]
    }
   ],
   "source": [
    "cars = ['ford', 'volvo', 'BMW']\n",
    "\n",
    "x = cars[0]\n",
    "\n",
    "print(x)"
   ]
  },
  {
   "cell_type": "markdown",
   "id": "c8297f39-d85f-4845-829c-ca6345b0083b",
   "metadata": {},
   "source": [
    "* change the value"
   ]
  },
  {
   "cell_type": "code",
   "execution_count": 19,
   "id": "c5335642-952c-46ee-8351-e90bfe617baf",
   "metadata": {},
   "outputs": [
    {
     "name": "stdout",
     "output_type": "stream",
     "text": [
      "['Toyota', 'volvo', 'BMW']\n"
     ]
    }
   ],
   "source": [
    "cars = ['ford', 'volvo', 'BMW']\n",
    "\n",
    "cars[0] = 'Toyota'\n",
    "\n",
    "print(cars)"
   ]
  },
  {
   "cell_type": "markdown",
   "id": "6f6d3fb7-7077-4509-b4e1-d2688886563c",
   "metadata": {},
   "source": [
    "* length of an array"
   ]
  },
  {
   "cell_type": "code",
   "execution_count": 18,
   "id": "3af92d39-3b76-488f-a4d9-74ecc67911b7",
   "metadata": {},
   "outputs": [
    {
     "name": "stdout",
     "output_type": "stream",
     "text": [
      "3\n"
     ]
    }
   ],
   "source": [
    "cars = ['ford', 'volvo', 'BMW']\n",
    "\n",
    "print(len(cars))"
   ]
  },
  {
   "cell_type": "markdown",
   "id": "018a30ec-2ae7-4ae7-95c0-165d71d5e036",
   "metadata": {},
   "source": [
    "<b>NOTE : </b> The length of an array is always one more than the highest array index."
   ]
  },
  {
   "cell_type": "markdown",
   "id": "326c767c-9be3-4892-8225-188d99b2d19f",
   "metadata": {},
   "source": [
    "* loop in array"
   ]
  },
  {
   "cell_type": "code",
   "execution_count": 9,
   "id": "0adf6f3c-f301-448d-958e-39d3fc32ae27",
   "metadata": {},
   "outputs": [
    {
     "name": "stdout",
     "output_type": "stream",
     "text": [
      "ford\n",
      "volvo\n",
      "BMW\n"
     ]
    }
   ],
   "source": [
    "cars = ['ford', 'volvo', 'BMW']\n",
    "\n",
    "for car in cars:\n",
    "    print(car)"
   ]
  },
  {
   "cell_type": "markdown",
   "id": "748a65d0-56c9-4801-8ead-d2b627f289b4",
   "metadata": {},
   "source": [
    "* add element in array"
   ]
  },
  {
   "cell_type": "code",
   "execution_count": 17,
   "id": "3aa6ac86-06e8-47eb-9cc3-b1dcb492ba68",
   "metadata": {},
   "outputs": [
    {
     "name": "stdout",
     "output_type": "stream",
     "text": [
      "['ford', 'volvo', 'BMW', 'honda']\n"
     ]
    }
   ],
   "source": [
    "cars = ['ford', 'volvo', 'BMW']\n",
    "\n",
    "cars. Append(\"honda\")\n",
    "print(cars)"
   ]
  },
  {
   "cell_type": "markdown",
   "id": "c4f194e3-fced-4b45-9ae6-c366a19fd6cc",
   "metadata": {},
   "source": [
    "* remove elements in array"
   ]
  },
  {
   "cell_type": "markdown",
   "id": "b4b222cf-191e-4fb6-ab32-7f070148e08c",
   "metadata": {},
   "source": [
    "<b>1. pop() : </b> you can use pop() to remove any element of array. "
   ]
  },
  {
   "cell_type": "code",
   "execution_count": 20,
   "id": "dae54053-4d41-4600-9050-5d079d455bb3",
   "metadata": {},
   "outputs": [
    {
     "name": "stdout",
     "output_type": "stream",
     "text": [
      "['ford', 'BMW']\n"
     ]
    }
   ],
   "source": [
    "cars = ['ford', 'volvo', 'BMW']\n",
    "\n",
    "cars.pop(1)\n",
    "\n",
    "print(cars)"
   ]
  },
  {
   "cell_type": "markdown",
   "id": "9ab1dbab-e362-4afe-9269-b0adf36ef8d4",
   "metadata": {},
   "source": [
    "<b>2. remove() : </b> You can also use the remove() method to remove an element from the array."
   ]
  },
  {
   "cell_type": "code",
   "execution_count": 21,
   "id": "7553c4f4-69b7-4697-be44-1f60c340fedd",
   "metadata": {},
   "outputs": [
    {
     "name": "stdout",
     "output_type": "stream",
     "text": [
      "['ford', 'BMW']\n"
     ]
    }
   ],
   "source": [
    "cars = ['ford', 'volvo', 'BMW']\n",
    "\n",
    "cars.remove('volvo')\n",
    "\n",
    "print(cars)"
   ]
  },
  {
   "cell_type": "markdown",
   "id": "af409b47-50d7-46d2-acbb-fc351d74d1b3",
   "metadata": {},
   "source": [
    "<b>NOTE : </b> The list's remove() method only removes the first occurrence of the specified value."
   ]
  },
  {
   "cell_type": "markdown",
   "id": "785153c2-5257-449f-bbe1-4e9c0842a679",
   "metadata": {},
   "source": [
    "<b>Ques.: </b> what is the difference between pop() and remove().<br>\n",
    "<b>difference : </b> pop() used index to remove elements and remove() used values to remove any elements."
   ]
  },
  {
   "cell_type": "markdown",
   "id": "aac85c53-6b61-4783-93ae-45443c3976be",
   "metadata": {},
   "source": [
    "#### Array Methods\r\n",
    "Python has a set of built-in methods that you can use on lists/arrays<br>\n",
    "<b>NOTE : </b> you read them all in list chapter..\n",
    "<table width = 100%>\n",
    "<tbody><tr>\n",
    "<th>Method</th>\n",
    "<th>Description</th>\n",
    "</tr>\n",
    "<tr><td><a href=\"ref_list_append.asp\">append()</a></td><td>Adds an element at \n",
    "  the end of the list</td></tr>\n",
    "<tr><td><a href=\"ref_list_clear.asp\">clear()</a></td><td>Removes all the \n",
    "  elements from the list</td></tr>\n",
    "<tr><td><a href=\"ref_list_copy.asp\">copy()</a></td><td>Returns a copy of the \n",
    "  list</td></tr>\n",
    "<tr><td><a href=\"ref_list_count.asp\">count()</a></td><td>Returns the number of \n",
    "  elements with the specified value</td></tr>\n",
    "<tr><td><a href=\"ref_list_extend.asp\">extend()</a></td><td>Add the elements of a \n",
    "  list (or any iterable), to the end of the current list</td></tr>\n",
    "<tr><td><a href=\"ref_list_index.asp\">index()</a></td><td>Returns the index of \n",
    "  the first element with the specified value</td></tr>\n",
    "<tr><td><a href=\"ref_list_insert.asp\">insert()</a></td><td>Adds an element at \n",
    "  the specified position</td></tr>\n",
    "<tr><td><a href=\"ref_list_pop.asp\">pop()</a></td><td>Removes the element at the \n",
    "  specified position</td></tr>\n",
    "<tr><td><a href=\"ref_list_remove.asp\">remove()</a></td><td>Removes the first \n",
    "  item with the specified value</td></tr>\n",
    "<tr><td><a href=\"ref_list_reverse.asp\">reverse()</a></td><td>Reverses the order \n",
    "  of the list</td></tr>\n",
    "<tr><td>sort()</a></td><td>Sorts the list</td></tr>\n",
    "</tbody></table>"
   ]
  },
  {
   "cell_type": "markdown",
   "id": "03c0397e-4f0f-4363-9962-3fcbd717e645",
   "metadata": {},
   "source": [
    "<center><h1>Object Oriented Python</h1></center>"
   ]
  },
  {
   "cell_type": "markdown",
   "id": "715a8684-7adc-4f86-8d13-cfc72914aa92",
   "metadata": {},
   "source": [
    "<b>Python Object Oriented Programming : </b> In Python, object-oriented Programming (OOP's) is a programming paradigm that uses objects and classes in programming. It aims to implement real-world entities like inheritance, polymorphisms, encapsulation, etc. in the programming. The main concept of OOPs is to bind the data and the functions that work on that together as a single unit so that no other part of the code can access this data. \n",
    "\n",
    "<b>Object Oriented Programming is used to solving a problem by creating an object is one of the most approch in programming. this is called Object Oriented Programming.this concept is focus on re-use the code.\n",
    "</b>. "
   ]
  },
  {
   "cell_type": "markdown",
   "id": "e04f0635-259e-4b2f-b5f0-5a4869428151",
   "metadata": {},
   "source": [
    "#### Naming Convention :\n",
    "there are two naming conventions mostly used in programming languages. we also should use it for naming variable, functions and classes or even for objects.\n",
    "* <b>camel case</b> : rajendraKumarRanda \n",
    "* <b>pascal case</b> : RajendraKumarRanda "
   ]
  },
  {
   "cell_type": "markdown",
   "id": "fb17c1f0-38b3-4655-8d02-155992dd8ef2",
   "metadata": {},
   "source": [
    "<b>OOPs Concepts in Python</b>\n",
    "* Class\n",
    "* Objects\n",
    "* Polymorphism\n",
    "* Encapsulation\n",
    "* Inheritance\n",
    "* Data Abstraction"
   ]
  },
  {
   "cell_type": "markdown",
   "id": "030e3885-382b-4636-8615-b67680eaac54",
   "metadata": {},
   "source": [
    "<table>\n",
    "    <tbody>\n",
    "        <tr>\n",
    "            <td><b>OOPs Concepts</b></td>\n",
    "            <td><b>1. Class</b></td>\n",
    "            <td><b>2. Objects</b></td>\n",
    "            <td><b>3. Polymorphism</b></td>\n",
    "            <td><b>4. Encapsulation</b></td>\n",
    "            <td><b>5. Inheritance</b></td>\n",
    "            <td><b>6. Data Abstraction</b></td>\n",
    "            <td><img alt=\"Types-of-OOPs\" height=\"200\" src=\"https://media.geeksforgeeks.org/wp-content/uploads/20230818181616/Types-of-OOPS-2.gif\"></td>\n",
    "        </tr>\n",
    "    </tbody>\n",
    "</table>"
   ]
  },
  {
   "cell_type": "markdown",
   "id": "2cfbfc2c-86bb-4d4e-9223-bb586ee83d48",
   "metadata": {},
   "source": [
    "<h4>Lets know it in brief : </h4>\n",
    "Let us try to understand a little about all these, through a simple example. Human Beings are living forms, broadly categorized into two types, Male and Female. Right? Its true. Every Human being(Male or Female) has two legs, two hands, two eyes, one nose, one heart etc. There are body parts that are common for Male and Female, but then there are some specific body parts, present in a Male which are not present in a Female, and some body parts present in Female but not in Males.\n",
    "\n",
    "All Human Beings walk, eat, see, talk, hear etc. Now again, both Male and Female, performs some common functions, but there are some specifics to both, which is not valid for the other. For example : A Female can give birth, while a Male cannot, so this is only for the Female.\n",
    "\n",
    "Human Anatomy is interesting, isn't it? But let's see how all this is related to Python and OOPS. Here we will try to explain all the OOPS concepts through this example and in the next tutorial, we will have the technical definitons for all this.\n",
    "* <b>Class : </b>\n",
    "Here we can take Human Being as a class. A class is a blueprint for any functional entity which defines its properties and its functions. Like Human Being, having body parts, and performing various actions.\n",
    "\n",
    "* <b>Objects : </b>\n",
    "My name is Abhishek, and I am an instance/object of class Male. When we say, Human Being, Male or Female, we just mean a kind, you, your friend, me we are the forms of these classes. We have a physical existence while a class is just a logical definition. We are the objects.\n",
    "\n",
    "* <b>Inheritance : </b>\n",
    "Considering HumanBeing a class, which has properties like hands, legs, eyes etc, and functions like walk, talk, eat, see etc. Male and Female are also classes, but most of the properties and functions are included in HumanBeing, hence they can inherit everything from class HumanBeing using the concept of Inheritance.\n",
    "\n",
    "* <b>Abstraction : </b>\n",
    "Abstraction means, showcasing only the required things to the outside world while hiding the details. Continuing our example, Human Being's can talk, walk, hear, eat, but the details are hidden from the outside world. We can take our skin as the Abstraction factor in our case, hiding the inside mechanism.\n",
    "\n",
    "* <b>Encapsulation : </b>\n",
    "This concept is a little tricky to explain with our example. Our Legs are binded to help us walk. Our hands, help us hold things. This binding of the properties to functions is called Encapsulation.\n",
    "\n",
    "* <b>Polymorphism : </b>\n",
    "Polymorphism is a concept, which allows us to redefine the way something works, by either changing how it is done or by changing the parts using which it is done. Both the ways have different terms for them.\n",
    "\n",
    "***Let's see them one by one...***"
   ]
  },
  {
   "cell_type": "markdown",
   "id": "c96cdc98-01e6-44f7-90f7-a0f15bae77c0",
   "metadata": {},
   "source": [
    "#### Python Class :\n",
    "A class is a collection of objects. A class contains the blueprints or the prototype from which the objects are being created. It is a logical entity that contains some attributes and methods. <b>class is a blueprint for creating object, class not store \n",
    "memory it is just a instance</b>.\n",
    "\n",
    "<b>NOTE : </b>class class_name:   # it is written in pascal case\n",
    "\n",
    "* Classes are created by keyword class.\n",
    "* Attributes are the variables that belong to a class.\n",
    "* Attributes are always public and can be accessed using the dot (.) operator. Eg.: Myclass.Myattribute."
   ]
  },
  {
   "cell_type": "markdown",
   "id": "b1af3a25-6848-494c-b2d1-9bc86e05e08f",
   "metadata": {},
   "source": [
    "<b>SYNTAX : </b><br>\n",
    "<pre>\n",
    "    class class_name:\n",
    "    statement 1;\n",
    "    statement 2;\n",
    "    statement 3;\n",
    "    .......... ;\n",
    "    statement n;\n",
    "</pre>"
   ]
  },
  {
   "cell_type": "code",
   "execution_count": 2,
   "id": "5455ab73-570a-4fbd-b395-5ff8da4b9ed3",
   "metadata": {},
   "outputs": [],
   "source": [
    "class myclass:\n",
    "    name = 'raj'\n",
    "    age = 23\n",
    "    place = 'INDIA'"
   ]
  },
  {
   "cell_type": "markdown",
   "id": "e2f03f8b-1b64-4709-a84e-784fc04e1d64",
   "metadata": {},
   "source": [
    "#### python Object :\n",
    "\n",
    "The object is an entity that has a state and behavior associated with it. It may be any real-world object like a mouse, keyboard, chair, table, pen, etc. Integers, strings, floating-point numbers, even arrays, and dictionaries, are all objects. More specifically, any single integer or any single string is an object. The number 12 is an object, the string “Hello, world” is an object.\n",
    "<b> it is an instantiation of a class,when class is defined,memory is allocated only after object instantiation object of a class can be invoke the method available to it without revealing the implementation details to the usion.</b>"
   ]
  },
  {
   "cell_type": "markdown",
   "id": "aff80b1d-bd98-458a-88ff-328105c890ef",
   "metadata": {},
   "source": [
    "<b>SYNTAX :</b><br>\n",
    "<pre>\n",
    "object_name = class_name() \n",
    "object_name.properties = value\n",
    "</pre>"
   ]
  },
  {
   "cell_type": "code",
   "execution_count": 3,
   "id": "ac07f0da-413f-430a-b9a6-febfec65ffcb",
   "metadata": {},
   "outputs": [
    {
     "name": "stdout",
     "output_type": "stream",
     "text": [
      "raj\n",
      "23\n",
      "INDIA\n"
     ]
    }
   ],
   "source": [
    "student = myclass()\n",
    "\n",
    "print(student.name)\n",
    "print(student.age)\n",
    "print(student.place)"
   ]
  },
  {
   "cell_type": "markdown",
   "id": "4ab1a014-d82a-43bf-9ea5-ca822c4a3eee",
   "metadata": {},
   "source": [
    "<b>Let's see the classes and their objects</b>"
   ]
  },
  {
   "cell_type": "code",
   "execution_count": 1,
   "id": "ccd5ac85-0324-4d41-9bee-03837086d21e",
   "metadata": {},
   "outputs": [
    {
     "name": "stdout",
     "output_type": "stream",
     "text": [
      "5\n"
     ]
    }
   ],
   "source": [
    "# create class\n",
    "class myclass:\n",
    "    x = 5\n",
    "\n",
    "# create object\n",
    "number = myclass()\n",
    "print(number.x)"
   ]
  },
  {
   "cell_type": "markdown",
   "id": "5ad6d198-d91c-4b64-bcbc-dd45964cf4a9",
   "metadata": {},
   "source": [
    "* Let's see more examples"
   ]
  },
  {
   "cell_type": "code",
   "execution_count": 10,
   "id": "ace847b5-a509-45f5-93e4-0d67af148d94",
   "metadata": {},
   "outputs": [
    {
     "name": "stdout",
     "output_type": "stream",
     "text": [
      "name : raj kumar\n",
      "train : xyz express\n",
      "Railway-Form\n"
     ]
    }
   ],
   "source": [
    "class RailwayForm:\n",
    "    formType = \"Railway-Form\"\n",
    "    def printData(self):\n",
    "        print(f\"name : {self.name}\")\n",
    "        print(f\"train : {self.train}\")\n",
    "\n",
    "# create object\n",
    "rajForm = RailwayForm()\n",
    "\n",
    "# insert value for your object\n",
    "rajForm.name = \"raj kumar\"\n",
    "rajForm.train = \"xyz express\"\n",
    "\n",
    "# print value of function inside of class for your object\n",
    "rajForm.printData()\n",
    "\n",
    "# print class variable\n",
    "print(RailwayForm.formType)"
   ]
  },
  {
   "cell_type": "markdown",
   "id": "c27b0cf5-e533-499e-9ebe-fc3feff5e819",
   "metadata": {},
   "source": [
    "<b>elements called in Opps in above example :</b>\n",
    "* <b>class name : </b> RailwayForm\n",
    "* <b>class variable : </b> formType\n",
    "* <b>instance variable : </b> name, train\n",
    "* <b>object name : </b> rajForm"
   ]
  },
  {
   "cell_type": "code",
   "execution_count": 11,
   "id": "50b24d2f-59a2-4c20-b815-d2de50c7d535",
   "metadata": {},
   "outputs": [
    {
     "name": "stdout",
     "output_type": "stream",
     "text": [
      " VS Code Company \n",
      "Employee Details of 'Rajendra' are here : \n",
      "NAME : Rajendra\n",
      "SALARY : 20,000/- \n",
      "PLACE : INDORE\n",
      "**********************************\n",
      " VS Code Company \n",
      "Employee Details of 'Mohan' are here : \n",
      "NAME : Mohan\n",
      "SALARY : 15,000/- \n",
      "PLACE : BHOPAL\n",
      "**********************************\n"
     ]
    }
   ],
   "source": [
    "class EmployeeData:\n",
    "    Company = \" VS Code Company \"\n",
    "    def employee(self):\n",
    "        print(f\"Employee Details of '{self.name}' are here : \")\n",
    "        print(f\"NAME : {self.name}\")\n",
    "        print(f\"SALARY : {self.salary} \")\n",
    "        print(f\"PLACE : {self.place}\")\n",
    "        print(\"**********************************\")\n",
    "\n",
    "# object 1\n",
    "# creating object of class\n",
    "emp1 = EmployeeData()\n",
    "\n",
    "# insert values of class for object 1\n",
    "emp1.name = \"Rajendra\"\n",
    "emp1.salary = \"20,000/-\"\n",
    "emp1.place = \"INDORE\"\n",
    "\n",
    "# print data for object 1\n",
    "print(emp1.Company)   # print class variable for object 1\n",
    "emp1.employee()      # print value using function inside of class for object 2\n",
    "\n",
    "# object 2\n",
    "# creating object of class\n",
    "emp2 = EmployeeData()\n",
    "\n",
    "# insert values of class for object 2\n",
    "emp2.name = \"Mohan\"        \n",
    "emp2.salary = \"15,000/-\"\n",
    "emp2.place = \"BHOPAL\"\n",
    "\n",
    "# print data for object 2\n",
    "print(emp2.Company)   # print class variable for object 1\n",
    "emp2.employee()       # print value using function inside of class for object 2"
   ]
  },
  {
   "cell_type": "markdown",
   "id": "618f8081-f21d-4c08-a82a-bac2de91ab90",
   "metadata": {},
   "source": [
    "* change the value of class variable"
   ]
  },
  {
   "cell_type": "markdown",
   "id": "3e1d6c6d-d228-4555-a84a-4dec39a065e5",
   "metadata": {},
   "source": [
    "1. for all objects."
   ]
  },
  {
   "cell_type": "code",
   "execution_count": 2,
   "id": "4bea29da-7cdc-4534-8175-b45c1b695f56",
   "metadata": {},
   "outputs": [
    {
     "name": "stdout",
     "output_type": "stream",
     "text": [
      "Google\n",
      "Google\n"
     ]
    }
   ],
   "source": [
    "class EmployeeData:\n",
    "    Company = \" VS Code Company \"\n",
    "    def employee(self):\n",
    "        print(f\"Employee Details of '{self.name}' are here : \")\n",
    "        print(f\"NAME : {self.name}\")\n",
    "        print(f\"SALARY : {self.salary} \")\n",
    "        print(f\"PLACE : {self.place}\")\n",
    "        print(\"**********************************\")\n",
    "\n",
    "# creating objects\n",
    "emp1 = EmployeeData()\n",
    "emp2 = EmployeeData()\n",
    "\n",
    "# it'll change value of variable for every object\n",
    "EmployeeData.Company = \"Google\"\n",
    "\n",
    "\n",
    "# print class variable\n",
    "print(emp1.Company)\n",
    "print(emp2.Company)"
   ]
  },
  {
   "cell_type": "markdown",
   "id": "d0f27fa9-2102-4344-9ae1-aad70a2ef065",
   "metadata": {},
   "source": [
    "2. for specific object"
   ]
  },
  {
   "cell_type": "code",
   "execution_count": 17,
   "id": "9bc1b17c-f861-4c8d-aeaf-9c4ca46daf1c",
   "metadata": {},
   "outputs": [
    {
     "name": "stdout",
     "output_type": "stream",
     "text": [
      "Google\n",
      "Facebook\n"
     ]
    }
   ],
   "source": [
    "class EmployeeData:\n",
    "    Company = \" VS Code Company \"\n",
    "    def employee(self):\n",
    "        print(f\"Employee Details of '{self.name}' are here : \")\n",
    "        print(f\"NAME : {self.name}\")\n",
    "        print(f\"SALARY : {self.salary} \")\n",
    "        print(f\"PLACE : {self.place}\")\n",
    "        print(\"**********************************\")\n",
    "\n",
    "# creating objects\n",
    "emp1 = EmployeeData()\n",
    "emp2 = EmployeeData()\n",
    "\n",
    "# change value of class variable for every object 1\n",
    "emp1.Company = \"Google\"\n",
    "\n",
    "# change value of class variable for every object 1\n",
    "emp2.Company = \"Facebook\"\n",
    "\n",
    "# print class variable\n",
    "print(emp1.Company)    # for object 1\n",
    "print(emp2.Company)    # for object 2"
   ]
  },
  {
   "cell_type": "markdown",
   "id": "541fb016-a35d-4e6f-a238-9bd1a96b46fd",
   "metadata": {},
   "source": [
    "* example change value using class_name "
   ]
  },
  {
   "cell_type": "code",
   "execution_count": 22,
   "id": "ba7915b2-7560-4978-b51c-7220470485aa",
   "metadata": {},
   "outputs": [
    {
     "name": "stdout",
     "output_type": "stream",
     "text": [
      "Google\n",
      "500\n",
      "Google\n",
      "100\n",
      "Yahoo!\n",
      "Yahoo!\n",
      "500\n",
      "100\n",
      "Yahoo!\n",
      "youtube\n"
     ]
    }
   ],
   "source": [
    "class Employee:\n",
    "    company = \"Google\"\n",
    "    salary = 100\n",
    "\n",
    "raj = Employee()\n",
    "ram = Employee()\n",
    "\n",
    "raj.salary = 500\n",
    "\n",
    "print(raj.company)\n",
    "print(raj.salary)\n",
    "\n",
    "print(ram.company)\n",
    "print(ram.salary)\n",
    "\n",
    "Employee.company = \"Yahoo!\"\n",
    "\n",
    "print(raj.company) \n",
    "print(ram.company)\n",
    "\n",
    "print(raj.salary) \n",
    "print(ram.salary)\n",
    "\n",
    "ram.company = 'youtube' \n",
    "print(raj.company) \n",
    "print(ram.company)"
   ]
  },
  {
   "cell_type": "markdown",
   "id": "5b097ef7-ad2b-440f-bf12-c5d10c0f357b",
   "metadata": {},
   "source": [
    "* add/ create instance variable"
   ]
  },
  {
   "cell_type": "code",
   "execution_count": 24,
   "id": "0444d9f6-0bee-4fc5-ab64-6f24fc308bc9",
   "metadata": {},
   "outputs": [
    {
     "name": "stdout",
     "output_type": "stream",
     "text": [
      "Google\n",
      "100\n",
      "Google\n",
      "100\n",
      "INDORE\n"
     ]
    }
   ],
   "source": [
    "class Employee:\n",
    "    company = \"Google\"\n",
    "    salary = 100\n",
    "\n",
    "raj = Employee()\n",
    "ram = Employee()\n",
    "\n",
    "# create instance variable\n",
    "ram.address = 'INDORE'\n",
    "\n",
    "print(raj.company)\n",
    "print(raj.salary)\n",
    "\n",
    "print(ram.company)\n",
    "print(ram.salary)\n",
    "print(ram.address)"
   ]
  },
  {
   "cell_type": "markdown",
   "id": "84b5e492-1830-49ac-9229-72e3bf7442a6",
   "metadata": {},
   "source": [
    "* <b>class attribute:</b> attribute defined inside the class \n",
    "* <b>instance attribute:</b> an attribute that belongs to instance(object) \n",
    "assuming the class from previous example. \n",
    "<br><b>syntax:</b> raj.salary = 500 #adding instance attribute \n",
    "<br>instance attribute take preference over class attribute during \n",
    "assignment & retrival \n",
    " \n",
    "<b>SELF:</b> it refers instance of class it is automatically passed with function call from an object. <br>\n",
    "<b>NOTE : </b>after remove 'self ' you'll get error like that \".getSalary()\" takes 0 positional arguments but 1 was given. "
   ]
  },
  {
   "cell_type": "code",
   "execution_count": 25,
   "id": "dcadc10c-26a3-41f4-b40c-cc9d5cfda448",
   "metadata": {},
   "outputs": [
    {
     "name": "stdout",
     "output_type": "stream",
     "text": [
      "sal is 100K\n"
     ]
    }
   ],
   "source": [
    "class Employee:\n",
    "  company = \"Google\"\n",
    "  def getSalary(self):\n",
    "    print(\"sal is 100K\")\n",
    "      \n",
    "harry = Employee()\n",
    "harry.getSalary() #it means 'employee.getSalary(harry)' <--just for understanding"
   ]
  },
  {
   "cell_type": "code",
   "execution_count": 28,
   "id": "b2401242-7562-4657-b93f-b2dd89923868",
   "metadata": {},
   "outputs": [
    {
     "name": "stdout",
     "output_type": "stream",
     "text": [
      "company : ABC company \n",
      "salary is 100000\n"
     ]
    }
   ],
   "source": [
    "class Employee:\n",
    "  company = \"Google\"\n",
    "  def getSalary(self):\n",
    "    print(f\"company : {self.company} \\nsalary is {self.salary}\")\n",
    "\n",
    "harry = Employee()\n",
    "\n",
    "harry.company = 'ABC company'\n",
    "harry.salary = 100000\n",
    "\n",
    "harry.getSalary()"
   ]
  },
  {
   "cell_type": "markdown",
   "id": "8ffaa851-2ece-49b1-adc1-0c941bb2d8c9",
   "metadata": {},
   "source": [
    "#### static method :\n",
    "sometimes, we need to define a function who don't use/need self parameter so for that we can define them as static method."
   ]
  },
  {
   "cell_type": "code",
   "execution_count": 36,
   "id": "a29f4967-4a2d-4259-9201-cd85ecf90416",
   "metadata": {},
   "outputs": [
    {
     "name": "stdout",
     "output_type": "stream",
     "text": [
      "company: Google and salary will be 1000 \n",
      "thanks!\n",
      "have a good day...\n",
      "have a good day...\n",
      "now, it's 9am\n"
     ]
    }
   ],
   "source": [
    "class Employee:\n",
    "  company = \"Google\"\n",
    "  def getData(self,sign):\n",
    "    print(f\"company: {self.company} and salary will be {self.salary} \\n{sign}\")\n",
    "  @staticmethod   #it's a decorator to mark greet as a static method\n",
    "  def greet():\n",
    "    print(\"have a good day...\")\n",
    "  @staticmethod   #it's a decorator to mark greet as a static method\n",
    "  def time():\n",
    "    print(\"now, it's 9am\")\n",
    "\n",
    "harry = Employee()\n",
    "\n",
    "harry.salary = 1000\n",
    "harry.getData(\"thanks!\")\n",
    "\n",
    "Employee.greet()\n",
    "harry.greet()  # same as employee.greet()\n",
    "harry.time()"
   ]
  },
  {
   "cell_type": "markdown",
   "id": "8623b8dd-d284-49b0-bcf8-2e2ec32739f9",
   "metadata": {},
   "source": [
    "### constructor:\n",
    "A constructor is a special method of a class or structure in object-oriented programming that initializes a newly created object of that type. Whenever an object is created, the constructor is called automatically.\n",
    "\n",
    "<b>'_ _ init _ _' : </b> it is a special method which is first run as soon as the object created, it is known as constructor, it takes self args and also take further args."
   ]
  },
  {
   "cell_type": "code",
   "execution_count": 32,
   "id": "ba6eb0f1-f491-4364-af56-bd5bf068c5be",
   "metadata": {},
   "outputs": [
    {
     "name": "stdout",
     "output_type": "stream",
     "text": [
      "employee is created!\n"
     ]
    }
   ],
   "source": [
    "class Employee:\n",
    "  company = \"Google\"\n",
    "  def __init__(self):\n",
    "    print(\"employee is created!\")\n",
    "      \n",
    "harry = Employee()  # employee is created!"
   ]
  },
  {
   "cell_type": "code",
   "execution_count": 37,
   "id": "9c4531cb-b151-40f1-be58-5bae5989c597",
   "metadata": {},
   "outputs": [
    {
     "name": "stdout",
     "output_type": "stream",
     "text": [
      "employee created!\n",
      "name :raj\n",
      "salary :1000\n",
      "subunit :Youtube\n",
      "company is facebook and salary will be 1000 \n",
      "Mr. R\n",
      "have a good day !!!\n",
      "time : 9am\n"
     ]
    }
   ],
   "source": [
    "class Employee:\n",
    "  company = 'facebook'\n",
    "  def __init__(self, name, salary, subunit):\n",
    "    self.name = name\n",
    "    self.salary = salary\n",
    "    self.subunit = subunit\n",
    "    print(\"employee created!\")\n",
    "\n",
    "  def getDetails(self):\n",
    "    print(f\"name :{self.name}\")\n",
    "    print(f\"salary :{self.salary}\")\n",
    "    print(f\"subunit :{self.subunit}\")\n",
    "\n",
    "  def getData(self,signature):\n",
    "    print(f\"company is {self.company} and salary will be {self.salary} \\n{signature}\")\n",
    "\n",
    "  @staticmethod\n",
    "  def greet():\n",
    "    print(\"have a good day !!!\")\n",
    "\n",
    "  @staticmethod\n",
    "  def time():\n",
    "    print(\"time : 9am\")\n",
    "\n",
    "raj = Employee(\"raj\",1000, \"Youtube\")\n",
    "# raj = Employee()   #error:missing 3 args\n",
    "raj.getDetails()\n",
    "\n",
    "raj.getData('Mr. R')\n",
    "\n",
    "raj.greet()\n",
    "raj.time()"
   ]
  },
  {
   "cell_type": "markdown",
   "id": "61370719-0750-48db-924e-09e1e440ae0f",
   "metadata": {},
   "source": [
    "<b>NOTE : </b>you dont need to write manually like raj,name = 'raj'. in above example."
   ]
  },
  {
   "cell_type": "markdown",
   "id": "9d9b7ff8-b709-43b9-a7dd-d1cfd3335f67",
   "metadata": {},
   "source": [
    "<b>Ques. : </b> create a class  programmer for storing data of few programmer working on ms."
   ]
  },
  {
   "cell_type": "code",
   "execution_count": 39,
   "id": "2c8de95d-ce1f-4e12-a0ec-67de12a1e724",
   "metadata": {},
   "outputs": [
    {
     "name": "stdout",
     "output_type": "stream",
     "text": [
      "programmers details: \n",
      " name : ram \n",
      " product : skype\n",
      "\n",
      "programmers details: \n",
      " name : sita \n",
      " product : git\n",
      "\n"
     ]
    }
   ],
   "source": [
    "class Programmer:\n",
    "    def __init__(self,name,product):\n",
    "        self.name = name\n",
    "        self.product = product\n",
    "    def getInfo(self):\n",
    "        print(f\"programmers details: \\n name : {self.name} \\n product : {self.product}\\n\")\n",
    "\n",
    "obj1 = Programmer(\"ram\", \"skype\")\n",
    "obj2 = Programmer(\"sita\", \"git\")\n",
    "\n",
    "obj1.getInfo()\n",
    "obj2.getInfo()"
   ]
  },
  {
   "cell_type": "markdown",
   "id": "0fcd6376-df33-4246-9bc9-ba7957ec9c81",
   "metadata": {},
   "source": [
    "<b>Ques : </b> write a class calculator capable of finding square, cube and squareroot of a number."
   ]
  },
  {
   "cell_type": "code",
   "execution_count": 42,
   "id": "14b6d577-29d4-40d9-ad86-c774350449d7",
   "metadata": {},
   "outputs": [
    {
     "name": "stdout",
     "output_type": "stream",
     "text": [
      "square of 9 is 81\n",
      "cube of 9 is 729\n",
      "square root of 9 is 3.0\n"
     ]
    }
   ],
   "source": [
    "class Calculator:\n",
    "    def __init__(self,num):\n",
    "        self.num = num\n",
    "    def square(self):\n",
    "        print(f\"square of {self.num} is {self.num**2}\")\n",
    "    def cube(self):\n",
    "        print(f\"cube of {self.num} is {self.num**3}\")\n",
    "    def squareRoot(self):\n",
    "        print(f\"square root of {self.num} is {self.num**0.5}\")\n",
    "\n",
    "a = Calculator(9)\n",
    "\n",
    "a.square()\n",
    "a.cube()\n",
    "a.squareRoot()"
   ]
  },
  {
   "cell_type": "markdown",
   "id": "ce0691d7-6693-46d5-8f36-a74f54b1f787",
   "metadata": {},
   "source": [
    "<b>Ques : </b> create a class with a class attribute a ,create an object from it and set directly using object a = 0, does this change class attribute?"
   ]
  },
  {
   "cell_type": "code",
   "execution_count": 45,
   "id": "344f538a-b9e3-40a1-8c17-10208f953d50",
   "metadata": {},
   "outputs": [
    {
     "name": "stdout",
     "output_type": "stream",
     "text": [
      "20\n",
      "10\n"
     ]
    }
   ],
   "source": [
    "class Sample:\n",
    "    a = 10\n",
    "\n",
    "obj = Sample()\n",
    "\n",
    "obj.a = 20\n",
    "\n",
    "print(obj.a)\n",
    "print(Sample.a)"
   ]
  },
  {
   "cell_type": "markdown",
   "id": "9dc0225a-ebad-4f26-8c5f-bcc1cca64f3e",
   "metadata": {},
   "source": [
    "<b>REASON : </b> no it'll not change, coz object create instance of class attribute for self."
   ]
  },
  {
   "cell_type": "markdown",
   "id": "7c32c63c-ef19-48e0-9d39-9f609dae4124",
   "metadata": {},
   "source": [
    "<b>Ques : </b> add a static method in ques 2 to greet the user with hello [ques 2: write a class calculator capable of finding square, cube and squareroot of a number.]"
   ]
  },
  {
   "cell_type": "code",
   "execution_count": 47,
   "id": "ce9c2594-a3c0-4418-8392-ebba476a3502",
   "metadata": {},
   "outputs": [
    {
     "name": "stdout",
     "output_type": "stream",
     "text": [
      "square of 2 is 4\n",
      "cube of 2 is 8\n",
      "square root of 2 is 1.4142135623730951\n",
      "thanks for using it...!\n"
     ]
    }
   ],
   "source": [
    "class Calculator:\n",
    "    def __init__(self,num):\n",
    "        self.num = num\n",
    "    def square(self):\n",
    "        print(f\"square of {self.num} is {self.num**2}\")\n",
    "    def cube(self):\n",
    "        print(f\"cube of {self.num} is {self.num**3}\")\n",
    "    def squareRoot(self):\n",
    "        print(f\"square root of {self.num} is {self.num**0.5}\")\n",
    "    @staticmethod\n",
    "    def greet():\n",
    "        print(\"thanks for using it...!\")\n",
    "\n",
    "a = Calculator(2)\n",
    "\n",
    "a.square()\n",
    "a.cube()\n",
    "a.squareRoot()\n",
    "a.greet()"
   ]
  },
  {
   "cell_type": "markdown",
   "id": "ad860391-9a8e-4c70-ba38-7c90b17f2c78",
   "metadata": {},
   "source": [
    "<b>Ques. :</b> wriet a class train which has method to book a ticket and eget status(no. of seat) and get fare information of train running under indian railways."
   ]
  },
  {
   "cell_type": "code",
   "execution_count": 50,
   "id": "26848f49-800e-4dcf-bc9b-fb18d72bd14b",
   "metadata": {},
   "outputs": [
    {
     "name": "stdout",
     "output_type": "stream",
     "text": [
      "have a good day..\n",
      "train:XYZ-express \n",
      "ticket fare: 90 \n",
      "total seat:300\n"
     ]
    }
   ],
   "source": [
    "class Train:\n",
    "  def __init__(self, name, fare, seats):\n",
    "    self.name = name\n",
    "    self.seats = seats\n",
    "    self.fare = fare\n",
    "    print(\"have a good day..\")\n",
    "  def info(self):\n",
    "    print(f\"train:{self.name} \\nticket fare: {self.fare} \\ntotal seat:{self.seats}\")\n",
    "\n",
    "enterCity = Train(\"XYZ-express\", 90, 300)\n",
    "enterCity.info()"
   ]
  },
  {
   "cell_type": "markdown",
   "id": "22e38a83-d140-4274-b0a9-1f757f9866a4",
   "metadata": {},
   "source": [
    "<b>Ques : </b> can you change self parameter inside a class to something else (say 'sir'),try changing self to \"slf\",\"harry\" and see the efect."
   ]
  },
  {
   "cell_type": "code",
   "execution_count": 52,
   "id": "38af641e-fd16-4a9d-b101-8a3119a07d99",
   "metadata": {},
   "outputs": [
    {
     "name": "stdout",
     "output_type": "stream",
     "text": [
      "harry\n"
     ]
    }
   ],
   "source": [
    "class Sample:\n",
    "  def __init__(sf,name):   # you can use any keyword in the place of 'self' like 'sf'\n",
    "    sf.name = name\n",
    "\n",
    "ob = Sample(\"harry\")\n",
    "print(ob.name)"
   ]
  },
  {
   "cell_type": "markdown",
   "id": "c7618c88-d724-497c-9d8d-8fcf05d81b91",
   "metadata": {},
   "source": [
    "<b>just for fun</b>"
   ]
  },
  {
   "cell_type": "code",
   "execution_count": 7,
   "id": "a82f00bc-d5f2-45a5-919e-acd129e0b922",
   "metadata": {},
   "outputs": [
    {
     "name": "stdout",
     "output_type": "stream",
     "text": [
      "train name:XYZ-express\n",
      " ticket fare: 10 \n",
      " total seat:5\n",
      "ticket booked!! your sit no. is 5\n",
      "ticket booked!! your sit no. is 4\n",
      "ticket booked!! your sit no. is 3\n",
      "ticket booked!! your sit no. is 2\n",
      "train name:XYZ-express\n",
      " ticket fare: 10 \n",
      " total seat:1\n"
     ]
    }
   ],
   "source": [
    "class Train:\n",
    "  def __init__(self, name, fare, seats):\n",
    "    self.name = name\n",
    "    self.seats = seats\n",
    "    self.fare = fare\n",
    "  def status(self):\n",
    "    print(f\"train name:{self.name}\\n ticket fare: {self.fare} \\n total seat:{self.seats}\")\n",
    "  def bookTicket(self):\n",
    "    if(self.seats>0):\n",
    "      print(f\"ticket booked!! your sit no. is {self.seats}\")\n",
    "      self.seats = self.seats-1\n",
    "    else:\n",
    "      print(\"sorry all ticket are already booked!!!\")\n",
    "\n",
    "enterCity = Train(\"XYZ-express\", 10, 5)\n",
    "enterCity.status()\n",
    "enterCity.bookTicket()\n",
    "enterCity.bookTicket()\n",
    "enterCity.bookTicket()\n",
    "enterCity.bookTicket()\n",
    "enterCity.status()"
   ]
  },
  {
   "cell_type": "markdown",
   "id": "87e86a2f-819c-4693-ad47-d82ec35a4fa3",
   "metadata": {},
   "source": [
    "<b>Quick Revision : </b> class & object"
   ]
  },
  {
   "cell_type": "code",
   "execution_count": 1,
   "id": "fccac50e-5c8e-478f-aac8-8ab444d56044",
   "metadata": {},
   "outputs": [
    {
     "name": "stdout",
     "output_type": "stream",
     "text": [
      "Python e-Learning Academy\n",
      "Student Details :\n",
      "NAME : {self.name} \n",
      " CLASS : {self.std}\n",
      "\n",
      "Python e-Learning Academy\n",
      "Student Details :\n",
      "NAME : {self.name} \n",
      " CLASS : {self.std}\n",
      "\n",
      "Python e-Learning Academy\n"
     ]
    }
   ],
   "source": [
    "class Student:\n",
    "    school = 'Python e-Learning Academy'\n",
    "    def GetData(self):\n",
    "        print(\"Student Details :\\nNAME : {self.name} \\n CLASS : {self.std}\\n\")\n",
    "\n",
    "obj1 = Student()\n",
    "obj2 = Student()\n",
    "\n",
    "obj1.name = \"raju\"\n",
    "obj1.std = '12th'\n",
    "\n",
    "obj2.name = \"ram\"\n",
    "obj2.std = '10th'\n",
    "\n",
    "print(obj1.school)\n",
    "obj1.GetData()\n",
    "\n",
    "print(obj2.school)\n",
    "obj2.GetData()\n",
    "\n",
    "print(Student.school)"
   ]
  },
  {
   "cell_type": "code",
   "execution_count": 2,
   "id": "eb0cd248-698c-4358-8ea2-80dfacef1276",
   "metadata": {},
   "outputs": [
    {
     "name": "stdout",
     "output_type": "stream",
     "text": [
      "Python e-Learning Academy\n",
      "Python e-Learning Academy\n",
      "Python e-Learning Academy\n",
      "just python\n",
      "just python\n",
      "just python\n",
      "just python\n",
      "just python\n",
      "java T point\n"
     ]
    }
   ],
   "source": [
    "class Student:\n",
    "    school = 'Python e-Learning Academy'\n",
    "    def GetData(self):\n",
    "        print(\"Student Details :\\nNAME : {self.name} \\n CLASS : {self.std}\\n\")\n",
    "\n",
    "obj1 = Student()\n",
    "obj2 = Student()\n",
    "\n",
    "print(Student.school)\n",
    "print(obj1.school)\n",
    "print(obj2.school)\n",
    "\n",
    "Student.school = \"just python\"\n",
    "\n",
    "print(Student.school)\n",
    "print(obj1.school)\n",
    "print(obj2.school)\n",
    "\n",
    "obj2.school = \"java T point\"\n",
    "\n",
    "print(Student.school)\n",
    "print(obj1.school)\n",
    "print(obj2.school)"
   ]
  },
  {
   "cell_type": "code",
   "execution_count": 3,
   "id": "6faa8b24-49b3-4733-8ef2-2b49539020b9",
   "metadata": {},
   "outputs": [
    {
     "name": "stdout",
     "output_type": "stream",
     "text": [
      "inventor : guido ven russum \n",
      " place : neitherland USA\n",
      "this is great programming language used in all world-wide areas...\n",
      "this is great programming language used in all world-wide areas...\n"
     ]
    }
   ],
   "source": [
    "class Mypython:\n",
    "    lang = 'high-level pro'\n",
    "    def intro(self):\n",
    "        print(f\"inventor : {self.inv} \\n place : {self.place}\")\n",
    "    @staticmethod\n",
    "    def geet():\n",
    "        print(\"this is great programming language used in all world-wide areas...\")\n",
    "\n",
    "obj1 = Mypython()\n",
    "\n",
    "obj1.inv = \"guido ven russum\"\n",
    "obj1.place = \"neitherland USA\"\n",
    "\n",
    "obj1.intro()\n",
    "obj1.geet()\n",
    "\n",
    "Mypython.geet()"
   ]
  },
  {
   "cell_type": "code",
   "execution_count": 4,
   "id": "6fff5ae2-913d-451b-b797-7d026607d286",
   "metadata": {},
   "outputs": [
    {
     "name": "stdout",
     "output_type": "stream",
     "text": [
      "\n",
      "COMPANY = XYZ institute pvt LTD\n",
      "********************************\n",
      "NAME : raj \n",
      "POSITION : manager \n",
      "SALARY : 50,000/- \n",
      "ADDRESS : INDORE\n",
      "---------------------------\n",
      "thanks for visiting us...\n",
      "---------------------------\n",
      "\n",
      "\n",
      "COMPANY = XYZ institute pvt LTD\n",
      "********************************\n",
      "NAME : rahul \n",
      "POSITION : developer \n",
      "SALARY : 65,000/- \n",
      "ADDRESS : BHOPAL\n",
      "---------------------------\n",
      "thanks for visiting us...\n",
      "---------------------------\n",
      "\n"
     ]
    }
   ],
   "source": [
    "class Emp:\n",
    "    def __init__(self,name,position,salary):\n",
    "        self.n = name\n",
    "        self.pos = position\n",
    "        self.sal = salary\n",
    "        print(\"\\nCOMPANY = XYZ institute pvt LTD\\n********************************\")\n",
    "    def Data(self,place):\n",
    "        print(f\"NAME : {self.n} \\nPOSITION : {self.pos} \\nSALARY : {self.sal} \\nADDRESS : {place}\")\n",
    "    @staticmethod\n",
    "    def greet():\n",
    "        print(\"---------------------------\")\n",
    "        print(\"thanks for visiting us...\")\n",
    "        print(\"---------------------------\\n\")\n",
    "\n",
    "e1 = Emp(\"raj\", \"manager\", \"50,000/-\")\n",
    "e1.Data(\"INDORE\")\n",
    "e1.greet()\n",
    "\n",
    "e2 = Emp(\"rahul\", \"developer\", \"65,000/-\")\n",
    "e2.Data(\"BHOPAL\")\n",
    "e2.greet()"
   ]
  },
  {
   "cell_type": "markdown",
   "id": "c117f63f-4e66-44b3-9e73-19172d1d6bc2",
   "metadata": {},
   "source": [
    "### INHERITANCE:\n",
    "creating a new class using an existing or old class with adding or modifying new features."
   ]
  },
  {
   "cell_type": "markdown",
   "id": "45c11158-f098-496a-a167-5e8654fd3344",
   "metadata": {},
   "source": [
    "<b>Ques. : Why do we use inheritance in programmings? what are the pros and cons of inheritence?</b><br>\n",
    "<b> Ans. : </b>\n",
    "Inheritance is a fundamental concept in object-oriented programming (OOP) that allows one class to inherit properties and behaviors from another class. The primary purpose of inheritance is to promote code reuse, extensibility, and the creation of a hierarchy of classes.\n",
    "\n",
    "<br>Here are some key reasons why inheritance is used :<br>\n",
    "\n",
    "* <b>Code Reusability : </b> Inheritance allows a new class (subclass or derived class) to inherit the attributes and methods of an existing class (superclass or base class). This promotes the reuse of code, as the subclass can leverage the functionality of the superclass without having to duplicate or redefine it.\n",
    "\n",
    "* <b>Extensibility : </b> Inheritance enables the creation of new classes that are extensions of existing classes. Developers can add or override methods in the subclass to tailor the behavior to specific needs while still benefiting from the existing functionality of the superclass.\n",
    "\n",
    "* <b>Hierarchy and Organization : </b> Inheritance facilitates the creation of class hierarchies, organizing related classes in a structured manner. This hierarchy helps in understanding and managing the relationships between different classes in a system.\n",
    "\n",
    "* <b>Polymorphism : </b> Inheritance is closely related to polymorphism, another OOP concept. Polymorphism allows objects of different classes to be treated as objects of a common base class. This enhances flexibility and enables code to work with objects at a higher level of abstraction.\n",
    "\n",
    "* <b>Maintenance and Updates : </b> When changes or updates are needed in a system, inheritance allows modifications to be made at the superclass level. These changes automatically propagate to all subclasses, reducing the effort required to maintain and update the code.\n",
    "\n",
    "* <b>Abstraction : </b> Inheritance helps in creating abstract classes that define a common interface and certain behaviors without providing a complete implementation. Subclasses then provide the concrete implementations. This abstraction allows developers to focus on essential features and hide unnecessary details.\n",
    "\n",
    "* <b>Reduced Redundancy : </b> Inheritance helps in reducing redundancy by promoting the reuse of code. Common functionality can be defined in a superclass, eliminating the need to duplicate the same code in multiple places.\n",
    "\n",
    "Despite these advantages, it's essential to use inheritance judiciously to avoid potential pitfalls such as tight coupling between classes and the risk of creating overly complex hierarchies. The principles of good object-oriented design, such as the SOLID principles, can guide developers in using inheritance effectively.\n",
    "##### Advantages of Inheritance :\n",
    "* <b>Minimizing duplicate code : </b>Key benefits of Inheritance include minimizing the identical code as it allows sharing of the common code among other subclasses.\n",
    "\n",
    "* <b>Flexibility : </b>Inheritance makes the code flexible to change, as you will adjust only in one place, and the rest of the code will work smoothly.\n",
    "\n",
    "* <b>Overriding: With the help of Inheritance, you can override the methods of the base class.\n",
    "\n",
    "* <b>Data Hiding : </b> The base class in Inheritance decides which data to be kept private, such that the derived class will not be able to alter it.\n",
    "\n",
    "##### Disadvantages of Inheritance :\n",
    "* <b>No Independence : </b> One of the main disadvantages of Inheritance in Java is that two classes, both the base and inherited class, get tightly bounded by each other. In simple terms, Programmers can not use these classes independently of each other.\n",
    "\n",
    "* <b>Decreases Execution Speed : </b> Another con of Inheritance is that it decreases the execution speed because Inheritance execution takes time and effort.\n",
    "\n",
    "* <b>Refactoring the Code : </b> If the user deletes the Super Class, then they have to refactor it if they have used it."
   ]
  },
  {
   "cell_type": "markdown",
   "id": "29952d4f-016f-400c-81c1-a19d92d2524b",
   "metadata": {},
   "source": [
    "<b>Inheritance classes : </b>Inheritance allows us to define a class that inherits all the methods and properties from another class. there are two types of class one is main class or source class that's known as parent class and other one is child class who inherit feature from main class.\n",
    "\n",
    "* <b>Parent class :</b> It is the class being inherited from, also called \"base/main class\".\n",
    "* <b>Child class :</b> It is the class that inherits from another class, also called \"derived class\"."
   ]
  },
  {
   "cell_type": "markdown",
   "id": "0da268c5-f1be-41af-8258-20ab15a2b3df",
   "metadata": {},
   "source": [
    "<b>Create a Parent Class :</b> Any class can be a parent class, so the syntax is the same as creating any other class."
   ]
  },
  {
   "cell_type": "markdown",
   "id": "f0cb78ad-02e9-4bcc-a8d4-e055c3ee03f0",
   "metadata": {},
   "source": [
    "<b>SYNTAX :</b><br>\n",
    "* create class :\n",
    "<pre>\n",
    "class class_name:\n",
    "        def __init__(self, var_1, var_2, ....., var_n):\n",
    "            self.variable_1 = var_1\n",
    "            self.variable_2 = var_2\n",
    "            self.variable_3 = var_3\n",
    "            .......................\n",
    "            self.variable_n = var_n\n",
    "\n",
    "        def function_name(self):\n",
    "            print(self.variable_1, self.variable_2, ........, self.variable_n)\n",
    "</pre>\n",
    "* create and execute the object\n",
    "<pre>\n",
    "\n",
    "  object_1  = class_name(value_1, value_2, value_2, ............, value_n)\n",
    "  object_1.function_name()\n",
    "</pre>"
   ]
  },
  {
   "cell_type": "markdown",
   "id": "b31893e3-3f40-46c9-a415-c8a03231ac13",
   "metadata": {},
   "source": [
    "<b> Create a Child Class : </b> a class who holds name of his parenet class as arguments to inherit their features"
   ]
  },
  {
   "cell_type": "markdown",
   "id": "073ac0c0-b72b-47cf-a6eb-04b5247de847",
   "metadata": {},
   "source": [
    "<b>SYNTAX :</b><br>\n",
    "* create child class\n",
    "<pre>\n",
    " class child_class_name(parent_class_name):\n",
    "        statements_1\n",
    "        statements_1\n",
    "        ............\n",
    "        statements_n\n",
    "</pre>"
   ]
  },
  {
   "cell_type": "code",
   "execution_count": 6,
   "id": "73102fb1-8ade-4f4f-a58f-93727b2df025",
   "metadata": {},
   "outputs": [
    {
     "name": "stdout",
     "output_type": "stream",
     "text": [
      "this an employee of Python-Pro...\n",
      "this an employee of Python-Pro...\n",
      "programming skills : python\n"
     ]
    }
   ],
   "source": [
    "# parent class\n",
    "class Employee:\n",
    "    company = \"Python-Pro\"\n",
    "    def showData(self):\n",
    "        print(f\"this an employee of {self.company}...\")\n",
    "\n",
    "# child class\n",
    "class Programmer(Employee):\n",
    "    lang = 'python'\n",
    "    def getLanguage(self):\n",
    "        print(f\"programming skills : {self.lang}\")\n",
    "\n",
    "e = Employee()\n",
    "p = Programmer()\n",
    "\n",
    "e.showData()\n",
    "p.showData()\n",
    "p.getLanguage()"
   ]
  },
  {
   "cell_type": "markdown",
   "id": "a76955ac-5ee3-4876-9ac1-b358a8f83b9e",
   "metadata": {},
   "source": [
    "<b>Error :</b><pre>\n",
    "<BlockQuote>* parent class\n",
    "class Employee:\n",
    "    company = \"Python-Pro\"\n",
    "    def showData(self):\n",
    "        print(f\"this an employee of {self.company}...\")\n",
    "\n",
    "* child class\n",
    "class Programmer(Employee):\n",
    "    lang = 'python'\n",
    "    def getLanguage(self):\n",
    "        print(f\"programming skills : {self.lang}\")\n",
    "\n",
    "* creating object\n",
    "e = Employee()\n",
    "p = Programmer()\n",
    "\n",
    "* try to access child class feature by parent class object\n",
    "e.getLanguage()</BlockQuote></pre>\n",
    "<pre>\n",
    "--------------------------------------------------------------------\n",
    "<b>AttributeError </b>                   Traceback (most recent call last)\n",
    "Cell <b>In[5], line 19</b>\n",
    "     17 p.showData()\n",
    "     18 p.getLanguage()\n",
    "---> <b>19</b> e.getLanguage()<br>\n",
    "    \n",
    "<b>AttributeError :</b>  'Employee' object has no attribute 'getLanguage'\n",
    "</pre>"
   ]
  },
  {
   "cell_type": "markdown",
   "id": "c224c727-f42b-49f3-a110-9d830da2518c",
   "metadata": {},
   "source": [
    "#### Over-riding :\n",
    "Overriding is a concept in object-oriented programming (OOP) that allows a subclass to provide a specific implementation for a method that is already defined in its superclass. When a subclass provides its own version of a method with the same signature as a method in its superclass, it is said to override that method.\r\n",
    "\r\n",
    "Here are key points about method overriding:\r\n",
    "\r\n",
    "* <b>Same Method Signature : </b>The overridden method in the subclass must have the same method signature (name, return type, and parameters) as the method in the superclass. This is crucial for the compiler to recognize it as an override.\r\n",
    "\r\n",
    "* <b>Inheritance Relationship : </b>Overriding occurs in the context of inheritance. The method being overridden must be declared in the superclass, and the subclass must inherit from that superclass."
   ]
  },
  {
   "cell_type": "code",
   "execution_count": 1,
   "id": "7220e9ac-03f5-4aa4-a8a8-06a0aa82c760",
   "metadata": {},
   "outputs": [
    {
     "name": "stdout",
     "output_type": "stream",
     "text": [
      "this is an employee..\n",
      "i am programmer...\n",
      "Google\n",
      "Yahoo!\n",
      "language is python\n"
     ]
    }
   ],
   "source": [
    "class Employee:\n",
    "  company = \"Google\"\n",
    "  def showDetails(self):\n",
    "    print(f\"this is an employee..\")\n",
    "\n",
    "class Programmer(Employee):\n",
    "  language = 'python'\n",
    "  company = 'Yahoo!'          #overriding\n",
    "  def getlanguage(self):\n",
    "    print(f\"language is {self.language}\")\n",
    "  def showDetails(self):\n",
    "    print(\"i am programmer...\")   #overriding\n",
    "\n",
    "e = Employee()\n",
    "p = Programmer()\n",
    "\n",
    "e.showDetails()\n",
    "p.showDetails()\n",
    "\n",
    "print(e.company)\n",
    "print(p.company)\n",
    "\n",
    "# e.getlanguage() #AttributeError: 'Employee' object has no attribute 'getlanguage'\n",
    "p.getlanguage()"
   ]
  },
  {
   "cell_type": "markdown",
   "id": "efb7eb5b-17f9-4f7c-89ca-74e2bf9f94c5",
   "metadata": {},
   "source": [
    "#### Inheritance Types :\n",
    "There are 5 different types of inheritance in Python.They are:<br>\n",
    "<b>1. Single Inheritance :</b> a child class inherits from only one parent class.<br>\n",
    "<b>2. Multiple Inheritance :</b> a child class inherits from multiple parent classes.<br>\n",
    "<b>3. Multilevel Inheritance :</b> a child class inherits from its parent class, which is inheriting from its parent class.<br>\n",
    "<b>4. Hierarchical Inheritance :</b> more than one child class are created from a single parent class.<br>\n",
    "<b>5. Hybrid Inheritance :</b> combines more than one form of inheritance."
   ]
  },
  {
   "cell_type": "markdown",
   "id": "a280bd8a-f786-4852-9ade-4c1b8b982db8",
   "metadata": {},
   "source": [
    "<b>1. single inheritance:</b>The inheritance in which a single derived class is inherited from a single base class is known as the Single Inheritance."
   ]
  },
  {
   "cell_type": "code",
   "execution_count": 2,
   "id": "5c67ea1a-aebb-4adc-8ef0-f973bc78cfa7",
   "metadata": {},
   "outputs": [
    {
     "name": "stdout",
     "output_type": "stream",
     "text": [
      "google\n",
      "google\n",
      "programmer\n",
      "i am an employee..\n",
      "i am an employee..\n",
      "i am an programmer..\n"
     ]
    }
   ],
   "source": [
    "class Employee:\n",
    "    company = 'google'\n",
    "    def showDetails(self):\n",
    "        print(\"i am an employee..\")\n",
    "\n",
    "class Programmer(Employee):\n",
    "    job = 'programmer'\n",
    "    def showData(self):\n",
    "        print(\"i am an programmer..\")\n",
    "\n",
    "e = Employee()\n",
    "p = Programmer()\n",
    "\n",
    "print(e.company)\n",
    "print(p.company)\n",
    "print(p.job)\n",
    "\n",
    "e.showDetails()\n",
    "p.showDetails()\n",
    "p.showData()"
   ]
  },
  {
   "cell_type": "code",
   "execution_count": null,
   "id": "29189675-2415-43a0-90f3-e3f213d0ed52",
   "metadata": {},
   "outputs": [],
   "source": []
  },
  {
   "cell_type": "code",
   "execution_count": null,
   "id": "40a3938a-0534-44c3-a1fc-a7214193344f",
   "metadata": {},
   "outputs": [],
   "source": []
  },
  {
   "cell_type": "code",
   "execution_count": null,
   "id": "ac827fc8-c713-43ef-9242-33234119cc95",
   "metadata": {},
   "outputs": [],
   "source": []
  },
  {
   "cell_type": "code",
   "execution_count": null,
   "id": "081459d4-5e53-4f83-9263-15ba886ba819",
   "metadata": {},
   "outputs": [],
   "source": []
  },
  {
   "cell_type": "code",
   "execution_count": null,
   "id": "b8bb24a7-e3f3-4e19-b272-e5a27a88975c",
   "metadata": {},
   "outputs": [],
   "source": []
  },
  {
   "cell_type": "code",
   "execution_count": null,
   "id": "8bd5655c-5e46-4ec6-974d-b43b8cdd560b",
   "metadata": {},
   "outputs": [],
   "source": []
  },
  {
   "cell_type": "markdown",
   "id": "307f9cbe-6041-4821-b17a-0406d41a02ba",
   "metadata": {},
   "source": [
    "<b>2. multiple inheritance:</b>"
   ]
  },
  {
   "cell_type": "code",
   "execution_count": null,
   "id": "bd1dc7d1-8114-4965-b7f3-baa4d6c1bfea",
   "metadata": {},
   "outputs": [],
   "source": []
  },
  {
   "cell_type": "markdown",
   "id": "50737f47-4f0c-40b4-80fb-657ef6a13068",
   "metadata": {},
   "source": [
    "<b>3. multilevel inheritance:</b>"
   ]
  },
  {
   "cell_type": "code",
   "execution_count": null,
   "id": "9fb673d8-06e4-4685-8e1c-980f68983510",
   "metadata": {},
   "outputs": [],
   "source": []
  },
  {
   "cell_type": "code",
   "execution_count": null,
   "id": "06753975-be61-4423-99f2-b99cff84de03",
   "metadata": {},
   "outputs": [],
   "source": []
  },
  {
   "cell_type": "code",
   "execution_count": null,
   "id": "f2a89161-d46a-4290-8fe5-091ff8167fc9",
   "metadata": {},
   "outputs": [],
   "source": []
  },
  {
   "cell_type": "code",
   "execution_count": 1,
   "id": "47ead945-9bef-4e34-a66b-9985b0ba4640",
   "metadata": {},
   "outputs": [
    {
     "name": "stdout",
     "output_type": "stream",
     "text": [
      "hello\n"
     ]
    }
   ],
   "source": [
    "print(\"hello\")"
   ]
  },
  {
   "cell_type": "code",
   "execution_count": null,
   "id": "e713d6cf-dc8f-44ac-9dda-5dbc643c5d5c",
   "metadata": {},
   "outputs": [],
   "source": []
  },
  {
   "cell_type": "code",
   "execution_count": null,
   "id": "652e9ee4-05cf-455c-a842-12f95146309f",
   "metadata": {},
   "outputs": [],
   "source": []
  },
  {
   "cell_type": "code",
   "execution_count": null,
   "id": "5a6ab373-2630-4fac-b006-a3d789a16b1e",
   "metadata": {},
   "outputs": [],
   "source": []
  },
  {
   "cell_type": "code",
   "execution_count": null,
   "id": "e162cece-c42a-4672-b975-bf357ac5dbf1",
   "metadata": {},
   "outputs": [],
   "source": []
  },
  {
   "cell_type": "code",
   "execution_count": null,
   "id": "aba44135-4950-4606-a4ad-cec33ce3ddb8",
   "metadata": {},
   "outputs": [],
   "source": []
  },
  {
   "cell_type": "code",
   "execution_count": null,
   "id": "6ccbc0dd-4321-4973-bfa7-3973dc85f0fd",
   "metadata": {},
   "outputs": [],
   "source": []
  },
  {
   "cell_type": "code",
   "execution_count": null,
   "id": "ec97a22c-e073-4cc9-8924-eb42b9e11dfb",
   "metadata": {},
   "outputs": [],
   "source": []
  },
  {
   "cell_type": "code",
   "execution_count": null,
   "id": "9b06bd7c-d79c-47e5-89d9-fc2ff0e093ce",
   "metadata": {},
   "outputs": [],
   "source": []
  },
  {
   "cell_type": "code",
   "execution_count": null,
   "id": "4bf2e135-6df5-4da7-a300-afa8d6e7eead",
   "metadata": {},
   "outputs": [],
   "source": []
  },
  {
   "cell_type": "code",
   "execution_count": null,
   "id": "99988c03-636d-42c1-8ead-005d0d5d4868",
   "metadata": {},
   "outputs": [],
   "source": []
  },
  {
   "cell_type": "code",
   "execution_count": null,
   "id": "34f0d6b2-f5ef-44ae-bc67-b1195ba3b677",
   "metadata": {},
   "outputs": [],
   "source": []
  },
  {
   "cell_type": "markdown",
   "id": "e580e95c-7815-409f-9606-83fa9403782f",
   "metadata": {},
   "source": [
    "* super()\n",
    "* class()\n",
    "* decorator\n",
    "* operator overloading"
   ]
  },
  {
   "cell_type": "markdown",
   "id": "6e7d7590-2c6e-42f0-bc4f-2674044f15a7",
   "metadata": {},
   "source": [
    "<center><h1>Advance python</h1></center>"
   ]
  },
  {
   "cell_type": "markdown",
   "id": "e9a09670-1f75-401f-bbac-277c966512d0",
   "metadata": {},
   "source": [
    "define adv python"
   ]
  },
  {
   "cell_type": "markdown",
   "id": "d1e3db33-accf-482c-888e-165491ed2f3a",
   "metadata": {},
   "source": [
    "### exception handling :"
   ]
  },
  {
   "cell_type": "code",
   "execution_count": null,
   "id": "3de160b6-70ce-495b-9bb5-f5768fe3ea5d",
   "metadata": {},
   "outputs": [],
   "source": []
  },
  {
   "cell_type": "code",
   "execution_count": null,
   "id": "cf714d04-cf7f-478a-a12b-b69ccbbf799d",
   "metadata": {},
   "outputs": [],
   "source": []
  },
  {
   "cell_type": "code",
   "execution_count": null,
   "id": "a240bfa0-23f6-4a11-8060-63d98b49f612",
   "metadata": {},
   "outputs": [],
   "source": []
  },
  {
   "cell_type": "code",
   "execution_count": null,
   "id": "713ff389-c1e5-44cd-9ad1-99d6eeaadfa4",
   "metadata": {},
   "outputs": [],
   "source": []
  },
  {
   "cell_type": "code",
   "execution_count": null,
   "id": "6411d290-8363-45b8-a814-2964e33a3eab",
   "metadata": {},
   "outputs": [],
   "source": []
  },
  {
   "cell_type": "code",
   "execution_count": null,
   "id": "e68de630-8a16-47a4-a66f-99406c6ae2e6",
   "metadata": {},
   "outputs": [],
   "source": []
  },
  {
   "cell_type": "markdown",
   "id": "5a5d4273-5f4c-411d-8b34-934d6f05f90e",
   "metadata": {},
   "source": [
    "### file handling:\n",
    "<b>we learn here to handle text files and folders, connect with databases and work with command mode.</b>\n",
    "\n",
    "we will see how to create, detele and rename any txt and excel file and also edit content written inside of files."
   ]
  },
  {
   "cell_type": "markdown",
   "id": "26b4763b-5ed3-4334-950f-1d09c5879d3d",
   "metadata": {},
   "source": [
    "* files I/O : YOU CAN INTERACT WITH FILES(read,write) VIA PY-CODE theory:"
   ]
  },
  {
   "cell_type": "markdown",
   "id": "10792c54-f071-45fe-8d08-71e9e078416f",
   "metadata": {},
   "source": [
    "<b>FILE: </b> collection of data to store data in computer on server or external storages.\n",
    "\n",
    "1. VOLATILE-> file stored in ram like if you are playing games,\n",
    "2. NON VOLATILE: data stored in HDD or pen-drive"
   ]
  },
  {
   "cell_type": "markdown",
   "id": "8094d489-6436-4053-ad1f-64eda3e726b1",
   "metadata": {},
   "source": [
    "TYPES OF TXT FILE:\n",
    "\n",
    "1. TEXT FILE(.txt, .c)\n",
    "2. BINARY FILE(.jpg, .dot)"
   ]
  },
  {
   "cell_type": "markdown",
   "id": "2184bf80-93c9-4e6d-a8b2-d2879c40a18e",
   "metadata": {},
   "source": [
    "<b>open(): </b>\n",
    "    it is build-in func., used to opening a file,it takes 2\n",
    "parameter (file name, mode) i.e.open(\"sample.txt\",\"r\")\n",
    "\n",
    "USED FILE Formate : \"data1.txt\""
   ]
  },
  {
   "cell_type": "markdown",
   "id": "64c45648-8fe4-4f8f-9fef-f5de19934760",
   "metadata": {},
   "source": [
    "<b>MODE:</b> there are various mode of open() function used in text files.\n",
    "\n",
    "<table style=\"width:100%\">\n",
    "<thead>\n",
    "    <tr>\n",
    "        <td><b>MODE</b></td><td><b>DESCRIPTION</b></td>\n",
    "    </tr>\n",
    "</thead>\n",
    "<tbody>\n",
    "    <tr><td>r</td><td>open for read</td></tr>\n",
    "    <tr><td>w</td><td>open for write</td></tr>\n",
    "    <tr><td>a</td><td>open for append</td></tr>\n",
    "    <tr><td>x</td><td>create new file if its not exist already</td></tr>\n",
    "    <tr><td>+</td><td>open for update</td></tr>\n",
    "    <tr><td>rb</td><td>open for read in binary mode (binary files)</td></tr>\n",
    "    <tr><td>rt</td><td>open for read in text mode(binary files)</td></tr>\n",
    "</tbody>\n",
    "</table>"
   ]
  },
  {
   "cell_type": "markdown",
   "id": "da4a3b82-afd3-4544-8652-fdfb144bd6a6",
   "metadata": {},
   "source": [
    "<b>SYNTAX :</b>\n",
    "<pre>\n",
    "1. f = open(\"txt file name with path\")\n",
    "2. with open(\"txt file name with path\") as object_name:\n",
    "</pre>"
   ]
  },
  {
   "cell_type": "markdown",
   "id": "621e24fa-d369-4b56-b415-56915f09c1eb",
   "metadata": {},
   "source": [
    "<b>close():</b>\n",
    "* it is used to close the text file.\n",
    "* kindly always close the file in the end after using file."
   ]
  },
  {
   "cell_type": "markdown",
   "id": "297af780-b78a-41ca-99c6-c02c8e4fcd56",
   "metadata": {},
   "source": [
    "<b>SYNTAX :</b>\n",
    "<pre>object_name.close()</pre>"
   ]
  },
  {
   "cell_type": "markdown",
   "id": "db69d6e7-e8e5-4e7c-9579-02516352e90d",
   "metadata": {},
   "source": [
    "<b>NOTE : </b>\n",
    "* 'r' is default mode in open().\n",
    "* you no need to use close() if you are handling txt files using \"with\" keyword coz after working it'll automatically closed."
   ]
  },
  {
   "cell_type": "markdown",
   "id": "93adafad-1fbf-472a-acae-4c9c4914a01d",
   "metadata": {},
   "source": [
    "* ### read txt file : "
   ]
  },
  {
   "cell_type": "markdown",
   "id": "94875f2b-8d24-4033-8f8b-48b42bc71bc7",
   "metadata": {},
   "source": [
    "To open the file, use the built-in function named <b>open() </b>.\n",
    "The open() function returns a file object, which has a read() method for <b>reading the content</b> of the file.\n",
    "\n",
    "There two mode used to read the files :\n",
    "\n",
    "<b>r   :</b>  read mode to read the file<br>\n",
    "<b>rt  :</b>  read mode to read the txt file\n",
    "\n",
    "you can read content using read() and in opent() you can file name or file name with path and extention and mode of open()"
   ]
  },
  {
   "cell_type": "markdown",
   "id": "91616fb6-2d7d-4154-b892-648eef1d257f",
   "metadata": {},
   "source": [
    "<b>SYNTAX :</b>\n",
    "<pre>declared_variable = object_name.close()</pre>"
   ]
  },
  {
   "cell_type": "markdown",
   "id": "c3390460-ca19-42c5-b6c9-86ddc7a0de71",
   "metadata": {},
   "source": [
    "* there is also 2 ways to read the files."
   ]
  },
  {
   "cell_type": "markdown",
   "id": "e90a20cf-90c5-4c5d-b0f7-c3a4a1412b08",
   "metadata": {},
   "source": [
    "1. default way ````:"
   ]
  },
  {
   "cell_type": "code",
   "execution_count": 1,
   "id": "e0b0be7f-9497-4e61-a026-1ecd74683e72",
   "metadata": {},
   "outputs": [
    {
     "name": "stdout",
     "output_type": "stream",
     "text": [
      "Twinkle, Twinkle, Little Star\n",
      "BY JANE TAYLOR\n",
      ".......................................\n",
      "Twinkle, twinkle, little star,\n",
      "How I wonder what you are!\n",
      "Up above the world so high,\n",
      "Like a diamond in the sky.\n",
      "\n",
      "When the blazing sun is gone,\n",
      "When he nothing shines upon,\n",
      "Then you show your little light,\n",
      "Twinkle, twinkle, all the night.\n",
      "\n",
      "Then the traveler in the dark\n",
      "Thanks you for your tiny spark,\n",
      "How could he see where to go,\n",
      "If you did not twinkle so?\n",
      "\n",
      "In the dark blue sky you keep,\n",
      "Often through my curtains peep\n",
      "For you never shut your eye,\n",
      "Till the sun is in the sky.\n",
      "\n",
      "As your bright and tiny spark\n",
      "Lights the traveler in the dark,\n",
      "Though I know not what you are,\n",
      "Twinkle, twinkle, little star.\n",
      "\n",
      "Source: The Golden Book of Poetry (1947)\n"
     ]
    }
   ],
   "source": [
    "f = open('poem.txt')\n",
    "data = f.read()\n",
    "print(data)\n",
    "f.close()"
   ]
  },
  {
   "cell_type": "markdown",
   "id": "f2f2fd3e-2d7a-4b93-8e7c-48b93821d544",
   "metadata": {},
   "source": [
    "2. via using path :"
   ]
  },
  {
   "cell_type": "code",
   "execution_count": 1,
   "id": "465be632-633b-47af-9f54-8c57c260687e",
   "metadata": {},
   "outputs": [
    {
     "name": "stdout",
     "output_type": "stream",
     "text": [
      "Twinkle, Twinkle, Little Star\n",
      "BY JANE TAYLOR\n",
      ".......................................\n",
      "Twinkle, twinkle, little star,\n",
      "How I wonder what you are!\n",
      "Up above the world so high,\n",
      "Like a diamond in the sky.\n",
      "\n",
      "When the blazing sun is gone,\n",
      "When he nothing shines upon,\n",
      "Then you show your little light,\n",
      "Twinkle, twinkle, all the night.\n",
      "\n",
      "Then the traveler in the dark\n",
      "Thanks you for your tiny spark,\n",
      "How could he see where to go,\n",
      "If you did not twinkle so?\n",
      "\n",
      "In the dark blue sky you keep,\n",
      "Often through my curtains peep\n",
      "For you never shut your eye,\n",
      "Till the sun is in the sky.\n",
      "\n",
      "As your bright and tiny spark\n",
      "Lights the traveler in the dark,\n",
      "Though I know not what you are,\n",
      "Twinkle, twinkle, little star.\n",
      "\n",
      "Source: The Golden Book of Poetry (1947)\n"
     ]
    }
   ],
   "source": [
    "f = open('C://Users//rajen//Downloads//0. data science//poem.txt','r')\n",
    "data = f.read()\n",
    "print(data)\n",
    "f.close()"
   ]
  },
  {
   "cell_type": "markdown",
   "id": "5f5844ef-1378-4535-b5f5-9556f3966c5b",
   "metadata": {},
   "source": [
    "3. via using 'with' keyword :"
   ]
  },
  {
   "cell_type": "code",
   "execution_count": 49,
   "id": "2a2fb579-65bf-42df-a1c8-dc408f30e808",
   "metadata": {},
   "outputs": [
    {
     "name": "stdout",
     "output_type": "stream",
     "text": [
      "Twinkle, Twinkle, Little Star\n",
      "BY JANE TAYLOR\n",
      ".......................................\n",
      "Twinkle, twinkle, little star,\n",
      "How I wonder what you are!\n",
      "Up above the world so high,\n",
      "Like a diamond in the sky.\n",
      "\n",
      "When the blazing sun is gone,\n",
      "When he nothing shines upon,\n",
      "Then you show your little light,\n",
      "Twinkle, twinkle, all the night.\n",
      "\n",
      "Then the traveler in the dark\n",
      "Thanks you for your tiny spark,\n",
      "How could he see where to go,\n",
      "If you did not twinkle so?\n",
      "\n",
      "In the dark blue sky you keep,\n",
      "Often through my curtains peep\n",
      "For you never shut your eye,\n",
      "Till the sun is in the sky.\n",
      "\n",
      "As your bright and tiny spark\n",
      "Lights the traveler in the dark,\n",
      "Though I know not what you are,\n",
      "Twinkle, twinkle, little star.\n",
      "\n",
      "Source: The Golden Book of Poetry (1947)\n"
     ]
    }
   ],
   "source": [
    "with open('poem.txt') as f:\n",
    "    data = f.read()\n",
    "    print(data)"
   ]
  },
  {
   "cell_type": "markdown",
   "id": "b2fcc70a-7fa5-4464-811b-7bf0bf482578",
   "metadata": {},
   "source": [
    "* using loop"
   ]
  },
  {
   "cell_type": "code",
   "execution_count": 50,
   "id": "e3ba0621-32c3-489e-b830-70948143ca13",
   "metadata": {},
   "outputs": [
    {
     "name": "stdout",
     "output_type": "stream",
     "text": [
      "this is line 1\n",
      "this is line 1\n",
      "this is line 1\n",
      "this is line 4\n",
      "\n",
      "this is line 1\n",
      "this is line 1\n",
      "this is line 1\n",
      "this is line 4\n",
      "\n",
      "this is line 1\n",
      "this is line 1\n",
      "this is line 1\n",
      "this is line 4\n",
      "\n",
      "this is line 1\n",
      "this is line 1\n",
      "this is line 1\n",
      "this is line 4\n",
      "\n",
      "this is line 1\n",
      "this is line 1\n",
      "this is line 1\n",
      "this is line 4\n",
      "\n",
      "this is line 1\n",
      "this is line 1\n",
      "this is line 1\n",
      "this is line 4\n",
      "\n",
      "this is line 1\n",
      "this is line 1\n",
      "this is line 1\n",
      "this is line 4\n",
      "\n",
      "this is line 1\n",
      "this is line 1\n",
      "this is line 1\n",
      "this is line 4\n",
      "\n",
      "this is line 1\n",
      "this is line 1\n",
      "this is line 1\n",
      "this is line 4\n",
      "\n",
      "this is line 1\n",
      "this is line 1\n",
      "this is line 1\n",
      "this is line 4\n",
      "\n",
      "this is line 1\n",
      "this is line 1\n",
      "this is line 1\n",
      "this is line 4\n",
      "\n",
      "this is line 1\n",
      "this is line 1\n",
      "this is line 1\n",
      "this is line 4\n",
      "\n",
      "this is line 1\n",
      "this is line 1\n",
      "this is line 1\n",
      "this is line 4\n",
      "\n",
      "this is line 1\n",
      "this is line 1\n",
      "this is line 1\n",
      "this is line 4\n",
      "\n",
      "this is line 1\n",
      "this is line 1\n",
      "this is line 1\n",
      "this is line 4\n",
      "\n",
      "this is line 1\n",
      "this is line 1\n",
      "this is line 1\n",
      "this is line 4\n",
      "\n",
      "this is line 1\n",
      "this is line 1\n",
      "this is line 1\n",
      "this is line 4\n",
      "\n",
      "this is line 1\n",
      "this is line 1\n",
      "this is line 1\n",
      "this is line 4\n",
      "\n",
      "this is line 1\n",
      "this is line 1\n",
      "this is line 1\n",
      "this is line 4\n",
      "\n",
      "this is line 1\n",
      "this is line 1\n",
      "this is line 1\n",
      "this is line 4\n",
      "\n",
      "this is line 1\n",
      "this is line 1\n",
      "this is line 1\n",
      "this is line 4\n",
      "\n",
      "this is line 1\n",
      "this is line 1\n",
      "this is line 1\n",
      "this is line 4\n",
      "\n",
      "this is line 1\n",
      "this is line 1\n",
      "this is line 1\n",
      "this is line 4\n",
      "\n",
      "this is line 1\n",
      "this is line 1\n",
      "this is line 1\n",
      "this is line 4\n",
      "\n",
      "this is line 1\n",
      "this is line 1\n",
      "this is line 1\n",
      "this is line 4\n",
      "\n",
      "this is line 1\n",
      "this is line 1\n",
      "this is line 1\n",
      "this is line 4\n",
      "\n",
      "this is line 1\n",
      "this is line 1\n",
      "this is line 1\n",
      "this is line 4\n",
      "\n",
      "this is line 1\n",
      "this is line 1\n",
      "this is line 1\n",
      "this is line 4\n",
      "\n",
      "this is line 1\n",
      "this is line 1\n",
      "this is line 1\n",
      "this is line 4\n",
      "\n",
      "this is line 1\n",
      "this is line 1\n",
      "this is line 1\n",
      "this is line 4\n",
      "\n",
      "this is line 1\n",
      "this is line 1\n",
      "this is line 1\n",
      "this is line 4\n",
      "\n",
      "this is line 1\n",
      "this is line 1\n",
      "this is line 1\n",
      "this is line 4\n",
      "\n",
      "this is line 1\n",
      "this is line 1\n",
      "this is line 1\n",
      "this is line 4\n",
      "\n",
      "this is line 1\n",
      "this is line 1\n",
      "this is line 1\n",
      "this is line 4\n",
      "\n",
      "this is line 1\n",
      "this is line 1\n",
      "this is line 1\n",
      "this is line 4\n",
      "\n",
      "this is line 1\n",
      "this is line 1\n",
      "this is line 1\n",
      "this is line 4\n",
      "\n",
      "this is line 1\n",
      "this is line 1\n",
      "this is line 1\n",
      "this is line 4\n",
      "\n",
      "this is line 1\n",
      "this is line 1\n",
      "this is line 1\n",
      "this is line 4\n",
      "\n",
      "this is line 1\n",
      "this is line 1\n",
      "this is line 1\n",
      "this is line 4\n",
      "\n",
      "this is line 1\n",
      "this is line 1\n",
      "this is line 1\n",
      "this is line 4\n",
      "\n",
      "this is line 1\n",
      "this is line 1\n",
      "this is line 1\n",
      "this is line 4\n",
      "\n",
      "this is line 1\n",
      "this is line 1\n",
      "this is line 1\n",
      "this is line 4\n",
      "\n",
      "this is line 1\n",
      "this is line 1\n",
      "this is line 1\n",
      "this is line 4\n",
      "\n",
      "this is line 1\n",
      "this is line 1\n",
      "this is line 1\n",
      "this is line 4\n",
      "\n",
      "this is line 1\n",
      "this is line 1\n",
      "this is line 1\n",
      "this is line 4\n",
      "\n",
      "this is line 1\n",
      "this is line 1\n",
      "this is line 1\n",
      "this is line 4\n",
      "\n",
      "this is line 1\n",
      "this is line 1\n",
      "this is line 1\n",
      "this is line 4\n",
      "\n",
      "this is line 1\n",
      "this is line 1\n",
      "this is line 1\n",
      "this is line 4\n",
      "\n",
      "this is line 1\n",
      "this is line 1\n",
      "this is line 1\n",
      "this is line 4\n",
      "\n",
      "this is line 1\n",
      "this is line 1\n",
      "this is line 1\n",
      "this is line 4\n",
      "\n",
      "this is line 1\n",
      "this is line 1\n",
      "this is line 1\n",
      "this is line 4\n",
      "\n",
      "this is line 1\n",
      "this is line 1\n",
      "this is line 1\n",
      "this is line 4\n",
      "\n",
      "this is line 1\n",
      "this is line 1\n",
      "this is line 1\n",
      "this is line 4\n",
      "\n",
      "this is line 1\n",
      "this is line 1\n",
      "this is line 1\n",
      "this is line 4\n",
      "\n",
      "this is line 1\n",
      "this is line 1\n",
      "this is line 1\n",
      "this is line 4\n",
      "\n",
      "this is line 1\n",
      "this is line 1\n",
      "this is line 1\n",
      "this is line 4\n",
      "\n",
      "this is line 1\n",
      "this is line 1\n",
      "this is line 1\n",
      "this is line 4\n",
      "\n",
      "this is line 1\n",
      "this is line 1\n",
      "this is line 1\n",
      "this is line 4\n",
      "\n",
      "this is line 1\n",
      "this is line 1\n",
      "this is line 1\n",
      "this is line 4\n",
      "\n",
      "this is line 1\n",
      "this is line 1\n",
      "this is line 1\n",
      "this is line 4\n",
      "\n"
     ]
    }
   ],
   "source": [
    "f = open(\"dummy.txt\")\n",
    "data = f.read()\n",
    "for x in data:\n",
    "    print(data)\n",
    "    f.close()"
   ]
  },
  {
   "cell_type": "code",
   "execution_count": 51,
   "id": "67da8be2-187e-4042-8fe6-f7fd58707c40",
   "metadata": {},
   "outputs": [
    {
     "name": "stdout",
     "output_type": "stream",
     "text": [
      "t\n",
      "h\n",
      "i\n",
      "s\n",
      " \n",
      "i\n",
      "s\n",
      " \n",
      "l\n",
      "i\n",
      "n\n",
      "e\n",
      " \n",
      "1\n",
      "\n",
      "\n",
      "t\n",
      "h\n",
      "i\n",
      "s\n",
      " \n",
      "i\n",
      "s\n",
      " \n",
      "l\n",
      "i\n",
      "n\n",
      "e\n",
      " \n",
      "1\n",
      "\n",
      "\n",
      "t\n",
      "h\n",
      "i\n",
      "s\n",
      " \n",
      "i\n",
      "s\n",
      " \n",
      "l\n",
      "i\n",
      "n\n",
      "e\n",
      " \n",
      "1\n",
      "\n",
      "\n",
      "t\n",
      "h\n",
      "i\n",
      "s\n",
      " \n",
      "i\n",
      "s\n",
      " \n",
      "l\n",
      "i\n",
      "n\n",
      "e\n",
      " \n",
      "4\n",
      "\n",
      "\n"
     ]
    }
   ],
   "source": [
    "f = open('dummy.txt')\n",
    "data = f.read()\n",
    "for x in data:\n",
    "    print(x)\n",
    "    f.close()"
   ]
  },
  {
   "cell_type": "markdown",
   "id": "ee3ee8f0-64b7-4ef3-8ac8-eaad8d612187",
   "metadata": {},
   "source": [
    "* <b>readline() :</b> read the file line by line"
   ]
  },
  {
   "cell_type": "code",
   "execution_count": 52,
   "id": "29cc0e78-d419-4658-8a81-8fcedbb7ef13",
   "metadata": {},
   "outputs": [
    {
     "name": "stdout",
     "output_type": "stream",
     "text": [
      "this is line 1\n",
      "\n"
     ]
    }
   ],
   "source": [
    "f = open(\"dummy.txt\", \"r\")\n",
    "print(f.readline())\n",
    "f.close()"
   ]
  },
  {
   "cell_type": "code",
   "execution_count": 53,
   "id": "80feb857-0b4d-4e5c-9732-320f444df18a",
   "metadata": {},
   "outputs": [
    {
     "name": "stdout",
     "output_type": "stream",
     "text": [
      "this is line 1\n",
      "\n",
      "this is line 1\n",
      "\n",
      "this is line 1\n",
      "\n",
      "this is line 4\n",
      "\n",
      "\n",
      "\n",
      "\n",
      "\n",
      "\n",
      "\n",
      "\n",
      "\n"
     ]
    }
   ],
   "source": [
    "f = open(\"dummy.txt\", \"r\")\n",
    "print(f.readline())\n",
    "print(f.readline())\n",
    "print(f.readline())\n",
    "print(f.readline())\n",
    "print(f.readline())\n",
    "print(f.readline())\n",
    "print(f.readline())\n",
    "print(f.readline())\n",
    "print(f.readline())\n",
    "print(f.readline())\n",
    "print(f.readline())\n",
    "print(f.readline())\n",
    "f.close()"
   ]
  },
  {
   "cell_type": "code",
   "execution_count": 19,
   "id": "6b08d428-7ae1-4784-831d-0c4a0ef6eb0c",
   "metadata": {},
   "outputs": [
    {
     "name": "stdout",
     "output_type": "stream",
     "text": [
      "this is line 1\n",
      "\n",
      "1.  this is line 2\n",
      "\n",
      "2.  this is line 3\n",
      "\n",
      "3.  this is line 4\n"
     ]
    }
   ],
   "source": [
    "data = open(\"dummy.txt\")\n",
    "print(data.readline())\n",
    "x = data.readline()\n",
    "print(\"1. \",x)\n",
    "y = data.readline()\n",
    "print(\"2. \",y)\n",
    "z = data.readline()\n",
    "print(\"3. \",z)\n",
    "data.close()"
   ]
  },
  {
   "cell_type": "markdown",
   "id": "53993f19-ee90-48a9-87a8-42ddb7f359cf",
   "metadata": {},
   "source": [
    "* normal code and without mention 'r' in open()"
   ]
  },
  {
   "cell_type": "code",
   "execution_count": 17,
   "id": "09117173-bda0-45c2-96b8-d99143f1a6d4",
   "metadata": {},
   "outputs": [
    {
     "name": "stdout",
     "output_type": "stream",
     "text": [
      "this is demo 1\n",
      "\n",
      "this is demo 2\n"
     ]
    }
   ],
   "source": [
    "f = open('demo1.txt','r')\n",
    "f1 = open('demo2.txt')\n",
    "data1 = f.read()\n",
    "data2 = f1.read()\n",
    "print(data1)\n",
    "print(data2)\n",
    "f.close()\n",
    "f1.close()"
   ]
  },
  {
   "cell_type": "markdown",
   "id": "620ad20c-f79e-453b-94e0-1d05ff995a57",
   "metadata": {},
   "source": [
    "* ### write the txt file\n",
    "\n",
    "it's use to write in any text file but it is replace the data from new one to old or already written data."
   ]
  },
  {
   "cell_type": "markdown",
   "id": "02163b27-aecb-49a8-a6e9-2e45c3b9d043",
   "metadata": {},
   "source": [
    "there are mostly 3 mode used to write in the text file<br>\n",
    "<b>w   :</b> write mode to write the file<br>\n",
    "<b>wt  :</b> write mode to write the txt file<br>\n",
    "<b>a   :</b> append mode to write after content the file"
   ]
  },
  {
   "cell_type": "markdown",
   "id": "eaed2524-8058-45e9-99fd-30e86cb4e776",
   "metadata": {},
   "source": [
    "* first write in existing txt file than check it by read() funtion/ reading it."
   ]
  },
  {
   "cell_type": "markdown",
   "id": "2eadd2e3-3e47-4d64-91cc-b7bf5de09e20",
   "metadata": {},
   "source": [
    "1. write into txt file"
   ]
  },
  {
   "cell_type": "code",
   "execution_count": 31,
   "id": "e5917b4f-37b5-4d8b-adc7-3c2ce1e163ca",
   "metadata": {},
   "outputs": [],
   "source": [
    "f = open(\"new.txt\", 'w')\n",
    "data = f.write(\"you are welcome\")\n",
    "f.close()"
   ]
  },
  {
   "cell_type": "code",
   "execution_count": 32,
   "id": "f8df1d3c-bedb-4331-b25b-28bba9520810",
   "metadata": {},
   "outputs": [
    {
     "name": "stdout",
     "output_type": "stream",
     "text": [
      "you are welcome\n"
     ]
    }
   ],
   "source": [
    "f = open(\"new.txt\", 'r')\n",
    "data = f.read()\n",
    "print(data)\n",
    "f.close()"
   ]
  },
  {
   "cell_type": "markdown",
   "id": "98d3ccfd-a307-44dd-bdbf-dd86df8f796c",
   "metadata": {},
   "source": [
    "* if you use write() function again then it'll rewrite content"
   ]
  },
  {
   "cell_type": "code",
   "execution_count": 54,
   "id": "f4ff9a76-e748-4fb4-8a5f-7e4451165a48",
   "metadata": {},
   "outputs": [
    {
     "name": "stdout",
     "output_type": "stream",
     "text": [
      "This is text file where we'll write using python file handling write() function. \n"
     ]
    }
   ],
   "source": [
    "f = open(\"new.txt\",\"w\")\n",
    "data = f.write(\"This is text file where we'll write using python file handling write() function. \")\n",
    "f.close()\n",
    "f = open(\"new.txt\",\"r\")\n",
    "data = f.read()\n",
    "print(data)\n",
    "f.close()"
   ]
  },
  {
   "cell_type": "markdown",
   "id": "6fee0b5a-b40d-4c8a-a58e-6bfc7f1a6450",
   "metadata": {},
   "source": [
    "* in new.txt file already written 'you are welcome' and after using write() it replaced with 'this is text file where we'll write using python file handling write() function.'"
   ]
  },
  {
   "cell_type": "markdown",
   "id": "47bbd2b8-ba7f-4524-884b-3f99379b4409",
   "metadata": {},
   "source": [
    "* if in text file is already written then we must use 'a' append mode then our new content will write after already existing content, but in write mathod write() replace content."
   ]
  },
  {
   "cell_type": "code",
   "execution_count": 38,
   "id": "5fce7023-14ff-469f-ab25-2b97a3678d92",
   "metadata": {},
   "outputs": [
    {
     "name": "stdout",
     "output_type": "stream",
     "text": [
      "This is text file where we'll write using python file handling write() function. This is content of second times.\n"
     ]
    }
   ],
   "source": [
    "f = open('new.txt','a')\n",
    "data = f.write('This is content of second times.')\n",
    "f.close()\n",
    "f = open('new.txt', 'r')\n",
    "data = f.read()\n",
    "print(data)\n",
    "f.close()"
   ]
  },
  {
   "cell_type": "markdown",
   "id": "ac9250a4-4344-4ba2-9af8-5ed6d65459d6",
   "metadata": {},
   "source": [
    "* let's write in exmpty text file and than try to read it"
   ]
  },
  {
   "cell_type": "code",
   "execution_count": 5,
   "id": "0a8926fa-281c-4bbe-ab3c-2c422b370c2f",
   "metadata": {},
   "outputs": [
    {
     "name": "stdout",
     "output_type": "stream",
     "text": [
      "this is style 2.\n"
     ]
    }
   ],
   "source": [
    "with open('demo.txt','w') as f:\n",
    "    f.write('this is style 2.')\n",
    "    \n",
    "with open('demo.txt') as f:\n",
    "    print(f.read())"
   ]
  },
  {
   "cell_type": "markdown",
   "id": "ab0afb61-f902-45de-b0ad-ca0674d8dd93",
   "metadata": {},
   "source": [
    "* #### file handling with \"with\" keyword."
   ]
  },
  {
   "cell_type": "markdown",
   "id": "ec81d3d5-1b89-463f-b20c-3fcafbe47c7e",
   "metadata": {},
   "source": [
    "* create txt file (way 1)"
   ]
  },
  {
   "cell_type": "code",
   "execution_count": 59,
   "id": "99796205-107f-4fed-9e6c-ad8414602c56",
   "metadata": {},
   "outputs": [],
   "source": [
    "f = open(\"with.txt\")\n",
    "data = f.read()\n",
    "f.close()"
   ]
  },
  {
   "cell_type": "markdown",
   "id": "89bf34d6-0c67-4c37-a481-75aeed30e4ce",
   "metadata": {},
   "source": [
    "* create txt file (way 2)"
   ]
  },
  {
   "cell_type": "code",
   "execution_count": 60,
   "id": "2ae163e2-44ee-4e0a-bfd1-8fd9665ca622",
   "metadata": {},
   "outputs": [],
   "source": [
    "with open(\"with.txt\", 'r') as f:\n",
    "    data = f.read()"
   ]
  },
  {
   "cell_type": "markdown",
   "id": "7395b8b3-0b92-4136-a338-96372242f6a8",
   "metadata": {},
   "source": [
    "* write into empty txt file (way 1)"
   ]
  },
  {
   "cell_type": "code",
   "execution_count": 64,
   "id": "0627de60-b8d8-47cb-84b5-abfe9bc0cd33",
   "metadata": {},
   "outputs": [],
   "source": [
    "f = open(\"with.txt\", 'w')\n",
    "data = f.write(\"hey welcome this is empty text file to write\")\n",
    "f.close()"
   ]
  },
  {
   "cell_type": "markdown",
   "id": "e86a3308-4512-45ce-bcbb-6c839d70991c",
   "metadata": {},
   "source": [
    "* write into empty txt file (way 2)"
   ]
  },
  {
   "cell_type": "code",
   "execution_count": 6,
   "id": "e4d325b9-ed43-49b7-9497-3fa58f3d923d",
   "metadata": {},
   "outputs": [],
   "source": [
    "with open(\"with.txt\", 'w') as f:\n",
    "    data = f.write(\"hey welcome this is empty text file to write\")"
   ]
  },
  {
   "cell_type": "markdown",
   "id": "dcbeb7b7-f9a4-4fd2-927a-083e22872983",
   "metadata": {},
   "source": [
    "* read the file (way 1)"
   ]
  },
  {
   "cell_type": "code",
   "execution_count": 67,
   "id": "2a747074-04b6-4d04-a3df-0761804e7cbb",
   "metadata": {},
   "outputs": [
    {
     "name": "stdout",
     "output_type": "stream",
     "text": [
      "hey welcome this is empty text file to write\n"
     ]
    }
   ],
   "source": [
    "f = open(\"with.txt\")\n",
    "data = f.read()\n",
    "print(data)\n",
    "f.close()"
   ]
  },
  {
   "cell_type": "markdown",
   "id": "d3bc6606-689c-4fe0-abbd-717b56924beb",
   "metadata": {},
   "source": [
    "* read the file (way 2)"
   ]
  },
  {
   "cell_type": "code",
   "execution_count": 7,
   "id": "456bd1fa-1423-4b6c-a966-0db7a1a6f7ed",
   "metadata": {},
   "outputs": [
    {
     "name": "stdout",
     "output_type": "stream",
     "text": [
      "hey welcome this is empty text file to write\n"
     ]
    }
   ],
   "source": [
    "with open(\"with.txt\") as f:\n",
    "    data = f.read()\n",
    "    print(data)"
   ]
  },
  {
   "cell_type": "markdown",
   "id": "2c571aea-f788-441e-bc36-a26531944908",
   "metadata": {},
   "source": [
    "* write data in already written file (way 1)"
   ]
  },
  {
   "cell_type": "code",
   "execution_count": 68,
   "id": "ddb0c748-86f3-4094-9617-d3cd55d1372f",
   "metadata": {},
   "outputs": [
    {
     "name": "stdout",
     "output_type": "stream",
     "text": [
      "hey welcome this is empty text file to write\n"
     ]
    }
   ],
   "source": [
    "f = open('with.txt','a')\n",
    "data = f.write('this li line 2, ')\n",
    "data = f.write('this is line 3')\n",
    "data = f.close\n",
    "\n",
    "f = open(\"with.txt\",\"r\")\n",
    "data = f.read()\n",
    "print(data)\n",
    "f.close()"
   ]
  },
  {
   "cell_type": "markdown",
   "id": "7fc4f3c2-d842-4a9f-ab65-a02916b53c9c",
   "metadata": {},
   "source": [
    "* write data in already written file (way 2)"
   ]
  },
  {
   "cell_type": "code",
   "execution_count": 70,
   "id": "15560f80-0fcb-414f-b71e-a61f983f1381",
   "metadata": {},
   "outputs": [
    {
     "name": "stdout",
     "output_type": "stream",
     "text": [
      "hey welcome this is empty text file to writethis li line 2, this is line 3this li line 4, this is line 5this li line 4,this is line 5\n"
     ]
    }
   ],
   "source": [
    "with open('with.txt','a') as f:\n",
    "    data = f.write('this li line 4,')\n",
    "    data = f.write('this is line 5')\n",
    "    data = f.close\n",
    "\n",
    "with open(\"with.txt\",\"r\") as f:\n",
    "    data = f.read()\n",
    "    print(data)"
   ]
  },
  {
   "cell_type": "markdown",
   "id": "0500dca6-1966-48d7-8ce2-2cd0b31a6308",
   "metadata": {},
   "source": [
    "<b>Ques. : </b>WAP to find out that given string exist in text file or not."
   ]
  },
  {
   "cell_type": "markdown",
   "id": "0ca71031-a825-49cc-83c2-1a7c3e85c306",
   "metadata": {},
   "source": [
    "* find any data or information in txt file<br>"
   ]
  },
  {
   "cell_type": "code",
   "execution_count": 1,
   "id": "e642f4a6-4deb-45ff-8935-e26c04f97dcf",
   "metadata": {},
   "outputs": [
    {
     "name": "stdin",
     "output_type": "stream",
     "text": [
      "enter word to check weather is exist in poem 'the star' :  twinkle\n"
     ]
    },
    {
     "name": "stdout",
     "output_type": "stream",
     "text": [
      "word matched...\n"
     ]
    }
   ],
   "source": [
    "word = input(\"enter word to check weather is exist in poem 'the star' : \")\n",
    "with open('poem.txt','r') as f:\n",
    "    data = f.read()\n",
    "    if word in data:\n",
    "        print(\"word matched...\")\n",
    "    else:\n",
    "        print(\"word doesn't exist...\")"
   ]
  },
  {
   "cell_type": "markdown",
   "id": "ec58f721-d9ed-4509-92cc-bbe484411dc0",
   "metadata": {},
   "source": [
    "<b>Ques. : </b> WAP to generate table of 2-20 and save it in different-different txt files.<br>\n",
    "<b>NOTE : </b> please check files in folder for making sure."
   ]
  },
  {
   "cell_type": "code",
   "execution_count": 2,
   "id": "09e1bd25-db29-4623-85c3-661a82658c85",
   "metadata": {},
   "outputs": [],
   "source": [
    "for i in range(2,21):\n",
    "    with open(f\"table of {i}.txt\", 'w') as f:\n",
    "        for j in range(1,11):\n",
    "            f.write(f\"{i} X {j} = {i*j}\")\n",
    "            if j!=10:\n",
    "                f.write(\"\\n\")"
   ]
  },
  {
   "cell_type": "markdown",
   "id": "f4e381ad-e3b0-440e-8021-0dbe8e11b489",
   "metadata": {},
   "source": [
    "<b>Ques. : </b> WAP to generate table of 2-20 and save it in different-different txt files and save this text file in specific folder.<br>\n",
    "<b>NOTE : </b> please check files in folder for making sure."
   ]
  },
  {
   "cell_type": "code",
   "execution_count": 6,
   "id": "0bf77f5c-135e-401a-825c-4d5c1e4dc422",
   "metadata": {},
   "outputs": [],
   "source": [
    "for i in range(2,21):\n",
    "    with open(f\"E:\\\\1. Data Science\\\\0. Self Learning\\\\1.1. PROGRAMMING WITH PYTHON\\\\\\\\NOTEBOOKS\\\\table txt file\\\\table_of_{i}.txt\",\"w\") as f:\n",
    "        for j in range(1,11):\n",
    "            # f.write(f\"{i}X{j}={i*j}\\n\") #way 1 but it'll add new line in line no.11\n",
    "            f.write(f\"{i} X {j} = {i*j}\")\n",
    "            if j!=10:\n",
    "                f.write('\\n')"
   ]
  },
  {
   "cell_type": "markdown",
   "id": "c2dd02da-81cf-41fd-ba40-9517bbe37dcb",
   "metadata": {},
   "source": [
    "<b>Ques. : </b> WAP to replace any word or string in txt file everywhere is that words written and how many times.<br>\n",
    "<b>NOTE : </b>create a txt file names 'sample.txt' with write specific string in multiple time for using in code with following paragraph-\n",
    "\"this is john.\n",
    "john is lazy and dumb person.\n",
    "he don't complete work on time coz he is lazy.\n",
    "lazy people are not good fit for team work.\n",
    "he losts his job many time because he is so lazy.\n",
    "no one like lazy people.\""
   ]
  },
  {
   "cell_type": "code",
   "execution_count": 4,
   "id": "2a371416-9d2d-49bc-989e-9d521c346711",
   "metadata": {},
   "outputs": [
    {
     "name": "stdout",
     "output_type": "stream",
     "text": [
      "this is john.\n",
      "john is l*** and dumb person.\n",
      "he don't complete work on time coz he is l***.\n",
      "l*** people are not good fit for team work.\n",
      "he losts his job many time because he is so l***.\n",
      "no one like l*** people.\n"
     ]
    }
   ],
   "source": [
    "with open(\"sample.txt\") as f:\n",
    "    data = f.read()\n",
    "    data = data.replace(\"lazy\", \"l***\")\n",
    "    with open(\"sample1.txt\", 'w') as f:\n",
    "        data = f.write(data)\n",
    "\n",
    "with open(\"sample1.txt\") as f:\n",
    "    data = f.read()\n",
    "    print(data)"
   ]
  },
  {
   "cell_type": "markdown",
   "id": "f3d5a998-659a-47b6-b90f-ac1f475a8071",
   "metadata": {},
   "source": [
    "<b>Ques. : </b> WAP to replace/ hide words exists in list from txt file. <b>  OR  </b> WAP to hide words from collection in given txt file.\n",
    "\n"
   ]
  },
  {
   "cell_type": "markdown",
   "id": "0491d5a9-76fc-4de5-9253-aed5f2ae23a4",
   "metadata": {},
   "source": [
    "here is collection of words : ( \"Damn, dumb, Hell, fool\") <b>hide them using \"*******\"</b>\n",
    "\n",
    "hide.txt file papagraph :\n",
    "\n",
    "Well, damn, that was a dumb move! I can't believe I fell for that fool's trick. Now, I'm stuck in this hell of a situation. It's a reminder not to underestimate people, even if they seem like complete fools. Sometimes, appearances can be deceiving, and I've landed myself in quite a predicament. Hell, I'll have to find a way out of this mess and not let my guard down again.Well, damn, that was a dumb move! I can't believe I fell for such a foolish trick. Now, I find myself in a situation that feels like hell. It's a stark reminder that sometimes impulsive decisions can lead to regrettable outcomes. Next time, I'll be more cautious and avoid acting like a fool."
   ]
  },
  {
   "cell_type": "code",
   "execution_count": 11,
   "id": "c32e88e7-48db-498d-94de-ae65bada7048",
   "metadata": {},
   "outputs": [
    {
     "name": "stdout",
     "output_type": "stream",
     "text": [
      "Well, damn, that was a ******* move! I can't believe I fell for that *******'s trick. Now, I'm stuck in this hell of a situation. It's a reminder not to underestimate people, even if they seem like complete *******s. Sometimes, appearances can be deceiving, and I've landed myself in quite a predicament. *******, I'll have to find a way out of this mess and not let my guard down again.Well, damn, that was a ******* move! I can't believe I fell for such a *******ish trick. Now, I find myself in a situation that feels like hell. It's a stark reminder that sometimes impulsive decisions can lead to regrettable outcomes. Next time, I'll be more cautious and avoid acting like a *******.\n"
     ]
    }
   ],
   "source": [
    "words =  [\"Damn\", \"dumb\", \"Hell\", \"fool\"]\n",
    "with open(\"hide.txt\", 'r') as f:\n",
    "    data = f.read()\n",
    "\n",
    "for word in words:\n",
    "    data = data.replace(word, \"*******\")\n",
    "    with open(\"hide.txt\", 'w') as f:\n",
    "        f.write(data)\n",
    "\n",
    "with open(\"hide.txt\", 'r') as f:\n",
    "    data = f.read()\n",
    "    print(data)"
   ]
  },
  {
   "cell_type": "markdown",
   "id": "747ba946-b644-4f28-b2e4-2f7188327673",
   "metadata": {},
   "source": [
    "<b>Ques. : </b> WAP to create and maintain a txt file named highscore.txt with following condition -\n",
    "\n",
    "the game() in a program lets a user play a game and returns a score as an integer. you need to read the text file highscore.txt which is either blank or contains the previous highscore whenever game() break the highscore."
   ]
  },
  {
   "cell_type": "markdown",
   "id": "72dbc303-6e58-4cbf-908b-1fc17732151d",
   "metadata": {},
   "source": [
    "def game(x):\n",
    "    return x\n",
    "\n",
    "x = int(input(\"enter your score : \"))\n",
    "score = game(200)\n",
    "\n",
    "with open('highscore.txt','r') as f:\n",
    "    newscor = f.read()\n",
    "\n",
    "if int(newscore) < score :\n",
    "    with open('highscore.txt','w') as f:\n",
    "        data = f.write('score')\n",
    "elif newscore == '':\n",
    "    with open('highscore.txt','w') as f:\n",
    "        data = f.write(score) "
   ]
  },
  {
   "cell_type": "raw",
   "id": "e54d5129-085d-4a77-9819-59fcb5745e5e",
   "metadata": {},
   "source": [
    "def game(x):\n",
    "    return x\n",
    "\n",
    "x = int(input(\"enter your score : \"))\n",
    "score = game(200)\n",
    "\n",
    "with open('hiscore.txt','r') as f:\n",
    "    newscore = f.read()\n",
    "\n",
    "if int(newscore) < score :\n",
    "    with open('hiscore.txt','w') as f:\n",
    "        data = f.write(score)\n",
    "elif newscore == '':\n",
    "    with open('hiscore.txt','w') as f:\n",
    "        data = f.write(score) "
   ]
  },
  {
   "cell_type": "markdown",
   "id": "02b40e51-f042-4658-9353-e9dcd8fb80fd",
   "metadata": {},
   "source": [
    "<b>Quiz : </b> WAP to mine a log file and findout whether it contains 'python' and make new code to find out line number."
   ]
  },
  {
   "cell_type": "code",
   "execution_count": 18,
   "id": "8d839d49-7241-48dc-bc83-183791ec3dec",
   "metadata": {},
   "outputs": [
    {
     "name": "stdout",
     "output_type": "stream",
     "text": [
      "words exists....\n"
     ]
    }
   ],
   "source": [
    "with open(\"log.txt\") as f:\n",
    "    data = f.read().lower()\n",
    "if \"python\" in data:\n",
    "    print(\"words exists....\")\n",
    "else:\n",
    "    print(\"words exists....\")"
   ]
  },
  {
   "cell_type": "markdown",
   "id": "b9ac5f40-90c1-4175-b7b3-5b363fc054c4",
   "metadata": {},
   "source": [
    "* now let's find out where that words exists in file"
   ]
  },
  {
   "cell_type": "code",
   "execution_count": 19,
   "id": "d19d1a07-06cb-4883-97ac-d4f0c78ce9ca",
   "metadata": {},
   "outputs": [
    {
     "name": "stdout",
     "output_type": "stream",
     "text": [
      "03/22 08:51:06 INFO   :.....mailslot_create: creating mailslot for RSVP\n",
      "\n",
      "\n",
      "string present in file on line no,: 1\n",
      "03/22 08:51:06 INFO   :....mailbox_register: mailbox allocated for rsvp python has stopped working.....\n",
      "\n",
      "\n",
      "string present in file on line no,: 2\n",
      "03/22 08:51:06 INFO   :.....mailslot_create: creating mailslot for RSVP via UDP\n",
      "\n",
      "\n",
      "string present in file on line no,: 3\n",
      "03/22 08:51:06 INFO   :....mailbox_register: mailbox allocated for rsvp-udp\n",
      "\n",
      "\n",
      "string present in file on line no,: 4\n",
      "03/22 08:51:06 TRACE  :..entity_initialize: interface 127.0.0.1, entity for rsvp allocated and initialized\n",
      "\n",
      "\n",
      "string present in file on line no,: 5\n",
      "03/22 08:51:06 INFO   :......mailslot_create: creating socket for querying route\n",
      "\n",
      "\n",
      "string present in file on line no,: 6\n",
      "03/22 08:51:06 INFO   :.....mailbox_register: no mailbox necessary for forward\n",
      "\n",
      "\n",
      "string present in file on line no,: 7\n",
      "03/22 08:51:06 INFO   :......mailslot_create: creating mailslot for route engine - informational socket\n",
      "\n",
      "\n",
      "string present in file on line no,: 8\n",
      "03/22 08:51:06 TRACE  :......mailslot_create: ready to accept informational socket connection\n",
      "\n",
      "\n",
      "string present in file on line no,: 9\n",
      "03/22 08:51:11 INFO   :.....mailbox_register: mailbox allocated for route        python has stopped working.....\n",
      "\n",
      "\n",
      "string present in file on line no,: 10\n",
      "03/22 08:51:11 INFO   :.....mailslot_create: creating socket for traffic control module\n",
      "\n",
      "\n",
      "string present in file on line no,: 11\n",
      "03/22 08:51:11 INFO   :....mailbox_register: no mailbox necessary for traffic-control\n",
      "\n",
      "\n",
      "string present in file on line no,: 12\n",
      "03/22 08:51:11 INFO   :....mailslot_create: creating mailslot for RSVP client API\n",
      "\n",
      "\n",
      "string present in file on line no,: 13\n",
      "03/22 08:51:11 INFO   :...mailbox_register: mailbox allocated for rsvp-api\n",
      "\n",
      "\n",
      "string present in file on line no,: 14\n",
      "03/22 08:51:11 INFO   :...mailslot_create: creating mailslot for terminate\n",
      "\n",
      "\n",
      "string present in file on line no,: 15\n",
      "03/22 08:51:11 INFO   :..mailbox_register: mailbox allocated for terminate\n",
      "\n",
      "\n",
      "string present in file on line no,: 16\n",
      "03/22 08:51:11 INFO   :...mailslot_create: creating mailslot for dump\n",
      "\n",
      "\n",
      "string present in file on line no,: 17\n",
      "03/22 08:51:11 INFO   :..mailbox_register: mailbox allocated for dump\n",
      "\n",
      "\n",
      "string present in file on line no,: 18\n",
      "03/22 08:51:11 INFO   :...mailslot_create: creating mailslot for (broken) pipe\n",
      "\n",
      "\n",
      "string present in file on line no,: 19\n",
      "03/22 08:51:11 INFO   :..mailbox_register: mailbox allocated for pipe\n",
      "\n",
      "\n",
      "string present in file on line no,: 20\n",
      " 07 \n",
      "\n",
      "\n",
      "string present in file on line no,: 21\n",
      "03/22 08:51:11 INFO   :.main: rsvpd initialization complete\n",
      "\n",
      "\n",
      "string present in file on line no,: 22\n",
      " 08 \n",
      "\n",
      "\n",
      "string present in file on line no,: 23\n",
      "03/22 08:52:50 INFO   :......rsvp_api_open: accepted a new connection for rapi\n",
      "\n",
      "\n",
      "string present in file on line no,: 24\n",
      "03/22 08:52:50 INFO   :.......mailbox_register: mailbox allocated for mailbox\n",
      "\n",
      "\n",
      "string present in file on line no,: 25\n",
      "03/22 08:52:50 TRACE  :......rsvp_event_mapSession: Session=9.67.116.99:1047:6 does not exist\n",
      "\n",
      "\n",
      "string present in file on line no,: 26\n",
      " 09 \n",
      "\n",
      "\n",
      "string present in file on line no,: 27\n",
      "03/22 08:52:50 EVENT  :.....api_reader: api request SESSION\n",
      "\n",
      "\n",
      "string present in file on line no,: 28\n",
      " 10 \n",
      "\n",
      "\n",
      "string present in file on line no,: 29\n",
      "03/22 08:52:50 TRACE  :......rsvp_event_establishSession: local node will send   python has stopped working.....\n",
      "\n",
      "\n",
      "string present in file on line no,: 30\n",
      "03/22 08:52:50 INFO   :........router_forward_getOI: Ioctl to get route entry successful\n",
      "\n",
      "\n",
      "string present in file on line no,: 31\n",
      "03/22 08:52:50 TRACE  :........router_forward_getOI:         source address:   9.67.116.98\n",
      "\n",
      "\n",
      "string present in file on line no,: 32\n",
      "03/22 08:52:50 TRACE  :........router_forward_getOI:         out inf:   9.67.116.98\n",
      "\n",
      "\n",
      "string present in file on line no,: 33\n",
      "03/22 08:52:50 TRACE  :........router_forward_getOI:         gateway:   0.0.0.0\n",
      "\n",
      "\n",
      "string present in file on line no,: 34\n",
      "03/22 08:52:50 TRACE  :........router_forward_getOI:         route handle:   7f5251c8 python has stopped working...\n",
      "\n",
      "\n",
      "string present in file on line no,: 35\n",
      " 11 \n",
      "\n",
      "\n",
      "string present in file on line no,: 36\n",
      "03/22 08:52:50 TRACE  :.......event_establishSessionSend: found outgoing if=9.67.116.98 through python has stopped working.....\n",
      "\n",
      "\n",
      "string present in file on line no,: 37\n",
      "forward engine\n",
      "\n",
      "\n",
      "string present in file on line no,: 38\n",
      "03/22 08:52:50 TRACE  :......rsvp_event_mapSession: Session=9.67.116.99:1047:6 exists\n",
      "\n",
      "\n",
      "string present in file on line no,: 39\n",
      " 12 \n",
      "\n",
      "\n",
      "string present in file on line no,: 40\n",
      "03/22 08:52:50 EVENT  :.....api_reader: api request SENDER\n",
      "\n",
      "\n",
      "string present in file on line no,: 41\n",
      " 13 \n",
      "\n",
      "\n",
      "string present in file on line no,: 42\n",
      "03/22 08:52:50 INFO   :.......init_policyAPI: papi_debug:  Entering\n",
      "\n",
      "\n",
      "string present in file on line no,: 43\n",
      " \n",
      "\n",
      "\n",
      "string present in file on line no,: 44\n",
      "03/22 08:52:50 INFO   :.......init_policyAPI: papi_debug:  papiLogFunc = 98681F0 papiUserValue = 0\n",
      "\n",
      "\n",
      "string present in file on line no,: 45\n",
      " \n",
      "\n",
      "\n",
      "string present in file on line no,: 46\n",
      "03/22 08:52:50 INFO   :.......init_policyAPI: papi_debug:  Exiting\n",
      "\n",
      "\n",
      "string present in file on line no,: 47\n",
      " \n",
      "\n",
      "\n",
      "string present in file on line no,: 48\n",
      "03/22 08:52:50 INFO   :.......init_policyAPI: APIInitialize:  Entering\n",
      "\n",
      "\n",
      "string present in file on line no,: 49\n",
      " \n",
      "\n",
      "\n",
      "string present in file on line no,: 50\n",
      "03/22 08:52:50 INFO   :.......init_policyAPI: open_socket:  Entering\n",
      "\n",
      "\n",
      "string present in file on line no,: 51\n",
      " \n",
      "\n",
      "\n",
      "string present in file on line no,: 52\n",
      "03/22 08:52:50 INFO   :.......init_policyAPI: open_socket:  Exiting\n",
      "\n",
      "\n",
      "string present in file on line no,: 53\n",
      " \n",
      "\n",
      "\n",
      "string present in file on line no,: 54\n",
      "03/22 08:52:50 INFO   :.......init_policyAPI: APIInitialize:  ApiHandle = 98BDFB0,  connfd = 22\n",
      "\n",
      "\n",
      "string present in file on line no,: 55\n",
      " \n",
      "\n",
      "\n",
      "string present in file on line no,: 56\n",
      "03/22 08:52:50 INFO   :.......init_policyAPI: APIInitialize:  Exiting\n",
      "\n",
      "\n",
      "string present in file on line no,: 57\n",
      " \n",
      "\n",
      "\n",
      "string present in file on line no,: 58\n",
      "03/22 08:52:50 INFO   :.......init_policyAPI: RegisterWithPolicyAPI:  Entering   python has stopped working.....\n",
      "\n",
      "string present in file on line no,: 59\n",
      "\n",
      "\n",
      "string present in file on line no,: 60\n"
     ]
    }
   ],
   "source": [
    "data = True\n",
    "i = 1\n",
    "\n",
    "with open(\"log.txt\") as f:\n",
    "    while data:\n",
    "        data = f.readline()\n",
    "        \"python\" in data.lower()\n",
    "        print(data)\n",
    "        print(f'\\nstring present in file on line no,: {i}')\n",
    "        i = i+1"
   ]
  },
  {
   "cell_type": "markdown",
   "id": "05c96ff8-3275-4ff7-b22f-79fbbd87c296",
   "metadata": {},
   "source": [
    "### copy text file:"
   ]
  },
  {
   "cell_type": "markdown",
   "id": "1a0ed4d2-c04a-4034-afae-09c65e978030",
   "metadata": {},
   "source": [
    "<b>Quiz : </b> WAP to make copy file of text file.<br>\n",
    "make a copy of <b>poem.txt</b> in a new text file named <b>copy.txt</b>"
   ]
  },
  {
   "cell_type": "code",
   "execution_count": 23,
   "id": "9e603702-6431-4435-93a4-e47b17e05e0b",
   "metadata": {},
   "outputs": [],
   "source": [
    "with open('poem.txt') as f:\n",
    "    data = f.read()\n",
    "with open('copy.txt','w') as f:\n",
    "    data = f.write(data)"
   ]
  },
  {
   "cell_type": "markdown",
   "id": "86fad734-907f-4fe2-b795-8aba4bb73a23",
   "metadata": {},
   "source": [
    "### compare text file data:"
   ]
  },
  {
   "cell_type": "markdown",
   "id": "d44ba9c8-877a-4944-8ebc-477a60487501",
   "metadata": {},
   "source": [
    "<b>Quiz : </b> WAP check any 2 or more txt files have same data or not.<br><b> OR </b><br>\n",
    "WAP check copied txt file copy 100% or not.<br><b> OR </b><br>\n",
    "WAP to check two file are identical or not (file's content matched or not)"
   ]
  },
  {
   "cell_type": "code",
   "execution_count": 24,
   "id": "ca57f93d-e30e-4f2e-acef-0769b1eecab4",
   "metadata": {},
   "outputs": [
    {
     "name": "stdout",
     "output_type": "stream",
     "text": [
      "files are identical...\n"
     ]
    }
   ],
   "source": [
    "with open('copy.txt','r') as f:\n",
    "    data1 = f.read()\n",
    "with open('poem.txt','r') as f:\n",
    "    data2 = f.read()\n",
    "if data1 == data2:\n",
    "    print('files are identical...')\n",
    "else:\n",
    "    print(\"files aren't identical...\")"
   ]
  },
  {
   "cell_type": "markdown",
   "id": "2b371980-be38-4116-8b56-3273c5c790f3",
   "metadata": {},
   "source": [
    "### rename the text file :"
   ]
  },
  {
   "cell_type": "markdown",
   "id": "31a1ee70-45db-4949-a135-207c59a1de04",
   "metadata": {},
   "source": [
    "<b>Quiz : </b> WAP to Rename text file."
   ]
  },
  {
   "cell_type": "code",
   "execution_count": 28,
   "id": "0a2a2f66-8a0f-40be-8dd0-211ae1206619",
   "metadata": {},
   "outputs": [],
   "source": [
    "import os\n",
    "\n",
    "newname = \"rename.txt\"\n",
    "oldname = \"font.txt\"\n",
    "\n",
    "with open(oldname, 'r') as f:\n",
    "    data = f.read()\n",
    "with open(newname, 'w') as f:\n",
    "    data = f.write(data)\n",
    "os.remove(oldname)"
   ]
  },
  {
   "cell_type": "markdown",
   "id": "faeb55fb-8e91-47b6-8cb0-f4dc7ba05d45",
   "metadata": {},
   "source": [
    "<b>NOTE : </b> To delete any file or folder, you must import the OS module, and run its os.remove(args) function."
   ]
  },
  {
   "cell_type": "markdown",
   "id": "f3ea3cb9-0c5a-477c-b58e-61fc12902fd0",
   "metadata": {},
   "source": [
    "### delete the file"
   ]
  },
  {
   "cell_type": "code",
   "execution_count": 29,
   "id": "6cca6233-9686-439c-830f-1527c3f0e6d9",
   "metadata": {},
   "outputs": [],
   "source": [
    "import os\n",
    "os.remove('delete.txt')"
   ]
  },
  {
   "cell_type": "markdown",
   "id": "257a42bc-46a4-418c-b6cc-4db25cdf9ace",
   "metadata": {},
   "source": [
    "* check if file exist then delete if not then show msg."
   ]
  },
  {
   "cell_type": "code",
   "execution_count": 31,
   "id": "6853cbfc-a66e-4784-9bc9-80dc95771830",
   "metadata": {},
   "outputs": [
    {
     "name": "stdout",
     "output_type": "stream",
     "text": [
      "file doesn't exist...\n"
     ]
    }
   ],
   "source": [
    "import os\n",
    "if os.path.exists('delete.txt'):\n",
    "    os.remove('delete.txt')\n",
    "    print(\"file deleted...\")\n",
    "else:\n",
    "    print(\"file doesn't exist...\")"
   ]
  },
  {
   "cell_type": "markdown",
   "id": "b9dd9580-51ab-4491-9c1a-eca77e2a22b0",
   "metadata": {},
   "source": [
    "### delete folder\n",
    "<b>Note:</b> You can only remove empty folders."
   ]
  },
  {
   "cell_type": "code",
   "execution_count": 34,
   "id": "79c8d500-fa30-4f55-b293-7dd4ad88f877",
   "metadata": {},
   "outputs": [],
   "source": [
    "import os\n",
    "os.rmdir('delete')"
   ]
  },
  {
   "cell_type": "markdown",
   "id": "d9955502-57c4-45f1-a1c3-8199ccf95ca5",
   "metadata": {},
   "source": [
    "* if you try to delete any directories(folder) who hold any files than you'll get following error."
   ]
  },
  {
   "cell_type": "markdown",
   "id": "b0f39be7-0594-4128-87c7-b3c30890e7e8",
   "metadata": {},
   "source": [
    "<Blockquote>import os\n",
    "os.rmdir('delete')</Blockquote>\n",
    "<pre>\n",
    "<b>ERROR : </b>\n",
    "---------------------------------------------------------------------------\n",
    "<b>OSError</b>                                   Traceback (most recent call last)\n",
    "Cell <b>In[33], line 2</b>\n",
    "      1 import os\n",
    "----> <b>2</b> os.rmdir('delete')\n",
    "\n",
    "<b>OSError:</b> [WinError 145] The directory is not empty: 'delete'</pre>"
   ]
  },
  {
   "cell_type": "markdown",
   "id": "43137251-6090-4eee-b4b5-d8b58759b238",
   "metadata": {},
   "source": [
    "# upcoming new chapters:\n",
    "\n",
    "* map(), filter() & reduce()\n",
    "* f'string'\n",
    "* list comprehensive\n",
    "* enumenator\n",
    "* global variable\n",
    "* PIP\n",
    "* virtual environment"
   ]
  },
  {
   "cell_type": "code",
   "execution_count": null,
   "id": "0a1ea543-82f5-49f0-9008-017fe69851c8",
   "metadata": {},
   "outputs": [],
   "source": []
  },
  {
   "cell_type": "code",
   "execution_count": null,
   "id": "1e6f90c1-1427-4baf-a42a-0e05497ed501",
   "metadata": {},
   "outputs": [],
   "source": []
  },
  {
   "cell_type": "markdown",
   "id": "db90d415-3609-4207-947f-6e20eb4accfb",
   "metadata": {},
   "source": [
    "## functional programming:\n",
    "it supports functions being passed as parameters to another function as variables. it allows to create higher-order functions. mostly, functional programming used in data analysis to transform or filter results more efficiently than using plain looping.\n",
    "\n",
    "In functional programming, we use 2 functions. these are-\n",
    "1. map()\n",
    "2. filter()"
   ]
  },
  {
   "cell_type": "markdown",
   "id": "bc6680c0-07a0-4f46-800d-cd594fe9e1a8",
   "metadata": {},
   "source": [
    "* <b>map(): </b>used to n to apply a function to each element of an iterable and return a map object.<br>\n",
    "<b>SYNTAX: </b> variable_name = map(function,input iteraable object)"
   ]
  },
  {
   "cell_type": "markdown",
   "id": "c6a7c1e6-bcf7-4f28-b1a8-209f58a14582",
   "metadata": {},
   "source": [
    "* <b>example : </b> square of all elements of list."
   ]
  },
  {
   "cell_type": "code",
   "execution_count": 3,
   "id": "cf382d11-0212-4f12-8b6b-2649b3358c90",
   "metadata": {},
   "outputs": [],
   "source": [
    "mylist = [1,2,3,4,5,6]"
   ]
  },
  {
   "cell_type": "markdown",
   "id": "7f9ff5a7-3812-44b9-8a21-3c8ba6c10299",
   "metadata": {},
   "source": [
    "* <b>traditional way : </b>"
   ]
  },
  {
   "cell_type": "code",
   "execution_count": 17,
   "id": "4ca72a6b-c5b7-400b-9d08-08dda283e948",
   "metadata": {},
   "outputs": [
    {
     "name": "stdout",
     "output_type": "stream",
     "text": [
      "[1, 4, 9, 16, 25, 36]\n"
     ]
    }
   ],
   "source": [
    "def square(item):\n",
    "    return item*item\n",
    "\n",
    "sqr_li = []\n",
    "\n",
    "for item in mylist:\n",
    "    sqr_li.append(square(item))\n",
    "print(sqr_li)"
   ]
  },
  {
   "cell_type": "markdown",
   "id": "d719c02b-a0f6-4eb5-9d9c-7dfbe901a984",
   "metadata": {},
   "source": [
    "* <b> modern way : </b> with using map function."
   ]
  },
  {
   "cell_type": "markdown",
   "id": "89be0bb7-ee42-487a-b69f-751191a67dbd",
   "metadata": {},
   "source": [
    "* <b> way 1 : </b>"
   ]
  },
  {
   "cell_type": "code",
   "execution_count": 5,
   "id": "a3564afd-6c0b-4349-838c-b79e39c4ca37",
   "metadata": {},
   "outputs": [
    {
     "name": "stdout",
     "output_type": "stream",
     "text": [
      "[1, 4, 9, 16, 25, 36]\n"
     ]
    }
   ],
   "source": [
    "def sqr(x):\n",
    "    return x * x\n",
    "\n",
    "sqr_list = map(sqr,mylist)\n",
    "print(list(sqr_list))"
   ]
  },
  {
   "cell_type": "markdown",
   "id": "fe4eaace-9d1f-43e7-a435-f25b5288dd98",
   "metadata": {},
   "source": [
    "* <b>way 2 : </b> with using lambda function."
   ]
  },
  {
   "cell_type": "code",
   "execution_count": 12,
   "id": "ffc7cc9b-ab7b-491e-8329-1580dd6c9a6b",
   "metadata": {},
   "outputs": [
    {
     "name": "stdout",
     "output_type": "stream",
     "text": [
      "[1, 4, 9, 16, 25, 36]\n"
     ]
    }
   ],
   "source": [
    "print(list(map(lambda x : x * x, mylist)))"
   ]
  },
  {
   "cell_type": "code",
   "execution_count": 9,
   "id": "12bb5341-f30d-4d4b-b5b5-fa2e16884aef",
   "metadata": {},
   "outputs": [
    {
     "name": "stdout",
     "output_type": "stream",
     "text": [
      "(1, 4, 9, 16, 25)\n"
     ]
    }
   ],
   "source": [
    "mytuple = (1,2,3,4,5)\n",
    "sqr_tpl = map(lambda x : x * x, mytuple)\n",
    "print(tuple(sqr_tpl))"
   ]
  },
  {
   "cell_type": "code",
   "execution_count": 10,
   "id": "d14f468a-c1b1-4e75-bb1b-4b4efaa41141",
   "metadata": {},
   "outputs": [
    {
     "data": {
      "text/plain": [
       "map"
      ]
     },
     "execution_count": 10,
     "metadata": {},
     "output_type": "execute_result"
    }
   ],
   "source": [
    "type(sqr_tpl)"
   ]
  },
  {
   "cell_type": "markdown",
   "id": "0e14e111-2c81-48bc-9410-0ae31b892ac5",
   "metadata": {},
   "source": [
    "* <b>filter(): </b>used to print sequence with the help of a function that tests each element in the sequence to be true or not (filter create a list of items for which the function return true).<br>\n",
    "<b>SYNTAX: </b> variable_name = filter(function,input iteraable object)"
   ]
  },
  {
   "cell_type": "markdown",
   "id": "c32df090-42da-46ca-aa9a-e641816405d1",
   "metadata": {},
   "source": [
    "* <b>example 1 : </b> even elements from list."
   ]
  },
  {
   "cell_type": "code",
   "execution_count": 26,
   "id": "c3b4a0ca-ca30-4082-94b2-34638863dcf7",
   "metadata": {},
   "outputs": [],
   "source": [
    "mylist = [1,2,3,4,5,6]"
   ]
  },
  {
   "cell_type": "markdown",
   "id": "aca40bab-ea0f-4cf1-bde7-592cf4c77ae9",
   "metadata": {},
   "source": [
    "* <b> treditional way : </b>"
   ]
  },
  {
   "cell_type": "code",
   "execution_count": 27,
   "id": "70717adb-9002-49ad-9467-2817634935b5",
   "metadata": {},
   "outputs": [
    {
     "name": "stdout",
     "output_type": "stream",
     "text": [
      "[2, 4, 6]\n"
     ]
    }
   ],
   "source": [
    "def even(x):\n",
    "    if x%2==0:\n",
    "        return True\n",
    "    else:\n",
    "        return False\n",
    "\n",
    "print(list(filter(even,mylist)))"
   ]
  },
  {
   "cell_type": "markdown",
   "id": "1127ac0c-f58c-4e8a-891f-0bb9e5e0e421",
   "metadata": {},
   "source": [
    "* <b> modern way : </b>"
   ]
  },
  {
   "cell_type": "code",
   "execution_count": 21,
   "id": "19cc89e6-535f-4556-b850-e5063a2d2863",
   "metadata": {},
   "outputs": [
    {
     "name": "stdout",
     "output_type": "stream",
     "text": [
      "[2, 4, 6]\n"
     ]
    }
   ],
   "source": [
    "even_list = filter(lambda x : x % 2 == 0, mylist )\n",
    "print(list(even_list))"
   ]
  },
  {
   "cell_type": "markdown",
   "id": "c241ed51-e2e7-40df-9562-e8837d5c2a39",
   "metadata": {},
   "source": [
    "* <b>example 2 : </b> elements greater than 5 from list."
   ]
  },
  {
   "cell_type": "code",
   "execution_count": 29,
   "id": "bd5832d1-9393-4762-ae77-9615f65ba4b8",
   "metadata": {},
   "outputs": [],
   "source": [
    "li = [1,2,3,4,5,6,7,8,9]"
   ]
  },
  {
   "cell_type": "markdown",
   "id": "6d817756-0900-41a3-b6bf-eca0c8f22252",
   "metadata": {},
   "source": [
    "* <b> treditional way : </b>"
   ]
  },
  {
   "cell_type": "code",
   "execution_count": 31,
   "id": "c7bb9e46-0836-49fd-940a-3d00390ef3b1",
   "metadata": {},
   "outputs": [
    {
     "name": "stdout",
     "output_type": "stream",
     "text": [
      "[6, 7, 8, 9]\n"
     ]
    }
   ],
   "source": [
    "def g_fiv(x):\n",
    "    if x > 5:\n",
    "        return True\n",
    "    else:\n",
    "        return False\n",
    "print(list(filter(g_fiv, li)))"
   ]
  },
  {
   "cell_type": "markdown",
   "id": "d83ccee2-f5f6-44ca-b5f0-f86a52174780",
   "metadata": {},
   "source": [
    "* <b> modern way : </b>"
   ]
  },
  {
   "cell_type": "code",
   "execution_count": 32,
   "id": "e08c575e-30ac-4985-83f5-01cb636fe080",
   "metadata": {},
   "outputs": [
    {
     "name": "stdout",
     "output_type": "stream",
     "text": [
      "[6, 7, 8, 9]\n"
     ]
    }
   ],
   "source": [
    "print(list(filter(lambda x : x > 5, li)))"
   ]
  },
  {
   "cell_type": "markdown",
   "id": "9fbc5c5b-a1eb-4b74-858a-c05fe1581cd9",
   "metadata": {},
   "source": [
    "* <b>difference between map() vs filter()</b><br>\n",
    "\n",
    "<b>difference : </b><b>map</b> and <b>filter</b> are equivalent to writing a generator expression The <b>map function</b> takes each item in a given iterable and and includes all of them in a new lazy iterable, transforming each item along the way The <b>filter function</b> doesn't transform the items, but it's selectively picks out which items it should include in the new lazy iterable"
   ]
  },
  {
   "cell_type": "markdown",
   "id": "cd90553d-5497-49d5-aadf-b7caea129ab4",
   "metadata": {},
   "source": [
    "* <b>reduce(): </b>used to apply a particular function passed in its argument to all of the list elements mentioned in the sequence passed along.This function is defined in “functools” module (you have to import 'reduce()' from functools using \"from functools import reduce\" statement reduce applies a rolling computation to sequential pair of elemets).<br>\n",
    "<b>SYNTAX: </b> variable_name = reduce(function,input iteraable object)"
   ]
  },
  {
   "cell_type": "code",
   "execution_count": 37,
   "id": "1bf1686b-c1cf-4538-847c-a25286da1ac2",
   "metadata": {},
   "outputs": [
    {
     "name": "stdout",
     "output_type": "stream",
     "text": [
      "39\n"
     ]
    }
   ],
   "source": [
    "from functools import reduce\n",
    "\n",
    "newlist = [2,3,5,8,9,0,12]\n",
    "\n",
    "sum_of_list = reduce(lambda a,b : a + b, newlist)\n",
    "print(sum_of_list)"
   ]
  },
  {
   "cell_type": "code",
   "execution_count": null,
   "id": "5bf254dd-e146-4a27-b6f3-da25c6597f94",
   "metadata": {},
   "outputs": [],
   "source": []
  },
  {
   "cell_type": "code",
   "execution_count": null,
   "id": "475b3ffe-ab18-40c9-a37a-eaa596a70742",
   "metadata": {},
   "outputs": [],
   "source": []
  },
  {
   "cell_type": "code",
   "execution_count": null,
   "id": "d721988d-e283-4400-908f-4eefcd7d7326",
   "metadata": {},
   "outputs": [],
   "source": []
  },
  {
   "cell_type": "markdown",
   "id": "19f0885d-507a-4c91-a668-cc8989764384",
   "metadata": {},
   "source": [
    "[use this youtube playlist in revision time to add skipped features](https://www.youtube.com/watch?v=f7RLlF7HOuc&list=PLbWugmIR3FS4FGExKrnbwRH0DlsKVhQP-&index=1&t=0s)"
   ]
  },
  {
   "cell_type": "markdown",
   "id": "cc64f221-0c9c-4383-be2e-ee5858a44965",
   "metadata": {},
   "source": [
    "# References"
   ]
  },
  {
   "cell_type": "markdown",
   "id": "74ee5382-823e-45ae-8b5b-4f31a333da89",
   "metadata": {},
   "source": [
    "<b>Official Portals :</b>\n",
    "1. [Python](https://docs.python.org/3/)\n",
    "2. [Playsound](https://pypi.org/project/playsound/)\n",
    "3. [OpenCV](https://opencv.org/)\n",
    "4. \n"
   ]
  },
  {
   "cell_type": "code",
   "execution_count": null,
   "id": "5802436b-ff84-46a9-83d9-c9c70e30d3bd",
   "metadata": {},
   "outputs": [],
   "source": []
  },
  {
   "cell_type": "markdown",
   "id": "e01d1ab8-22e9-4000-9a65-db3c0d7da06b",
   "metadata": {},
   "source": [
    "<b>Websites :</b><br>\n",
    "1. [W3School](https://www.w3schools.com/python/)\n",
    "2. [geeks for geeks](https://www.geeksforgeeks.org/python-programming-language/)\n",
    "3. [jupyter markdown](https://spec.commonmark.org/0.31.2/)"
   ]
  },
  {
   "cell_type": "markdown",
   "id": "45589ed3-04b4-425f-a13d-148e26fa4a4b",
   "metadata": {},
   "source": [
    "<b>Youtube Playlists :</b><br>\n",
    "1. [Code with Daneyal Lari](https://www.youtube.com/watch?v=f7RLlF7HOuc&list=PLbWugmIR3FS4FGExKrnbwRH0DlsKVhQP-&index=1&t=0s)\n",
    "2. [Code with Herry](https://www.youtube.com/watch?v=gfDE2a7MKjA)"
   ]
  },
  {
   "cell_type": "markdown",
   "id": "1afdeef4-c588-42a6-a1df-50879c3f59ac",
   "metadata": {},
   "source": [
    "<b>tools :</b><br>\n",
    "* [Convert jupyter noterbook to PDF](https://www.vertopal.com/)"
   ]
  }
 ],
 "metadata": {
  "kernelspec": {
   "display_name": "Python 3 (ipykernel)",
   "language": "python",
   "name": "python3"
  },
  "language_info": {
   "codemirror_mode": {
    "name": "ipython",
    "version": 3
   },
   "file_extension": ".py",
   "mimetype": "text/x-python",
   "name": "python",
   "nbconvert_exporter": "python",
   "pygments_lexer": "ipython3",
   "version": "3.12.2"
  },
  "widgets": {
   "application/vnd.jupyter.widget-state+json": {
    "state": {},
    "version_major": 2,
    "version_minor": 0
   }
  }
 },
 "nbformat": 4,
 "nbformat_minor": 5
}
