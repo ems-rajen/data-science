{
 "cells": [
  {
   "cell_type": "markdown",
   "id": "cbd69e3e-39b6-4cfc-b5d0-992b3a811bb8",
   "metadata": {},
   "source": [
    "<h3><center>( Watermark for python notebook )</center></h3>"
   ]
  },
  {
   "cell_type": "markdown",
   "id": "8a623b62-78a0-4889-873b-d019aa236675",
   "metadata": {},
   "source": [
    "<h2>Practical notes...</h2>"
   ]
  },
  {
   "cell_type": "markdown",
   "id": "386f8787-822a-4c89-a51b-ae5e28b72aab",
   "metadata": {},
   "source": [
    "<pre>\n",
    "<b>Author : </b> Rajendra Kumar R.\n",
    "<b>Last updated : </b> Jan. 2024\n",
    "<b>IDE : </b> Jupyter notebook\n",
    "<b>Language : </b> pyhton 3.12.0, watermark 2.4.3\n",
    "<b>os : </b> Win 10 / win 11\n",
    "</pre>"
   ]
  },
  {
   "cell_type": "markdown",
   "id": "8e958e3a-1c53-4e18-95dc-b9391e1022d3",
   "metadata": {},
   "source": [
    "<b>watermark : </b>\n",
    "An IPython magic extension for printing date and time stamps, version numbers, and hardware information."
   ]
  },
  {
   "cell_type": "markdown",
   "id": "bffe9df6-b56d-4d8c-b721-9712f725fb48",
   "metadata": {},
   "source": [
    "* download watermark extention"
   ]
  },
  {
   "cell_type": "code",
   "execution_count": 11,
   "id": "cd0c683c-facd-4678-919f-6424b9f09672",
   "metadata": {},
   "outputs": [
    {
     "name": "stdout",
     "output_type": "stream",
     "text": [
      "Requirement already satisfied: watermark in c:\\users\\rajen\\anaconda3\\envs\\notebook\\lib\\site-packages (2.4.3)\n",
      "Requirement already satisfied: ipython>=6.0 in c:\\users\\rajen\\anaconda3\\envs\\notebook\\lib\\site-packages (from watermark) (8.20.0)\n",
      "Requirement already satisfied: importlib-metadata>=1.4 in c:\\users\\rajen\\anaconda3\\envs\\notebook\\lib\\site-packages (from watermark) (7.0.1)\n",
      "Requirement already satisfied: setuptools in c:\\users\\rajen\\anaconda3\\envs\\notebook\\lib\\site-packages (from watermark) (68.2.2)\n",
      "Requirement already satisfied: zipp>=0.5 in c:\\users\\rajen\\anaconda3\\envs\\notebook\\lib\\site-packages (from importlib-metadata>=1.4->watermark) (3.17.0)\n",
      "Requirement already satisfied: decorator in c:\\users\\rajen\\anaconda3\\envs\\notebook\\lib\\site-packages (from ipython>=6.0->watermark) (5.1.1)\n",
      "Requirement already satisfied: jedi>=0.16 in c:\\users\\rajen\\anaconda3\\envs\\notebook\\lib\\site-packages (from ipython>=6.0->watermark) (0.18.1)\n",
      "Requirement already satisfied: matplotlib-inline in c:\\users\\rajen\\anaconda3\\envs\\notebook\\lib\\site-packages (from ipython>=6.0->watermark) (0.1.6)\n",
      "Requirement already satisfied: prompt-toolkit<3.1.0,>=3.0.41 in c:\\users\\rajen\\anaconda3\\envs\\notebook\\lib\\site-packages (from ipython>=6.0->watermark) (3.0.43)\n",
      "Requirement already satisfied: pygments>=2.4.0 in c:\\users\\rajen\\anaconda3\\envs\\notebook\\lib\\site-packages (from ipython>=6.0->watermark) (2.15.1)\n",
      "Requirement already satisfied: stack-data in c:\\users\\rajen\\anaconda3\\envs\\notebook\\lib\\site-packages (from ipython>=6.0->watermark) (0.2.0)\n",
      "Requirement already satisfied: traitlets>=5 in c:\\users\\rajen\\anaconda3\\envs\\notebook\\lib\\site-packages (from ipython>=6.0->watermark) (5.7.1)\n",
      "Requirement already satisfied: colorama in c:\\users\\rajen\\anaconda3\\envs\\notebook\\lib\\site-packages (from ipython>=6.0->watermark) (0.4.6)\n",
      "Requirement already satisfied: parso<0.9.0,>=0.8.0 in c:\\users\\rajen\\anaconda3\\envs\\notebook\\lib\\site-packages (from jedi>=0.16->ipython>=6.0->watermark) (0.8.3)\n",
      "Requirement already satisfied: wcwidth in c:\\users\\rajen\\anaconda3\\envs\\notebook\\lib\\site-packages (from prompt-toolkit<3.1.0,>=3.0.41->ipython>=6.0->watermark) (0.2.5)\n",
      "Requirement already satisfied: executing in c:\\users\\rajen\\anaconda3\\envs\\notebook\\lib\\site-packages (from stack-data->ipython>=6.0->watermark) (0.8.3)\n",
      "Requirement already satisfied: asttokens in c:\\users\\rajen\\anaconda3\\envs\\notebook\\lib\\site-packages (from stack-data->ipython>=6.0->watermark) (2.0.5)\n",
      "Requirement already satisfied: pure-eval in c:\\users\\rajen\\anaconda3\\envs\\notebook\\lib\\site-packages (from stack-data->ipython>=6.0->watermark) (0.2.2)\n",
      "Requirement already satisfied: six in c:\\users\\rajen\\anaconda3\\envs\\notebook\\lib\\site-packages (from asttokens->stack-data->ipython>=6.0->watermark) (1.16.0)\n",
      "Note: you may need to restart the kernel to use updated packages.\n"
     ]
    }
   ],
   "source": [
    "pip install watermark"
   ]
  },
  {
   "cell_type": "markdown",
   "id": "c65310c8-5d4f-4853-a151-a71e296feab9",
   "metadata": {},
   "source": [
    "* load extention in notebook"
   ]
  },
  {
   "cell_type": "code",
   "execution_count": 12,
   "id": "9f234d8a-9dc4-48f7-8e55-984ebd7c8e96",
   "metadata": {},
   "outputs": [],
   "source": [
    "%load_ext watermark"
   ]
  },
  {
   "cell_type": "markdown",
   "id": "e518650f-c868-4c13-9b7c-cf49189718db",
   "metadata": {},
   "source": [
    "* details of arguments used in watermark"
   ]
  },
  {
   "cell_type": "code",
   "execution_count": 13,
   "id": "4ec96c2d-1ffe-4fc2-a467-6aa334e82677",
   "metadata": {},
   "outputs": [
    {
     "data": {
      "text/plain": [
       "\u001b[1;31mDocstring:\u001b[0m\n",
       "::\n",
       "\n",
       "  %watermark [-a AUTHOR] [-gu GITHUB_USERNAME] [-e EMAIL] [-ws WEBSITE] [-d] [-n] [-t] [-i] [-z] [-u]\n",
       "                 [-c CUSTOM_TIME] [-v] [-p PACKAGES] [-co] [-h] [-m] [-g] [-r] [-b] [-w] [-iv] [--gpu]\n",
       "\n",
       "IPython magic function to print date/time stamps\n",
       "and various system information.\n",
       "\n",
       "options:\n",
       "  -a AUTHOR, --author AUTHOR\n",
       "                        prints author name\n",
       "  -gu GITHUB_USERNAME, --github_username GITHUB_USERNAME\n",
       "                        prints author github username\n",
       "  -e EMAIL, --email EMAIL\n",
       "                        prints author email\n",
       "  -ws WEBSITE, --website WEBSITE\n",
       "                        prints author or project website\n",
       "  -d, --date            prints current date as YYYY-mm-dd\n",
       "  -n, --datename        prints date with abbrv. day and month names\n",
       "  -t, --time            prints current time as HH-MM-SS\n",
       "  -i, --iso8601         prints the combined date and time including the time zone in the ISO 8601 standard with UTC\n",
       "                        offset\n",
       "  -z, --timezone        appends the local time zone\n",
       "  -u, --updated         appends a string \"Last updated: \"\n",
       "  -c CUSTOM_TIME, --custom_time CUSTOM_TIME\n",
       "                        prints a valid strftime() string\n",
       "  -v, --python          prints Python and IPython version\n",
       "  -p PACKAGES, --packages PACKAGES\n",
       "                        prints versions of specified Python modules and packages\n",
       "  -co, --conda          prints name of current conda environment\n",
       "  -h, --hostname        prints the host name\n",
       "  -m, --machine         prints system and machine info\n",
       "  -g, --githash         prints current Git commit hash\n",
       "  -r, --gitrepo         prints current Git remote address\n",
       "  -b, --gitbranch       prints current Git branch\n",
       "  -w, --watermark       prints the current version of watermark\n",
       "  -iv, --iversions      prints the name/version of all imported modules\n",
       "  --gpu                 prints GPU information (currently limited to NVIDIA GPUs), if available\n",
       "\u001b[1;31mFile:\u001b[0m      c:\\users\\rajen\\anaconda3\\envs\\notebook\\lib\\site-packages\\watermark\\magic.py"
      ]
     },
     "metadata": {},
     "output_type": "display_data"
    }
   ],
   "source": [
    "%watermark?"
   ]
  },
  {
   "cell_type": "markdown",
   "id": "859f3df6-fe1c-4986-8492-7a402ddf7f64",
   "metadata": {},
   "source": [
    "* last updated date and time"
   ]
  },
  {
   "cell_type": "code",
   "execution_count": 14,
   "id": "ffc27fc4-cfd8-425b-87df-6047b331e8e8",
   "metadata": {},
   "outputs": [
    {
     "name": "stdout",
     "output_type": "stream",
     "text": [
      "Last updated: 2024-02-18 14:46:13\n",
      "\n"
     ]
    }
   ],
   "source": [
    "%watermark -u -t -d"
   ]
  },
  {
   "cell_type": "markdown",
   "id": "737dbf09-f06c-451d-b754-af6e1f6a78eb",
   "metadata": {},
   "source": [
    "* all togather"
   ]
  },
  {
   "cell_type": "code",
   "execution_count": 16,
   "id": "c219be31-cbad-4f6d-aa3a-78e829e6273e",
   "metadata": {},
   "outputs": [
    {
     "name": "stdout",
     "output_type": "stream",
     "text": [
      "Last updated: 2024-02-18 14:46:48\n",
      "\n"
     ]
    }
   ],
   "source": [
    "%watermark -utd"
   ]
  },
  {
   "cell_type": "code",
   "execution_count": 17,
   "id": "45753110-fb74-4e16-a8e7-012cfcf205df",
   "metadata": {},
   "outputs": [
    {
     "name": "stdout",
     "output_type": "stream",
     "text": [
      "Last updated: Sun Feb 18 2024\n",
      "\n"
     ]
    }
   ],
   "source": [
    "%watermark -un"
   ]
  },
  {
   "cell_type": "markdown",
   "id": "984e7108-003c-43f6-957b-008d8d74ae76",
   "metadata": {},
   "source": [
    "* author name, updated time with github username"
   ]
  },
  {
   "cell_type": "code",
   "execution_count": 19,
   "id": "3e0ed338-043c-42a2-9267-96e8d31e65bd",
   "metadata": {},
   "outputs": [
    {
     "name": "stdout",
     "output_type": "stream",
     "text": [
      "Author: Rajendra Kumar R\n",
      "\n",
      "Github username: ems-rajen\n",
      "\n",
      "Last updated: Sun Feb 18 2024\n",
      "\n"
     ]
    }
   ],
   "source": [
    "%watermark -u -n -a \"Rajendra Kumar R\" -gu \"ems-rajen\""
   ]
  },
  {
   "cell_type": "markdown",
   "id": "ff1b4574-ab15-4981-9377-33f2a75e73f0",
   "metadata": {},
   "source": [
    "* see python version"
   ]
  },
  {
   "cell_type": "code",
   "execution_count": 20,
   "id": "8d3c66e3-d9b7-45b0-9af5-53f4eebe1626",
   "metadata": {},
   "outputs": [
    {
     "name": "stdout",
     "output_type": "stream",
     "text": [
      "Python implementation: CPython\n",
      "Python version       : 3.11.7\n",
      "IPython version      : 8.20.0\n",
      "\n"
     ]
    }
   ],
   "source": [
    "%watermark -v"
   ]
  },
  {
   "cell_type": "markdown",
   "id": "8e98965f-b0fc-4cfe-8f76-9be9b05a0add",
   "metadata": {},
   "source": [
    "* machine detailed"
   ]
  },
  {
   "cell_type": "code",
   "execution_count": 21,
   "id": "075cdb0e-9cb8-4fff-aaaf-c6d1a1fe9782",
   "metadata": {},
   "outputs": [
    {
     "name": "stdout",
     "output_type": "stream",
     "text": [
      "Compiler    : MSC v.1916 64 bit (AMD64)\n",
      "OS          : Windows\n",
      "Release     : 10\n",
      "Machine     : AMD64\n",
      "Processor   : Intel64 Family 6 Model 154 Stepping 4, GenuineIntel\n",
      "CPU cores   : 12\n",
      "Architecture: 64bit\n",
      "\n"
     ]
    }
   ],
   "source": [
    "%watermark -m"
   ]
  },
  {
   "cell_type": "markdown",
   "id": "c15402b6-9299-43c0-acb0-7101a9e83607",
   "metadata": {},
   "source": [
    "* combined all stuff togather"
   ]
  },
  {
   "cell_type": "code",
   "execution_count": 22,
   "id": "99a07706-7abd-4e28-822f-384b67a5f825",
   "metadata": {},
   "outputs": [
    {
     "name": "stdout",
     "output_type": "stream",
     "text": [
      "Author: Rajendra R\n",
      "\n",
      "Last updated: 2024-02-18\n",
      "\n",
      "Python implementation: CPython\n",
      "Python version       : 3.11.7\n",
      "IPython version      : 8.20.0\n",
      "\n",
      "Compiler    : MSC v.1916 64 bit (AMD64)\n",
      "OS          : Windows\n",
      "Release     : 10\n",
      "Machine     : AMD64\n",
      "Processor   : Intel64 Family 6 Model 154 Stepping 4, GenuineIntel\n",
      "CPU cores   : 12\n",
      "Architecture: 64bit\n",
      "\n"
     ]
    }
   ],
   "source": [
    "%watermark -a \"Rajendra R\" -udvm"
   ]
  },
  {
   "cell_type": "markdown",
   "id": "2f11e9f5-78dc-4332-b535-b6d679098519",
   "metadata": {},
   "source": [
    "* if you import many kackages then you also can use it to see version of all of them"
   ]
  },
  {
   "cell_type": "code",
   "execution_count": 23,
   "id": "94dbbbf2-403d-409e-b316-b13164ece26e",
   "metadata": {},
   "outputs": [
    {
     "name": "stdout",
     "output_type": "stream",
     "text": [
      "Requirement already satisfied: numpy in c:\\users\\rajen\\anaconda3\\envs\\notebook\\lib\\site-packages (1.26.4)\n",
      "Note: you may need to restart the kernel to use updated packages.\n"
     ]
    }
   ],
   "source": [
    "pip install numpy"
   ]
  },
  {
   "cell_type": "code",
   "execution_count": 24,
   "id": "2f142e3f-3ad8-4871-8404-a3904bee77d5",
   "metadata": {},
   "outputs": [
    {
     "name": "stdout",
     "output_type": "stream",
     "text": [
      "Requirement already satisfied: pandas in c:\\users\\rajen\\anaconda3\\envs\\notebook\\lib\\site-packages (2.2.0)\n",
      "Requirement already satisfied: numpy<2,>=1.23.2 in c:\\users\\rajen\\anaconda3\\envs\\notebook\\lib\\site-packages (from pandas) (1.26.4)\n",
      "Requirement already satisfied: python-dateutil>=2.8.2 in c:\\users\\rajen\\anaconda3\\envs\\notebook\\lib\\site-packages (from pandas) (2.8.2)\n",
      "Requirement already satisfied: pytz>=2020.1 in c:\\users\\rajen\\anaconda3\\envs\\notebook\\lib\\site-packages (from pandas) (2023.3.post1)\n",
      "Requirement already satisfied: tzdata>=2022.7 in c:\\users\\rajen\\anaconda3\\envs\\notebook\\lib\\site-packages (from pandas) (2024.1)\n",
      "Requirement already satisfied: six>=1.5 in c:\\users\\rajen\\anaconda3\\envs\\notebook\\lib\\site-packages (from python-dateutil>=2.8.2->pandas) (1.16.0)\n",
      "Note: you may need to restart the kernel to use updated packages.\n"
     ]
    }
   ],
   "source": [
    "pip install pandas"
   ]
  },
  {
   "cell_type": "code",
   "execution_count": 25,
   "id": "dcc3f74e-d388-46ab-8a10-2ef3696a88e4",
   "metadata": {},
   "outputs": [
    {
     "name": "stdout",
     "output_type": "stream",
     "text": [
      "Requirement already satisfied: matplotlib in c:\\users\\rajen\\anaconda3\\envs\\notebook\\lib\\site-packages (3.8.3)\n",
      "Requirement already satisfied: contourpy>=1.0.1 in c:\\users\\rajen\\anaconda3\\envs\\notebook\\lib\\site-packages (from matplotlib) (1.2.0)\n",
      "Requirement already satisfied: cycler>=0.10 in c:\\users\\rajen\\anaconda3\\envs\\notebook\\lib\\site-packages (from matplotlib) (0.12.1)\n",
      "Requirement already satisfied: fonttools>=4.22.0 in c:\\users\\rajen\\anaconda3\\envs\\notebook\\lib\\site-packages (from matplotlib) (4.49.0)\n",
      "Requirement already satisfied: kiwisolver>=1.3.1 in c:\\users\\rajen\\anaconda3\\envs\\notebook\\lib\\site-packages (from matplotlib) (1.4.5)\n",
      "Requirement already satisfied: numpy<2,>=1.21 in c:\\users\\rajen\\anaconda3\\envs\\notebook\\lib\\site-packages (from matplotlib) (1.26.4)\n",
      "Requirement already satisfied: packaging>=20.0 in c:\\users\\rajen\\anaconda3\\envs\\notebook\\lib\\site-packages (from matplotlib) (23.1)\n",
      "Requirement already satisfied: pillow>=8 in c:\\users\\rajen\\anaconda3\\envs\\notebook\\lib\\site-packages (from matplotlib) (10.2.0)\n",
      "Requirement already satisfied: pyparsing>=2.3.1 in c:\\users\\rajen\\anaconda3\\envs\\notebook\\lib\\site-packages (from matplotlib) (3.1.1)\n",
      "Requirement already satisfied: python-dateutil>=2.7 in c:\\users\\rajen\\anaconda3\\envs\\notebook\\lib\\site-packages (from matplotlib) (2.8.2)\n",
      "Requirement already satisfied: six>=1.5 in c:\\users\\rajen\\anaconda3\\envs\\notebook\\lib\\site-packages (from python-dateutil>=2.7->matplotlib) (1.16.0)\n",
      "Note: you may need to restart the kernel to use updated packages.\n"
     ]
    }
   ],
   "source": [
    "pip install matplotlib"
   ]
  },
  {
   "cell_type": "code",
   "execution_count": 28,
   "id": "a4a796cf-77ef-4d44-822b-d79e30c52af5",
   "metadata": {},
   "outputs": [],
   "source": [
    "import pandas\n",
    "import numpy\n",
    "import matplotlib"
   ]
  },
  {
   "cell_type": "code",
   "execution_count": 29,
   "id": "6d380bb0-ed68-42ee-aefc-75799cb3d6fc",
   "metadata": {},
   "outputs": [
    {
     "name": "stdout",
     "output_type": "stream",
     "text": [
      "pandas    : 2.2.0\n",
      "matplotlib: 3.8.3\n",
      "numpy     : 1.26.4\n",
      "\n"
     ]
    }
   ],
   "source": [
    "%watermark -iv"
   ]
  },
  {
   "cell_type": "markdown",
   "id": "973a8d9d-bda2-44ff-a875-d066e29b6443",
   "metadata": {},
   "source": [
    "* if you restart ur kernal and all variables are gone then you can use it directly"
   ]
  },
  {
   "cell_type": "code",
   "execution_count": 31,
   "id": "139f6376-11c5-43ee-8c3f-19f076a72737",
   "metadata": {},
   "outputs": [
    {
     "data": {
      "text/plain": [
       "'pandas    : 2.2.0\\nmatplotlib: 3.8.3\\nnumpy     : 1.26.4\\n'"
      ]
     },
     "execution_count": 31,
     "metadata": {},
     "output_type": "execute_result"
    }
   ],
   "source": [
    "import watermark.watermark as watermark\n",
    "\n",
    "watermark(iversions = True, globals_ = globals())"
   ]
  },
  {
   "cell_type": "code",
   "execution_count": null,
   "id": "42ffae32-e71f-4b50-b1c3-2a4ffeb79b8e",
   "metadata": {},
   "outputs": [],
   "source": []
  },
  {
   "cell_type": "markdown",
   "id": "9b603e1c-955b-4767-b6fb-7eeafeb9e349",
   "metadata": {},
   "source": [
    "# Reference :\n",
    "\n",
    "* [Github](https://github.com/rasbt/watermark)"
   ]
  },
  {
   "cell_type": "code",
   "execution_count": null,
   "id": "7660524d-f426-4459-98df-a2ccbfec527d",
   "metadata": {},
   "outputs": [],
   "source": []
  }
 ],
 "metadata": {
  "kernelspec": {
   "display_name": "Python 3 (ipykernel)",
   "language": "python",
   "name": "python3"
  },
  "language_info": {
   "codemirror_mode": {
    "name": "ipython",
    "version": 3
   },
   "file_extension": ".py",
   "mimetype": "text/x-python",
   "name": "python",
   "nbconvert_exporter": "python",
   "pygments_lexer": "ipython3",
   "version": "3.11.7"
  }
 },
 "nbformat": 4,
 "nbformat_minor": 5
}
