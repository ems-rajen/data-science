{
 "cells": [
  {
   "cell_type": "markdown",
   "id": "75b47d19-ca6f-4dc0-b012-6807f1f0399b",
   "metadata": {},
   "source": [
    "<h3><center>Numeric Python</center></h3>"
   ]
  },
  {
   "cell_type": "markdown",
   "id": "3431642d-b85a-4f71-abce-d8406a51774e",
   "metadata": {},
   "source": [
    "<h2>Practical notes...</h2>"
   ]
  },
  {
   "cell_type": "markdown",
   "id": "4ad363c7-bdf4-48dc-9cc2-8e5d111c76c3",
   "metadata": {},
   "source": [
    "<pre>\n",
    "<b>Author : </b> Rajendra Kumar R.\n",
    "<b>Last updated : </b> Jan. 2024\n",
    "<b>IDE : </b> Jupyter notebook\n",
    "<b>Language : </b> pyhton 3.12.0, numpy 1.26.4\n",
    "<b>os : </b> Win 10 / win 11\n",
    "</pre>"
   ]
  },
  {
   "cell_type": "markdown",
   "id": "a8310806-6358-4545-992c-ca2c5ae9e226",
   "metadata": {},
   "source": [
    "# numpy :\n",
    "<b>numpy is known as numeric python.</b>"
   ]
  },
  {
   "cell_type": "markdown",
   "id": "18ccc5ae-93ff-46d2-af7f-24dfdcdb2d56",
   "metadata": {},
   "source": [
    "<b>numpy is :</b>\n",
    "* it stands for numerical python\n",
    "* provide nD-array and logical or mathematical operations on array <br>\n",
    "* linear algebric expression on array/metrix."
   ]
  },
  {
   "cell_type": "markdown",
   "id": "edec2bc8-2e6b-4cb5-bc1d-4b70ddb65cda",
   "metadata": {},
   "source": [
    "<b>use of numeric python - </b>\n",
    "* it is used for working with arrays\n",
    "* it is easy to use\n",
    "* easy to maintain\n",
    "* provide better and easier way to handle the data\n",
    "* to work with sufficiant memory allocation"
   ]
  },
  {
   "cell_type": "markdown",
   "id": "b14542f7-ffed-4d0e-b1e7-6b4e8eed5b51",
   "metadata": {},
   "source": [
    "<b>commands :</b>\n",
    "* <b>to install numpy - </b><u>pip install numpy</u>\n",
    "* <b>to update numpy - </b><u>pip install --upgrade numpy</u>\n",
    "\n",
    "<b>to check it/use it in code: </b>\n",
    "* <b>import pkg -</b> <u>import numpy</u>\n",
    "* <b>after it we can use it as np - </b><u>import numpy as np</u>\n",
    "* <b>check numpy version - </b><u>numpy.__ version __</u>"
   ]
  },
  {
   "cell_type": "markdown",
   "id": "8700f770-81d3-427a-a11d-6b7fe81a545f",
   "metadata": {},
   "source": [
    "<b>Combination of numpy with other packages: </b>\n",
    "* It can be used with other packages like Scipy(Scientific Python) and Mat-plotlib(Plotting library).\n",
    "* Numpy is open–source and can be used as a replacement for matlab."
   ]
  },
  {
   "cell_type": "markdown",
   "id": "bb88e889-a2ac-4fd5-94ed-5094bfa191a5",
   "metadata": {},
   "source": [
    "<b>command to import or install numpy using cmd mode: </b>"
   ]
  },
  {
   "cell_type": "code",
   "execution_count": 22,
   "id": "7b965ee8-6f2d-4701-879a-67631f1a4da9",
   "metadata": {},
   "outputs": [
    {
     "name": "stdout",
     "output_type": "stream",
     "text": [
      "Requirement already satisfied: numpy in c:\\users\\rajen\\anaconda3\\envs\\notebook\\lib\\site-packages (1.26.4)\n",
      "Note: you may need to restart the kernel to use updated packages.\n"
     ]
    }
   ],
   "source": [
    "pip install numpy"
   ]
  },
  {
   "cell_type": "code",
   "execution_count": 23,
   "id": "753d919f-1f40-46f1-bd66-5ce48974aa06",
   "metadata": {},
   "outputs": [
    {
     "name": "stdout",
     "output_type": "stream",
     "text": [
      "Requirement already satisfied: numpy in c:\\users\\rajen\\anaconda3\\envs\\notebook\\lib\\site-packages (1.26.4)\n",
      "Note: you may need to restart the kernel to use updated packages.\n"
     ]
    }
   ],
   "source": [
    "pip install --upgrade numpy"
   ]
  },
  {
   "cell_type": "code",
   "execution_count": 24,
   "id": "44330a01-43c4-4526-bc56-c59bc51a07c3",
   "metadata": {},
   "outputs": [],
   "source": [
    "import numpy"
   ]
  },
  {
   "cell_type": "markdown",
   "id": "14d2627e-820f-4e50-9f50-9e98ea947fd4",
   "metadata": {},
   "source": [
    "<b>check numpy version using code : </b>"
   ]
  },
  {
   "cell_type": "code",
   "execution_count": 25,
   "id": "2b09139c-1373-4878-b410-ef9ce07fb276",
   "metadata": {},
   "outputs": [
    {
     "name": "stdout",
     "output_type": "stream",
     "text": [
      "1.26.4\n"
     ]
    }
   ],
   "source": [
    "import numpy\n",
    "\n",
    "print(numpy.__version__)"
   ]
  },
  {
   "cell_type": "markdown",
   "id": "033029f4-7cff-42a3-8f25-2e9c4beed42e",
   "metadata": {},
   "source": [
    "#### basic functions on numpy array"
   ]
  },
  {
   "cell_type": "markdown",
   "id": "2836ffab-593a-4d18-88e6-e2d809024857",
   "metadata": {},
   "source": [
    "<b>Let's see numpy by an example :</b>"
   ]
  },
  {
   "cell_type": "code",
   "execution_count": 26,
   "id": "b871bc76-ce78-46cf-86a7-57f35938a881",
   "metadata": {},
   "outputs": [
    {
     "name": "stdout",
     "output_type": "stream",
     "text": [
      "[1 2 3 4 5]\n"
     ]
    }
   ],
   "source": [
    "import numpy\n",
    "\n",
    "x = numpy.array([1,2,3,4,5])\n",
    "print(x)"
   ]
  },
  {
   "cell_type": "markdown",
   "id": "1a51871c-eabb-4a27-81f9-021ed71a0720",
   "metadata": {},
   "source": [
    "* <b>use numpy as np</b>"
   ]
  },
  {
   "cell_type": "code",
   "execution_count": 27,
   "id": "92177730-bd49-4806-81d8-d0dd55ae8925",
   "metadata": {},
   "outputs": [
    {
     "name": "stdout",
     "output_type": "stream",
     "text": [
      "[1 3 5 7 9]\n"
     ]
    }
   ],
   "source": [
    "import numpy as np\n",
    "\n",
    "x = np.array([1,3,5,7,9])\n",
    "print(x)"
   ]
  },
  {
   "cell_type": "markdown",
   "id": "493fc90e-680f-4d48-b797-3a5a9ed83226",
   "metadata": {},
   "source": [
    "* <b>type of array</b>"
   ]
  },
  {
   "cell_type": "code",
   "execution_count": 28,
   "id": "1c4caa73-b713-48ae-9a47-24847906b5e8",
   "metadata": {},
   "outputs": [
    {
     "name": "stdout",
     "output_type": "stream",
     "text": [
      "<class 'numpy.ndarray'>\n"
     ]
    }
   ],
   "source": [
    "import numpy as np\n",
    "\n",
    "x = np.array([1,3,5,7,9])\n",
    "print(type(x))"
   ]
  },
  {
   "cell_type": "markdown",
   "id": "40389362-e3cf-4c85-8cb8-f7ad4acbd98e",
   "metadata": {},
   "source": [
    "* <b>length of array</b>"
   ]
  },
  {
   "cell_type": "code",
   "execution_count": 29,
   "id": "05e906fb-0dfd-4a7a-a011-91473c08f2a6",
   "metadata": {},
   "outputs": [
    {
     "name": "stdout",
     "output_type": "stream",
     "text": [
      "5\n"
     ]
    }
   ],
   "source": [
    "import numpy as np\n",
    "\n",
    "x = np.array([1,3,5,7,9])\n",
    "print(len(x))"
   ]
  },
  {
   "cell_type": "markdown",
   "id": "b15a5ba1-5014-484a-91d8-9ff957e5be24",
   "metadata": {},
   "source": [
    "* <b>size of array in bytes</b>"
   ]
  },
  {
   "cell_type": "code",
   "execution_count": 30,
   "id": "38530d4f-8e52-4fbc-a56b-d1aa1733cdaf",
   "metadata": {},
   "outputs": [
    {
     "name": "stdout",
     "output_type": "stream",
     "text": [
      "20\n"
     ]
    }
   ],
   "source": [
    "import numpy as np\n",
    "\n",
    "x = np.array([1,3,5,7,9])\n",
    "print(x.nbytes)"
   ]
  },
  {
   "cell_type": "markdown",
   "id": "73bbeb15-14c3-4aef-8064-a3b05a9f2099",
   "metadata": {},
   "source": [
    "* in above array is collection of 5 integer and eeach int hold 2 byte so size of array in byte is : 20"
   ]
  },
  {
   "cell_type": "markdown",
   "id": "123ea1c8-c234-486d-8cce-975f089bedc4",
   "metadata": {},
   "source": [
    "* <b>size of array / total number of elements in array</b>"
   ]
  },
  {
   "cell_type": "code",
   "execution_count": 31,
   "id": "7bb9e9d1-0a2b-4460-9ebe-c8e901de39ad",
   "metadata": {},
   "outputs": [
    {
     "name": "stdout",
     "output_type": "stream",
     "text": [
      "5\n"
     ]
    }
   ],
   "source": [
    "import numpy as np\n",
    "\n",
    "x = np.array([1,3,5,7,9])\n",
    "print(x.size)"
   ]
  },
  {
   "cell_type": "code",
   "execution_count": 32,
   "id": "19c175de-3538-4174-a55a-27e087ba2d8f",
   "metadata": {},
   "outputs": [
    {
     "name": "stdout",
     "output_type": "stream",
     "text": [
      "6\n"
     ]
    }
   ],
   "source": [
    "import numpy as np\n",
    "\n",
    "x = np.array([[1,2,3],[5,6,7]])\n",
    "print(x.size)"
   ]
  },
  {
   "cell_type": "markdown",
   "id": "d13c26cb-bc7c-467b-bb2e-956dab06ec69",
   "metadata": {},
   "source": [
    "* <b>shape of array (number of rows , numbers of columns)</b>"
   ]
  },
  {
   "cell_type": "code",
   "execution_count": 33,
   "id": "55485d2c-623f-4672-b37a-8c2085e66774",
   "metadata": {},
   "outputs": [
    {
     "name": "stdout",
     "output_type": "stream",
     "text": [
      "(5,)\n"
     ]
    }
   ],
   "source": [
    "import numpy as np\n",
    "\n",
    "x = np.array([1,3,5,7,9])\n",
    "print(x.shape)"
   ]
  },
  {
   "cell_type": "code",
   "execution_count": 34,
   "id": "9b3f29f7-8700-490e-93a0-b8db4b6f244c",
   "metadata": {},
   "outputs": [
    {
     "name": "stdout",
     "output_type": "stream",
     "text": [
      "(2, 3)\n"
     ]
    }
   ],
   "source": [
    "import numpy as np\n",
    "\n",
    "x = np.array([[1,2,3],[5,6,7]])\n",
    "print(x.shape)"
   ]
  },
  {
   "cell_type": "markdown",
   "id": "d06287b5-eff5-40b8-a77a-5c850c4e8805",
   "metadata": {},
   "source": [
    "<B>NOTE : </B> Integers at every index tells about the number of elements the corresponding dimension has, In the example above at index-4 we have value 4, so we can say that 5th ( 4 + 1 th) dimension has 4 elements."
   ]
  },
  {
   "cell_type": "markdown",
   "id": "8ffa97de-b5c5-44a6-abb5-063967d09fe9",
   "metadata": {},
   "source": [
    "* <b>you can write code in diffeent-diffeent cells :</b>"
   ]
  },
  {
   "cell_type": "code",
   "execution_count": 35,
   "id": "139aeb23-d7bc-46f7-9a33-e3e0dd85c9a6",
   "metadata": {},
   "outputs": [],
   "source": [
    "import numpy as np"
   ]
  },
  {
   "cell_type": "code",
   "execution_count": 36,
   "id": "d3173466-88f4-4106-b5a2-cbf16554b3b6",
   "metadata": {},
   "outputs": [],
   "source": [
    "ar = np.array([1,2,3,4,5])"
   ]
  },
  {
   "cell_type": "code",
   "execution_count": 37,
   "id": "88a1299f-552a-442e-aa46-c2a3016058ac",
   "metadata": {},
   "outputs": [
    {
     "data": {
      "text/plain": [
       "array([1, 2, 3, 4, 5])"
      ]
     },
     "execution_count": 37,
     "metadata": {},
     "output_type": "execute_result"
    }
   ],
   "source": [
    "ar"
   ]
  },
  {
   "cell_type": "code",
   "execution_count": 38,
   "id": "3f0f8dec-455b-4b58-97c7-654eaca85786",
   "metadata": {},
   "outputs": [
    {
     "data": {
      "text/plain": [
       "5"
      ]
     },
     "execution_count": 38,
     "metadata": {},
     "output_type": "execute_result"
    }
   ],
   "source": [
    "len(ar)"
   ]
  },
  {
   "cell_type": "code",
   "execution_count": 39,
   "id": "46acfb6b-59c2-49a1-9f82-0bd878cb7500",
   "metadata": {},
   "outputs": [
    {
     "data": {
      "text/plain": [
       "numpy.ndarray"
      ]
     },
     "execution_count": 39,
     "metadata": {},
     "output_type": "execute_result"
    }
   ],
   "source": [
    "type(ar)"
   ]
  },
  {
   "cell_type": "markdown",
   "id": "e5284634-0a8e-43e5-8408-e28b98cbafbc",
   "metadata": {},
   "source": [
    "<b>Numpy nD-Array: </b>\n",
    "* Important array object defined in Numpy is an n-dimensional array type called ndarray.\n",
    "* It describes the group of items of the same type.\n",
    "* Each item in the collection can be accessed using the zero-based index.\n",
    "* Every item in the ndarray occupies the same amount of memory.\n",
    "* Each element in an ndarray is an object of data-type object(called dtype)."
   ]
  },
  {
   "cell_type": "markdown",
   "id": "c91f6f56-4675-427d-af56-4c35baaed2eb",
   "metadata": {},
   "source": [
    "* <b>numpy array/ python array : </b>\n",
    "it is a collection of similar or dissimilar elements. there are 4 types of array:\n",
    "1. <B>0D-ARRAY</B>\n",
    "1. <B>1D-ARRAY</B>\n",
    "2. <B>2D-ARRAY</B> \n",
    "3. <B>nD-ARRAY OR 3D ARRAY </B>"
   ]
  },
  {
   "cell_type": "markdown",
   "id": "5bb5ee2f-a4ff-4869-b760-175d32c5cec4",
   "metadata": {},
   "source": [
    "<b>basic example of 0D, 1D, 2D and nD ARRAY...</b>"
   ]
  },
  {
   "cell_type": "markdown",
   "id": "21930866-4f85-440e-bca1-d990a30c65b1",
   "metadata": {},
   "source": [
    "***1. 0D-Array :*** 0-D arrays, or Scalars, are the elements in an array. Each value in an array is a 0-D array."
   ]
  },
  {
   "cell_type": "markdown",
   "id": "2367a090-2ca1-4f25-9e75-516745e57b52",
   "metadata": {},
   "source": [
    "Create a 0-D array with value 420:"
   ]
  },
  {
   "cell_type": "code",
   "execution_count": 40,
   "id": "fbfa671b-63cf-46f6-a80d-c310edb274e8",
   "metadata": {},
   "outputs": [
    {
     "name": "stdout",
     "output_type": "stream",
     "text": [
      "420\n",
      "<class 'numpy.ndarray'>\n"
     ]
    }
   ],
   "source": [
    "import numpy as np\n",
    "\n",
    "arr = np.array(420)\n",
    "\n",
    "print(arr)\n",
    "print(type(arr))"
   ]
  },
  {
   "cell_type": "markdown",
   "id": "0e4c4421-7d7d-4b5d-83cb-33e4805cc6c8",
   "metadata": {},
   "source": [
    "***2. 1D-Array :*** An array that has 0-D arrays as its elements is called uni-dimensional or 1-D array. \r\n",
    "These are the most common and basic arrays."
   ]
  },
  {
   "cell_type": "markdown",
   "id": "cef7e8fb-b212-4d1f-b469-02e365447ab0",
   "metadata": {},
   "source": [
    "Create a 1-D array containing the values 1,2,3,4,5:"
   ]
  },
  {
   "cell_type": "code",
   "execution_count": 41,
   "id": "5485e298-1e09-45be-bfd7-58236c586713",
   "metadata": {},
   "outputs": [
    {
     "name": "stdout",
     "output_type": "stream",
     "text": [
      "[1 2 3 4 5]\n",
      "<class 'numpy.ndarray'>\n"
     ]
    }
   ],
   "source": [
    "import numpy as np\n",
    "\n",
    "arr = np.array([1, 2, 3, 4, 5])\n",
    "\n",
    "print(arr)\n",
    "print(type(arr))"
   ]
  },
  {
   "cell_type": "markdown",
   "id": "042ee6ce-4444-423f-aac6-728af2905ae1",
   "metadata": {},
   "source": [
    "***3. 2D-Array :*** An array that has 1-D arrays as its elements is called a 2-D array. \r\n",
    "These are often used to represent matrix or 2nd order tensors."
   ]
  },
  {
   "cell_type": "markdown",
   "id": "d53e627a-41e2-43b3-a81b-b6665e720f93",
   "metadata": {},
   "source": [
    "<b>note : </b>NumPy has a whole sub module dedicated towards matrix operations called <u>numpy.mat</u>"
   ]
  },
  {
   "cell_type": "markdown",
   "id": "3600a80f-8855-4b9c-8cdf-58a681979294",
   "metadata": {},
   "source": [
    "Create a 2-D array containing two arrays with the values 1,2,3 and 4,5,6:"
   ]
  },
  {
   "cell_type": "code",
   "execution_count": 42,
   "id": "885b5ddc-492a-4a84-9920-734393df871b",
   "metadata": {},
   "outputs": [
    {
     "name": "stdout",
     "output_type": "stream",
     "text": [
      "[[1 2 3]\n",
      " [4 5 6]]\n",
      "<class 'numpy.ndarray'>\n"
     ]
    }
   ],
   "source": [
    "import numpy as np\n",
    "\n",
    "arr = np.array([[1, 2, 3],[4,5,6]])\n",
    "\n",
    "print(arr)\n",
    "print(type(arr))"
   ]
  },
  {
   "cell_type": "markdown",
   "id": "7f4533f9-8e03-433e-851b-82933d44c940",
   "metadata": {},
   "source": [
    "***4. nD-Array or 3D-Array :*** An array that has 2-D arrays (matrices) as its elements is called 3-D array. \r\n",
    "These are often used to represent a 3rd order tensor."
   ]
  },
  {
   "cell_type": "markdown",
   "id": "dbd65f4e-8c2e-46a2-ac85-23f6e1a463b2",
   "metadata": {},
   "source": [
    "Create a 3-D array with two 2-D arrays, both containing two arrays with the values 1,2,3 and 4,5,6:"
   ]
  },
  {
   "cell_type": "code",
   "execution_count": 43,
   "id": "2cd70e14-8da5-487f-9569-f292c3c5594a",
   "metadata": {},
   "outputs": [
    {
     "name": "stdout",
     "output_type": "stream",
     "text": [
      "[[[1 2 3]\n",
      "  [4 5 6]]\n",
      "\n",
      " [[1 2 3]\n",
      "  [4 5 6]]]\n",
      "<class 'numpy.ndarray'>\n"
     ]
    }
   ],
   "source": [
    "import numpy as np\n",
    "\n",
    "arr = np.array([[[1, 2, 3], [4, 5, 6]], [[1, 2, 3], [4, 5, 6]]])\n",
    "\n",
    "print(arr)\n",
    "print(type(arr))"
   ]
  },
  {
   "cell_type": "markdown",
   "id": "e4a0ebce-4f15-4e61-ba5f-3d037cd0400a",
   "metadata": {},
   "source": [
    "<b>SYNYAX :</b><pre>\n",
    "array_name = numpy.array(object,dtype=None,copy=True,order=None,subok=False,ndmin=0)\n",
    "</pre> \n",
    "<b>parameters in numpy array : </b>\n",
    "* <b>Object –</b> Any object exposing the array interface method returns an array object. <br>\n",
    "* <b>Dtype –</b> Desired datatype of the object.\n",
    "* <b>Copy –</b> By default,the object is copied.\n",
    "* <b>Order -</b> C (row major) or F (column major) or A (any) (default).\n",
    "* <b>Subok –</b> Returned array is forced to be a base class array.\n",
    "* <b>Ndmin –</b> Specifies min dimensions of resultant array.\n"
   ]
  },
  {
   "cell_type": "markdown",
   "id": "084617f4-39a4-4c0e-afb5-6a54e7352284",
   "metadata": {},
   "source": [
    "### Data Types in NumPy\n",
    "NumPy has some extra data types, and refer to data types with one character, like i for integers, u for unsigned integers etc.<br>\n",
    "<br>\n",
    "Below is a list of all data types in NumPy and the characters used to represent them.<br>\n",
    "<br>\n",
    "i - integer<br>\n",
    "b - boolean<br>\n",
    "u - unsigned integer<br>\n",
    "f - float<br>\n",
    "c - complex float<br>\n",
    "m - timedelta<br>\n",
    "M - datetime<br>\n",
    "O - object<br>\n",
    "S - string<br>\n",
    "U - unicode string<br>\n",
    "V - fixed chunk of memory for other type ( void )<br>"
   ]
  },
  {
   "cell_type": "markdown",
   "id": "2b083d6f-6ec3-4c5f-a674-cd1cb7bbcfb8",
   "metadata": {},
   "source": [
    "* ***parameters in dtype/ data type :***\n",
    "dtype stands for data type of array elements. It supports a much greater variety of numerical types than python does. A dtype object is constructed."
   ]
  },
  {
   "cell_type": "markdown",
   "id": "3090be41-c92b-4ac0-a13d-015de8be7edd",
   "metadata": {},
   "source": [
    "<b>syntax:<b>\n",
    "<pre>\n",
    "Numpy.dtype(object,align,copy)\n",
    "</pre>\n",
    "\n",
    "<b>parameter :</b>\n",
    "* <b>Object –</b> to be converted to datatype object.\n",
    "* <b>Align –</b> If true , adds padding to the field.\n",
    "* <b>Copy –</b> If true , makes a new copy of the dtype object."
   ]
  },
  {
   "cell_type": "markdown",
   "id": "04f01f0d-5754-48d8-bfc0-4e7fed66f2c2",
   "metadata": {},
   "source": [
    "<b>Example :</b>"
   ]
  },
  {
   "cell_type": "code",
   "execution_count": 44,
   "id": "651e68ad-c302-436e-8683-ea6dc7cffa7c",
   "metadata": {},
   "outputs": [
    {
     "name": "stdout",
     "output_type": "stream",
     "text": [
      "int32\n"
     ]
    }
   ],
   "source": [
    "import numpy as np\n",
    "\n",
    "arr = np.array([1, 2, 3, 4])\n",
    "print(arr.dtype)"
   ]
  },
  {
   "cell_type": "code",
   "execution_count": 45,
   "id": "15184d5a-ebe7-4305-b13a-ccca7d2fd9ff",
   "metadata": {},
   "outputs": [
    {
     "name": "stdout",
     "output_type": "stream",
     "text": [
      "complex128\n"
     ]
    }
   ],
   "source": [
    "import numpy as np\n",
    "\n",
    "arr = np.array([1j, 2+3j, 3, 4])\n",
    "print(arr.dtype)"
   ]
  },
  {
   "cell_type": "code",
   "execution_count": 46,
   "id": "d847cdf4-1d99-47fa-8efd-75a5c9f6ef5b",
   "metadata": {},
   "outputs": [
    {
     "name": "stdout",
     "output_type": "stream",
     "text": [
      "<U1\n"
     ]
    }
   ],
   "source": [
    "import numpy as np\n",
    "\n",
    "arr = np.array(['a','s','d','g'])\n",
    "print(arr.dtype)"
   ]
  },
  {
   "cell_type": "code",
   "execution_count": 47,
   "id": "1a3aec79-eae4-4639-abdc-0a950c4647a0",
   "metadata": {},
   "outputs": [
    {
     "name": "stdout",
     "output_type": "stream",
     "text": [
      "<U6\n"
     ]
    }
   ],
   "source": [
    "import numpy as np\n",
    "\n",
    "arr = np.array(['apple', 'banana', 'cherry'])\n",
    "print(arr.dtype)"
   ]
  },
  {
   "cell_type": "code",
   "execution_count": 48,
   "id": "ea6f3745-b70f-4ffa-968e-721caeae5eda",
   "metadata": {},
   "outputs": [
    {
     "name": "stdout",
     "output_type": "stream",
     "text": [
      "[1.+0.j 2.+0.j 3.+0.j]\n"
     ]
    }
   ],
   "source": [
    "import numpy as np \n",
    "\n",
    "a = np.array([1, 2, 3], dtype = complex) \n",
    "print(a)"
   ]
  },
  {
   "cell_type": "markdown",
   "id": "4792cfe6-1144-4078-add3-b804e6de4fa0",
   "metadata": {},
   "source": [
    "* For i, u, f, S and U we can define size as well."
   ]
  },
  {
   "cell_type": "code",
   "execution_count": 49,
   "id": "c3b5d528-5267-4bc1-a9dc-ed3a3c44e561",
   "metadata": {},
   "outputs": [
    {
     "name": "stdout",
     "output_type": "stream",
     "text": [
      "[b'1' b'2' b'3' b'4']\n",
      "|S1\n"
     ]
    }
   ],
   "source": [
    "import numpy as np\n",
    "\n",
    "arr = np.array([1, 2, 3, 4], dtype='S')\n",
    "print(arr)\n",
    "print(arr.dtype)"
   ]
  },
  {
   "cell_type": "code",
   "execution_count": 50,
   "id": "8094e929-7584-4504-b100-19c6ad9367ec",
   "metadata": {},
   "outputs": [
    {
     "name": "stdout",
     "output_type": "stream",
     "text": [
      "[1 2 3 4]\n",
      "int32\n"
     ]
    }
   ],
   "source": [
    "import numpy as np\n",
    "\n",
    "arr = np.array([1, 2, 3, 4], dtype='i4')\n",
    "print(arr)\n",
    "print(arr.dtype)"
   ]
  },
  {
   "cell_type": "code",
   "execution_count": null,
   "id": "25c70813-9052-4699-9bac-44d0ff14fca4",
   "metadata": {},
   "outputs": [],
   "source": []
  },
  {
   "cell_type": "markdown",
   "id": "926af34f-7a25-4852-9a90-ec4f9d037a0b",
   "metadata": {},
   "source": [
    "* <b>using array-scalar type:</b>"
   ]
  },
  {
   "cell_type": "code",
   "execution_count": 51,
   "id": "39233225-b873-4572-9f09-3c45830242e9",
   "metadata": {},
   "outputs": [
    {
     "name": "stdout",
     "output_type": "stream",
     "text": [
      "int32\n"
     ]
    }
   ],
   "source": [
    "import numpy as np\n",
    "\n",
    "dt = np.dtype(np.int32)\n",
    "print(dt)"
   ]
  },
  {
   "cell_type": "code",
   "execution_count": null,
   "id": "57c2fd5b-11f6-49c1-80e6-d72746580cba",
   "metadata": {},
   "outputs": [],
   "source": []
  },
  {
   "cell_type": "markdown",
   "id": "84dcc248-04ff-42fa-874e-f091dfdb6e3b",
   "metadata": {},
   "source": [
    "### ERORR:\n",
    "***What if a Value Can Not Be Converted?***<br>\n",
    "If a type is given in which elements can't be casted then NumPy will raise a ValueError.<br>\n",
    "*ValueError: In Python ValueError is raised when the type of passed argument to a function is unexpected/incorrect.*\n",
    "<br>***Converting Data Type on Existing Arrays*** :<br>The best way to change the data type of an existing array, is to make a copy of the array with the astype() method."
   ]
  },
  {
   "cell_type": "code",
   "execution_count": 52,
   "id": "2b920842-2a71-4a40-863a-a3d3199a6d6a",
   "metadata": {},
   "outputs": [
    {
     "name": "stdout",
     "output_type": "stream",
     "text": [
      "[1 2 3]\n",
      "int32\n"
     ]
    }
   ],
   "source": [
    "import numpy as np\n",
    "\n",
    "arr = np.array([1.1, 2.1, 3.1])\n",
    "newarr = arr.astype(int)\n",
    "print(newarr)\n",
    "print(newarr.dtype)"
   ]
  },
  {
   "cell_type": "code",
   "execution_count": null,
   "id": "e10df913-afc5-4b05-bebb-95e59e00cade",
   "metadata": {},
   "outputs": [],
   "source": []
  },
  {
   "cell_type": "markdown",
   "id": "8c29113d-ff55-4a56-9a16-9eb4f629d6e6",
   "metadata": {},
   "source": [
    "### Check Number of Dimensions :\n",
    "NumPy Arrays provides the ndim attribute that returns an integer that tells us how many dimensions the array have."
   ]
  },
  {
   "cell_type": "markdown",
   "id": "25fe4979-0a2d-487e-ba6f-6305621d0b18",
   "metadata": {},
   "source": [
    "Check how many dimensions the arrays have:"
   ]
  },
  {
   "cell_type": "code",
   "execution_count": 53,
   "id": "97d213e9-8164-4cde-a738-20e930a9183d",
   "metadata": {},
   "outputs": [
    {
     "name": "stdout",
     "output_type": "stream",
     "text": [
      "0\n",
      "1\n",
      "2\n",
      "3\n"
     ]
    }
   ],
   "source": [
    "import numpy as np\n",
    "\n",
    "a = np.array(42)\n",
    "b = np.array([1, 2, 3, 4, 5])\n",
    "c = np.array([[1, 2, 3], [4, 5, 6]])\n",
    "d = np.array([[[1, 2, 3], [4, 5, 6]], [[1, 2, 3], [4, 5, 6]]])\n",
    "\n",
    "print(a.ndim)\n",
    "print(b.ndim)\n",
    "print(c.ndim)\n",
    "print(d.ndim)"
   ]
  },
  {
   "cell_type": "code",
   "execution_count": 54,
   "id": "8ef8e576-39a6-4b8a-a2ea-5b71e6c56292",
   "metadata": {},
   "outputs": [
    {
     "name": "stdout",
     "output_type": "stream",
     "text": [
      "[[[[[1 2 3 4 5]]]]]\n",
      "5\n"
     ]
    }
   ],
   "source": [
    "import numpy as np\n",
    "# 5D-array\n",
    "ar5 = np.array([1,2,3,4,5], ndmin = 5)\n",
    "print(ar5)\n",
    "print(ar5.ndim)"
   ]
  },
  {
   "cell_type": "markdown",
   "id": "9a8fe13a-f693-4353-8da2-6407463fb09a",
   "metadata": {},
   "source": [
    "***note : when you print dimension of array then use 'ndim' attribute but when you create dimension of array use 'ndmin'***"
   ]
  },
  {
   "cell_type": "markdown",
   "id": "46be28eb-03cf-41de-9a30-5e47ff22b5ed",
   "metadata": {},
   "source": [
    "* ***Minimum Dimensional Arrays :*** <br>\n",
    "An array can have any number of dimensions. When the array is created, you can define the number of dimensions by using the ndmin argument."
   ]
  },
  {
   "cell_type": "markdown",
   "id": "d375e15c-3843-462c-acb7-943635d7cd0a",
   "metadata": {},
   "source": [
    "Create an array with minimum dimensions and verify that it has 2 dimensions:"
   ]
  },
  {
   "cell_type": "code",
   "execution_count": 55,
   "id": "bebf9df9-c293-424f-bc3d-5f3697d5b0b0",
   "metadata": {},
   "outputs": [
    {
     "name": "stdout",
     "output_type": "stream",
     "text": [
      "[[1 2 3 4 5]]\n",
      "2\n"
     ]
    }
   ],
   "source": [
    "import numpy as np \n",
    "\n",
    "arr = np.array([1, 2, 3,4,5], ndmin = 2) \n",
    "\n",
    "print(arr)\n",
    "print(arr.ndim)"
   ]
  },
  {
   "cell_type": "markdown",
   "id": "6361d326-225f-4de5-b619-af93c7bed706",
   "metadata": {},
   "source": [
    "* ***Higher Dimensional Arrays :*** <br>\n",
    "An array can have any number of dimensions. When the array is created, you can define the number of dimensions by using the ndmin argument."
   ]
  },
  {
   "cell_type": "markdown",
   "id": "30f89701-3bb7-4369-af09-04a7c52fe811",
   "metadata": {},
   "source": [
    "Create an array with 5 dimensions and verify that it has 5 dimensions:"
   ]
  },
  {
   "cell_type": "code",
   "execution_count": 56,
   "id": "e9cd500a-fa3b-46df-9862-5773c4b13a49",
   "metadata": {},
   "outputs": [
    {
     "name": "stdout",
     "output_type": "stream",
     "text": [
      "[[[[[1 2 3 4]]]]]\n",
      "number of dimensions : 5\n"
     ]
    }
   ],
   "source": [
    "import numpy as np\n",
    "\n",
    "arr = np.array([1, 2, 3, 4], ndmin=5)\n",
    "\n",
    "print(arr)\n",
    "print('number of dimensions :', arr.ndim)"
   ]
  },
  {
   "cell_type": "markdown",
   "id": "457091c7-b4f8-4e5b-a13f-1d94a1a1b6da",
   "metadata": {},
   "source": [
    "### way to create array :\n",
    "there are 5 ways to create an array:\n",
    "1. using data structure i. e. list or tuple <br>\n",
    "2. instrinsic numpy array creation object(arange,ones,zeros,etc) <br>\n",
    "3. reading array from disk from some custom/std formate <br>\n",
    "4. using array from raw bytes through use of string or buffer <br>\n",
    "5. using special library functions i.e. random <br>"
   ]
  },
  {
   "cell_type": "markdown",
   "id": "13c88d2c-563e-48ae-a08d-2f198337e6b6",
   "metadata": {},
   "source": [
    "* NumPy is used to work with arrays. The array object in NumPy is called ndarray.We can create a NumPy ndarray object by using the array() function"
   ]
  },
  {
   "cell_type": "markdown",
   "id": "6044327d-bb5b-41b0-bc33-652cdf2b7e02",
   "metadata": {},
   "source": [
    "<b>Create a NumPy ndarray Object</b>\n"
   ]
  },
  {
   "cell_type": "code",
   "execution_count": 57,
   "id": "e62736be-2c00-45e4-b302-dbc3e47df48c",
   "metadata": {},
   "outputs": [
    {
     "name": "stdout",
     "output_type": "stream",
     "text": [
      "[12 13 14 15]\n",
      "<class 'numpy.ndarray'>\n"
     ]
    }
   ],
   "source": [
    "import numpy as np\n",
    "a1 = np.array([12,13,14,15])\n",
    "print(a1)\n",
    "print(type(a1))"
   ]
  },
  {
   "cell_type": "markdown",
   "id": "1eb9be9c-237e-4bea-806a-b33d679f3db1",
   "metadata": {},
   "source": [
    "* we can pass a list, tuple or any array-like object into the array() method"
   ]
  },
  {
   "cell_type": "markdown",
   "id": "317ddaf6-a1c2-4a6e-a179-5a99550d3ed1",
   "metadata": {},
   "source": [
    "<b>Use a tuple to create a NumPy array</b>"
   ]
  },
  {
   "cell_type": "code",
   "execution_count": 58,
   "id": "5a5240b9-a570-410f-9e41-6d6a895b7ca2",
   "metadata": {},
   "outputs": [
    {
     "name": "stdout",
     "output_type": "stream",
     "text": [
      "[1 2 3 4 5]\n",
      "<class 'numpy.ndarray'>\n"
     ]
    }
   ],
   "source": [
    "import numpy as np\n",
    "\n",
    "a2 = np.array((1, 2, 3, 4, 5))\n",
    "print(a2)\n",
    "print(type(a2))"
   ]
  },
  {
   "cell_type": "markdown",
   "id": "5f07c9c3-6dff-467d-8c5d-9819c6d52e66",
   "metadata": {},
   "source": [
    "### create array with zeros"
   ]
  },
  {
   "cell_type": "markdown",
   "id": "5f16f231-8ad9-4115-8fda-1463ade3ed7e",
   "metadata": {},
   "source": [
    "* <b>numpy.zeros(number of rows, number of columns) : </b>return an array of zero elements"
   ]
  },
  {
   "cell_type": "code",
   "execution_count": 59,
   "id": "d22d6074-cf37-46c9-9363-b9317e897247",
   "metadata": {},
   "outputs": [
    {
     "name": "stdout",
     "output_type": "stream",
     "text": [
      "[[0. 0. 0. 0. 0.]\n",
      " [0. 0. 0. 0. 0.]\n",
      " [0. 0. 0. 0. 0.]]\n",
      "float64\n",
      "(3, 5)\n"
     ]
    }
   ],
   "source": [
    "import numpy as np\n",
    "\n",
    "ar = np.zeros((3,5))\n",
    "\n",
    "print(ar)\n",
    "print(ar.dtype)\n",
    "print(ar.shape)"
   ]
  },
  {
   "cell_type": "code",
   "execution_count": 60,
   "id": "e8cfffb3-1c85-4e8c-baf8-8656fec02077",
   "metadata": {},
   "outputs": [
    {
     "name": "stdout",
     "output_type": "stream",
     "text": [
      "[[0.]]\n",
      "float64\n",
      "(1, 1)\n"
     ]
    }
   ],
   "source": [
    "import numpy as np\n",
    "\n",
    "ar = np.zeros((1,1))\n",
    "\n",
    "print(ar)\n",
    "print(ar.dtype)\n",
    "print(ar.shape)"
   ]
  },
  {
   "cell_type": "code",
   "execution_count": 61,
   "id": "13b07ab2-4a92-4fb7-a339-75a218badf2e",
   "metadata": {},
   "outputs": [
    {
     "name": "stdout",
     "output_type": "stream",
     "text": [
      "[0. 0. 0. 0.]\n",
      "float64\n",
      "(4,)\n"
     ]
    }
   ],
   "source": [
    "import numpy as np\n",
    "\n",
    "ar = np.zeros((4,))\n",
    "\n",
    "print(ar)\n",
    "print(ar.dtype)\n",
    "print(ar.shape)"
   ]
  },
  {
   "cell_type": "markdown",
   "id": "816e883e-c7e6-4c87-a8e9-78dd39b51cc5",
   "metadata": {},
   "source": [
    "### create array with ones"
   ]
  },
  {
   "cell_type": "markdown",
   "id": "37ed740b-785f-4e04-b1fd-deddf1a1721c",
   "metadata": {},
   "source": [
    "* <b>numpy.ones(number of rows, number of columns) : </b>return an array of elements value 1."
   ]
  },
  {
   "cell_type": "code",
   "execution_count": 62,
   "id": "89cd5a60-5d9e-4899-a990-f6c4ea642a8a",
   "metadata": {},
   "outputs": [
    {
     "name": "stdout",
     "output_type": "stream",
     "text": [
      "[[1. 1. 1. 1. 1.]\n",
      " [1. 1. 1. 1. 1.]\n",
      " [1. 1. 1. 1. 1.]]\n",
      "float64\n",
      "(3, 5)\n"
     ]
    }
   ],
   "source": [
    "import numpy as np\n",
    "\n",
    "ar = np.ones((3,5))\n",
    "\n",
    "print(ar)\n",
    "print(ar.dtype)\n",
    "print(ar.shape)"
   ]
  },
  {
   "cell_type": "markdown",
   "id": "432aa034-0642-48e0-b278-48894dcb62e7",
   "metadata": {},
   "source": [
    "<b>numpy.arange(m, n) : </b> it works same as range(m,n) of python and print the elements from the size of 'n-1' from m or in defalut value of 'm' is zero. it works similar to range() function."
   ]
  },
  {
   "cell_type": "code",
   "execution_count": 63,
   "id": "2102bac7-a305-41e4-a531-749f92350760",
   "metadata": {},
   "outputs": [
    {
     "name": "stdout",
     "output_type": "stream",
     "text": [
      "[0 1 2 3 4 5 6 7 8 9]\n"
     ]
    }
   ],
   "source": [
    "import numpy as np\n",
    "\n",
    "ar = np.arange(10)\n",
    "print(ar)"
   ]
  },
  {
   "cell_type": "code",
   "execution_count": 64,
   "id": "6be175fa-4d9a-4a9a-9bee-6a19267d15cb",
   "metadata": {},
   "outputs": [
    {
     "name": "stdout",
     "output_type": "stream",
     "text": [
      "[3 4 5 6 7]\n"
     ]
    }
   ],
   "source": [
    "import numpy as np\n",
    "\n",
    "ar = np.arange(3, 8)\n",
    "print(ar)"
   ]
  },
  {
   "cell_type": "markdown",
   "id": "ec8f655e-9a21-463d-a55e-ee5a0e192a81",
   "metadata": {},
   "source": [
    "<b>numpy.linspace(x,y,z) - </b>it'll print 'z' number of element with same interval from 'x' to 'y-1' <br>\n",
    "<b>x : </b> starting index   ||  <b>y : </b> ending index   ||   <b>z : </b> number of element"
   ]
  },
  {
   "cell_type": "markdown",
   "id": "e8a588c7-401d-46fa-82e5-93e4676b30cd",
   "metadata": {},
   "source": [
    "* generate 6 number between 1 to 5"
   ]
  },
  {
   "cell_type": "code",
   "execution_count": 65,
   "id": "86293afc-d171-465e-8c5c-dce3b5af8d4e",
   "metadata": {},
   "outputs": [
    {
     "name": "stdout",
     "output_type": "stream",
     "text": [
      "[1.  1.8 2.6 3.4 4.2 5. ]\n"
     ]
    }
   ],
   "source": [
    "import numpy as np\n",
    "\n",
    "ar = np.linspace(1, 5, 6)\n",
    "print(ar)"
   ]
  },
  {
   "cell_type": "markdown",
   "id": "359875ce-45f8-4a38-aafb-6b2ba4f197e2",
   "metadata": {},
   "source": [
    "* generate 6 number between 0 to 1"
   ]
  },
  {
   "cell_type": "code",
   "execution_count": 66,
   "id": "32429584-c161-459f-9a3c-34b7fc822cb3",
   "metadata": {},
   "outputs": [
    {
     "name": "stdout",
     "output_type": "stream",
     "text": [
      "[0.  0.2 0.4 0.6 0.8 1. ]\n"
     ]
    }
   ],
   "source": [
    "import numpy as np\n",
    "\n",
    "x = np.linspace(0,1,6)\n",
    "print(x)"
   ]
  },
  {
   "cell_type": "markdown",
   "id": "39cb8808-7fc5-4f9f-9105-46bff97a76e6",
   "metadata": {},
   "source": [
    "<b>numpy.empty((i,j)) - </b>generate an array with random number with 'i' number of rowa and 'j' number of columns."
   ]
  },
  {
   "cell_type": "markdown",
   "id": "1e315f03-7033-49b5-840e-45b6f6572992",
   "metadata": {},
   "source": [
    "* generate array of random numbers with 3 rows and 4 columns"
   ]
  },
  {
   "cell_type": "code",
   "execution_count": 67,
   "id": "31c1433f-c064-478b-9146-94b44077f6ca",
   "metadata": {},
   "outputs": [
    {
     "name": "stdout",
     "output_type": "stream",
     "text": [
      "[[1.29559052e-311 3.16202013e-322 0.00000000e+000 0.00000000e+000]\n",
      " [1.20953760e-312 3.12015643e-033 7.40331411e-038 6.52421341e-038]\n",
      " [2.21533620e+160 1.39804330e-076 7.86958905e-071 5.53615832e+174]]\n"
     ]
    }
   ],
   "source": [
    "import numpy as np\n",
    "\n",
    "x = np.empty((3,4))\n",
    "print(x)"
   ]
  },
  {
   "cell_type": "markdown",
   "id": "ed72f178-9f30-4165-8fc8-d1f77a248928",
   "metadata": {},
   "source": [
    "* generate array of random numbers with 1 rows and 5 columns "
   ]
  },
  {
   "cell_type": "code",
   "execution_count": 68,
   "id": "97c85ca5-0c62-4fde-99a3-81c786e41cdb",
   "metadata": {},
   "outputs": [
    {
     "name": "stdout",
     "output_type": "stream",
     "text": [
      "[0.2 0.4 0.6 0.8 1. ]\n"
     ]
    }
   ],
   "source": [
    "import numpy as np\n",
    "\n",
    "x = np.empty(5)\n",
    "print(x)"
   ]
  },
  {
   "cell_type": "markdown",
   "id": "676d72ea-f067-4f4b-b37b-9d24552393f3",
   "metadata": {},
   "source": [
    "<b>b = numpy.empty_like((p)) - </b>it'll return same structured/size array as already exist array named 'p'<br> (where 'b' is an array one of them we created before.)"
   ]
  },
  {
   "cell_type": "code",
   "execution_count": 69,
   "id": "2737d26b-6841-44d5-9c9c-a7e1571b2b5e",
   "metadata": {},
   "outputs": [
    {
     "name": "stdout",
     "output_type": "stream",
     "text": [
      "[[1 2]\n",
      " [3 4]]\n"
     ]
    }
   ],
   "source": [
    "import numpy as np\n",
    "\n",
    "p = np.array([[1,2],[3,4]])\n",
    "print(p)"
   ]
  },
  {
   "cell_type": "code",
   "execution_count": 70,
   "id": "931150b6-e667-42e4-9b07-70b69ac7615c",
   "metadata": {},
   "outputs": [
    {
     "name": "stdout",
     "output_type": "stream",
     "text": [
      "[[0 0]\n",
      " [0 0]]\n"
     ]
    }
   ],
   "source": [
    "import numpy as np\n",
    "\n",
    "b = np.empty_like((p))\n",
    "print(b)"
   ]
  },
  {
   "cell_type": "markdown",
   "id": "029ca91d-d3b8-470c-8027-6db8e9039ca9",
   "metadata": {},
   "source": [
    "<b>numpy.identity(n) - </b>return metrix with size of \" n*n \"."
   ]
  },
  {
   "cell_type": "code",
   "execution_count": 71,
   "id": "fbb18cf4-ab23-4c70-a662-e54219f52111",
   "metadata": {},
   "outputs": [
    {
     "name": "stdout",
     "output_type": "stream",
     "text": [
      "[[1. 0. 0.]\n",
      " [0. 1. 0.]\n",
      " [0. 0. 1.]]\n"
     ]
    }
   ],
   "source": [
    "import numpy as np\n",
    "\n",
    "ar = np.identity(3)\n",
    "print(ar)"
   ]
  },
  {
   "cell_type": "markdown",
   "id": "ec922bc8-32ba-410d-9bab-33dfb70c4cd8",
   "metadata": {},
   "source": [
    "<b>array_name.reshape(i,j) - </b>it'll resize and return array with size of (i*j) <br> (number of rows(i),numbers of columns(j))."
   ]
  },
  {
   "cell_type": "code",
   "execution_count": 72,
   "id": "fe9d95b1-4436-483c-8c79-c4825e2313af",
   "metadata": {},
   "outputs": [
    {
     "name": "stdout",
     "output_type": "stream",
     "text": [
      "array :  [ 0  1  2  3  4  5  6  7  8  9 10 11 12 13 14 15 16 17 18 19 20 21 22 23\n",
      " 24 25 26 27 28 29]\n",
      "shaped array :\n",
      " [[ 0  1  2  3  4  5  6  7  8  9]\n",
      " [10 11 12 13 14 15 16 17 18 19]\n",
      " [20 21 22 23 24 25 26 27 28 29]]\n"
     ]
    }
   ],
   "source": [
    "import numpy as np\n",
    "\n",
    "ar = np.arange((30))\n",
    "arr = ar.reshape((3,10))\n",
    "\n",
    "print(\"array : \",ar)\n",
    "print(\"shaped array :\\n\", arr)"
   ]
  },
  {
   "cell_type": "markdown",
   "id": "75cd2edd-fec7-4bdc-bc5a-601105c9e2cf",
   "metadata": {},
   "source": [
    "<b>array_name.ravel() -</b> it'll remove all executed operations performed in any array and return you 1D-array"
   ]
  },
  {
   "cell_type": "code",
   "execution_count": 73,
   "id": "be5b2c9c-dc6b-44bc-975e-7e76c97bcee8",
   "metadata": {},
   "outputs": [
    {
     "name": "stdout",
     "output_type": "stream",
     "text": [
      "[[1 2 3]\n",
      " [4 5 6]]\n",
      "[1 2 3 4 5 6]\n"
     ]
    }
   ],
   "source": [
    "import numpy as np\n",
    "\n",
    "ar = np.array([[1,2,3],[4,5,6]])\n",
    "arr = ar.ravel()\n",
    "print(ar)\n",
    "print(arr)"
   ]
  },
  {
   "cell_type": "code",
   "execution_count": null,
   "id": "c731a73f-ec2e-4247-a506-21394116fd3b",
   "metadata": {},
   "outputs": [],
   "source": []
  },
  {
   "cell_type": "markdown",
   "id": "6d11cdda-332c-4d0f-8c1a-7d0b63a93eaf",
   "metadata": {},
   "source": [
    "### Numpy Axes :\n",
    "<b>NUMPY AXES ARE LIKE AXES IN A COORDINATE SYSTEM</b>"
   ]
  },
  {
   "cell_type": "markdown",
   "id": "4e69e4fc-696d-43f8-9386-a09af8d90864",
   "metadata": {},
   "source": [
    "#### cordinatte system have axes : representation of axes with a value \n",
    "<img decoding=\"async\" class=\"aligncenter size-full wp-image-3907\" src=\"https://www.sharpsightlabs.com/wp-content/uploads/2018/12/numpy-axes_point-in-cartesian-coordinates-example.png\" alt=\"An example of defining a point in Cartesian coordinates by it's value along the x axis and y axis.\" width=\"460\"/>"
   ]
  },
  {
   "cell_type": "markdown",
   "id": "e978b4b5-bc59-43ab-b811-dc333be166de",
   "metadata": {},
   "source": [
    "<b>Axes in metrix : </b><br><img decoding=\"async\" class=\"aligncenter size-full wp-image-3907\" src=\"https://www.sharpsightlabs.com/wp-content/uploads/2018/12/numpy-arrays-have-axes_updated_v2-1024x525.png\" width=\"460\" alt=\"An example of defining a point in Cartesian coordinates by it's value along the x axis and y axis.\" width=\"700\"/><br><b>all nD array do work with axis 0 and 1 but 1D array has only axis 1</b>"
   ]
  },
  {
   "cell_type": "markdown",
   "id": "bb3e6de6-0928-4a2b-840a-4eb5126b0ee3",
   "metadata": {},
   "source": [
    "<b>NOTE : </b>\"axis-0\" means \"y-axis\" or column and \"axis-1\" means \"x-axis\" or rows"
   ]
  },
  {
   "cell_type": "markdown",
   "id": "164429a0-cb97-4437-b64f-389eb3fdf220",
   "metadata": {},
   "source": [
    "### ***axis and their meaning according to metrix :***\n",
    "### <b>columns : </b> axis = 0\n",
    "### <b>rows : </b> axis = 1"
   ]
  },
  {
   "cell_type": "markdown",
   "id": "1fcd425f-01f6-45c9-9dde-0d602e4e370b",
   "metadata": {},
   "source": [
    "* ***Let's see them in coding :***"
   ]
  },
  {
   "cell_type": "code",
   "execution_count": 74,
   "id": "e2a3b241-d104-4ea8-a45d-84412d24ee15",
   "metadata": {},
   "outputs": [
    {
     "name": "stdout",
     "output_type": "stream",
     "text": [
      "metrix :\n",
      "[[1 2 3]\n",
      " [4 5 6]\n",
      " [7 1 0]]\n",
      "sum all elements :\n",
      "29\n",
      "sum of axis 0 :\n",
      "[12  8  9]\n",
      "sum of axis 1 :\n",
      "[ 6 15  8]\n"
     ]
    }
   ],
   "source": [
    "import numpy as np\n",
    "\n",
    "ar = np.array([[1,2,3],[4,5,6],[7,1,0]])\n",
    "\n",
    "print(\"metrix :\")\n",
    "print(ar)\n",
    "\n",
    "print(\"sum all elements :\")\n",
    "print(ar.sum())\n",
    "\n",
    "print(\"sum of axis 0 :\")\n",
    "print(ar.sum(axis = 0))\n",
    "\n",
    "print(\"sum of axis 1 :\")\n",
    "print(ar.sum(axis = 1))"
   ]
  },
  {
   "cell_type": "markdown",
   "id": "bd576841-7735-4471-b4d1-0d721e968ff6",
   "metadata": {},
   "source": [
    "<b>Explaination :</b>\n",
    "\n",
    "* <b>sum of axis 0 : [12  8  9] </b> sum of [(1+4+7) (2+5+1) (3+6+0)]\n",
    "* <b>sum of axis 1 : [ 6 15  8] </b> sum of [(1+2+3) (4+5+6) (7+1+0)]"
   ]
  },
  {
   "cell_type": "markdown",
   "id": "8b5c7903-03ee-4f8b-a8a7-ee04d1177afd",
   "metadata": {},
   "source": [
    "<b>Transpose of metrix : </b> when we convert row into columns and columns to rows and get the new metrix is known as <i>Transpose of metrix</i>.\n",
    "\n",
    "<b>syntax : </b> array_name.T\n",
    "\n",
    "***note: later 'T' must be in upper later***"
   ]
  },
  {
   "cell_type": "code",
   "execution_count": 75,
   "id": "0de854d9-8de8-4cba-ae63-7bb201f8bdf7",
   "metadata": {},
   "outputs": [
    {
     "name": "stdout",
     "output_type": "stream",
     "text": [
      "metrix :\n",
      "[[1 2 3]\n",
      " [4 5 6]\n",
      " [7 8 9]]\n",
      "transpose of metrix :\n",
      "[[1 4 7]\n",
      " [2 5 8]\n",
      " [3 6 9]]\n"
     ]
    }
   ],
   "source": [
    "import numpy as np\n",
    "\n",
    "ar = np.array([[1,2,3],[4,5,6],[7,8,9]])\n",
    "print(\"metrix :\")\n",
    "print(ar)\n",
    "print(\"transpose of metrix :\")\n",
    "at = ar.T\n",
    "print(at)"
   ]
  },
  {
   "cell_type": "markdown",
   "id": "9049eeb1-c00c-4186-9107-d1e8714a00cf",
   "metadata": {},
   "source": [
    "* transpose of transpose metrix is real metrix"
   ]
  },
  {
   "cell_type": "code",
   "execution_count": 76,
   "id": "e088ca83-c2a5-4e34-a760-a7c4ee6b2eed",
   "metadata": {},
   "outputs": [
    {
     "data": {
      "text/plain": [
       "array([[1, 2, 3],\n",
       "       [4, 5, 6],\n",
       "       [7, 8, 9]])"
      ]
     },
     "execution_count": 76,
     "metadata": {},
     "output_type": "execute_result"
    }
   ],
   "source": [
    "at.T"
   ]
  },
  {
   "cell_type": "markdown",
   "id": "7a411df1-645f-4128-ace0-854c4e3a6694",
   "metadata": {},
   "source": [
    "<b>flat in array : </b> This method is used as a 1_D iterator over N-dimensional arrays or we can say that The numpy.ndarray.flat() function is used as a 1_D iterator over N-dimensional arrays. It is not a subclass of, Python’s built-in iterator object, otherwise it a numpy.flatiter instance. <br>\n",
    "\n",
    "<b>SYNTAX :</b> array_name.flat\n",
    "\n",
    "<b>NOTE - </b>its method used as object"
   ]
  },
  {
   "cell_type": "markdown",
   "id": "1a00f99d-d282-4683-9a99-0499fd68cc93",
   "metadata": {},
   "source": [
    "* flatiter is just the type of the iterator object returned by flat (docs). So all you need to know about it is that it's an iterator like any other.\n",
    "* Obviously, flatten consumes more memory and cpu, as it creates a new array, while flat only creates the iterator object, which is super fast.\n",
    "* If all you need is to iterate over the array, in a flat manner, use flat.\n",
    "* If you need an actual flat array (for purposes other than just explicitly iterating over it), use flatten."
   ]
  },
  {
   "cell_type": "markdown",
   "id": "7ece1bd0-664e-42a3-8eba-1bdee5b88fef",
   "metadata": {},
   "source": [
    "* it can convert all values into given value"
   ]
  },
  {
   "cell_type": "code",
   "execution_count": 77,
   "id": "dbef9e88-8d5e-4312-a888-229173efef35",
   "metadata": {},
   "outputs": [
    {
     "name": "stdout",
     "output_type": "stream",
     "text": [
      "[[1 2 3 4]\n",
      " [5 6 7 8]]\n",
      "[[1 1 1 1]\n",
      " [1 1 1 1]]\n"
     ]
    }
   ],
   "source": [
    "import numpy as np\n",
    "\n",
    "ar = np.arange(1,9).reshape(2,4);\n",
    "print(ar)\n",
    "\n",
    "ar.flat = 1;\n",
    "print(ar)"
   ]
  },
  {
   "cell_type": "markdown",
   "id": "ad8b3f48-2e82-4c9c-ae3e-0151bc387cbf",
   "metadata": {},
   "source": [
    "* change the value in a range "
   ]
  },
  {
   "cell_type": "code",
   "execution_count": 78,
   "id": "7cd111fa-ca28-4198-911c-3b09246fae38",
   "metadata": {},
   "outputs": [
    {
     "name": "stdout",
     "output_type": "stream",
     "text": [
      "[[ 1  2  3  4  5]\n",
      " [ 6  7  8  9 10]\n",
      " [11 12 13 14 15]]\n",
      "Changing values in a range : \n",
      " [[ 1  2  3  0  0]\n",
      " [ 0  7  8  9  9]\n",
      " [11 12 13 14 15]]\n"
     ]
    }
   ],
   "source": [
    "import numpy as np\n",
    "\n",
    "ar = np.arange(1,16).reshape(3,5);\n",
    "print(ar)\n",
    "\n",
    "ar.flat[3:6] = 0\n",
    "ar.flat[8:10] = 9\n",
    "print(\"Changing values in a range : \\n\", ar)"
   ]
  },
  {
   "cell_type": "markdown",
   "id": "521e93e7-483b-46b0-a271-8611a5ab703e",
   "metadata": {},
   "source": [
    "* you can use it as print indexed values"
   ]
  },
  {
   "cell_type": "code",
   "execution_count": 79,
   "id": "32ad95f9-0458-468a-8000-1fc10063c18e",
   "metadata": {},
   "outputs": [
    {
     "name": "stdout",
     "output_type": "stream",
     "text": [
      "[[1 2 3]\n",
      " [4 5 6]]\n",
      "array[3] indexd element :  4\n"
     ]
    }
   ],
   "source": [
    "import numpy as np\n",
    "x = np.arange(1, 7).reshape(2, 3)\n",
    "print(x)\n",
    "\n",
    "print(\"array[3] indexd element : \",x.flat[3])"
   ]
  },
  {
   "cell_type": "markdown",
   "id": "06f375c4-329c-41ee-b809-fe6105fde8a0",
   "metadata": {},
   "source": [
    "* <b>array_name.argmax():</b> return index of element whose value is maximum"
   ]
  },
  {
   "cell_type": "code",
   "execution_count": 80,
   "id": "93d4049f-18e9-4cb1-8a17-34a0b5851bd8",
   "metadata": {},
   "outputs": [
    {
     "name": "stdout",
     "output_type": "stream",
     "text": [
      "array :  [12 13  1  2  4  6 99]\n",
      "index of max value in array :  6\n"
     ]
    }
   ],
   "source": [
    "import numpy as np\n",
    "\n",
    "one = np.array([12,13,1,2,4,6,99])\n",
    "\n",
    "print(\"array : \",one)\n",
    "print(\"index of max value in array : \",one.argmax())"
   ]
  },
  {
   "cell_type": "code",
   "execution_count": 81,
   "id": "ec991eeb-7421-4f3f-b884-616e8cb3892c",
   "metadata": {},
   "outputs": [
    {
     "name": "stdout",
     "output_type": "stream",
     "text": [
      "array : \n",
      " [[12 24]\n",
      " [24 56]]\n",
      "index of max value in array :  3\n"
     ]
    }
   ],
   "source": [
    "import numpy as np\n",
    "\n",
    "two = np.array([[12,24],[24,56]])\n",
    "\n",
    "print(\"array : \\n\",two)\n",
    "print(\"index of max value in array : \",two.argmax())"
   ]
  },
  {
   "cell_type": "markdown",
   "id": "ab9b7671-6d94-4dae-97ba-ba169501d247",
   "metadata": {},
   "source": [
    "* <b>with axis</b>"
   ]
  },
  {
   "cell_type": "code",
   "execution_count": 82,
   "id": "b0e69456-c0d5-4772-adb4-12f17b9fba43",
   "metadata": {},
   "outputs": [
    {
     "name": "stdout",
     "output_type": "stream",
     "text": [
      "array : \n",
      " [[12 24]\n",
      " [24  6]]\n",
      "index of max value in array :  [1 0]\n"
     ]
    }
   ],
   "source": [
    "import numpy as np\n",
    "\n",
    "two = np.array([[12,24],[24,6]])\n",
    "\n",
    "print(\"array : \\n\",two)\n",
    "print(\"index of max value in array : \",two.argmax(axis = 0))"
   ]
  },
  {
   "cell_type": "code",
   "execution_count": 83,
   "id": "236dd035-999f-4b87-8fe6-09a71f3937f1",
   "metadata": {},
   "outputs": [
    {
     "name": "stdout",
     "output_type": "stream",
     "text": [
      "array : \n",
      " [[12  4]\n",
      " [24 56]]\n",
      "index of max value in array :  [0 1]\n"
     ]
    }
   ],
   "source": [
    "import numpy as np\n",
    "\n",
    "two = np.array([[12,4],[24,56]])\n",
    "\n",
    "print(\"array : \\n\",two)\n",
    "print(\"index of max value in array : \",two.argmax(axis = 1))"
   ]
  },
  {
   "cell_type": "markdown",
   "id": "6d2ee031-df07-4364-9a4c-975fa00337e1",
   "metadata": {},
   "source": [
    "* <b>array_name.argmin():</b> return index of element whose value is minimum"
   ]
  },
  {
   "cell_type": "code",
   "execution_count": 84,
   "id": "921262ad-d222-4e56-932a-876c72690644",
   "metadata": {},
   "outputs": [
    {
     "name": "stdout",
     "output_type": "stream",
     "text": [
      "array :  [12 13  1  2  4  6 99]\n",
      "index of max value in array :  2\n"
     ]
    }
   ],
   "source": [
    "import numpy as np\n",
    "\n",
    "one = np.array([12,13,1,2,4,6,99])\n",
    "\n",
    "print(\"array : \",one)\n",
    "print(\"index of max value in array : \",one.argmin())"
   ]
  },
  {
   "cell_type": "code",
   "execution_count": 85,
   "id": "b8d71576-9c32-4049-8fdd-f3fceb34e7d6",
   "metadata": {},
   "outputs": [
    {
     "name": "stdout",
     "output_type": "stream",
     "text": [
      "array : \n",
      " [[12 24]\n",
      " [24 56]]\n",
      "index of max value in array :  0\n"
     ]
    }
   ],
   "source": [
    "import numpy as np\n",
    "\n",
    "two = np.array([[12,24],[24,56]])\n",
    "\n",
    "print(\"array : \\n\",two)\n",
    "print(\"index of max value in array : \",two.argmin())"
   ]
  },
  {
   "cell_type": "markdown",
   "id": "d7a16d80-cfbd-4d28-a782-c7ed54d203c3",
   "metadata": {},
   "source": [
    "* <b>with axis</b>"
   ]
  },
  {
   "cell_type": "code",
   "execution_count": 86,
   "id": "0c60ba4d-9168-4fed-bdd3-098f7cf09a77",
   "metadata": {},
   "outputs": [
    {
     "name": "stdout",
     "output_type": "stream",
     "text": [
      "array : \n",
      " [[12 24]\n",
      " [24  6]]\n",
      "index of max value in array :  [1 0]\n"
     ]
    }
   ],
   "source": [
    "import numpy as np\n",
    "\n",
    "two = np.array([[12,24],[24,6]])\n",
    "\n",
    "print(\"array : \\n\",two)\n",
    "print(\"index of max value in array : \",two.argmax(axis = 0))"
   ]
  },
  {
   "cell_type": "code",
   "execution_count": 87,
   "id": "5a12a5bc-01cb-4cb6-b4a8-f0ff3b54bddf",
   "metadata": {},
   "outputs": [
    {
     "name": "stdout",
     "output_type": "stream",
     "text": [
      "array : \n",
      " [[12  4]\n",
      " [24 56]]\n",
      "index of max value in array :  [0 1]\n"
     ]
    }
   ],
   "source": [
    "import numpy as np\n",
    "\n",
    "two = np.array([[12,4],[24,56]])\n",
    "\n",
    "print(\"array : \\n\",two)\n",
    "print(\"index of max value in array : \",two.argmax(axis = 1))"
   ]
  },
  {
   "cell_type": "markdown",
   "id": "f83a1e68-7041-48bf-8b59-c3a0f32bd4cc",
   "metadata": {},
   "source": [
    "* <b>array_name.argsort() :</b> return index of element of u put element of that index then your index will be sorted"
   ]
  },
  {
   "cell_type": "code",
   "execution_count": 88,
   "id": "cb8d4ea5-7a4b-4d9d-87c0-5a0ddb64088f",
   "metadata": {},
   "outputs": [
    {
     "name": "stdout",
     "output_type": "stream",
     "text": [
      "array : \n",
      " [[1 2 3]\n",
      " [4 5 6]\n",
      " [7 1 0]]\n",
      "indexes of array in sorted form :\n",
      " [[0 1 2]\n",
      " [0 1 2]\n",
      " [2 1 0]]\n"
     ]
    }
   ],
   "source": [
    "import numpy as np\n",
    "\n",
    "ar = np.array([[1, 2, 3],[4, 5, 6],[7, 1, 0]])\n",
    "print(\"array : \\n\",ar)\n",
    "\n",
    "print(\"indexes of array in sorted form :\\n\",ar.argsort())"
   ]
  },
  {
   "cell_type": "markdown",
   "id": "fb5ba197-c2c5-4806-9548-7a12a8365c3b",
   "metadata": {},
   "source": [
    "* <b>with axis</b>"
   ]
  },
  {
   "cell_type": "code",
   "execution_count": 89,
   "id": "0cdc52e8-d8ed-4929-b898-615ba99166a8",
   "metadata": {},
   "outputs": [
    {
     "name": "stdout",
     "output_type": "stream",
     "text": [
      "array : \n",
      " [[1 2 3]\n",
      " [4 5 6]\n",
      " [7 1 0]]\n",
      "indexes of array in sorted form :\n",
      " [[0 2 2]\n",
      " [1 0 0]\n",
      " [2 1 1]]\n"
     ]
    }
   ],
   "source": [
    "import numpy as np\n",
    "\n",
    "ar = np.array([[1, 2, 3],[4, 5, 6],[7, 1, 0]])\n",
    "print(\"array : \\n\",ar)\n",
    "\n",
    "print(\"indexes of array in sorted form :\\n\",ar.argsort(axis = 0))"
   ]
  },
  {
   "cell_type": "code",
   "execution_count": 90,
   "id": "1675df48-8bad-4a38-8537-23fce3dc4e2f",
   "metadata": {},
   "outputs": [
    {
     "name": "stdout",
     "output_type": "stream",
     "text": [
      "array : \n",
      " [[1 2 3]\n",
      " [4 5 6]\n",
      " [7 1 0]]\n",
      "indexes of array in sorted form :\n",
      " [[0 1 2]\n",
      " [0 1 2]\n",
      " [2 1 0]]\n"
     ]
    }
   ],
   "source": [
    "import numpy as np\n",
    "\n",
    "ar = np.array([[1, 2, 3],[4, 5, 6],[7, 1, 0]])\n",
    "print(\"array : \\n\",ar)\n",
    "\n",
    "print(\"indexes of array in sorted form :\\n\",ar.argsort(axis=1))"
   ]
  },
  {
   "cell_type": "markdown",
   "id": "98830e0a-7487-46b8-8784-b1a3d7ee270f",
   "metadata": {},
   "source": [
    "### basic math in numpy"
   ]
  },
  {
   "cell_type": "markdown",
   "id": "0d55e07a-ae37-47d8-a9c9-ffaf0764e680",
   "metadata": {},
   "source": [
    "* <b>let's create 2 array for see math operations:</b>"
   ]
  },
  {
   "cell_type": "code",
   "execution_count": 91,
   "id": "bde2c461-ef80-4f4e-baa7-17f80b2cb156",
   "metadata": {},
   "outputs": [
    {
     "name": "stdout",
     "output_type": "stream",
     "text": [
      "array 1 : \n",
      "[[1 2 3]\n",
      " [4 5 6]\n",
      " [7 1 0]] \n",
      "array 2 : \n",
      "[[1 2 1]\n",
      " [4 0 6]\n",
      " [8 1 0]]\n"
     ]
    }
   ],
   "source": [
    "import numpy as np\n",
    "\n",
    "ar1 = np.array([[1,2,3],[4,5,6],[7,1,0]])\n",
    "ar2 = np.array([[1,2,1],[4,0,6],[8,1,0]])\n",
    "\n",
    "print(f\"array 1 : \\n{ar1} \\narray 2 : \\n{ar2}\")"
   ]
  },
  {
   "cell_type": "markdown",
   "id": "fa14db64-1e40-4756-a48d-34db4e383030",
   "metadata": {},
   "source": [
    "* <b>sum of array </bm>"
   ]
  },
  {
   "cell_type": "code",
   "execution_count": 92,
   "id": "767c4ad2-4a88-4f09-a085-75d1019e1c5e",
   "metadata": {},
   "outputs": [
    {
     "name": "stdout",
     "output_type": "stream",
     "text": [
      "[[ 2  4  4]\n",
      " [ 8  5 12]\n",
      " [15  2  0]]\n"
     ]
    }
   ],
   "source": [
    "ar = ar1 + ar2\n",
    "print(ar)"
   ]
  },
  {
   "cell_type": "markdown",
   "id": "2cd41475-0ec9-49f0-96b1-5d59c700680a",
   "metadata": {},
   "source": [
    "* <b>sub of array </bm>"
   ]
  },
  {
   "cell_type": "code",
   "execution_count": 93,
   "id": "4511e734-f82e-4374-8f16-af9b7dcc84bc",
   "metadata": {},
   "outputs": [
    {
     "name": "stdout",
     "output_type": "stream",
     "text": [
      "[[ 0  0  2]\n",
      " [ 0  5  0]\n",
      " [-1  0  0]]\n"
     ]
    }
   ],
   "source": [
    "ar = ar1 - ar2\n",
    "print(ar)"
   ]
  },
  {
   "cell_type": "code",
   "execution_count": 94,
   "id": "8e04e0c9-c5b2-47c5-9df6-1e32f17fe8a8",
   "metadata": {},
   "outputs": [
    {
     "name": "stdout",
     "output_type": "stream",
     "text": [
      "[[ 0  0 -2]\n",
      " [ 0 -5  0]\n",
      " [ 1  0  0]]\n"
     ]
    }
   ],
   "source": [
    "ar = ar2 - ar1\n",
    "print(ar)"
   ]
  },
  {
   "cell_type": "markdown",
   "id": "0b3dabf1-59af-4d68-9e47-cc3af677711f",
   "metadata": {},
   "source": [
    "* <b>ltiply of array </bm>"
   ]
  },
  {
   "cell_type": "code",
   "execution_count": 95,
   "id": "14fccece-b077-42c8-8b5f-37f8607b59d4",
   "metadata": {},
   "outputs": [
    {
     "name": "stdout",
     "output_type": "stream",
     "text": [
      "[[ 1  4  3]\n",
      " [16  0 36]\n",
      " [56  1  0]]\n"
     ]
    }
   ],
   "source": [
    "ar = ar1 * ar2\n",
    "print(ar)"
   ]
  },
  {
   "cell_type": "code",
   "execution_count": 96,
   "id": "83740507-6fb0-4f71-ab30-53c62b00b6fb",
   "metadata": {},
   "outputs": [
    {
     "name": "stdout",
     "output_type": "stream",
     "text": [
      "[[ 2  4  6]\n",
      " [ 8 10 12]\n",
      " [14  2  0]]\n"
     ]
    }
   ],
   "source": [
    "ar = 2 * ar1\n",
    "print(ar)"
   ]
  },
  {
   "cell_type": "markdown",
   "id": "e18ab563-f78b-45fe-ae7e-32a64c844344",
   "metadata": {},
   "source": [
    "* <b>division of array </bm>"
   ]
  },
  {
   "cell_type": "code",
   "execution_count": 97,
   "id": "f38b71e4-8a66-4df4-8da5-292815088269",
   "metadata": {},
   "outputs": [
    {
     "name": "stdout",
     "output_type": "stream",
     "text": [
      "[[1.    1.    3.   ]\n",
      " [1.      inf 1.   ]\n",
      " [0.875 1.      nan]]\n"
     ]
    },
    {
     "name": "stderr",
     "output_type": "stream",
     "text": [
      "C:\\Users\\rajen\\AppData\\Local\\Temp\\ipykernel_1828\\3445177483.py:1: RuntimeWarning: divide by zero encountered in divide\n",
      "  ar = ar1 / ar2\n",
      "C:\\Users\\rajen\\AppData\\Local\\Temp\\ipykernel_1828\\3445177483.py:1: RuntimeWarning: invalid value encountered in divide\n",
      "  ar = ar1 / ar2\n"
     ]
    }
   ],
   "source": [
    "ar = ar1 / ar2\n",
    "print(ar)"
   ]
  },
  {
   "cell_type": "code",
   "execution_count": 98,
   "id": "057c44f2-b8bd-4f75-838f-9348f175144b",
   "metadata": {},
   "outputs": [
    {
     "name": "stdout",
     "output_type": "stream",
     "text": [
      "[[1.         1.         0.33333333]\n",
      " [1.         0.         1.        ]\n",
      " [1.14285714 1.                nan]]\n"
     ]
    },
    {
     "name": "stderr",
     "output_type": "stream",
     "text": [
      "C:\\Users\\rajen\\AppData\\Local\\Temp\\ipykernel_1828\\557195517.py:1: RuntimeWarning: invalid value encountered in divide\n",
      "  ar = ar2 / ar1\n"
     ]
    }
   ],
   "source": [
    "ar = ar2 / ar1\n",
    "print(ar)"
   ]
  },
  {
   "cell_type": "markdown",
   "id": "120e892e-b9c8-4da9-8ea3-8442bfef9d5f",
   "metadata": {},
   "source": [
    "* <b>maximum value of array :</b>"
   ]
  },
  {
   "cell_type": "code",
   "execution_count": 99,
   "id": "b70ceb58-bdc9-4492-8893-6cc2d4bbb940",
   "metadata": {},
   "outputs": [
    {
     "name": "stdout",
     "output_type": "stream",
     "text": [
      "array :\n",
      "[[1 2 1]\n",
      " [4 0 6]\n",
      " [8 1 0]]\n",
      "max value is : 8\n"
     ]
    }
   ],
   "source": [
    "import numpy as np\n",
    "\n",
    "ar = np.array([[1,2,1],[4,0,6],[8,1,0]])\n",
    "\n",
    "print(f\"array :\\n{ar}\")\n",
    "print(f\"max value is : {ar.max()}\")"
   ]
  },
  {
   "cell_type": "markdown",
   "id": "f880924f-ac5c-4a96-9830-be970d065ac3",
   "metadata": {},
   "source": [
    "* <b>minimum value of array :</b>"
   ]
  },
  {
   "cell_type": "code",
   "execution_count": 100,
   "id": "a946e3de-3859-4d52-b517-46e30877b04f",
   "metadata": {},
   "outputs": [
    {
     "name": "stdout",
     "output_type": "stream",
     "text": [
      "array :\n",
      "[[1 2 1]\n",
      " [4 0 6]\n",
      " [8 1 0]]\n",
      "max value is : 0\n"
     ]
    }
   ],
   "source": [
    "import numpy as np\n",
    "\n",
    "ar = np.array([[1,2,1],[4,0,6],[8,1,0]])\n",
    "\n",
    "print(f\"array :\\n{ar}\")\n",
    "print(f\"max value is : {ar.min()}\")"
   ]
  },
  {
   "cell_type": "markdown",
   "id": "9c7e5f3b-e983-450b-aa2f-154013aed8ed",
   "metadata": {},
   "source": [
    "* <b>sort of array :</b>"
   ]
  },
  {
   "cell_type": "code",
   "execution_count": 101,
   "id": "901bf9be-b56e-4131-82b4-082c8542a9a5",
   "metadata": {},
   "outputs": [
    {
     "name": "stdout",
     "output_type": "stream",
     "text": [
      "array :\n",
      "[10 13 12  9  4  7]\n",
      "sort array is : [ 4  7  9 10 12 13]\n"
     ]
    }
   ],
   "source": [
    "import numpy as np\n",
    "\n",
    "ar = np.array([10,13,12,9,4,7])\n",
    "\n",
    "print(f\"array :\\n{ar}\")\n",
    "print(f\"sort array is : {np.sort(ar)}\")"
   ]
  },
  {
   "cell_type": "code",
   "execution_count": 102,
   "id": "8e2fec6e-08aa-426b-9bc1-4392dc812381",
   "metadata": {},
   "outputs": [
    {
     "name": "stdout",
     "output_type": "stream",
     "text": [
      "array :\n",
      "[[1 2 1]\n",
      " [4 0 6]\n",
      " [8 1 0]]\n",
      "sort array is : [[1 1 2]\n",
      " [0 4 6]\n",
      " [0 1 8]]\n"
     ]
    }
   ],
   "source": [
    "import numpy as np\n",
    "\n",
    "ar = np.array([[1,2,1],[4,0,6],[8,1,0]])\n",
    "\n",
    "print(f\"array :\\n{ar}\")\n",
    "print(f\"sort array is : {np.sort(ar)}\")"
   ]
  },
  {
   "cell_type": "markdown",
   "id": "d6b1da27-0121-4421-89dc-9c7259273410",
   "metadata": {},
   "source": [
    "* <b>total number of non-zero elements in array :</b>"
   ]
  },
  {
   "cell_type": "code",
   "execution_count": 103,
   "id": "d471c78c-0d99-41e3-9251-6c8d37319a0d",
   "metadata": {},
   "outputs": [
    {
     "name": "stdout",
     "output_type": "stream",
     "text": [
      "[[11 12 13]\n",
      " [ 0 14  0]\n",
      " [21  0 14]]\n",
      "total number of non-zero elements in array : 6\n"
     ]
    }
   ],
   "source": [
    "import numpy as np\n",
    "\n",
    "ar3 = np.array([[11,12,13],\n",
    "               [0,14,0],\n",
    "               [21,0,14]])\n",
    "print(ar3)\n",
    "# count non-zero elements\n",
    "print(\"total number of non-zero elements in array :\",np.count_nonzero(ar3))"
   ]
  },
  {
   "cell_type": "markdown",
   "id": "ceeff523-8502-469e-ba27-223a0f9814ad",
   "metadata": {},
   "source": [
    "* <b>find index of elements with conditions</b>"
   ]
  },
  {
   "cell_type": "code",
   "execution_count": 104,
   "id": "19f61a41-f969-4574-abaa-50b361a9c066",
   "metadata": {},
   "outputs": [
    {
     "name": "stdout",
     "output_type": "stream",
     "text": [
      "(array([1, 1, 2], dtype=int64), array([1, 2, 0], dtype=int64))\n",
      "<class 'tuple'>\n"
     ]
    }
   ],
   "source": [
    "import numpy as np\n",
    "ar1 = np.array([[1,2,3],[4,5,6],[7,1,0]])\n",
    "\n",
    "# find index of elements with conditions\n",
    "max_than_4 = np.where(ar1>4)\n",
    "print(max_than_4)\n",
    "\n",
    "# hint: array(axis 0->[1,1,2] axis 1->[1,2,0])\n",
    "print(type(max_than_4))"
   ]
  },
  {
   "cell_type": "code",
   "execution_count": 105,
   "id": "e0595419-9777-4af1-b9d4-5f5ed3cd15fd",
   "metadata": {},
   "outputs": [
    {
     "name": "stdout",
     "output_type": "stream",
     "text": [
      "[[1 1]\n",
      " [1 2]\n",
      " [2 0]]\n",
      "<class 'numpy.ndarray'>\n"
     ]
    }
   ],
   "source": [
    "import numpy as np\n",
    "\n",
    "ar1 = np.array([[1,2,3],[4,5,6],[7,1,0]])\n",
    "\n",
    "max_than_4 = np.argwhere(ar1>4)\n",
    "print(max_than_4)\n",
    "\n",
    "# hint: array(axis 0->[1,1,2] axis 1->[1,2,0])\n",
    "print(type(max_than_4))"
   ]
  },
  {
   "cell_type": "markdown",
   "id": "dafa20bf-8415-4c27-915b-9c28e516ce6b",
   "metadata": {},
   "source": [
    "<b>WAP to show that numpy module consume less memories then normal coding</b>"
   ]
  },
  {
   "cell_type": "code",
   "execution_count": 106,
   "id": "46b23080-9dcb-4065-957e-77bac221ad4e",
   "metadata": {},
   "outputs": [
    {
     "name": "stdout",
     "output_type": "stream",
     "text": [
      "112\n",
      "16\n",
      "16\n"
     ]
    }
   ],
   "source": [
    "import sys\n",
    "import numpy as np\n",
    "\n",
    "py_ar = [0,4,55,2]\n",
    "np_ar = np.array([0,4,55,2])\n",
    "\n",
    "# get total size  of it using  sys.getsizeof(args) multiply by number of items\n",
    "x = sys.getsizeof(1) * len(py_ar)\n",
    "print(x)\n",
    "\n",
    "# get total size  of it using  array.itemsize(args) multiply by number of items\n",
    "y = np_ar.itemsize * np_ar.size\n",
    "print(y)\n",
    "\n",
    "# get total size  of it using  array.itemsize(args) multiply by number of items\n",
    "y = np_ar.itemsize * len(np_ar)\n",
    "print(y)"
   ]
  },
  {
   "cell_type": "markdown",
   "id": "8adf59db-5305-4074-af84-387550ea3caf",
   "metadata": {},
   "source": [
    "### Quick revise some other numpy features:"
   ]
  },
  {
   "cell_type": "markdown",
   "id": "783d41ab-ddb4-44f0-a8fb-10a8a5f0f39a",
   "metadata": {},
   "source": [
    "#### indexing in array:"
   ]
  },
  {
   "cell_type": "markdown",
   "id": "a11609ea-0007-40ac-81f5-b93ad4d8ad47",
   "metadata": {},
   "source": [
    "* ***positive index:***"
   ]
  },
  {
   "cell_type": "markdown",
   "id": "0862d7a4-8ed4-4075-a7d0-01641f09c3cf",
   "metadata": {},
   "source": [
    "* 1D array elements using index/ traditional method :"
   ]
  },
  {
   "cell_type": "code",
   "execution_count": 107,
   "id": "fc3bc54d-d7ce-4fc4-8bfc-6344dcabdd72",
   "metadata": {},
   "outputs": [
    {
     "name": "stdout",
     "output_type": "stream",
     "text": [
      "[1 2 3 4 5]\n",
      "1\n",
      "first element =  1\n",
      "third element =  3\n"
     ]
    }
   ],
   "source": [
    "import numpy as np\n",
    "\n",
    "ar1 = np.array([1,2,3,4,5])\n",
    "print(ar1)\n",
    "print(ar1.ndim)\n",
    "print('first element = ',ar1[0])\n",
    "print('third element = ',ar1[2])"
   ]
  },
  {
   "cell_type": "markdown",
   "id": "9e65da7e-3e93-4af1-9b83-ab2a7a652fa8",
   "metadata": {},
   "source": [
    "* 2D array elements using index/ traditional method :"
   ]
  },
  {
   "cell_type": "code",
   "execution_count": 108,
   "id": "91b21f7d-6acf-4aca-881e-a2be350ab615",
   "metadata": {},
   "outputs": [
    {
     "name": "stdout",
     "output_type": "stream",
     "text": [
      "[[ 1  2  3  4  5]\n",
      " [ 6  7  8  9 10]]\n",
      "dimention of array :  2\n",
      "3rd row 2nd element :  8\n",
      "2nd row 5th element :  10\n"
     ]
    }
   ],
   "source": [
    "import numpy as np\n",
    "\n",
    "ar2 = np.array([[1,2,3,4,5],[6,7,8,9,10]])\n",
    "\n",
    "print(ar2)\n",
    "print(\"dimention of array : \",ar2.ndim)\n",
    "\n",
    "print('3rd row 2nd element : ',ar2[1,2])  # array_name[col,row]\n",
    "print('2nd row 5th element : ',ar2[1,4])  # Access the element on the 2nd row, 5th column"
   ]
  },
  {
   "cell_type": "markdown",
   "id": "63cf2f1d-584e-478e-bb01-d9dcfde6cf03",
   "metadata": {},
   "source": [
    "* 3D array elements using index/ traditional method :"
   ]
  },
  {
   "cell_type": "code",
   "execution_count": 109,
   "id": "369bd121-39d2-4d90-8c9e-50046d28f5ed",
   "metadata": {},
   "outputs": [
    {
     "name": "stdout",
     "output_type": "stream",
     "text": [
      "[[[ 1  2  3]\n",
      "  [ 4  5  6]]\n",
      "\n",
      " [[ 7  8  9]\n",
      "  [10 11 12]]]\n",
      " third element of the second array of the first array 6\n"
     ]
    }
   ],
   "source": [
    "import numpy as np\n",
    "\n",
    "ar3 = np.array([[[1, 2, 3], [4, 5, 6]], [[7, 8, 9], [10, 11, 12]]])\n",
    "\n",
    "print(ar3)\n",
    "print(' third element of the second array of the first array',ar3[0, 1, 2])"
   ]
  },
  {
   "cell_type": "markdown",
   "id": "c48b69ab-3af6-4473-8e66-58976e55f63d",
   "metadata": {},
   "source": [
    "<pre><b>Array : </b>\n",
    "    \n",
    "[[[ 1  2  3]\r\n",
    "  [ 4  5   6]\r\n",
    "\r\n",
    " [[ 7  8   9]\r",
    " \n",
    "  [10 1 1 12\n",
    "</pre>]]]\n",
    "\n",
    "***Example Explained***\n",
    "<br> arr[0, 1, 2] prints the value 6.\n",
    "<br>And this is why:\n",
    "<br>The first number represents the first dimension, which contains two arrays:\n",
    "<br>[[1, 2, 3], [4, 5, 6]]\n",
    "<br>and:\n",
    "<br>[[7, 8, 9], [10, 11, 12]]\n",
    "<br>Since we selected 0, we are left with the first array:\n",
    "<br>[[1, 2, 3], [4, 5, 6]]\n",
    "<br><br>The second number represents the second dimension, which also contains two arrays:\n",
    "<br>[1, 2, 3]\n",
    "<br>and:\n",
    "<br>[4, 5, 6]\n",
    "<br>Since we selected 1, we are left with the second array:\n",
    "<br>[4, 5, 6]\n",
    "<br>\n",
    "<br>The third number represents the third dimension, which contains three values:\n",
    "<br>4\n",
    "<br>5\n",
    "<br>6\n",
    "<br>Since we selected 2, we end up with the third value:\n",
    "<br>6"
   ]
  },
  {
   "cell_type": "markdown",
   "id": "d2f90d7e-6892-4bec-bb59-62bda1b5720a",
   "metadata": {},
   "source": [
    "* ***Negative index :***"
   ]
  },
  {
   "cell_type": "code",
   "execution_count": 110,
   "id": "71fc9cc4-9934-4f5e-93b2-acf67e431c4c",
   "metadata": {},
   "outputs": [
    {
     "name": "stdout",
     "output_type": "stream",
     "text": [
      "[[ 1  2  3  4  5]\n",
      " [ 6  7  8  9 10]]\n",
      "Last element from 2nd dim:  10\n"
     ]
    }
   ],
   "source": [
    "import numpy as np\n",
    "\n",
    "arr = np.array([[1,2,3,4,5], [6,7,8,9,10]])\n",
    "\n",
    "print(arr)\n",
    "print('Last element from 2nd dim: ', arr[1, -1])"
   ]
  },
  {
   "cell_type": "markdown",
   "id": "a3f92e65-e3c9-4ae2-a9bf-a2548fb453e3",
   "metadata": {},
   "source": [
    "# Slicing arrays-\n",
    "Slicing in python means taking elements from one given index to another given index.<br>\n",
    "We pass slice instead of index like this: [start:end].<br>\n",
    "We can also define the step, like this: [start:end:step].<br>\n",
    "If we don't pass start its considered 0<br>\n",
    "If we don't pass end its considered length of array in that dimension<br>\n",
    "If we don't pass step its considered 1"
   ]
  },
  {
   "cell_type": "markdown",
   "id": "994e43b1-2432-4253-9b84-eac67293fda8",
   "metadata": {},
   "source": [
    "<b> example: </b>"
   ]
  },
  {
   "cell_type": "code",
   "execution_count": 111,
   "id": "5f916526-7f7e-42d0-bdca-7527269af0c2",
   "metadata": {},
   "outputs": [
    {
     "name": "stdout",
     "output_type": "stream",
     "text": [
      "array =  [0 1 2 3 4 5 6 7]\n",
      "array[1:5] [1 2 3 4]\n",
      "array[:5] [0 1 2 3 4]\n",
      "array[4:] [4 5 6 7]\n",
      "array[1:6:2] [1 3 5]\n",
      "array[-3:-1] [5 6]\n"
     ]
    }
   ],
   "source": [
    "import numpy as np\n",
    "\n",
    "arr = np.array([0, 1, 2, 3, 4, 5, 6, 7])\n",
    "print('array = ',arr)\n",
    "print('array[1:5]',arr[1:5])\n",
    "print('array[:5]',arr[:5])\n",
    "print('array[4:]',arr[4:])\n",
    "print('array[1:6:2]',arr[1:6:2])\n",
    "print('array[-3:-1]',arr[-3:-1])"
   ]
  },
  {
   "cell_type": "markdown",
   "id": "bece2e61-03b9-44c6-8873-1d94042d0051",
   "metadata": {},
   "source": [
    "<b>NOTE: </b>when you leave empty of any index in this method that means 0 from start/end."
   ]
  },
  {
   "cell_type": "markdown",
   "id": "f4429cd7-8b19-49c7-b1ab-20d5c62e7a35",
   "metadata": {},
   "source": [
    "### ***note :*** slicing or split array using function see later"
   ]
  },
  {
   "cell_type": "markdown",
   "id": "63f949bb-bb09-45a4-956a-d02482b07a5c",
   "metadata": {},
   "source": [
    "### NumPy Array Copy vs View:\n",
    "***The Difference Between Copy and View -***<br>\n",
    "<br>1. The main difference between a copy and a view of an array is that the copy is a new array, and the view is just a view of the original array.\n",
    "<br>2. The copy owns the data and any changes made to the copy will not affect original array, and any changes made to the original array will not affect the copy.\n",
    "<br>3. The view does not own the data and any changes made to the view will affect the original array, and any changes made to the original array will affect the view."
   ]
  },
  {
   "cell_type": "markdown",
   "id": "a4383fa1-2225-45bd-a83b-c3aed8880058",
   "metadata": {},
   "source": [
    "* <b>COPY : </b> Make a new array as copy, change the values in array, and display both arrays."
   ]
  },
  {
   "cell_type": "code",
   "execution_count": 112,
   "id": "36cfaed2-fda8-48b1-a158-63fc4093b94b",
   "metadata": {},
   "outputs": [
    {
     "name": "stdout",
     "output_type": "stream",
     "text": [
      "[42  2  3  4  5]\n",
      "[1 2 3 4 5]\n"
     ]
    }
   ],
   "source": [
    "import numpy as np\n",
    "\n",
    "arr = np.array([1, 2, 3, 4, 5])\n",
    "x = arr.copy()\n",
    "\n",
    "# change value in original array\n",
    "arr[0] = 42\n",
    "print(arr)\n",
    "print(x)"
   ]
  },
  {
   "cell_type": "code",
   "execution_count": 113,
   "id": "5ab69056-b010-4804-b612-d2ea593874b8",
   "metadata": {},
   "outputs": [
    {
     "name": "stdout",
     "output_type": "stream",
     "text": [
      "[1 2 3 4 5]\n",
      "[42  2  3  4  5]\n"
     ]
    }
   ],
   "source": [
    "import numpy as np\n",
    "\n",
    "arr = np.array([1, 2, 3, 4, 5])\n",
    "x = arr.copy()\n",
    "\n",
    "#  make change in copy\n",
    "x[0] = 42\n",
    "print(arr)\n",
    "print(x)"
   ]
  },
  {
   "cell_type": "markdown",
   "id": "aa415b15-658e-4e7f-a787-19fcc8f3474d",
   "metadata": {},
   "source": [
    "* <b> VIEW : </b> Make a view, change the values array, and display both arrays:"
   ]
  },
  {
   "cell_type": "code",
   "execution_count": 114,
   "id": "e48e8c97-a081-4422-a2a3-ad65fd0717c3",
   "metadata": {},
   "outputs": [
    {
     "name": "stdout",
     "output_type": "stream",
     "text": [
      "[42  2  3  4  5]\n",
      "[42  2  3  4  5]\n"
     ]
    }
   ],
   "source": [
    "import numpy as np\n",
    "\n",
    "arr = np.array([1, 2, 3, 4, 5])\n",
    "x = arr.view()\n",
    "\n",
    "# change value in original array\n",
    "arr[0] = 42\n",
    "print(arr)\n",
    "print(x)"
   ]
  },
  {
   "cell_type": "code",
   "execution_count": 115,
   "id": "b4ff1b72-e3e6-4a1e-a9c8-43fbf3ea4419",
   "metadata": {},
   "outputs": [
    {
     "name": "stdout",
     "output_type": "stream",
     "text": [
      "[42  2  3  4  5]\n",
      "[42  2  3  4  5]\n"
     ]
    }
   ],
   "source": [
    "import numpy as np\n",
    "\n",
    "arr = np.array([1, 2, 3, 4, 5])\n",
    "x = arr.view()\n",
    "\n",
    "#  make change in copy\n",
    "x[0] = 42\n",
    "print(arr)\n",
    "print(x)"
   ]
  },
  {
   "cell_type": "markdown",
   "id": "c096fbad-a3fc-47b1-be21-a8551795d55a",
   "metadata": {},
   "source": [
    "#### Check if Array Owns its Data\n",
    "As mentioned above, copies owns the data, and views does not own the data, but how can we check this?\n",
    "<br>\n",
    "Every NumPy array has the attribute base that returns None if the array owns the data.\n",
    "Otherwise, the base  attribute refers to the original object."
   ]
  },
  {
   "cell_type": "code",
   "execution_count": 116,
   "id": "80e3ed1b-f0f8-48e0-bf14-a266ded787f1",
   "metadata": {},
   "outputs": [
    {
     "name": "stdout",
     "output_type": "stream",
     "text": [
      "None\n",
      "[1 2 3 4 5]\n"
     ]
    }
   ],
   "source": [
    "import numpy as np\n",
    "\n",
    "arr = np.array([1, 2, 3, 4, 5])\n",
    "\n",
    "x = arr.copy()\n",
    "y = arr.view()\n",
    "\n",
    "print(x.base)\n",
    "print(y.base)"
   ]
  },
  {
   "cell_type": "markdown",
   "id": "c9d3b176-9810-4309-9b8e-101c8a241952",
   "metadata": {},
   "source": [
    "let's revise shape() and reshape() function<br>\n",
    "***What does the shape tuple represent?***<br>\n",
    "Integers at every index tells about the number of elements the corresponding dimension has\n",
    "In the example above at index-4 we have value 4, so we can say that 5th ( 4 + 1 th) dimension has 4 elements."
   ]
  },
  {
   "cell_type": "markdown",
   "id": "0755d5e6-9839-4387-9a11-8a18807ba564",
   "metadata": {},
   "source": [
    "#### Example :"
   ]
  },
  {
   "cell_type": "markdown",
   "id": "769a7349-f27e-47c7-80cb-dd5396d23133",
   "metadata": {},
   "source": [
    "* Print the shape of a 2-D array:"
   ]
  },
  {
   "cell_type": "code",
   "execution_count": 117,
   "id": "03f125a5-04c5-4ad9-a8b9-baf4b4da2934",
   "metadata": {},
   "outputs": [
    {
     "name": "stdout",
     "output_type": "stream",
     "text": [
      "(2, 4)\n"
     ]
    }
   ],
   "source": [
    "import numpy as np\n",
    "\n",
    "arr = np.array([[1, 2, 3, 4], [5, 6, 7, 8]])\n",
    "print(arr.shape)"
   ]
  },
  {
   "cell_type": "markdown",
   "id": "afa9bca6-93fa-4fa6-911f-c22d94bfcf99",
   "metadata": {},
   "source": [
    "* Reshape From 1-D to 2-D array:"
   ]
  },
  {
   "cell_type": "code",
   "execution_count": 118,
   "id": "fc765148-a89b-4ad8-9987-7b451c860f00",
   "metadata": {},
   "outputs": [
    {
     "name": "stdout",
     "output_type": "stream",
     "text": [
      "[[ 1  2  3]\n",
      " [ 4  5  6]\n",
      " [ 7  8  9]\n",
      " [10 11 12]]\n"
     ]
    }
   ],
   "source": [
    "import numpy as np\n",
    "\n",
    "arr = np.array([1, 2, 3, 4, 5, 6, 7, 8, 9, 10, 11, 12])\n",
    "newarr = arr.reshape(4, 3)\n",
    "print(newarr)"
   ]
  },
  {
   "cell_type": "markdown",
   "id": "de6b7bcb-9239-492c-837e-47563f80affd",
   "metadata": {},
   "source": [
    "* Reshape From 1-D to 2-D:"
   ]
  },
  {
   "cell_type": "code",
   "execution_count": 119,
   "id": "3c16ef80-dfec-4b9a-b19d-1c16715fe895",
   "metadata": {},
   "outputs": [
    {
     "name": "stdout",
     "output_type": "stream",
     "text": [
      "[[[ 1  2]\n",
      "  [ 3  4]\n",
      "  [ 5  6]]\n",
      "\n",
      " [[ 7  8]\n",
      "  [ 9 10]\n",
      "  [11 12]]]\n"
     ]
    }
   ],
   "source": [
    "import numpy as np\n",
    "\n",
    "arr = np.array([1, 2, 3, 4, 5, 6, 7, 8, 9, 10, 11, 12])\n",
    "newarr = arr.reshape(2, 3, 2)\n",
    "# The outermost dimension will have 2 arrays that contains 3 arrays, each with 2 elements:\n",
    "print(newarr)"
   ]
  },
  {
   "cell_type": "markdown",
   "id": "95b09cbd-76f7-4632-bea4-66f279f449b8",
   "metadata": {},
   "source": [
    "***Unknown Dimension :***\n",
    "You are allowed to have one \"unknown\" dimension.\n",
    "Meaning that you do not have to specify an exact number for one of the dimensions in the reshape method.\n",
    "Pass -1 as the value, and NumPy will calculate this number for you."
   ]
  },
  {
   "cell_type": "markdown",
   "id": "938b4a71-1012-4529-858c-f998d411ed75",
   "metadata": {},
   "source": [
    "* Convert 1D array with 8 elements to 3D array with 2x2 elements:"
   ]
  },
  {
   "cell_type": "code",
   "execution_count": 120,
   "id": "21ca91c2-0dbd-490f-9201-14c3a77d5d71",
   "metadata": {},
   "outputs": [
    {
     "name": "stdout",
     "output_type": "stream",
     "text": [
      "[[[1 2]\n",
      "  [3 4]]\n",
      "\n",
      " [[5 6]\n",
      "  [7 8]]]\n"
     ]
    }
   ],
   "source": [
    "import numpy as np\n",
    "\n",
    "arr = np.array([1, 2, 3, 4, 5, 6, 7, 8])\n",
    "newarr = arr.reshape(2, 2, -1)\n",
    "\n",
    "print(newarr)"
   ]
  },
  {
   "cell_type": "markdown",
   "id": "d99b7f8a-fb7c-4db6-9615-ee404f4f944f",
   "metadata": {},
   "source": [
    "***Flattening the arrays :*** Flattening array means converting a multidimensional array into a 1D array. We can use reshape(-1) to do this."
   ]
  },
  {
   "cell_type": "code",
   "execution_count": 121,
   "id": "45646840-d585-4c3a-b895-38282497127a",
   "metadata": {},
   "outputs": [
    {
     "name": "stdout",
     "output_type": "stream",
     "text": [
      "[1 2 3 4 5 6]\n"
     ]
    }
   ],
   "source": [
    "import numpy as np\n",
    "\n",
    "arr = np.array([[1, 2, 3], [4, 5, 6]])\n",
    "newarr = arr.reshape(-1)\n",
    "\n",
    "print(newarr)"
   ]
  },
  {
   "cell_type": "markdown",
   "id": "cd19ccaa-6f3d-4611-9e5c-d6ff1e067ba5",
   "metadata": {},
   "source": [
    "***Note :*** There are a lot of functions for changing the shapes of arrays in numpy flatten, ravel and also for rearranging the elements rot90, flip, fliplr, flipud etc. These fall under Intermediate to Advanced section of numpy."
   ]
  },
  {
   "cell_type": "markdown",
   "id": "cc4c41ec-6afd-40ec-8591-561fceae5a73",
   "metadata": {},
   "source": [
    "### Iterating Arrays\n",
    "Iterating means going through elements one by one.<br>\n",
    "As we deal with multi-dimensional arrays in numpy, we can do this using basic for loop of python.<br>\n",
    "If we iterate on a 1-D array it will go through each element one by one."
   ]
  },
  {
   "cell_type": "markdown",
   "id": "23fcf262-7248-49d4-8b4c-a1002d78191c",
   "metadata": {},
   "source": [
    "* Iterate on the elements of the following 1-D array:"
   ]
  },
  {
   "cell_type": "code",
   "execution_count": 122,
   "id": "5bec5158-bc1d-4ce0-84f3-fd70ec9f73cf",
   "metadata": {},
   "outputs": [
    {
     "name": "stdout",
     "output_type": "stream",
     "text": [
      "1\n",
      "2\n",
      "3\n"
     ]
    }
   ],
   "source": [
    "import numpy as np\n",
    "\n",
    "arr = np.array([1, 2, 3])\n",
    "\n",
    "for x in arr:\n",
    "    print(x)"
   ]
  },
  {
   "cell_type": "markdown",
   "id": "69f3824b-212d-4f93-ae73-e6437454bafc",
   "metadata": {},
   "source": [
    "* Iterate on the elements of the following 2-D array:"
   ]
  },
  {
   "cell_type": "code",
   "execution_count": 123,
   "id": "4692f7ad-e095-4cb5-9d6e-1dde0745285e",
   "metadata": {},
   "outputs": [
    {
     "name": "stdout",
     "output_type": "stream",
     "text": [
      "[1 2 3]\n",
      "[4 5 6]\n"
     ]
    }
   ],
   "source": [
    "import numpy as np\n",
    "\n",
    "arr = np.array([[1, 2, 3], [4, 5, 6]])\n",
    "\n",
    "for x in arr:\n",
    "    print(x)"
   ]
  },
  {
   "cell_type": "markdown",
   "id": "a85c0301-b436-4f5c-a8cd-e31d95030b3e",
   "metadata": {},
   "source": [
    "* Iterate on the elements of the following 3-D array:"
   ]
  },
  {
   "cell_type": "code",
   "execution_count": 124,
   "id": "adce5ab4-9037-498a-8e8a-fdd7e2aba772",
   "metadata": {},
   "outputs": [
    {
     "name": "stdout",
     "output_type": "stream",
     "text": [
      "[[1 2 3]\n",
      " [4 5 6]]\n",
      "[[ 7  8  9]\n",
      " [10 11 12]]\n"
     ]
    }
   ],
   "source": [
    "import numpy as np\n",
    "\n",
    "arr = np.array([[[1, 2, 3], [4, 5, 6]], [[7, 8, 9], [10, 11, 12]]])\n",
    "for x in arr:\n",
    "    print(x)"
   ]
  },
  {
   "cell_type": "markdown",
   "id": "df265301-e94c-4f26-9b3a-b5fdf7f27186",
   "metadata": {},
   "source": [
    "<b>more : </b> If we iterate on a n-D array it will go through n-1th dimension one by one."
   ]
  },
  {
   "cell_type": "markdown",
   "id": "0967fabb-90eb-4953-bc42-40193031dbb4",
   "metadata": {},
   "source": [
    "* To return the actual values, the scalars, we have to iterate the arrays in each dimension.\n",
    "* Iterate on each scalar element of the 2-D array:"
   ]
  },
  {
   "cell_type": "code",
   "execution_count": 125,
   "id": "142f54dc-05f3-485f-9989-fddfff41ac68",
   "metadata": {},
   "outputs": [
    {
     "name": "stdout",
     "output_type": "stream",
     "text": [
      "1\n",
      "2\n",
      "3\n",
      "4\n",
      "5\n",
      "6\n"
     ]
    }
   ],
   "source": [
    "import numpy as np\n",
    "\n",
    "arr = np.array([[1, 2, 3], [4, 5, 6]])\n",
    "\n",
    "for x in arr:\n",
    "    for y in x:\n",
    "        print(y)"
   ]
  },
  {
   "cell_type": "markdown",
   "id": "cb687abb-3196-4435-b838-60446d159105",
   "metadata": {},
   "source": [
    "* n a 3-D array it will go through all the 2-D arrays.\n",
    "* Iterate on the elements of the following 3-D array:"
   ]
  },
  {
   "cell_type": "code",
   "execution_count": 126,
   "id": "70b1357c-a81f-41dd-b8f4-7723a192f0e5",
   "metadata": {},
   "outputs": [
    {
     "name": "stdout",
     "output_type": "stream",
     "text": [
      "[[1 2 3]\n",
      " [4 5 6]]\n",
      "[[ 7  8  9]\n",
      " [10 11 12]]\n"
     ]
    }
   ],
   "source": [
    "import numpy as np\n",
    "\n",
    "arr = np.array([[[1, 2, 3], [4, 5, 6]], [[7, 8, 9], [10, 11, 12]]])\n",
    "for x in arr:\n",
    "    print(x)"
   ]
  },
  {
   "cell_type": "markdown",
   "id": "26f8da2a-80a7-4e91-b1d4-7703acd006db",
   "metadata": {},
   "source": [
    "* To return the actual values, the scalars, we have to iterate the arrays in each dimension.\n",
    "* Iterate down to the scalars:"
   ]
  },
  {
   "cell_type": "code",
   "execution_count": 127,
   "id": "f928d445-3fcf-4304-9237-db8ca29cc7ab",
   "metadata": {},
   "outputs": [
    {
     "name": "stdout",
     "output_type": "stream",
     "text": [
      "1\n",
      "2\n",
      "3\n",
      "4\n",
      "5\n",
      "6\n",
      "7\n",
      "8\n",
      "9\n",
      "10\n",
      "11\n",
      "12\n"
     ]
    }
   ],
   "source": [
    "import numpy as np\n",
    "\n",
    "arr = np.array([[[1, 2, 3], [4, 5, 6]], [[7, 8, 9], [10, 11, 12]]])\n",
    "\n",
    "for x in arr:\n",
    "    for y in x:\n",
    "        for z in y:\n",
    "            print(z)"
   ]
  },
  {
   "cell_type": "markdown",
   "id": "fd38a658-c292-459f-82b5-21df5040bcf8",
   "metadata": {},
   "source": [
    "### Iterating Arrays Using nditer()\n",
    "The function nditer() is a helping function that can be used from very basic to very advanced iterations. It solves some basic issues which we face in iteration, lets go through it with examples.\n",
    "\n",
    "***Iterating on Each Scalar Element -***\n",
    "In basic for loops, iterating through each scalar of an array we need to use n for loops which can be difficult to write for arrays with very high dimensionality."
   ]
  },
  {
   "cell_type": "markdown",
   "id": "78e9e652-ee33-4f42-9c6a-2ee72f7c1384",
   "metadata": {},
   "source": [
    "* Iterate through the following 2-D array:"
   ]
  },
  {
   "cell_type": "code",
   "execution_count": 128,
   "id": "b75a3d00-1b41-47d0-9996-689d7bbdb6db",
   "metadata": {},
   "outputs": [
    {
     "name": "stdout",
     "output_type": "stream",
     "text": [
      "0\n",
      "2\n",
      "1\n",
      "3\n",
      "4\n",
      "5\n"
     ]
    }
   ],
   "source": [
    "import numpy as np\n",
    "\n",
    "arr = np.array([[0,2,1],[3,4,5]])\n",
    "for x in np.nditer(arr):\n",
    "    print(x)"
   ]
  },
  {
   "cell_type": "markdown",
   "id": "4cf65cfb-7d21-4bcf-9091-9d86f1d1aea9",
   "metadata": {},
   "source": [
    "* Iterate through the following 3-D array:"
   ]
  },
  {
   "cell_type": "code",
   "execution_count": 129,
   "id": "24e881ae-9143-4e18-8562-75e791379bd8",
   "metadata": {},
   "outputs": [
    {
     "name": "stdout",
     "output_type": "stream",
     "text": [
      "1\n",
      "2\n",
      "3\n",
      "4\n",
      "5\n",
      "6\n",
      "7\n",
      "8\n"
     ]
    }
   ],
   "source": [
    "import numpy as np\n",
    "\n",
    "arr = np.array([[[1, 2], [3, 4]], [[5, 6], [7, 8]]])\n",
    "for x in np.nditer(arr):\n",
    "    print(x)"
   ]
  },
  {
   "cell_type": "markdown",
   "id": "253719b5-f007-45c2-9331-d81c1e55199a",
   "metadata": {},
   "source": [
    "* ##### Iterating Array With Different Data Types\n",
    "We can use op_dtypes argument and pass it the expected datatype to change the datatype of elements while iterating.\n",
    "NumPy does not change the data type of the element in-place (where the element is in array) so it needs some other space to perform this action, that extra space is called buffer, and in order to enable it in nditer() we pass flags=['buffered']."
   ]
  },
  {
   "cell_type": "markdown",
   "id": "75b9c5b1-5570-4991-94b5-63b7698d1331",
   "metadata": {},
   "source": [
    "* Iterate through the array as a string:"
   ]
  },
  {
   "cell_type": "code",
   "execution_count": 130,
   "id": "9624b5cc-7c8f-4379-87a7-54a04e5318fa",
   "metadata": {},
   "outputs": [
    {
     "name": "stdout",
     "output_type": "stream",
     "text": [
      "b'1'\n",
      "b'2'\n",
      "b'3'\n"
     ]
    }
   ],
   "source": [
    "import numpy as np\n",
    "\n",
    "arr = np.array([1, 2, 3])\n",
    "for x in np.nditer(arr, flags=['buffered'], op_dtypes=['S']):\n",
    "    print(x)"
   ]
  },
  {
   "cell_type": "markdown",
   "id": "35a2ff1e-bd64-442c-9447-65b6d96988c9",
   "metadata": {},
   "source": [
    "* ##### Iterating With Different Step Size\n",
    "We can use filtering and followed by iteration.<br>\n",
    "Iterate through every scalar element of the 2D array skipping 1 element:"
   ]
  },
  {
   "cell_type": "code",
   "execution_count": 131,
   "id": "c3185f29-d818-4ff3-8a76-0d0a9d115328",
   "metadata": {},
   "outputs": [
    {
     "name": "stdout",
     "output_type": "stream",
     "text": [
      "1\n",
      "3\n",
      "5\n",
      "7\n"
     ]
    }
   ],
   "source": [
    "import numpy as np\n",
    "\n",
    "arr = np.array([[1, 2, 3, 4], [5, 6, 7, 8]])\n",
    "for x in np.nditer(arr[:, ::2]):\n",
    "    print(x)"
   ]
  },
  {
   "cell_type": "code",
   "execution_count": 132,
   "id": "9ceb5e9c-8fb4-489b-90a6-7dd28b9d4577",
   "metadata": {},
   "outputs": [
    {
     "name": "stdout",
     "output_type": "stream",
     "text": [
      "0\n",
      "2\n",
      "4\n",
      "5\n",
      "7\n",
      "9\n"
     ]
    }
   ],
   "source": [
    "import numpy as np\n",
    "\n",
    "arr = np.array([[0, 1, 2, 3, 4], [5, 6, 7, 8, 9]])\n",
    "for x in np.nditer(arr[:, ::2]):\n",
    "    print(x)"
   ]
  },
  {
   "cell_type": "markdown",
   "id": "eab7a68a-a754-47a2-89fd-c11cdb3a61b1",
   "metadata": {},
   "source": [
    "* ##### Enumerated Iteration Using ndenumerate()\n",
    "Enumeration means mentioning sequence number of somethings one by one.\n",
    "<br>Sometimes we require corresponding index of the element while iterating, the ndenumerate() method can be used for those usecases."
   ]
  },
  {
   "cell_type": "markdown",
   "id": "47d17dfa-c012-4364-b8cc-1dd3ef8daa07",
   "metadata": {},
   "source": [
    "* Enumerate on following 1D arrays elements:"
   ]
  },
  {
   "cell_type": "code",
   "execution_count": 133,
   "id": "c22bc616-0d87-48dd-9f77-f8e570e9fb5a",
   "metadata": {},
   "outputs": [
    {
     "name": "stdout",
     "output_type": "stream",
     "text": [
      "(0,) 1\n",
      "(1,) 2\n",
      "(2,) 3\n"
     ]
    }
   ],
   "source": [
    "import numpy as np\n",
    "\n",
    "arr = np.array([1, 2, 3])\n",
    "\n",
    "for idx, x in np.ndenumerate(arr):\n",
    "    print(idx, x)"
   ]
  },
  {
   "cell_type": "markdown",
   "id": "14051af1-4304-459d-90ad-d696c5fd57c8",
   "metadata": {},
   "source": [
    "* Enumerate on following 2D arrays elements:"
   ]
  },
  {
   "cell_type": "code",
   "execution_count": 134,
   "id": "b2a7a0cb-f905-403b-ab86-504515427722",
   "metadata": {},
   "outputs": [
    {
     "name": "stdout",
     "output_type": "stream",
     "text": [
      "array : \n",
      " [[1 2 3 4]\n",
      " [5 6 7 8]] \n",
      "\n",
      "(0, 0) 1\n",
      "(0, 1) 2\n",
      "(0, 2) 3\n",
      "(0, 3) 4\n",
      "(1, 0) 5\n",
      "(1, 1) 6\n",
      "(1, 2) 7\n",
      "(1, 3) 8\n"
     ]
    }
   ],
   "source": [
    "import numpy as np\n",
    "\n",
    "arr = np.array([[1, 2, 3, 4], [5, 6, 7, 8]])\n",
    "\n",
    "print(\"array : \\n\", arr,\"\\n\")\n",
    "\n",
    "for idx, x in np.ndenumerate(arr):\n",
    "    print(idx, x)"
   ]
  },
  {
   "cell_type": "code",
   "execution_count": 135,
   "id": "5358b3c8-740b-46df-ab1b-dc03cb13251a",
   "metadata": {},
   "outputs": [
    {
     "name": "stdout",
     "output_type": "stream",
     "text": [
      "array : \n",
      " [[ 1  2  3  4]\n",
      " [ 5  6  7  8]\n",
      " [11 12 13 14]] \n",
      "\n",
      "(0, 0) 1\n",
      "(0, 1) 2\n",
      "(0, 2) 3\n",
      "(0, 3) 4\n",
      "(1, 0) 5\n",
      "(1, 1) 6\n",
      "(1, 2) 7\n",
      "(1, 3) 8\n",
      "(2, 0) 11\n",
      "(2, 1) 12\n",
      "(2, 2) 13\n",
      "(2, 3) 14\n"
     ]
    }
   ],
   "source": [
    "import numpy as np\n",
    "\n",
    "arr = np.array([[1, 2, 3, 4], [5, 6, 7, 8],[11, 12, 13, 14]])\n",
    "\n",
    "print(\"array : \\n\", arr,\"\\n\")\n",
    "\n",
    "for idx, x in np.ndenumerate(arr):\n",
    "    print(idx, x)"
   ]
  },
  {
   "cell_type": "code",
   "execution_count": null,
   "id": "f9c7dc4d-e9ee-4e23-8907-5d316d40cc02",
   "metadata": {},
   "outputs": [],
   "source": []
  },
  {
   "cell_type": "markdown",
   "id": "dc8368ed-d5a7-4341-90db-182f1ba47134",
   "metadata": {},
   "source": [
    "### Join numpy Arrays : 1. concate Functions\n",
    "Joining means putting contents of two or more arrays in a single array.\n",
    "<br>In SQL we join tables based on a key, whereas in NumPy we join arrays by axes.\n",
    "<br>We pass a sequence of arrays that we want to join to the concatenate() function, along with the axis. If axis is not explicitly passed, it is taken as 0."
   ]
  },
  {
   "cell_type": "markdown",
   "id": "203d279c-309c-445c-ae93-44719234adb1",
   "metadata": {},
   "source": [
    "<b>syntax : </b>\n",
    "<pre>\n",
    "    numpy.concatenate((array_name1,array_name2))\n",
    "</pre>\n",
    "where, concate/join array_name1 and array_name2"
   ]
  },
  {
   "cell_type": "markdown",
   "id": "fc80ab6b-fdcd-4bcb-9cc8-9aa5256b05b3",
   "metadata": {},
   "source": [
    "* Join two 1D arrays :"
   ]
  },
  {
   "cell_type": "code",
   "execution_count": 136,
   "id": "de2234fe-e1ea-43cc-8ea2-1082d4e56234",
   "metadata": {},
   "outputs": [
    {
     "name": "stdout",
     "output_type": "stream",
     "text": [
      "[[1 2 3]\n",
      " [4 5 6]]\n"
     ]
    }
   ],
   "source": [
    "import numpy as np\n",
    "ar1 = np.array([[1,2,3]])\n",
    "ar2 = np.array([[4,5,6]])\n",
    "ar = np.concatenate((ar1,ar2))\n",
    "print(ar)"
   ]
  },
  {
   "cell_type": "markdown",
   "id": "5d1899e0-75d0-48d3-9acd-4f3ad157c9d5",
   "metadata": {},
   "source": [
    "* Join two 2D arrays :"
   ]
  },
  {
   "cell_type": "code",
   "execution_count": 137,
   "id": "65b47cbb-fa9a-4864-8f0b-043e2cfb95d6",
   "metadata": {},
   "outputs": [
    {
     "name": "stdout",
     "output_type": "stream",
     "text": [
      "[[1 2 3]\n",
      " [3 4 5]\n",
      " [5 6 7]\n",
      " [7 8 9]]\n"
     ]
    }
   ],
   "source": [
    "import numpy as np\n",
    "ar1 = np.array([[1,2,3],[3,4,5]])\n",
    "ar2 = np.array([[5,6,7],[7,8,9]])\n",
    "ar = np.concatenate((ar1,ar2))  # by default axis = 0\n",
    "print(ar)"
   ]
  },
  {
   "cell_type": "markdown",
   "id": "5099b433-9d07-4f8f-9765-915271ebb28e",
   "metadata": {},
   "source": [
    "<b>- using Axis concate arrays </b>"
   ]
  },
  {
   "cell_type": "markdown",
   "id": "0db628ce-32db-449f-a8ac-901c4e4e504e",
   "metadata": {},
   "source": [
    "* using Axis concate arrays for axis = 0"
   ]
  },
  {
   "cell_type": "code",
   "execution_count": 138,
   "id": "2b816a44-4624-4754-917d-0046599546ca",
   "metadata": {},
   "outputs": [
    {
     "name": "stdout",
     "output_type": "stream",
     "text": [
      "[[1 2 3 5 6 7]\n",
      " [3 4 5 7 8 9]]\n"
     ]
    }
   ],
   "source": [
    "import numpy as np\n",
    "ar1 = np.array([[1,2,3],[3,4,5]])\n",
    "ar2 = np.array([[5,6,7],[7,8,9]])\n",
    "\n",
    "ar = np.concatenate((ar1,ar2), axis = 1) # add in rows\n",
    "print(ar)"
   ]
  },
  {
   "cell_type": "markdown",
   "id": "16acc987-3660-487b-9215-7845a3300071",
   "metadata": {},
   "source": [
    "* using Axis concate arrays for axis = 1"
   ]
  },
  {
   "cell_type": "code",
   "execution_count": 139,
   "id": "d601637a-006a-4d56-8fc5-5e64eec7280f",
   "metadata": {},
   "outputs": [
    {
     "name": "stdout",
     "output_type": "stream",
     "text": [
      "[[1 2 3]\n",
      " [3 4 5]\n",
      " [5 6 7]\n",
      " [7 8 9]]\n"
     ]
    }
   ],
   "source": [
    "import numpy as np\n",
    "ar1 = np.array([[1,2,3],[3,4,5]])\n",
    "ar2 = np.array([[5,6,7],[7,8,9]])\n",
    "\n",
    "ar = np.concatenate((ar1,ar2), axis = 0) # add in cols\n",
    "print(ar)"
   ]
  },
  {
   "cell_type": "markdown",
   "id": "7ce8b604-ab6d-432d-8d3e-1c87ac44eb92",
   "metadata": {},
   "source": [
    "### Join numpy Arrays : 2. Stack Functions\n",
    "* Stacking is same as concatenation, the only difference is that stacking is done along a new axis.\n",
    "* We can concatenate two 1-D arrays along the second axis which would result in putting them one over the other, ie. stacking.\n",
    "* We pass a sequence of arrays that we want to join to the stack() method along with the axis. If axis is not explicitly passed it is taken as 0."
   ]
  },
  {
   "cell_type": "markdown",
   "id": "b2c62fd8-43a6-4482-854e-0bc706758a9d",
   "metadata": {},
   "source": [
    "* using axis :"
   ]
  },
  {
   "cell_type": "code",
   "execution_count": 140,
   "id": "ed473126-6569-4c0d-a18d-87def11e91fb",
   "metadata": {},
   "outputs": [
    {
     "name": "stdout",
     "output_type": "stream",
     "text": [
      "[[1 4]\n",
      " [2 5]\n",
      " [3 6]]\n"
     ]
    }
   ],
   "source": [
    "import numpy as np\n",
    "\n",
    "arr1 = np.array([1, 2, 3])\n",
    "arr2 = np.array([4, 5, 6])\n",
    "\n",
    "arr = np.stack((arr1, arr2), axis=1)\n",
    "\n",
    "print(arr)"
   ]
  },
  {
   "cell_type": "code",
   "execution_count": 141,
   "id": "c40036a3-0aae-4a6d-8f74-ed43f298e755",
   "metadata": {},
   "outputs": [
    {
     "name": "stdout",
     "output_type": "stream",
     "text": [
      "[[1 2 3]\n",
      " [4 5 6]]\n"
     ]
    }
   ],
   "source": [
    "import numpy as np\n",
    "\n",
    "arr1 = np.array([1, 2, 3])\n",
    "arr2 = np.array([4, 5, 6])\n",
    "\n",
    "arr = np.stack((arr1, arr2), axis=0)\n",
    "\n",
    "print(arr)"
   ]
  },
  {
   "cell_type": "markdown",
   "id": "7ba13207-1645-40c3-9a06-c6e7e7ce5b39",
   "metadata": {},
   "source": [
    "* <b>Stacking Along Rows : </b><br>\n",
    "***hstack((a,b,c...))*** - NumPy provides a helper function: hstack() to stack along rows. where a,b,c... are 1D arrays\n",
    "\n",
    "***horizontally joint***"
   ]
  },
  {
   "cell_type": "code",
   "execution_count": 2,
   "id": "df030099-c7b8-4e57-88f5-2debd22e4329",
   "metadata": {},
   "outputs": [
    {
     "name": "stdout",
     "output_type": "stream",
     "text": [
      "[1 2 3 4 5 6]\n"
     ]
    }
   ],
   "source": [
    "import numpy as np\n",
    "\n",
    "arr1 = np.array([1, 2, 3])\n",
    "arr2 = np.array([4, 5, 6])\n",
    "\n",
    "arr = np.hstack((arr1, arr2))\n",
    "\n",
    "print(arr)"
   ]
  },
  {
   "cell_type": "markdown",
   "id": "67542b1d-87dc-4dd0-9223-39f0ed2b4e4a",
   "metadata": {},
   "source": [
    "* <b>Stacking Along Columns : </b><br>\n",
    "***vstack((a,b,c...))*** - NumPy provides a helper function: vstack()  to stack along columns. where a,b,c... are 1D arrays.\n",
    "\n",
    "***verticlally joint***"
   ]
  },
  {
   "cell_type": "code",
   "execution_count": 3,
   "id": "bac82137-436e-4b76-b0f9-7088340497c5",
   "metadata": {},
   "outputs": [
    {
     "name": "stdout",
     "output_type": "stream",
     "text": [
      "[[1 2 3]\n",
      " [4 5 6]]\n"
     ]
    }
   ],
   "source": [
    "import numpy as np\n",
    "\n",
    "arr1 = np.array([1, 2, 3])\n",
    "arr2 = np.array([4, 5, 6])\n",
    "\n",
    "arr = np.vstack((arr1, arr2))\n",
    "\n",
    "print(arr)"
   ]
  },
  {
   "cell_type": "markdown",
   "id": "d47af91a-1233-45de-b35d-a33eaeb0c51a",
   "metadata": {},
   "source": [
    "* <b>Stacking Along Height (depth) : </b><br>\n",
    "***dstack((a,b,c...))*** - NumPy provides a helper function: dstack() to stack along height, which is the same as depth. where a,b,c... are arrays"
   ]
  },
  {
   "cell_type": "code",
   "execution_count": 4,
   "id": "3e9db8ca-904a-4843-90e4-1420a4497d82",
   "metadata": {},
   "outputs": [
    {
     "name": "stdout",
     "output_type": "stream",
     "text": [
      "[[[1 4]\n",
      "  [2 5]\n",
      "  [3 6]]]\n"
     ]
    }
   ],
   "source": [
    "import numpy as np\n",
    "\n",
    "arr1 = np.array([1, 2, 3])\n",
    "arr2 = np.array([4, 5, 6])\n",
    "\n",
    "arr = np.dstack((arr1, arr2))\n",
    "\n",
    "print(arr)"
   ]
  },
  {
   "cell_type": "markdown",
   "id": "6bc8b1aa-c95d-438d-8814-91497e4baf90",
   "metadata": {},
   "source": [
    "### NumPy Splitting :\n",
    "it is just reverse operations of join arrays, slipting means divide collection into piceas."
   ]
  },
  {
   "cell_type": "markdown",
   "id": "89c1d540-3b85-4a95-b2c7-6f6ba5263ce3",
   "metadata": {},
   "source": [
    "***numpy.array()*** -Splitting is reverse operation of Joining.\n",
    "Joining merges multiple arrays into one and Splitting breaks one array into multiple.\n",
    "We use array_split() for splitting arrays, we pass it the array we want to split and the number of splits."
   ]
  },
  {
   "cell_type": "markdown",
   "id": "165c997d-aeff-4567-990b-dfa7c5792923",
   "metadata": {},
   "source": [
    "* split array into 2 parts:"
   ]
  },
  {
   "cell_type": "code",
   "execution_count": 12,
   "id": "f25bbf55-a5a9-4f16-b5c6-faaa467e991b",
   "metadata": {},
   "outputs": [
    {
     "name": "stdout",
     "output_type": "stream",
     "text": [
      "[array([0, 1, 2, 3, 4]), array([5, 6, 7, 8, 9])]\n"
     ]
    }
   ],
   "source": [
    "import numpy as np\n",
    "\n",
    "arr = np.array([0, 1, 2, 3, 4, 5, 6, 7, 8, 9])\n",
    "\n",
    "newarr = np.array_split(arr, 2)\n",
    "\n",
    "print(newarr)"
   ]
  },
  {
   "cell_type": "code",
   "execution_count": 11,
   "id": "f153983f-b039-40f0-9762-fb8c128baad4",
   "metadata": {},
   "outputs": [
    {
     "name": "stdout",
     "output_type": "stream",
     "text": [
      "[array([[1, 2, 3],\n",
      "       [4, 5, 6],\n",
      "       [7, 8, 9]]), array([[10, 11, 12],\n",
      "       [13, 14, 15],\n",
      "       [16, 17, 18]])]\n"
     ]
    }
   ],
   "source": [
    "import numpy as np\n",
    "\n",
    "arr = np.array([[1, 2, 3], [4, 5, 6], [7, 8, 9], [10, 11, 12], [13, 14, 15], [16, 17, 18]])\n",
    "\n",
    "newarr = np.array_split(arr, 2)\n",
    "\n",
    "print(newarr)"
   ]
  },
  {
   "cell_type": "markdown",
   "id": "f7722ae0-a2f1-407e-8c6d-5ad2d6f91f35",
   "metadata": {},
   "source": [
    "* split array into 3 parts:"
   ]
  },
  {
   "cell_type": "code",
   "execution_count": 6,
   "id": "bb46865e-3a8b-4b97-95c4-96ea6164b9c5",
   "metadata": {},
   "outputs": [
    {
     "name": "stdout",
     "output_type": "stream",
     "text": [
      "[array([0, 1, 2, 3]), array([4, 5, 6]), array([7, 8, 9])]\n"
     ]
    }
   ],
   "source": [
    "import numpy as np\n",
    "\n",
    "arr = np.array([0, 1, 2, 3, 4, 5, 6, 7, 8, 9])\n",
    "\n",
    "newarr = np.array_split(arr, 3)\n",
    "\n",
    "print(newarr)"
   ]
  },
  {
   "cell_type": "code",
   "execution_count": 13,
   "id": "81107ba2-b30f-4fba-9894-b626f78e71be",
   "metadata": {},
   "outputs": [
    {
     "name": "stdout",
     "output_type": "stream",
     "text": [
      "[array([[1, 2, 3],\n",
      "       [4, 5, 6]]), array([[ 7,  8,  9],\n",
      "       [10, 11, 12]]), array([[13, 14, 15],\n",
      "       [16, 17, 18]])]\n"
     ]
    }
   ],
   "source": [
    "import numpy as np\n",
    "\n",
    "arr = np.array([[1, 2, 3], [4, 5, 6], [7, 8, 9], [10, 11, 12], [13, 14, 15], [16, 17, 18]])\n",
    "\n",
    "newarr = np.array_split(arr, 3)\n",
    "\n",
    "print(newarr)"
   ]
  },
  {
   "cell_type": "markdown",
   "id": "eeeb3c42-c5f1-4c06-8731-11854debcab5",
   "metadata": {},
   "source": [
    "* split array into 4 parts:"
   ]
  },
  {
   "cell_type": "code",
   "execution_count": 7,
   "id": "71e1692b-cbe9-46c2-a31c-f7c08568e795",
   "metadata": {},
   "outputs": [
    {
     "name": "stdout",
     "output_type": "stream",
     "text": [
      "[array([0, 1, 2]), array([3, 4, 5]), array([6, 7]), array([8, 9])]\n"
     ]
    }
   ],
   "source": [
    "import numpy as np\n",
    "\n",
    "arr = np.array([0, 1, 2, 3, 4, 5, 6, 7, 8, 9])\n",
    "\n",
    "newarr = np.array_split(arr, 4)\n",
    "\n",
    "print(newarr)"
   ]
  },
  {
   "cell_type": "code",
   "execution_count": 14,
   "id": "7145b4cd-ecd9-433f-be7d-39bdbfff645e",
   "metadata": {},
   "outputs": [
    {
     "name": "stdout",
     "output_type": "stream",
     "text": [
      "[array([[1, 2, 3],\n",
      "       [4, 5, 6]]), array([[ 7,  8,  9],\n",
      "       [10, 11, 12]]), array([[13, 14, 15]]), array([[16, 17, 18]])]\n"
     ]
    }
   ],
   "source": [
    "import numpy as np\n",
    "\n",
    "arr = np.array([[1, 2, 3], [4, 5, 6], [7, 8, 9], [10, 11, 12], [13, 14, 15], [16, 17, 18]])\n",
    "\n",
    "newarr = np.array_split(arr, 4)\n",
    "\n",
    "print(newarr)"
   ]
  },
  {
   "cell_type": "markdown",
   "id": "deb0bb6a-6002-4e0e-9683-5dded0c9f9d2",
   "metadata": {},
   "source": [
    "* split array into 5 parts:"
   ]
  },
  {
   "cell_type": "code",
   "execution_count": 9,
   "id": "0a6f832c-1f46-4d68-a99e-a734115abbff",
   "metadata": {},
   "outputs": [
    {
     "name": "stdout",
     "output_type": "stream",
     "text": [
      "[array([0, 1]), array([2, 3]), array([4, 5]), array([6, 7]), array([8, 9])]\n"
     ]
    }
   ],
   "source": [
    "import numpy as np\n",
    "\n",
    "arr = np.array([0, 1, 2, 3, 4, 5, 6, 7, 8, 9])\n",
    "\n",
    "newarr = np.array_split(arr, 5)\n",
    "\n",
    "print(newarr)"
   ]
  },
  {
   "cell_type": "code",
   "execution_count": 15,
   "id": "6c76e4e8-86eb-4e44-86b5-175bea993916",
   "metadata": {},
   "outputs": [
    {
     "name": "stdout",
     "output_type": "stream",
     "text": [
      "[array([[1, 2, 3],\n",
      "       [4, 5, 6]]), array([[7, 8, 9]]), array([[10, 11, 12]]), array([[13, 14, 15]]), array([[16, 17, 18]])]\n"
     ]
    }
   ],
   "source": [
    "import numpy as np\n",
    "\n",
    "arr = np.array([[1, 2, 3], [4, 5, 6], [7, 8, 9], [10, 11, 12], [13, 14, 15], [16, 17, 18]])\n",
    "\n",
    "newarr = np.array_split(arr, 5)\n",
    "\n",
    "print(newarr)"
   ]
  },
  {
   "cell_type": "markdown",
   "id": "2f10b5f7-8d9f-4e4d-9b87-eccb31474c33",
   "metadata": {},
   "source": [
    "* split array into 6 parts:"
   ]
  },
  {
   "cell_type": "code",
   "execution_count": 10,
   "id": "2a5cfce7-e93d-4f69-ab3d-276dce77a9ef",
   "metadata": {},
   "outputs": [
    {
     "name": "stdout",
     "output_type": "stream",
     "text": [
      "[array([0, 1]), array([2, 3]), array([4, 5]), array([6, 7]), array([8]), array([9])]\n"
     ]
    }
   ],
   "source": [
    "import numpy as np\n",
    "\n",
    "arr = np.array([0, 1, 2, 3, 4, 5, 6, 7, 8, 9])\n",
    "\n",
    "newarr = np.array_split(arr, 6)\n",
    "\n",
    "print(newarr)"
   ]
  },
  {
   "cell_type": "markdown",
   "id": "7888716c-61d8-4048-ac46-97f15ffa6c41",
   "metadata": {},
   "source": [
    "***Note:*** The return value is an array containing three arrays."
   ]
  },
  {
   "cell_type": "code",
   "execution_count": 16,
   "id": "d8b8ab4a-3070-43f8-aca2-c64f87526481",
   "metadata": {},
   "outputs": [
    {
     "name": "stdout",
     "output_type": "stream",
     "text": [
      "[array([[1, 2, 3]]), array([[4, 5, 6]]), array([[7, 8, 9]]), array([[10, 11, 12]]), array([[13, 14, 15]]), array([[16, 17, 18]])]\n"
     ]
    }
   ],
   "source": [
    "import numpy as np\n",
    "\n",
    "arr = np.array([[1, 2, 3], [4, 5, 6], [7, 8, 9], [10, 11, 12], [13, 14, 15], [16, 17, 18]])\n",
    "\n",
    "newarr = np.array_split(arr, 6)\n",
    "\n",
    "print(newarr)"
   ]
  },
  {
   "cell_type": "markdown",
   "id": "b9764829-0c1f-476c-8ff3-a9daee3837f2",
   "metadata": {},
   "source": [
    "### split the array with hstack(), vstack() and dstack() :"
   ]
  },
  {
   "cell_type": "code",
   "execution_count": 18,
   "id": "a18b609c-60f7-403d-adb9-7c3aadae4cc7",
   "metadata": {},
   "outputs": [
    {
     "name": "stdout",
     "output_type": "stream",
     "text": [
      "hstack() : \n",
      "  [array([[ 1],\n",
      "       [ 4],\n",
      "       [ 7],\n",
      "       [10],\n",
      "       [13],\n",
      "       [16]]), array([[ 2],\n",
      "       [ 5],\n",
      "       [ 8],\n",
      "       [11],\n",
      "       [14],\n",
      "       [17]]), array([[ 3],\n",
      "       [ 6],\n",
      "       [ 9],\n",
      "       [12],\n",
      "       [15],\n",
      "       [18]])]\n",
      "vstack() : \n",
      "  [array([[1, 2, 3],\n",
      "       [4, 5, 6]]), array([[ 7,  8,  9],\n",
      "       [10, 11, 12]]), array([[13, 14, 15],\n",
      "       [16, 17, 18]])]\n"
     ]
    }
   ],
   "source": [
    "import numpy as np\n",
    "\n",
    "arr = np.array([[1, 2, 3], [4, 5, 6], [7, 8, 9], [10, 11, 12], [13, 14, 15], [16, 17, 18]])\n",
    "\n",
    "newarr1 = np.hsplit(arr, 3)\n",
    "newarr2 = np.vsplit(arr, 3)\n",
    "# newarr3 = np.dsplit(arr, 3)   #dsplit only works on arrays of 3 or more dimensions\n",
    "\n",
    "print('hstack() : \\n ',newarr1)\n",
    "print('vstack() : \\n ',newarr2)\n",
    "# print('dstack() : \\n ',newarr3)     "
   ]
  },
  {
   "cell_type": "markdown",
   "id": "b415f8ac-a94a-4f4f-b40b-f6f08700c3a1",
   "metadata": {},
   "source": [
    "### NumPy Searching Arrays:\n",
    "You can search an array for a certain value, and return the indexes that get a match.\n",
    "<br>To search an array, use the where() method."
   ]
  },
  {
   "cell_type": "code",
   "execution_count": 19,
   "id": "2421a729-9220-4b82-8742-2b121880a818",
   "metadata": {},
   "outputs": [
    {
     "name": "stdout",
     "output_type": "stream",
     "text": [
      "(array([3, 5, 6], dtype=int64),)\n"
     ]
    }
   ],
   "source": [
    "import numpy as np\n",
    "\n",
    "arr = np.array([1, 2, 3, 4, 5, 4, 4])\n",
    "x = np.where(arr == 4)\n",
    "\n",
    "print(x)"
   ]
  },
  {
   "cell_type": "markdown",
   "id": "e5e359c1-6c02-4831-96c2-c81350d2dda7",
   "metadata": {},
   "source": [
    "* Find the indexes where the values are even and odd"
   ]
  },
  {
   "cell_type": "code",
   "execution_count": 20,
   "id": "43f2b792-5439-4f31-9e25-a148d6eedb1b",
   "metadata": {},
   "outputs": [
    {
     "name": "stdout",
     "output_type": "stream",
     "text": [
      "even :  (array([1, 3, 5, 7], dtype=int64),)\n",
      "odd :  (array([0, 2, 4, 6], dtype=int64),)\n"
     ]
    }
   ],
   "source": [
    "import numpy as np\n",
    "\n",
    "arr = np.array([1, 2, 3, 4, 5, 6, 7, 8])\n",
    "\n",
    "x = np.where(arr%2 == 0)\n",
    "y = np.where(arr%2 == 1)\n",
    "\n",
    "print(\"even : \",x)\n",
    "print(\"odd : \", y)"
   ]
  },
  {
   "cell_type": "markdown",
   "id": "862abb98-eb03-4f67-bcf6-399103c28afa",
   "metadata": {},
   "source": [
    "* ***numpy.searchsorted(array, value)*** -\n",
    "There is a method called searchsorted() which ***performs a binary search in the array,*** and returns the ***index*** where the specified value would be inserted to maintain the search order."
   ]
  },
  {
   "cell_type": "code",
   "execution_count": 22,
   "id": "a102d760-ea6a-4d38-8635-259d0cf9e91d",
   "metadata": {},
   "outputs": [
    {
     "name": "stdout",
     "output_type": "stream",
     "text": [
      "0\n"
     ]
    }
   ],
   "source": [
    "import numpy as np\n",
    "\n",
    "arr = np.array([6, 7, 8, 9, 3])\n",
    "x = np.searchsorted(arr, 3)\n",
    "\n",
    "print(x)"
   ]
  },
  {
   "cell_type": "markdown",
   "id": "e2f7a37d-f2a5-4340-b9e5-3edcbf4fea98",
   "metadata": {},
   "source": [
    "***Search From the Right Side*** - for it we can give side='right' to return the right most index instead."
   ]
  },
  {
   "cell_type": "code",
   "execution_count": 23,
   "id": "58c2bd89-f50a-4b64-a2b2-4f6acf39232d",
   "metadata": {},
   "outputs": [
    {
     "name": "stdout",
     "output_type": "stream",
     "text": [
      "2\n"
     ]
    }
   ],
   "source": [
    "import numpy as np\n",
    "\n",
    "arr = np.array([6, 7, 8, 9])\n",
    "\n",
    "x = np.searchsorted(arr, 7, side='right')\n",
    "\n",
    "print(x)"
   ]
  },
  {
   "cell_type": "markdown",
   "id": "a370efbc-74bb-4528-bd0f-3484ee0c295f",
   "metadata": {},
   "source": [
    "* To search for ***more than one value***, use an array with the specified values."
   ]
  },
  {
   "cell_type": "markdown",
   "id": "979f1000-e375-497f-bf18-8fcad929e798",
   "metadata": {},
   "source": [
    "* Find the indexes where the values 2, 4, and 6 should be inserted:"
   ]
  },
  {
   "cell_type": "code",
   "execution_count": 25,
   "id": "661c82bb-c8cc-407a-8ba5-b403c4c9a981",
   "metadata": {},
   "outputs": [
    {
     "name": "stdout",
     "output_type": "stream",
     "text": [
      "[1 2 3]\n"
     ]
    }
   ],
   "source": [
    "import numpy as np\n",
    "\n",
    "arr = np.array([1, 3, 5, 7])\n",
    "\n",
    "x = np.searchsorted(arr, [2, 4, 6])\n",
    "\n",
    "print(x)"
   ]
  },
  {
   "cell_type": "markdown",
   "id": "e5ae5af1-e81a-48f9-a8dc-5c81771082f8",
   "metadata": {},
   "source": [
    "### Sorting Arrays:\n",
    "***numpy.sort() : \"Sorting means putting elements in an ordered sequence\"***\n",
    "<br>Ordered sequence is any sequence that has an order corresponding to elements, like numeric or alphabetical, ascending or descending."
   ]
  },
  {
   "cell_type": "code",
   "execution_count": 26,
   "id": "70605f43-7e21-4e47-8702-fb9ddc3e8629",
   "metadata": {},
   "outputs": [
    {
     "name": "stdout",
     "output_type": "stream",
     "text": [
      "[0 1 2 3]\n"
     ]
    }
   ],
   "source": [
    "import numpy as np\n",
    "\n",
    "arr = np.array([3, 2, 0, 1])\n",
    "\n",
    "print(np.sort(arr))"
   ]
  },
  {
   "cell_type": "markdown",
   "id": "6ebecdd0-6d71-4f9e-af22-62bf5ef8cc93",
   "metadata": {},
   "source": [
    "***Note***: This method returns a copy of the array, leaving the original array unchanged."
   ]
  },
  {
   "cell_type": "markdown",
   "id": "2f216c8e-11a8-4d8e-bcb7-8a2a775f2636",
   "metadata": {},
   "source": [
    "* Sort the array alphabetically:"
   ]
  },
  {
   "cell_type": "code",
   "execution_count": 27,
   "id": "eed8cfd3-d6c8-4542-9b34-201575e7a8ce",
   "metadata": {},
   "outputs": [
    {
     "name": "stdout",
     "output_type": "stream",
     "text": [
      "['apple' 'banana' 'cherry']\n"
     ]
    }
   ],
   "source": [
    "import numpy as np\n",
    "\n",
    "arr = np.array(['banana', 'cherry', 'apple'])\n",
    "\n",
    "print(np.sort(arr))"
   ]
  },
  {
   "cell_type": "markdown",
   "id": "5f1496e0-bdd6-4a7b-aae9-069ff46470fc",
   "metadata": {},
   "source": [
    "* Sort a boolean array:"
   ]
  },
  {
   "cell_type": "code",
   "execution_count": 28,
   "id": "4ca73fa6-0bf1-4a9a-968a-1280339d4e28",
   "metadata": {},
   "outputs": [
    {
     "name": "stdout",
     "output_type": "stream",
     "text": [
      "[False  True  True]\n"
     ]
    }
   ],
   "source": [
    "import numpy as np\n",
    "\n",
    "arr = np.array([True, False, True])\n",
    "\n",
    "print(np.sort(arr))"
   ]
  },
  {
   "cell_type": "markdown",
   "id": "f7792bb8-c405-43af-9763-d1c58c6432ad",
   "metadata": {},
   "source": [
    "<b>sort 2D array :</b>"
   ]
  },
  {
   "cell_type": "code",
   "execution_count": 29,
   "id": "baddf4cd-7016-4a83-bb22-e9c47e78394e",
   "metadata": {},
   "outputs": [
    {
     "name": "stdout",
     "output_type": "stream",
     "text": [
      "[[2 3 4]\n",
      " [0 1 5]]\n"
     ]
    }
   ],
   "source": [
    "import numpy as np\n",
    "\n",
    "arr = np.array([[3, 2, 4], [5, 0, 1]])\n",
    "\n",
    "print(np.sort(arr))"
   ]
  },
  {
   "cell_type": "markdown",
   "id": "e001420f-7dfe-42fc-a91e-26c592032251",
   "metadata": {},
   "source": [
    "### NumPy Filter Array:\n",
    "Getting some elements out of an existing array and creating a new array out of them is called filtering.<br>\n",
    "In NumPy, you filter an array using a boolean index list.<br><br>\n",
    "***A boolean index list is a list of booleans corresponding to indexes in the array***<br><br>\n",
    "If the value at an index is True that element is contained in the filtered array, if the value at that index is False that element is excluded from the filtered array."
   ]
  },
  {
   "cell_type": "markdown",
   "id": "b77ca609-1d4b-4f17-b270-70e0873c9d28",
   "metadata": {},
   "source": [
    "* Create an array from the elements on index 0 and 2:"
   ]
  },
  {
   "cell_type": "code",
   "execution_count": 30,
   "id": "28f6bb82-e5cb-4650-8dd7-7ca4e07f64e4",
   "metadata": {},
   "outputs": [
    {
     "name": "stdout",
     "output_type": "stream",
     "text": [
      "[41 43]\n"
     ]
    }
   ],
   "source": [
    "import numpy as np\n",
    "\n",
    "arr = np.array([41, 42, 43, 44])\n",
    "x = [True, False, True, False]\n",
    "\n",
    "newarr = arr[x]\n",
    "print(newarr)"
   ]
  },
  {
   "cell_type": "markdown",
   "id": "341a3af9-23d5-428f-8c58-e9f0d840e775",
   "metadata": {},
   "source": [
    "<b>note : </b> but the common use is to create a filter array based on conditions."
   ]
  },
  {
   "cell_type": "markdown",
   "id": "487005e1-4400-49f6-bc7e-923860b88d17",
   "metadata": {},
   "source": [
    "* Create a filter array that will return only values higher than 42:"
   ]
  },
  {
   "cell_type": "code",
   "execution_count": 32,
   "id": "a23c5241-4c0c-46ee-9303-e900786fde68",
   "metadata": {},
   "outputs": [
    {
     "name": "stdout",
     "output_type": "stream",
     "text": [
      "[True, False, False, True, True]\n",
      "[45 43 44]\n"
     ]
    }
   ],
   "source": [
    "import numpy as np\n",
    "\n",
    "arr = np.array([45, 41, 42, 43, 44])\n",
    "# create empty list\n",
    "filter_arr = []\n",
    "\n",
    "# go through each element in arr\n",
    "for element in arr:\n",
    "# if the element is higher than 42, set the value to True, otherwise False:\n",
    "    if element > 42:\n",
    "        filter_arr.append(True)\n",
    "    else:\n",
    "        filter_arr.append(False)\n",
    "\n",
    "newarr = arr[filter_arr]\n",
    "\n",
    "print(filter_arr)\n",
    "print(newarr)"
   ]
  },
  {
   "cell_type": "markdown",
   "id": "4e4f14c7-cc37-4ee8-a723-584214a63fe6",
   "metadata": {},
   "source": [
    "* Create a filter array that will return only even elements from the original array:"
   ]
  },
  {
   "cell_type": "code",
   "execution_count": 33,
   "id": "de8ae4e7-13e7-463e-8dbe-e40ee8ae1881",
   "metadata": {},
   "outputs": [
    {
     "name": "stdout",
     "output_type": "stream",
     "text": [
      "[False, True, False, True, False, True, False]\n",
      "[2 4 6]\n"
     ]
    }
   ],
   "source": [
    "import numpy as np\n",
    "\n",
    "arr = np.array([1, 2, 3, 4, 5, 6, 7])\n",
    "\n",
    "# Create an empty list\n",
    "filter_arr = []\n",
    "\n",
    "# go through each element in arr\n",
    "for element in arr:\n",
    "  # if the element is completely divisble by 2, set the value to True, otherwise False\n",
    "  if element % 2 == 0:\n",
    "    filter_arr.append(True)\n",
    "  else:\n",
    "    filter_arr.append(False)\n",
    "\n",
    "newarr = arr[filter_arr]\n",
    "\n",
    "print(filter_arr)\n",
    "print(newarr)"
   ]
  },
  {
   "cell_type": "markdown",
   "id": "ac49cf61-f789-47fb-b3b5-3c47064b3e4f",
   "metadata": {},
   "source": [
    "### Random Numbers in NumPy :\n",
    "***Random number***- It does NOT mean a different number every time. Random means something that can not be predicted logically."
   ]
  },
  {
   "cell_type": "markdown",
   "id": "1cbb770a-9362-4c13-9238-3120c79d10e3",
   "metadata": {},
   "source": [
    "* create random number of array :"
   ]
  },
  {
   "cell_type": "code",
   "execution_count": 34,
   "id": "f1999eb6-0842-4a0f-822f-39d5c7a92255",
   "metadata": {},
   "outputs": [
    {
     "name": "stdout",
     "output_type": "stream",
     "text": [
      "[183.84771093 158.21761559 180.03778763 164.54916094 181.35944568\n",
      " 162.98211371 146.03634357 166.5937731  182.97873518 146.92344377\n",
      " 191.09140385 162.48511398 178.96815794 186.18714093 175.13485857\n",
      " 173.26274813 161.36963508 166.71063241 171.87533235 172.86588916\n",
      " 183.97849336 175.96710402 178.4032555  173.60237603 168.24301318\n",
      " 164.97620835 168.40294392 163.36827569 176.78587578 179.27336358\n",
      " 170.72708676 155.35476402 167.88843223 181.70718095 170.17656858\n",
      " 179.46725208 169.08290999 167.9791582  175.5663438  176.9463989\n",
      " 172.69179411 189.21766812 169.46321537 176.24221511 182.3145498\n",
      " 159.35510592 168.3392226  172.72144903 184.08209821 164.36723482\n",
      " 167.68009679 164.78904782 158.76902984 163.7011288  161.43974906\n",
      " 170.12240698 166.91365571 163.28961679 168.1492044  157.69812369\n",
      " 177.9346833  182.31859281 173.11972521 166.78804287 167.43803249\n",
      " 173.2540722  172.45985784 167.19158265 174.44699392 192.09289403\n",
      " 155.39645672 180.06440027 163.45755569 161.49799389 168.72954698\n",
      " 152.37934793 165.55915713 204.19058408 169.51694563 152.54572833\n",
      " 162.78608529 174.1053053  179.88437986 158.90496122 172.80996411\n",
      " 168.88431649 171.90849662 187.88167469 175.09349767 175.48194946\n",
      " 166.50487513 171.13540634 193.42260512 184.6255176  168.88383982\n",
      " 184.75995485 181.46133967 157.17270752 172.23442842 166.08978578\n",
      " 168.9967386  166.23241441 173.33455014 172.32363481 156.74621063\n",
      " 162.2027058  177.10058253 161.96353037 152.59484549 171.27369236\n",
      " 171.58418621 169.03224265 172.72791023 163.48445944 174.13182627\n",
      " 152.66648497 177.07593355 183.88499561 188.13069411 166.26613556\n",
      " 164.24097099 165.24865285 182.70782936 175.98607407 168.80688919\n",
      " 166.59610786 173.53559143 155.82047039 178.55141939 184.09458298\n",
      " 152.51707104 186.26160224 171.7444734  181.40739401 180.8988085\n",
      " 183.91737235 151.38815889 183.31189855 160.83004237 158.63888187\n",
      " 162.14465331 182.33218387 148.57680803 198.61678101 165.68312759\n",
      " 163.74381562 176.55979094 171.29203033 154.42198338 178.33838485\n",
      " 158.33100391 177.54049346 170.78855442 175.4959242  158.32950905\n",
      " 172.6287802  158.24061853 170.47136453 159.25594048 169.88577936\n",
      " 148.41757302 156.50891804 153.82538328 172.62864624 166.8961667\n",
      " 171.27656716 192.69919609 185.18893387 173.29545591 186.82588902\n",
      " 165.09543666 183.63422093 173.64743985 173.18990086 166.47139704\n",
      " 164.19037364 182.64170557 170.83455259 164.63751942 175.52938805\n",
      " 166.68892492 160.75824064 183.81662729 167.25112623 172.1682717\n",
      " 173.79038725 172.87078582 163.03927106 162.13411823 171.25541653\n",
      " 166.69220186 166.1602112  153.33958203 165.15768048 170.01498063\n",
      " 174.49307314 179.23333574 163.17064143 165.04525936 167.84965261\n",
      " 154.49982094 187.92287647 175.20737071 177.20319163 164.23612171\n",
      " 167.30046056 171.61273451 163.75141277 164.51867122 162.14165877\n",
      " 181.13511798 175.57570098 172.74458797 164.97068681 179.70612742\n",
      " 192.70470353 184.88092127 154.34090521 171.11504196 164.11659864\n",
      " 181.02942268 175.35615389 179.32498131 165.88181734 167.90296967\n",
      " 168.91728379 177.35713167 176.21330784 182.15424346 166.84965718\n",
      " 176.35774265 181.14437668 150.20053814 184.38737888 174.30151339\n",
      " 158.1437301  190.61858337 173.89107147 183.41464175 172.57887054\n",
      " 166.05881063 149.63389801 177.63470545 147.76409945 162.66591321\n",
      " 166.69019174 172.74477483 186.23276788 161.51639343 165.87434341]\n"
     ]
    }
   ],
   "source": [
    "import numpy as np\n",
    "\n",
    "x = np.random.normal(170, 10, 250)\n",
    "print(x)"
   ]
  },
  {
   "cell_type": "markdown",
   "id": "ce1e3ce4-1cd7-4fbf-8238-457e2bd15d8e",
   "metadata": {},
   "source": [
    "<b>NOTE : </b> It is not important topic in data science if u want to study u can go for official [documentation](https://docs.python.org/3/library/random.html) and [w3schoool](https://www.w3schools.com/python/module_random.asp)"
   ]
  },
  {
   "cell_type": "code",
   "execution_count": null,
   "id": "feba0d1d-7e00-4ef3-ada9-8788cc882619",
   "metadata": {},
   "outputs": [],
   "source": []
  },
  {
   "cell_type": "markdown",
   "id": "ec397ae0-6b98-4c8e-9492-fe1cea301d3d",
   "metadata": {},
   "source": [
    "### Seaborn :\n",
    "***Visualize Distributions With Seaborn***\n",
    "<br>Seaborn is a library that uses Matplotlib underneath to plot graphs. It will be used to visualize random distributions."
   ]
  },
  {
   "cell_type": "markdown",
   "id": "9dd0418e-b8e6-4622-8c5a-b2be32b672f3",
   "metadata": {},
   "source": [
    "<pre>Install Seaborn using cmd mode:\n",
    "    >>>pip install seaborn</pre>"
   ]
  },
  {
   "cell_type": "code",
   "execution_count": 37,
   "id": "d95f49f6-59e6-49e6-9859-c98fe65fd795",
   "metadata": {},
   "outputs": [
    {
     "name": "stdout",
     "output_type": "stream",
     "text": [
      "Collecting seaborn\n",
      "  Using cached seaborn-0.13.2-py3-none-any.whl.metadata (5.4 kB)\n",
      "Requirement already satisfied: numpy!=1.24.0,>=1.20 in c:\\users\\rajen\\anaconda3\\envs\\notebook\\lib\\site-packages (from seaborn) (1.26.4)\n",
      "Requirement already satisfied: pandas>=1.2 in c:\\users\\rajen\\anaconda3\\envs\\notebook\\lib\\site-packages (from seaborn) (2.2.0)\n",
      "Requirement already satisfied: matplotlib!=3.6.1,>=3.4 in c:\\users\\rajen\\anaconda3\\envs\\notebook\\lib\\site-packages (from seaborn) (3.8.3)\n",
      "Requirement already satisfied: contourpy>=1.0.1 in c:\\users\\rajen\\anaconda3\\envs\\notebook\\lib\\site-packages (from matplotlib!=3.6.1,>=3.4->seaborn) (1.2.0)\n",
      "Requirement already satisfied: cycler>=0.10 in c:\\users\\rajen\\anaconda3\\envs\\notebook\\lib\\site-packages (from matplotlib!=3.6.1,>=3.4->seaborn) (0.12.1)\n",
      "Requirement already satisfied: fonttools>=4.22.0 in c:\\users\\rajen\\anaconda3\\envs\\notebook\\lib\\site-packages (from matplotlib!=3.6.1,>=3.4->seaborn) (4.49.0)\n",
      "Requirement already satisfied: kiwisolver>=1.3.1 in c:\\users\\rajen\\anaconda3\\envs\\notebook\\lib\\site-packages (from matplotlib!=3.6.1,>=3.4->seaborn) (1.4.5)\n",
      "Requirement already satisfied: packaging>=20.0 in c:\\users\\rajen\\anaconda3\\envs\\notebook\\lib\\site-packages (from matplotlib!=3.6.1,>=3.4->seaborn) (23.1)\n",
      "Requirement already satisfied: pillow>=8 in c:\\users\\rajen\\anaconda3\\envs\\notebook\\lib\\site-packages (from matplotlib!=3.6.1,>=3.4->seaborn) (10.2.0)\n",
      "Requirement already satisfied: pyparsing>=2.3.1 in c:\\users\\rajen\\anaconda3\\envs\\notebook\\lib\\site-packages (from matplotlib!=3.6.1,>=3.4->seaborn) (3.1.1)\n",
      "Requirement already satisfied: python-dateutil>=2.7 in c:\\users\\rajen\\anaconda3\\envs\\notebook\\lib\\site-packages (from matplotlib!=3.6.1,>=3.4->seaborn) (2.8.2)\n",
      "Requirement already satisfied: pytz>=2020.1 in c:\\users\\rajen\\anaconda3\\envs\\notebook\\lib\\site-packages (from pandas>=1.2->seaborn) (2023.3.post1)\n",
      "Requirement already satisfied: tzdata>=2022.7 in c:\\users\\rajen\\anaconda3\\envs\\notebook\\lib\\site-packages (from pandas>=1.2->seaborn) (2024.1)\n",
      "Requirement already satisfied: six>=1.5 in c:\\users\\rajen\\anaconda3\\envs\\notebook\\lib\\site-packages (from python-dateutil>=2.7->matplotlib!=3.6.1,>=3.4->seaborn) (1.16.0)\n",
      "Using cached seaborn-0.13.2-py3-none-any.whl (294 kB)\n",
      "Installing collected packages: seaborn\n",
      "Successfully installed seaborn-0.13.2\n",
      "Note: you may need to restart the kernel to use updated packages.\n"
     ]
    }
   ],
   "source": [
    "pip install seaborn"
   ]
  },
  {
   "cell_type": "code",
   "execution_count": 38,
   "id": "e218e712-7683-4942-80e0-e7233447eb04",
   "metadata": {},
   "outputs": [
    {
     "name": "stdout",
     "output_type": "stream",
     "text": [
      "Requirement already satisfied: matplotlib in c:\\users\\rajen\\anaconda3\\envs\\notebook\\lib\\site-packages (3.8.3)\n",
      "Requirement already satisfied: contourpy>=1.0.1 in c:\\users\\rajen\\anaconda3\\envs\\notebook\\lib\\site-packages (from matplotlib) (1.2.0)\n",
      "Requirement already satisfied: cycler>=0.10 in c:\\users\\rajen\\anaconda3\\envs\\notebook\\lib\\site-packages (from matplotlib) (0.12.1)\n",
      "Requirement already satisfied: fonttools>=4.22.0 in c:\\users\\rajen\\anaconda3\\envs\\notebook\\lib\\site-packages (from matplotlib) (4.49.0)\n",
      "Requirement already satisfied: kiwisolver>=1.3.1 in c:\\users\\rajen\\anaconda3\\envs\\notebook\\lib\\site-packages (from matplotlib) (1.4.5)\n",
      "Requirement already satisfied: numpy<2,>=1.21 in c:\\users\\rajen\\anaconda3\\envs\\notebook\\lib\\site-packages (from matplotlib) (1.26.4)\n",
      "Requirement already satisfied: packaging>=20.0 in c:\\users\\rajen\\anaconda3\\envs\\notebook\\lib\\site-packages (from matplotlib) (23.1)\n",
      "Requirement already satisfied: pillow>=8 in c:\\users\\rajen\\anaconda3\\envs\\notebook\\lib\\site-packages (from matplotlib) (10.2.0)\n",
      "Requirement already satisfied: pyparsing>=2.3.1 in c:\\users\\rajen\\anaconda3\\envs\\notebook\\lib\\site-packages (from matplotlib) (3.1.1)\n",
      "Requirement already satisfied: python-dateutil>=2.7 in c:\\users\\rajen\\anaconda3\\envs\\notebook\\lib\\site-packages (from matplotlib) (2.8.2)\n",
      "Requirement already satisfied: six>=1.5 in c:\\users\\rajen\\anaconda3\\envs\\notebook\\lib\\site-packages (from python-dateutil>=2.7->matplotlib) (1.16.0)\n",
      "Note: you may need to restart the kernel to use updated packages.\n"
     ]
    }
   ],
   "source": [
    "pip install matplotlib"
   ]
  },
  {
   "cell_type": "markdown",
   "id": "cf65b946-7879-4030-9e33-58fec1e34ff5",
   "metadata": {},
   "source": [
    "***Distplots***\n",
    "<br>Distplot stands for distribution plot, it takes as input an array and plots a curve corresponding to the distribution of points in the array."
   ]
  },
  {
   "cell_type": "markdown",
   "id": "23d90d51-6205-4910-84d2-1b01e39126ff",
   "metadata": {},
   "source": [
    "<pre>\n",
    "install matplotlib:\n",
    "     pip install matplotlib\n",
    "\n",
    "install seaborn:\n",
    "     pip install seaborn\n",
    "\n",
    "Import Matplotlib:\n",
    "    import matplotlib.pyplot as plt\n",
    "\n",
    "Import Seaborn:\n",
    "    import seaborn as sns\n",
    "</pre>"
   ]
  },
  {
   "cell_type": "markdown",
   "id": "a90729ac-a844-4561-9d1a-ee82a100d938",
   "metadata": {},
   "source": [
    "* Plotting a Distplot:"
   ]
  },
  {
   "cell_type": "code",
   "execution_count": 39,
   "id": "6bee0bde-f0eb-4b2d-871d-6188619fcc98",
   "metadata": {},
   "outputs": [
    {
     "name": "stderr",
     "output_type": "stream",
     "text": [
      "C:\\Users\\rajen\\AppData\\Local\\Temp\\ipykernel_25820\\174120514.py:4: UserWarning: \n",
      "\n",
      "`distplot` is a deprecated function and will be removed in seaborn v0.14.0.\n",
      "\n",
      "Please adapt your code to use either `displot` (a figure-level function with\n",
      "similar flexibility) or `histplot` (an axes-level function for histograms).\n",
      "\n",
      "For a guide to updating your code to use the new functions, please see\n",
      "https://gist.github.com/mwaskom/de44147ed2974457ad6372750bbe5751\n",
      "\n",
      "  sns.distplot([0, 1, 2, 3, 4, 5])\n"
     ]
    },
    {
     "data": {
      "image/png": "[encoded data removed]",
      "text/plain": [
       "<Figure size 640x480 with 1 Axes>"
      ]
     },
     "metadata": {},
     "output_type": "display_data"
    }
   ],
   "source": [
    "import matplotlib.pyplot as plt\n",
    "import seaborn as sns\n",
    "\n",
    "sns.distplot([0, 1, 2, 3, 4, 5])\n",
    "\n",
    "plt.show()"
   ]
  },
  {
   "cell_type": "markdown",
   "id": "715023fd-c21e-4b75-acd6-56bdaebc4cdf",
   "metadata": {},
   "source": [
    "* Plotting a Distplot:"
   ]
  },
  {
   "cell_type": "code",
   "execution_count": 40,
   "id": "05322921-6cdd-4eb8-bdfa-1fd7af007f1a",
   "metadata": {},
   "outputs": [
    {
     "name": "stderr",
     "output_type": "stream",
     "text": [
      "C:\\Users\\rajen\\AppData\\Local\\Temp\\ipykernel_25820\\174120514.py:4: UserWarning: \n",
      "\n",
      "`distplot` is a deprecated function and will be removed in seaborn v0.14.0.\n",
      "\n",
      "Please adapt your code to use either `displot` (a figure-level function with\n",
      "similar flexibility) or `histplot` (an axes-level function for histograms).\n",
      "\n",
      "For a guide to updating your code to use the new functions, please see\n",
      "https://gist.github.com/mwaskom/de44147ed2974457ad6372750bbe5751\n",
      "\n",
      "  sns.distplot([0, 1, 2, 3, 4, 5])\n"
     ]
    },
    {
     "data": {
      "image/png": "[encoded data removed]",
      "text/plain": [
       "<Figure size 640x480 with 1 Axes>"
      ]
     },
     "metadata": {},
     "output_type": "display_data"
    }
   ],
   "source": [
    "import matplotlib.pyplot as plt\n",
    "import seaborn as sns\n",
    "\n",
    "sns.distplot([0, 1, 2, 3, 4, 5])\n",
    "\n",
    "plt.show()"
   ]
  },
  {
   "cell_type": "code",
   "execution_count": null,
   "id": "79464e0d-c495-4117-aca3-7b322bc96494",
   "metadata": {},
   "outputs": [],
   "source": []
  },
  {
   "cell_type": "raw",
   "id": "1c6b1f7c-4f40-4362-a6ef-500f9d1da957",
   "metadata": {},
   "source": [
    "* <b></b>"
   ]
  },
  {
   "cell_type": "markdown",
   "id": "e6a9181a-1c71-40ca-838e-e64b21c742b4",
   "metadata": {},
   "source": [
    "# Reference : \n",
    "* [python](https://www.python.org/)\n",
    "* [numpy](https://numpy.org/)\n",
    "* [pypl](https://pypi.org/project/numpy/)\n",
    "* [w3school](https://www.w3schools.com/python/numpy/default.asp)\n",
    "* [scipy](https://docs.scipy.org/doc/numpy-1.14.0/reference/generated/numpy.ndarray.html)\n",
    "* [random](https://docs.python.org/3/library/random.html)\n",
    "* [random-w3schoool](https://www.w3schools.com/python/module_random.asp)"
   ]
  },
  {
   "cell_type": "code",
   "execution_count": null,
   "id": "a4a4f91a-1191-4f04-a270-17cc9aa94e06",
   "metadata": {},
   "outputs": [],
   "source": []
  }
 ],
 "metadata": {
  "kernelspec": {
   "display_name": "Python 3 (ipykernel)",
   "language": "python",
   "name": "python3"
  },
  "language_info": {
   "codemirror_mode": {
    "name": "ipython",
    "version": 3
   },
   "file_extension": ".py",
   "mimetype": "text/x-python",
   "name": "python",
   "nbconvert_exporter": "python",
   "pygments_lexer": "ipython3",
   "version": "3.11.7"
  },
  "widgets": {
   "application/vnd.jupyter.widget-state+json": {
    "state": {},
    "version_major": 2,
    "version_minor": 0
   }
  }
 },
 "nbformat": 4,
 "nbformat_minor": 5
}
