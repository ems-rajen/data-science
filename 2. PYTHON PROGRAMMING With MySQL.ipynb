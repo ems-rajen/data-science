{
 "cells": [
  {
   "cell_type": "markdown",
   "id": "7a688e99-8c1e-4e1b-8b98-f8955cb5fbe1",
   "metadata": {},
   "source": [
    "<center><h2>(Python with MySQL DataBases)</h2></center>"
   ]
  },
  {
   "cell_type": "markdown",
   "id": "9f450e7d-583e-4898-98b1-d4a2de270f04",
   "metadata": {},
   "source": [
    "<h2>Practical notes...</h2>"
   ]
  },
  {
   "cell_type": "markdown",
   "id": "63415dc5-d0c5-4d3f-b7d9-730f8c4203f4",
   "metadata": {},
   "source": [
    "<pre>\n",
    "<b>Author : </b> Rajendra Kumar R.\n",
    "<b>Last updated : </b> Jan. 2024\n",
    "<b>IDE : </b> Jupyter notebook\n",
    "<b>Language : </b> pyhton 3.12.0, mySQL 8.3.0\n",
    "<b>os : </b> Win 10 / win 11\n",
    "</pre>"
   ]
  },
  {
   "cell_type": "markdown",
   "id": "975f0f3c-ad14-4595-add7-78caf5845ccb",
   "metadata": {},
   "source": [
    "* <b>What is Data bases : </b><br>\n",
    "A database is an organized collection of structured information, or data, typically stored electronically in a computer system. A database is usually controlled by a database management system (DBMS)."
   ]
  },
  {
   "cell_type": "markdown",
   "id": "cbce0c06-c757-4331-a45a-12f2a8098ec6",
   "metadata": {},
   "source": [
    "* <b>Who uses a database?</b><br>\n",
    "Your grocery store, bank, restaurant, online shopping sites, hospital, favorite clothing store and mobile service provider, for instance all use databases to keep track of customer, inventory, employee and accounting information."
   ]
  },
  {
   "cell_type": "markdown",
   "id": "59b75b56-8926-4819-997a-be9c1cf5e968",
   "metadata": {},
   "source": [
    "### **here we will ducuss mysql databases using python programming.**"
   ]
  },
  {
   "cell_type": "markdown",
   "id": "588f5d4f-d74a-4676-80dc-7100d02da8c6",
   "metadata": {},
   "source": [
    "### Steps to install MySQL Driver\n",
    "Python needs a MySQL driver to access the MySQL database.\n",
    "* for using mysql,we will use the driver \"MySQL Connector\".\n",
    "* We recommend that you use PIP to install \"MySQL Connector\".\n",
    "* PIP is most likely already installed in your Python environment.\n",
    "* Navigate your command line to the location of PIP, and type the following:"
   ]
  },
  {
   "cell_type": "markdown",
   "id": "4344c993-08ad-427c-8846-7908757ae6ca",
   "metadata": {},
   "source": [
    "### commands to install necessary mysql connector :\n",
    "* <B>install mysql connector pkg using cmd:</B><br>\n",
    "    *pip install mysql-connector-python*<br><br>\n",
    "* <B>use in terminal:</B><br>\n",
    "    *python -m pip install mysql-connector-python*"
   ]
  },
  {
   "cell_type": "markdown",
   "id": "b37bd76e-e882-4df1-8a43-f3295736f11a",
   "metadata": {},
   "source": [
    "# import module"
   ]
  },
  {
   "cell_type": "markdown",
   "id": "942022e5-99ac-4152-8476-7b6dadec09aa",
   "metadata": {},
   "source": [
    "* <b>Test MySQL Connector:</b><br>\n",
    "To test if the installation was successful, or if you already have \"MySQL Connector\" installed, create a Python page with the following content:"
   ]
  },
  {
   "cell_type": "code",
   "execution_count": 1,
   "id": "babea521-7dbb-43d3-b208-2c04d22924a7",
   "metadata": {},
   "outputs": [
    {
     "name": "stdout",
     "output_type": "stream",
     "text": [
      "Requirement already satisfied: mysql-connector-python in c:\\users\\rajen\\anaconda3\\lib\\site-packages (8.3.0)\n",
      "Note: you may need to restart the kernel to use updated packages.\n"
     ]
    }
   ],
   "source": [
    "pip install mysql-connector-python"
   ]
  },
  {
   "cell_type": "code",
   "execution_count": 2,
   "id": "13879b1d-0815-4e7d-9ec0-8b633922f909",
   "metadata": {},
   "outputs": [],
   "source": [
    "import mysql.connector"
   ]
  },
  {
   "cell_type": "markdown",
   "id": "0b685f46-d32c-4ec8-a5d4-3c55da908de2",
   "metadata": {},
   "source": [
    "<b>NOTE : </b> if we'll not get error using above commands than, it means we success installed mysql in our python environments."
   ]
  },
  {
   "cell_type": "markdown",
   "id": "48f4a4a3-5651-4ee3-aa41-c66a467a44b0",
   "metadata": {},
   "source": [
    "# Create Database"
   ]
  },
  {
   "cell_type": "markdown",
   "id": "e4eda6d4-abae-4bb3-9b10-1a1a4bfcc900",
   "metadata": {},
   "source": [
    "### PYTHON SYNTAX for mysql :\n",
    "<b>SYNTAX : </b>\n",
    "<pre>\n",
    "import mysql.connector\n",
    "\n",
    "database_object = mysql.connector.connect(\n",
    "    host = \"localhost\",\n",
    "    user = \"root\",\n",
    "    passwd = \"PASSWORD\",\n",
    "    database = \"DATABASE_NAME\")\n",
    "\n",
    "mycursor = mydb.cursor()\n",
    "\n",
    "mycursor.execute(\"*********MYSQL QUERIES**********\")\n",
    "\n",
    "    statements/code......\n",
    "</pre>"
   ]
  },
  {
   "cell_type": "markdown",
   "id": "fb9dc374-6f55-4b66-aea8-858d05fc73f5",
   "metadata": {},
   "source": [
    "VARIABLE USED IN SYNTAX : \n",
    "* <b>database_object : </b> It is a casual object to store the values and allow to use database in programming\n",
    "* <b>HOST_NAME : </b> The MySQL hostname defines the location of your MySQL server and database.\n",
    "* <b>PASSWORD : </b> by default, there is no password but if you create then put it there.\n",
    "* <b>DATABASE_NAME : </b> Define a Database name that you want to create or want to work on existing any database.\n",
    "* <b>MYSQL_QUERIES : </b> all queries same as used in mysql.\n",
    "\n",
    "<b>NOTE : </b>Default user for MySQL is \"root\", and server \"localhost\" with no password on database."
   ]
  },
  {
   "cell_type": "markdown",
   "id": "690afd4e-7c91-4209-a1c5-71dbafa5f3f8",
   "metadata": {},
   "source": [
    "### Create Connection:\n",
    "Start by creating a connection to the database.<br>\n",
    "Use the username and password from your MySQL database:"
   ]
  },
  {
   "cell_type": "code",
   "execution_count": 3,
   "id": "624de585-6346-4cf8-b46a-95fdb4cb5ee6",
   "metadata": {},
   "outputs": [
    {
     "name": "stdout",
     "output_type": "stream",
     "text": [
      "<mysql.connector.connection_cext.CMySQLConnection object at 0x0000021245279210>\n"
     ]
    }
   ],
   "source": [
    "import mysql.connector\n",
    "\n",
    "mydb = mysql.connector.connect(\n",
    "    host = \"localhost\",\n",
    "    user = \"root\",\n",
    "    passwd = \"EHARAmaika@2000\"\n",
    ")\n",
    "print(mydb)"
   ]
  },
  {
   "cell_type": "markdown",
   "id": "c16d20f7-7973-4590-b0bf-454d1c9fc8e8",
   "metadata": {},
   "source": [
    "* <h3>formate to use mysql quearis:</h3>"
   ]
  },
  {
   "cell_type": "markdown",
   "id": "e5f4f105-a25d-4d63-93e4-35cda313ed7a",
   "metadata": {},
   "source": [
    "<pre><blockquote>import mysql.connector\n",
    "\n",
    "mydb = mysql.connector.connect(\n",
    "    host = 'localhost',\n",
    "    user = 'root',\n",
    "    passwd = 'EHARAmaika@2000')\n",
    "\n",
    "mycursor = mydb.cursor()\n",
    "\n",
    "mycursor.execute(\"***we will write our queries here***\")</blockquote></pre>"
   ]
  },
  {
   "cell_type": "markdown",
   "id": "197ca905-80c4-4c54-87df-035d60b16822",
   "metadata": {},
   "source": [
    "### Creating a Database:\n",
    "To create a database in MySQL, use the \"CREATE DATABASE\" statement:<br>\n",
    "Let's create a database named 'mydatabase'\n",
    "\n",
    "<b>Note : </b>If the above code was executed with no errors, you have successfully created a database."
   ]
  },
  {
   "cell_type": "code",
   "execution_count": 4,
   "id": "8238ef5e-1203-4263-900f-5e555845b61d",
   "metadata": {},
   "outputs": [],
   "source": [
    "import mysql.connector\n",
    "\n",
    "mydb = mysql.connector.connect(\n",
    "    host = 'localhost',\n",
    "    user = 'root',\n",
    "    passwd = 'EHARAmaika@2000'\n",
    ")\n",
    "\n",
    "mycusor = mydb.cursor()\n",
    "\n",
    "mycusor.execute(\"CREATE DATABASE mydatabase\")"
   ]
  },
  {
   "cell_type": "markdown",
   "id": "ca5ed8ae-96d9-4ecd-8acd-3d96afcb3d14",
   "metadata": {},
   "source": [
    "<b>ERROR : </b> you'll get following error if you tried to create databases who are already exists in database."
   ]
  },
  {
   "cell_type": "markdown",
   "id": "d971b394-3edf-43a5-b25e-8c54138fa7ee",
   "metadata": {},
   "source": [
    "<pre><b>Code:</b>\n",
    "<blockquote>import mysql.connector\n",
    "\n",
    "mydb = mysql.connector.connect(\n",
    "    host = 'localhost',\n",
    "    user = 'root',\n",
    "    passwd = 'EHARAmaika@2000')\n",
    "\n",
    "mycursor = mydb.cursor()\n",
    "\n",
    "mycursor.execute(\"CREATE DATABASE mydatabase\")</blockquote></pre>\n",
    "<pre>\n",
    "<b>Output : </b>\n",
    "---------------------------------------------------------------------------\n",
    "MySQLInterfaceError                       Traceback (most recent call last)\n",
    "File ~\\anaconda3\\Lib\\site-packages\\mysql\\connector\\connection_cext.py:661, in CMySQLConnection.cmd_query(self, query, raw, buffered, raw_as_string)\n",
    "    660         query = query.encode(\"utf-8\")\n",
    "--> 661     self._cmysql.query(\n",
    "    662         query,\n",
    "    663         raw=raw,\n",
    "    664         buffered=buffered,\n",
    "    665         raw_as_string=raw_as_string,\n",
    "    666         query_attrs=self.query_attrs,\n",
    "    667     )\n",
    "    668 except MySQLInterfaceError as err:\n",
    "\n",
    "MySQLInterfaceError: Can't create database 'mydatabase'; database exists\n",
    "\n",
    "The above exception was the direct cause of the following exception:\n",
    "\n",
    "DatabaseError                             Traceback (most recent call last)\n",
    "Cell In[11], line 10\n",
    "      3 mydb = mysql.connector.connect(\n",
    "      4     host = 'localhost',\n",
    "      5     user = 'root',\n",
    "      6     passwd = 'EHARAmaika@2000')\n",
    "      8 mycursor = mydb.cursor()\n",
    "---> 10 mycursor.execute(\"CREATE DATABASE mydatabase\")\n",
    "\n",
    "File ~\\anaconda3\\Lib\\site-packages\\mysql\\connector\\cursor_cext.py:374, in CMySQLCursor.execute(self, operation, params, multi)\n",
    "    369             raise ProgrammingError(\n",
    "    370                 \"Not all parameters were used in the SQL statement\"\n",
    "    371             )\n",
    "    373 try:\n",
    "--> 374     result = self._cnx.cmd_query(\n",
    "    375         stmt,\n",
    "    376         raw=self._raw,\n",
    "    377         buffered=self._buffered,\n",
    "    378         raw_as_string=self._raw_as_string,\n",
    "    379     )\n",
    "    380 except MySQLInterfaceError as err:\n",
    "    381     raise get_mysql_exception(\n",
    "    382         msg=err.msg, errno=err.errno, sqlstate=err.sqlstate\n",
    "    383     ) from err\n",
    "\n",
    "File ~\\anaconda3\\Lib\\site-packages\\mysql\\connector\\opentelemetry\\context_propagation.py:74, in with_context_propagation.<locals>.wrapper(cnx, *args, **kwargs)\n",
    "     72 \"\"\"Context propagation decorator.\"\"\"\n",
    "     73 if not OTEL_ENABLED or not cnx.otel_context_propagation:\n",
    "---> 74     return method(cnx, *args, **kwargs)\n",
    "     76 current_span = trace.get_current_span()\n",
    "     77 tp_header = None\n",
    "\n",
    "File ~\\anaconda3\\Lib\\site-packages\\mysql\\connector\\connection_cext.py:669, in CMySQLConnection.cmd_query(self, query, raw, buffered, raw_as_string)\n",
    "    661     self._cmysql.query(\n",
    "    662         query,\n",
    "    663         raw=raw,\n",
    "   (...)\n",
    "    666         query_attrs=self.query_attrs,\n",
    "    667     )\n",
    "    668 except MySQLInterfaceError as err:\n",
    "--> 669     raise get_mysql_exception(\n",
    "    670         err.errno, msg=err.msg, sqlstate=err.sqlstate\n",
    "    671     ) from err\n",
    "    672 except AttributeError as err:\n",
    "    673     addr = (\n",
    "    674         self._unix_socket if self._unix_socket else f\"{self._host}:{self._port}\"\n",
    "    675     )\n",
    "\n",
    "DatabaseError: 1007 (HY000): Can't create database 'mydatabase'; database exists<pre>"
   ]
  },
  {
   "cell_type": "markdown",
   "id": "d90cda83-dfd7-4917-95db-b396415864c1",
   "metadata": {},
   "source": [
    "### Check all Exists Databases:\n",
    "You can check if a database exist by listing all databases in your system by using the \"SHOW DATABASES\" statement:"
   ]
  },
  {
   "cell_type": "code",
   "execution_count": 5,
   "id": "12a131ec-f1e5-4619-b907-a3473879593d",
   "metadata": {},
   "outputs": [
    {
     "name": "stdout",
     "output_type": "stream",
     "text": [
      "('information_schema',)\n",
      "('mydatabase',)\n",
      "('mysql',)\n",
      "('performance_schema',)\n",
      "('sakila',)\n",
      "('sys',)\n",
      "('world',)\n"
     ]
    }
   ],
   "source": [
    "import mysql.connector\n",
    "\n",
    "mydb = mysql.connector.connect(\n",
    "    host = 'localhost',\n",
    "    user = 'root',\n",
    "    passwd = 'EHARAmaika@2000',\n",
    "    database = 'mydatabase'\n",
    ")\n",
    "\n",
    "mycursor = mydb.cursor()\n",
    "mycursor.execute(\"show databases\")\n",
    "\n",
    "for x in mycursor:\n",
    "    print(x)"
   ]
  },
  {
   "cell_type": "markdown",
   "id": "bbc250a9-408f-40f4-8beb-5b2208020e49",
   "metadata": {},
   "source": [
    "<b>ERROR : </b>If the database does not exist, you will get an error."
   ]
  },
  {
   "cell_type": "markdown",
   "id": "533ca910-8b8c-4809-a0c2-8159caa9fbf5",
   "metadata": {},
   "source": [
    "<pre><b>Code : </b>\n",
    "<blockquote>import mysql.connector\n",
    "\n",
    "mydb = mysql.connector.connect(host = 'localhost',\n",
    "                              user = 'root',\n",
    "                              passwd = 'EHARAmaika@2000',\n",
    "                              database = 'mybase')\n",
    "\n",
    "mycursor = mydb.cursor()\n",
    "mycursor.execute('show databases')\n",
    "\n",
    "for x in mycursor:\n",
    "    print(x)</blockquote></pre>\n",
    "\n",
    "<pre><b>Output : </b>\n",
    "---------------------------------------------------------------------------\n",
    "MySQLInterfaceError                       Traceback (most recent call last)\n",
    "~\\anaconda3\\lib\\site-packages\\mysql\\connector\\connection_cext.py in _open_connection(self)\n",
    "    287         try:\n",
    "--> 288             self._cmysql.connect(**cnx_kwargs)\n",
    "    289             self._cmysql.converter_str_fallback = self._converter_str_fallback\n",
    "\n",
    "MySQLInterfaceError: Unknown database 'mybase'\n",
    "\n",
    "The above exception was the direct cause of the following exception:\n",
    "\n",
    "ProgrammingError                          Traceback (most recent call last)\n",
    "~\\AppData\\Local\\Temp\\ipykernel_4760\\2675299089.py in <module>\n",
    "      1 import mysql.connector\n",
    "      2 \n",
    "----> 3 mydb = mysql.connector.connect(host = 'localhost',\n",
    "      4                               user = 'root',\n",
    "      5                               passwd = 'EHARAmaika@2000',\n",
    "\n",
    "~\\anaconda3\\lib\\site-packages\\mysql\\connector\\pooling.py in connect(*args, **kwargs)\n",
    "    291 \n",
    "    292     if CMySQLConnection and not use_pure:\n",
    "--> 293         return CMySQLConnection(*args, **kwargs)\n",
    "    294     return MySQLConnection(*args, **kwargs)\n",
    "    295 \n",
    "\n",
    "~\\anaconda3\\lib\\site-packages\\mysql\\connector\\connection_cext.py in __init__(self, **kwargs)\n",
    "    116 \n",
    "    117         if kwargs:\n",
    "--> 118             self.connect(**kwargs)\n",
    "    119 \n",
    "    120     def _add_default_conn_attrs(self) -> None:\n",
    "\n",
    "~\\anaconda3\\lib\\site-packages\\mysql\\connector\\abstracts.py in connect(self, **kwargs)\n",
    "   1176 \n",
    "   1177         self.disconnect()\n",
    "-> 1178         self._open_connection()\n",
    "   1179         # Server does not allow to run any other statement different from ALTER\n",
    "   1180         # when user's password has been expired.\n",
    "\n",
    "~\\anaconda3\\lib\\site-packages\\mysql\\connector\\connection_cext.py in _open_connection(self)\n",
    "    291                 self.converter.str_fallback = self._converter_str_fallback\n",
    "    292         except MySQLInterfaceError as err:\n",
    "--> 293             raise get_mysql_exception(\n",
    "    294                 msg=err.msg, errno=err.errno, sqlstate=err.sqlstate\n",
    "    295             ) from err\n",
    "\n",
    "ProgrammingError: 1049 (42000): Unknown database 'mybase'</pre>"
   ]
  },
  {
   "cell_type": "markdown",
   "id": "cf1bc8c2-382b-48f4-a1da-a5e4999b8c15",
   "metadata": {},
   "source": [
    "# Create Table :"
   ]
  },
  {
   "cell_type": "markdown",
   "id": "50fe552b-b6c8-4230-bd68-69f56262d5b8",
   "metadata": {},
   "source": [
    "### Creating a Table:\n",
    "To create a table in MySQL, use the \"CREATE TABLE\" statement.\n",
    "<br>\n",
    "Make sure you define the name of the database when you create the connection. create a table named 'customer'"
   ]
  },
  {
   "cell_type": "code",
   "execution_count": 6,
   "id": "656765e3-301b-4060-adbe-c0135cfd32d6",
   "metadata": {},
   "outputs": [],
   "source": [
    "import mysql.connector\n",
    "\n",
    "mydb = mysql.connector.connect(\n",
    "    host = 'localhost',\n",
    "    user = 'root',\n",
    "    passwd = 'EHARAmaika@2000',\n",
    "    database = 'mydatabase'\n",
    ")\n",
    "\n",
    "mycursor = mydb.cursor()\n",
    "\n",
    "mycursor.execute('CREATE TABLE customer(id int(3), name varchar(10), place varchar(10))')"
   ]
  },
  {
   "cell_type": "markdown",
   "id": "6868d1da-9102-44ef-abf7-c46b2a75bcdd",
   "metadata": {},
   "source": [
    "<b>NOTE : </b> If the above code was executed with no errors, you have now successfully created a table."
   ]
  },
  {
   "cell_type": "markdown",
   "id": "56422b59-ead1-45f2-9187-7e1b4d27524e",
   "metadata": {},
   "source": [
    "* Let's create one more table"
   ]
  },
  {
   "cell_type": "code",
   "execution_count": 7,
   "id": "8f63dcee-524a-44f6-8d96-d02ee192f569",
   "metadata": {},
   "outputs": [],
   "source": [
    "import mysql.connector\n",
    "\n",
    "mydb = mysql.connector.connect(\n",
    "    host = 'localhost',\n",
    "    user = 'root',\n",
    "    passwd = 'EHARAmaika@2000',\n",
    "    database = 'mydatabase'\n",
    ")\n",
    "\n",
    "mycursor = mydb.cursor()\n",
    "\n",
    "mycursor.execute('CREATE TABLE mycustomer(name varchar(15), place varchar(15))')"
   ]
  },
  {
   "cell_type": "markdown",
   "id": "6ee5e232-011e-40f9-bacd-c5ab1bcc39fd",
   "metadata": {},
   "source": [
    "### Check all Exists tables:\n",
    "You can check if a table exist by listing all tables in your database with the \"SHOW TABLES\" statement:"
   ]
  },
  {
   "cell_type": "code",
   "execution_count": 8,
   "id": "6eb44fe8-6063-4195-af8e-5bbc24f112f8",
   "metadata": {},
   "outputs": [
    {
     "name": "stdout",
     "output_type": "stream",
     "text": [
      "('customer',)\n",
      "('mycustomer',)\n"
     ]
    }
   ],
   "source": [
    "import mysql.connector\n",
    "\n",
    "mydb = mysql.connector.connect(\n",
    "    host = 'localhost',\n",
    "    user = 'root',\n",
    "    passwd = 'EHARAmaika@2000',\n",
    "    database = 'mydatabase'\n",
    ")\n",
    "\n",
    "mycursor = mydb.cursor()\n",
    "mycursor.execute(\"show tables\")\n",
    "\n",
    "for x in mycursor:\n",
    "    print(x)"
   ]
  },
  {
   "cell_type": "markdown",
   "id": "9f7e6d36-6d01-4e04-86f0-b59aed510f50",
   "metadata": {},
   "source": [
    "### Primary Key:\n",
    "* When creating a table, you should also create a column with a unique key for each record.\n",
    "* This can be done by defining a PRIMARY KEY.\n",
    "* We use the statement \"INT AUTO_INCREMENT PRIMARY KEY\" which will insert a unique number for each record. Starting at 1, and increased by one for each record."
   ]
  },
  {
   "cell_type": "code",
   "execution_count": 9,
   "id": "4f0b1233-802d-4ce6-8e70-28e646094f49",
   "metadata": {},
   "outputs": [],
   "source": [
    "import mysql.connector\n",
    "\n",
    "mydb = mysql.connector.connect(\n",
    "    host = \"localhost\",\n",
    "    user = \"root\",\n",
    "    passwd = \"EHARAmaika@2000\",\n",
    "    database = \"mydatabase\")\n",
    "\n",
    "mycursor = mydb.cursor()\n",
    "\n",
    "mycursor.execute(\"CREATE TABLE customers(ID INT AUTO_INCREMENT, NAME VARCHAR(255), ADDRESS VARCHAR(255), PRIMARY KEY(ID))\")"
   ]
  },
  {
   "cell_type": "markdown",
   "id": "5a2468fd-56ee-4941-9001-22cf5be5256e",
   "metadata": {},
   "source": [
    "* Let's see it with ccreating one more table"
   ]
  },
  {
   "cell_type": "code",
   "execution_count": 10,
   "id": "b76941bb-64f1-445c-834b-b9f329e0c386",
   "metadata": {},
   "outputs": [],
   "source": [
    "import mysql.connector\n",
    "\n",
    "mydb = mysql.connector.connect(\n",
    "    host = \"localhost\",\n",
    "    user = \"root\",\n",
    "    passwd = \"EHARAmaika@2000\",\n",
    "    database = \"mydatabase\")\n",
    "\n",
    "mycursor = mydb.cursor()\n",
    "\n",
    "mycursor.execute(\"CREATE TABLE user(FNAME VARCHAR(255), LNAME VARCHAR(255), ADDRESS VARCHAR(255))\")"
   ]
  },
  {
   "cell_type": "markdown",
   "id": "ae82879f-037f-48a5-bccf-6f363d7d38ae",
   "metadata": {},
   "source": [
    "#### add primary key in existing table:\n",
    "* If the table already exists, use the ALTER TABLE keyword:\n",
    "* Create primary key on an existing table:"
   ]
  },
  {
   "cell_type": "code",
   "execution_count": 11,
   "id": "aff89288-0c3c-4692-85ca-7afce5940e38",
   "metadata": {},
   "outputs": [],
   "source": [
    "import mysql.connector\n",
    "\n",
    "mydb = mysql.connector.connect(\n",
    "    host = 'localhost',\n",
    "    user = 'root',\n",
    "    passwd = 'EHARAmaika@2000',\n",
    "    database = 'mydatabase'\n",
    ")\n",
    "\n",
    "mycursor = mydb.cursor()\n",
    "\n",
    "mycursor.execute('ALTER TABLE user ADD COLUMN ID INT PRIMARY KEY')"
   ]
  },
  {
   "cell_type": "markdown",
   "id": "25dff6d4-2edc-496e-8267-837b46120f67",
   "metadata": {},
   "source": [
    "# insert table :"
   ]
  },
  {
   "cell_type": "markdown",
   "id": "2f67a934-8c6a-435c-9ab7-bc6b44aa68fb",
   "metadata": {},
   "source": [
    "### Insert single values in table:\n",
    "\n",
    "* To fill a table in MySQL, use the \"INSERT INTO\" statement.\n",
    "* Insert a record in the \"customers\" table:(single or multiple values)"
   ]
  },
  {
   "cell_type": "markdown",
   "id": "c0bb1720-e28d-4813-9071-e2613274fba5",
   "metadata": {},
   "source": [
    "#### Insert single values in table:\n",
    "\n",
    "* To fill a table in MySQL, use the \"INSERT INTO\" statement.\n",
    "\n",
    "* Insert a record in the \"customers\" table:(single value)"
   ]
  },
  {
   "cell_type": "code",
   "execution_count": 12,
   "id": "a1d1e738-fbab-447c-86f5-400629b508d5",
   "metadata": {},
   "outputs": [
    {
     "name": "stdout",
     "output_type": "stream",
     "text": [
      "1 record inserted.\n"
     ]
    }
   ],
   "source": [
    "import mysql.connector\n",
    "\n",
    "# Create a connection to the MySQL database\n",
    "mydb = mysql.connector.connect(\n",
    "    host = \"localhost\",\n",
    "    user = \"root\",\n",
    "    passwd = \"EHARAmaika@2000\",\n",
    "    database = \"mydatabase\")\n",
    "\n",
    "# Create a cursor object\n",
    "mycursor = mydb.cursor()\n",
    "\n",
    "# Execute an INSERT statement\n",
    "sql = \"insert into customers(NAME, ADDRESS) values (%s, %s)\"\n",
    "val = (\"JOHN\", \"HIGHWAY 21\")\n",
    "\n",
    "mycursor.execute(sql, val)\n",
    "\n",
    "# Commit the changes\n",
    "mydb.commit()\n",
    "\n",
    "# Close the connection\n",
    "print(mycursor.rowcount,\"record inserted.\")"
   ]
  },
  {
   "cell_type": "markdown",
   "id": "8ad863af-d6fb-4f1b-a77f-f36e0a422da8",
   "metadata": {},
   "source": [
    "***Important!: Notice the statement: mydb.commit(). It is required to make the changes, otherwise no changes are made to the table.***"
   ]
  },
  {
   "cell_type": "markdown",
   "id": "c1cdaa64-343b-47e9-b68a-f3cfa3a6cab7",
   "metadata": {},
   "source": [
    "#### Insert multiple values in table:\n",
    "* To fill a table in MySQL, use the \"INSERT INTO\" statement.\n",
    "* Insert a record in the \"customers\" table:(multiple values)"
   ]
  },
  {
   "cell_type": "code",
   "execution_count": 13,
   "id": "e3cd77d1-dfde-475a-a205-d111897e2ebf",
   "metadata": {},
   "outputs": [
    {
     "name": "stdout",
     "output_type": "stream",
     "text": [
      "13  rows was intserted.\n"
     ]
    }
   ],
   "source": [
    "import mysql.connector\n",
    "\n",
    "mydb = mysql.connector.connect(\n",
    "    host = \"localhost\",\n",
    "    user = \"root\",\n",
    "    passwd = \"EHARAmaika@2000\",\n",
    "    database = \"mydatabase\")\n",
    "\n",
    "mycursor = mydb.cursor()\n",
    "\n",
    "sql = \"insert into customers(NAME, ADDRESS) values (%s, %s)\"\n",
    "val = [('Peter', 'Lowstreet 4'),\n",
    "  ('Amy', 'Apple st 652'),\n",
    "  ('Hannah', 'Mountain 21'),\n",
    "  ('Michael', 'Valley 345'),\n",
    "  ('Sandy', 'Ocean blvd 2'),\n",
    "  ('Betty', 'Green Grass 1'),\n",
    "  ('Richard', 'Sky st 331'),\n",
    "  ('Susan', 'One way 98'),\n",
    "  ('Vicky', 'Yellow Garden 2'),\n",
    "  ('Ben', 'Park Lane 38'),\n",
    "  ('William', 'Central st 954'),\n",
    "  ('Chuck', 'Main Road 989'),\n",
    "  ('Viola', 'Sideway 1633')]\n",
    "\n",
    "mycursor.executemany(sql,val)\n",
    "mydb.commit()\n",
    "\n",
    "print(mycursor.rowcount,\" rows was intserted.\")"
   ]
  },
  {
   "cell_type": "markdown",
   "id": "c958dce2-6f7d-4bef-b127-19583a8ce687",
   "metadata": {},
   "source": [
    "* **Let's see with one more table** mycustomer."
   ]
  },
  {
   "cell_type": "code",
   "execution_count": 14,
   "id": "954e5504-64d2-4b2c-81d6-6a2f5fe13aff",
   "metadata": {},
   "outputs": [
    {
     "name": "stdout",
     "output_type": "stream",
     "text": [
      "13 rows was inserted.\n"
     ]
    }
   ],
   "source": [
    "import mysql.connector\n",
    "\n",
    "mydb = mysql.connector.connect(\n",
    "    host = \"localhost\",\n",
    "    user = \"root\",\n",
    "    passwd = \"EHARAmaika@2000\",\n",
    "    database = \"mydatabase\")\n",
    "\n",
    "mycursor = mydb.cursor()\n",
    "\n",
    "sql = \"insert into mycustomer(name, place) values (%s, %s)\"\n",
    "val = [('Peter', 'Lowstreet 4'),\n",
    "  ('Amy', 'Apple st 652'),\n",
    "  ('Hannah', 'Mountain 21'),\n",
    "  ('Michael', 'Valley 345'),\n",
    "  ('Sandy', 'Ocean blvd 2'),\n",
    "  ('Betty', 'Green Grass 1'),\n",
    "  ('Richard', 'Sky st 331'),\n",
    "  ('Susan', 'One way 98'),\n",
    "  ('Vicky', 'Yellow Garden 2'),\n",
    "  ('Ben', 'Park Lane 38'),\n",
    "  ('William', 'Central st 954'),\n",
    "  ('Chuck', 'Main Road 989'),\n",
    "  ('Viola', 'Sideway 1633')]\n",
    "\n",
    "mycursor.executemany(sql, val)\n",
    "\n",
    "mydb.commit()\n",
    "\n",
    "print(mycursor.rowcount,\"rows was inserted.\")"
   ]
  },
  {
   "cell_type": "markdown",
   "id": "e390b959-d33d-46f6-a9f9-e84db4b2ca17",
   "metadata": {},
   "source": [
    "* **Let's see with one more table** user."
   ]
  },
  {
   "cell_type": "markdown",
   "id": "3dc41888-ae84-4cab-be65-b7c708da1513",
   "metadata": {},
   "source": [
    "### Get Inserted ID of last value:\n",
    "You can get the id of the row you just inserted by asking the cursor object.<br>\n",
    "<b>Note :</b> If you insert more than one row, the id of the last inserted row is returned."
   ]
  },
  {
   "cell_type": "code",
   "execution_count": 15,
   "id": "2343c262-9128-43c5-b1a8-477d69cfd9ea",
   "metadata": {},
   "outputs": [
    {
     "name": "stdout",
     "output_type": "stream",
     "text": [
      "1 record inserted, last recorded ID : 15\n"
     ]
    }
   ],
   "source": [
    "import mysql.connector\n",
    "\n",
    "mydb = mysql.connector.connect(\n",
    "    host = \"localhost\",\n",
    "    user = \"root\",\n",
    "    passwd = \"EHARAmaika@2000\",\n",
    "    database = \"mydatabase\")\n",
    "\n",
    "mycursor = mydb.cursor()\n",
    "\n",
    "sql = \"insert into customers(NAME, ADDRESS) values (%s, %s)\"\n",
    "val = (\"Michelle\", \"Blue Village\")\n",
    "\n",
    "mycursor.execute(sql, val)\n",
    "\n",
    "mydb.commit()\n",
    "\n",
    "print(mycursor.rowcount,\"record inserted, last recorded ID :\",mycursor.lastrowid)"
   ]
  },
  {
   "cell_type": "markdown",
   "id": "ffaf11af-9f4c-4805-b3b1-54fd4e0ba5d8",
   "metadata": {},
   "source": [
    "# select table :"
   ]
  },
  {
   "cell_type": "markdown",
   "id": "a288f189-61a5-4a12-b08f-ce06de4b5581",
   "metadata": {},
   "source": [
    "### Select data From a Table:\n",
    "To select from a table in MySQL, use the \"SELECT\" statement:"
   ]
  },
  {
   "cell_type": "markdown",
   "id": "be15a57c-94d6-45df-be09-e4b643cc1c5a",
   "metadata": {},
   "source": [
    "* <h4>see all records of table/ display the table :</h4>"
   ]
  },
  {
   "cell_type": "markdown",
   "id": "e440ba9c-dd00-49b8-9521-0bd69e33dec2",
   "metadata": {},
   "source": [
    "<b>1. fetchall() : </b>The fetchall() method in Python is used to fetch all (or all remaining) rows of a query result set and returns a list of tuples. If no more rows are available, it returns an empty list."
   ]
  },
  {
   "cell_type": "markdown",
   "id": "bb565351-b13b-4f14-9cbc-9dc0089282f1",
   "metadata": {},
   "source": [
    "<b>Select all records from the \"customers\" table, and display the result:</b>"
   ]
  },
  {
   "cell_type": "code",
   "execution_count": 16,
   "id": "15a7c62c-1710-4906-acb1-4cf363a3f7da",
   "metadata": {},
   "outputs": [
    {
     "name": "stdout",
     "output_type": "stream",
     "text": [
      "(1, 'JOHN', 'HIGHWAY 21')\n",
      "(2, 'Peter', 'Lowstreet 4')\n",
      "(3, 'Amy', 'Apple st 652')\n",
      "(4, 'Hannah', 'Mountain 21')\n",
      "(5, 'Michael', 'Valley 345')\n",
      "(6, 'Sandy', 'Ocean blvd 2')\n",
      "(7, 'Betty', 'Green Grass 1')\n",
      "(8, 'Richard', 'Sky st 331')\n",
      "(9, 'Susan', 'One way 98')\n",
      "(10, 'Vicky', 'Yellow Garden 2')\n",
      "(11, 'Ben', 'Park Lane 38')\n",
      "(12, 'William', 'Central st 954')\n",
      "(13, 'Chuck', 'Main Road 989')\n",
      "(14, 'Viola', 'Sideway 1633')\n",
      "(15, 'Michelle', 'Blue Village')\n"
     ]
    }
   ],
   "source": [
    "import mysql.connector\n",
    "\n",
    "mydb = mysql.connector.connect(\n",
    "    host = \"localhost\",\n",
    "    user = \"root\",\n",
    "    passwd = \"EHARAmaika@2000\",\n",
    "    database = \"mydatabase\")\n",
    "\n",
    "mycursor = mydb.cursor()\n",
    "\n",
    "mycursor.execute(\"SELECT * FROM customers\")\n",
    "\n",
    "myresult = mycursor.fetchall()\n",
    "\n",
    "for x in myresult:\n",
    "    print(x)"
   ]
  },
  {
   "cell_type": "markdown",
   "id": "9e8c3340-9a96-402f-8758-d4630751541a",
   "metadata": {},
   "source": [
    "***Note:*** We use the fetchall() method, which fetches all rows from the last executed statement."
   ]
  },
  {
   "cell_type": "markdown",
   "id": "605f1d91-e182-4385-9e56-5806d095c157",
   "metadata": {},
   "source": [
    "* <b> you can print result with specific columms.</b>"
   ]
  },
  {
   "cell_type": "code",
   "execution_count": 17,
   "id": "72d531dd-9888-4346-a610-2e559acdc189",
   "metadata": {},
   "outputs": [
    {
     "name": "stdout",
     "output_type": "stream",
     "text": [
      "('JOHN', 'HIGHWAY 21')\n",
      "('Peter', 'Lowstreet 4')\n",
      "('Amy', 'Apple st 652')\n",
      "('Hannah', 'Mountain 21')\n",
      "('Michael', 'Valley 345')\n",
      "('Sandy', 'Ocean blvd 2')\n",
      "('Betty', 'Green Grass 1')\n",
      "('Richard', 'Sky st 331')\n",
      "('Susan', 'One way 98')\n",
      "('Vicky', 'Yellow Garden 2')\n",
      "('Ben', 'Park Lane 38')\n",
      "('William', 'Central st 954')\n",
      "('Chuck', 'Main Road 989')\n",
      "('Viola', 'Sideway 1633')\n",
      "('Michelle', 'Blue Village')\n"
     ]
    }
   ],
   "source": [
    "import mysql.connector\n",
    "\n",
    "mydb = mysql.connector.connect(host = \"localhost\", user = \"root\", passwd = \"EHARAmaika@2000\", database = \"mydatabase\")\n",
    "\n",
    "mycursor = mydb.cursor()\n",
    "\n",
    "mycursor.execute(\"SELECT NAME, ADDRESS FROM customers\")\n",
    "\n",
    "myresult = mycursor.fetchall()\n",
    "\n",
    "for x in myresult:\n",
    "    print(x)"
   ]
  },
  {
   "cell_type": "code",
   "execution_count": 18,
   "id": "19bd3508-9e44-4687-8660-6afd8e1ccb74",
   "metadata": {},
   "outputs": [
    {
     "name": "stdout",
     "output_type": "stream",
     "text": [
      "('HIGHWAY 21',)\n",
      "('Lowstreet 4',)\n",
      "('Apple st 652',)\n",
      "('Mountain 21',)\n",
      "('Valley 345',)\n",
      "('Ocean blvd 2',)\n",
      "('Green Grass 1',)\n",
      "('Sky st 331',)\n",
      "('One way 98',)\n",
      "('Yellow Garden 2',)\n",
      "('Park Lane 38',)\n",
      "('Central st 954',)\n",
      "('Main Road 989',)\n",
      "('Sideway 1633',)\n",
      "('Blue Village',)\n"
     ]
    }
   ],
   "source": [
    "import mysql.connector\n",
    "\n",
    "mydb = mysql.connector.connect(host = \"localhost\",\n",
    "                               user = \"root\",\n",
    "                               passwd = \"EHARAmaika@2000\",\n",
    "                               database = \"mydatabase\")\n",
    "\n",
    "mycursor = mydb.cursor()\n",
    "\n",
    "mycursor.execute(\"SELECT ADDRESS FROM customers\")\n",
    "\n",
    "myresult = mycursor.fetchall()\n",
    "\n",
    "for x in myresult:\n",
    "    print(x)"
   ]
  },
  {
   "cell_type": "markdown",
   "id": "d90faaa1-16b7-4d61-bce6-556105d67ac5",
   "metadata": {},
   "source": [
    "* <h4>see only first records of table/ display the table :</h4>"
   ]
  },
  {
   "cell_type": "markdown",
   "id": "c80d4b9a-06c2-46a4-9d0e-f0b9a7507ad7",
   "metadata": {},
   "source": [
    "<b>fetchone() :</b> If you are only interested in one row, you can use the fetchone() method. The fetchone() method will return the first row of the result:\n",
    "<b>Fetch only one row:</b>"
   ]
  },
  {
   "cell_type": "markdown",
   "id": "73d40f87-a93a-4a42-ac65-fedc7ff559c7",
   "metadata": {},
   "source": [
    "<b>Select first record from the \"customers\" table, and display the result:</b>"
   ]
  },
  {
   "cell_type": "code",
   "execution_count": 19,
   "id": "6b2904e1-08f3-4409-a581-8ddd3b06d4ea",
   "metadata": {},
   "outputs": [
    {
     "name": "stdout",
     "output_type": "stream",
     "text": [
      "(1, 'JOHN', 'HIGHWAY 21')\n"
     ]
    }
   ],
   "source": [
    "import mysql.connector\n",
    "\n",
    "mydb = mysql.connector.connect(host = \"localhost\",\n",
    "                               user = \"root\",\n",
    "                               passwd = \"EHARAmaika@2000\",\n",
    "                               database = \"mydatabase\")\n",
    "\n",
    "mycursor = mydb.cursor()\n",
    "\n",
    "mycursor.execute(\"SELECT * FROM customers\")\n",
    "\n",
    "myresult = mycursor.fetchone()\n",
    "\n",
    "print(myresult)"
   ]
  },
  {
   "cell_type": "markdown",
   "id": "0f1a25bf-55ab-4287-a001-74a382fe02f2",
   "metadata": {},
   "source": [
    "### Select With a Filter:"
   ]
  },
  {
   "cell_type": "markdown",
   "id": "be215124-414f-4193-89cc-cf7d620a8892",
   "metadata": {},
   "source": [
    "* <b>select with where: </b><br>\n",
    "When selecting records from a table, you can filter the selection by using the \"WHERE\" statement:"
   ]
  },
  {
   "cell_type": "markdown",
   "id": "8bb5603a-4c4d-41f6-9850-bc2fe085d1d2",
   "metadata": {},
   "source": [
    "<b>Select and print record(s) where the address is \"Park Lane 38\" in table customers :</b>"
   ]
  },
  {
   "cell_type": "code",
   "execution_count": 20,
   "id": "5abf77e8-b71d-4cdc-8d07-c5a69cc69ec3",
   "metadata": {},
   "outputs": [
    {
     "name": "stdout",
     "output_type": "stream",
     "text": [
      "(11, 'Ben', 'Park Lane 38')\n"
     ]
    }
   ],
   "source": [
    "import mysql.connector\n",
    "\n",
    "mydb = mysql.connector.connect(host = \"localhost\", user = \"root\", passwd = \"EHARAmaika@2000\", database = \"mydatabase\")\n",
    "\n",
    "mycursor = mydb.cursor()\n",
    "\n",
    "mycursor.execute(\"SELECT * FROM customers WHERE ADDRESS = 'Park Lane 38'\")\n",
    "\n",
    "myresult = mycursor.fetchall()\n",
    "\n",
    "for x in myresult:\n",
    "    print(x)"
   ]
  },
  {
   "cell_type": "markdown",
   "id": "1b28b8b4-4dbd-41a8-a33e-a550e1e3ce70",
   "metadata": {},
   "source": [
    "### select and print record(s) with specific in records."
   ]
  },
  {
   "cell_type": "markdown",
   "id": "e92e07de-0464-4500-bc84-505d2682c802",
   "metadata": {},
   "source": [
    "* #### Wildcard Characters:\n",
    "You can also select the records that starts, includes, or ends with a given letter or phrase. Use the %  to represent wildcard characters:"
   ]
  },
  {
   "cell_type": "markdown",
   "id": "e4ca37d4-af92-4155-af29-edb4e98737f9",
   "metadata": {},
   "source": [
    "<b>Select and print record(s) where the address contains the word \"way\" in table customers:</b>"
   ]
  },
  {
   "cell_type": "code",
   "execution_count": 26,
   "id": "de3f3f95-ef72-4086-92b7-ff9d13f6e73b",
   "metadata": {},
   "outputs": [
    {
     "name": "stdout",
     "output_type": "stream",
     "text": [
      "(1, 'JOHN', 'HIGHWAY 21')\n",
      "(9, 'Susan', 'One way 98')\n",
      "(14, 'Viola', 'Sideway 1633')\n"
     ]
    }
   ],
   "source": [
    "import mysql.connector\n",
    "\n",
    "mydb = mysql.connector.connect(host = \"localhost\", user = \"root\", passwd = \"EHARAmaika@2000\", database = \"mydatabase\")\n",
    "\n",
    "mycursor = mydb.cursor()\n",
    "\n",
    "sql = \"SELECT * FROM customers WHERE ADDRESS LIKE '%way%'\"\n",
    "\n",
    "mycursor.execute(sql)\n",
    "\n",
    "myresult = mycursor.fetchall()\n",
    "\n",
    "for x in myresult:\n",
    "    print(x)"
   ]
  },
  {
   "cell_type": "markdown",
   "id": "20cca613-4c77-4b82-a756-9c9c37155090",
   "metadata": {},
   "source": [
    "* ### Prevent SQL Injection:\n",
    "When query values are provided by the user, you should escape the values. This is to prevent SQL injections, which is a common web hacking technique to destroy or misuse your database. The mysql.connector module has methods to escape query values:"
   ]
  },
  {
   "cell_type": "markdown",
   "id": "a8a5a89b-cb56-4d0d-a22e-1fecd0eaa3bf",
   "metadata": {},
   "source": [
    "<b>Escape query values by using the placholder %s method:</b>"
   ]
  },
  {
   "cell_type": "code",
   "execution_count": 24,
   "id": "128d39a8-14c8-45d7-af7a-4763f754c169",
   "metadata": {},
   "outputs": [
    {
     "name": "stdout",
     "output_type": "stream",
     "text": [
      "(10, 'Vicky', 'Yellow Garden 2')\n"
     ]
    }
   ],
   "source": [
    "import mysql.connector\n",
    "\n",
    "mydb = mysql.connector.connect(host = \"localhost\", user = \"root\", passwd = \"EHARAmaika@2000\", database = \"mydatabase\")\n",
    "\n",
    "mycursor = mydb.cursor()\n",
    "\n",
    "sql = \"SELECT * FROM customers WHERE ADDRESS = %s\"\n",
    "add = (\"Yellow Garden 2\",)\n",
    "\n",
    "mycursor.execute(sql,add)\n",
    "\n",
    "myresult = mycursor.fetchall()\n",
    "\n",
    "for x in myresult:\n",
    "    print(x)"
   ]
  },
  {
   "cell_type": "markdown",
   "id": "aff7830a-f276-4804-9388-c37905fdfc3d",
   "metadata": {},
   "source": [
    "### Python MySQL Order By:\n",
    "<b>Sort the Result:</b>\n",
    "Use the ORDER BY statement to sort the result in ascending or descending order. The ORDER BY keyword sorts the result ascending by default. To sort the result in descending order, use the DESC keyword."
   ]
  },
  {
   "cell_type": "markdown",
   "id": "9f905646-9b3f-4056-9c98-29f5004befdd",
   "metadata": {},
   "source": [
    "<b>Sort the result alphabetically by name: result:</b>"
   ]
  },
  {
   "cell_type": "code",
   "execution_count": 28,
   "id": "8a9ad060-b426-4b46-9ad6-0e372b550aeb",
   "metadata": {},
   "outputs": [
    {
     "name": "stdout",
     "output_type": "stream",
     "text": [
      "(3, 'Amy', 'Apple st 652')\n",
      "(11, 'Ben', 'Park Lane 38')\n",
      "(7, 'Betty', 'Green Grass 1')\n",
      "(13, 'Chuck', 'Main Road 989')\n",
      "(4, 'Hannah', 'Mountain 21')\n",
      "(1, 'JOHN', 'HIGHWAY 21')\n",
      "(5, 'Michael', 'Valley 345')\n",
      "(15, 'Michelle', 'Blue Village')\n",
      "(2, 'Peter', 'Lowstreet 4')\n",
      "(8, 'Richard', 'Sky st 331')\n",
      "(6, 'Sandy', 'Ocean blvd 2')\n",
      "(9, 'Susan', 'One way 98')\n",
      "(10, 'Vicky', 'Yellow Garden 2')\n",
      "(14, 'Viola', 'Sideway 1633')\n",
      "(12, 'William', 'Central st 954')\n"
     ]
    }
   ],
   "source": [
    "import mysql.connector\n",
    "\n",
    "mydb = mysql.connector.connect(host = \"localhost\", user = \"root\", passwd = \"EHARAmaika@2000\", database = \"mydatabase\")\n",
    "\n",
    "mycursor = mydb.cursor()\n",
    "\n",
    "sql = 'SELECT * FROM customers ORDER BY name'\n",
    "\n",
    "mycursor.execute(sql)\n",
    "\n",
    "myresult = mycursor.fetchall()\n",
    "\n",
    "for x in myresult:\n",
    "    print(x)"
   ]
  },
  {
   "cell_type": "markdown",
   "id": "e38f0943-fd0b-4ffb-a07d-0b0a85bb0a0d",
   "metadata": {},
   "source": [
    "<b>Sort by ORDER in DESC:</b>\n",
    "Use the DESC keyword to sort the result in a descending order."
   ]
  },
  {
   "cell_type": "code",
   "execution_count": 29,
   "id": "3544993c-1b57-43f3-b69a-2d6d1b5b6537",
   "metadata": {},
   "outputs": [
    {
     "name": "stdout",
     "output_type": "stream",
     "text": [
      "(12, 'William', 'Central st 954')\n",
      "(14, 'Viola', 'Sideway 1633')\n",
      "(10, 'Vicky', 'Yellow Garden 2')\n",
      "(9, 'Susan', 'One way 98')\n",
      "(6, 'Sandy', 'Ocean blvd 2')\n",
      "(8, 'Richard', 'Sky st 331')\n",
      "(2, 'Peter', 'Lowstreet 4')\n",
      "(15, 'Michelle', 'Blue Village')\n",
      "(5, 'Michael', 'Valley 345')\n",
      "(1, 'JOHN', 'HIGHWAY 21')\n",
      "(4, 'Hannah', 'Mountain 21')\n",
      "(13, 'Chuck', 'Main Road 989')\n",
      "(7, 'Betty', 'Green Grass 1')\n",
      "(11, 'Ben', 'Park Lane 38')\n",
      "(3, 'Amy', 'Apple st 652')\n"
     ]
    }
   ],
   "source": [
    "import mysql.connector\n",
    "\n",
    "mydb = mysql.connector.connect(host = \"localhost\", user = \"root\", passwd = \"EHARAmaika@2000\", database = \"mydatabase\")\n",
    "\n",
    "mycursor = mydb.cursor()\n",
    "\n",
    "sql = 'SELECT * FROM customers ORDER BY name DESC'\n",
    "\n",
    "mycursor.execute(sql)\n",
    "\n",
    "myresult = mycursor.fetchall()\n",
    "\n",
    "for x in myresult:\n",
    "    print(x)"
   ]
  },
  {
   "cell_type": "markdown",
   "id": "9bb9bf11-f6cd-462c-9e1f-064d0e5d4a98",
   "metadata": {},
   "source": [
    "# delete table :"
   ]
  },
  {
   "cell_type": "markdown",
   "id": "0bdf6e1a-0699-453c-a65a-acbc7c514818",
   "metadata": {},
   "source": [
    "### Delete Record\n",
    "You can delete records from an existing table by using the \"DELETE FROM\" statement:"
   ]
  },
  {
   "cell_type": "markdown",
   "id": "44150c3d-1b74-412c-a10b-d9b3682d479b",
   "metadata": {},
   "source": [
    "<b>Delete any record where the address is \"Mountain 21\":</b>"
   ]
  },
  {
   "cell_type": "code",
   "execution_count": 1,
   "id": "0e1835a3-0f22-4437-9220-b38e6e10b359",
   "metadata": {},
   "outputs": [
    {
     "name": "stdout",
     "output_type": "stream",
     "text": [
      "1 record(s) deleted.\n"
     ]
    }
   ],
   "source": [
    "import mysql.connector\n",
    "\n",
    "mydb = mysql.connector.connect(host = \"localhost\", user = \"root\", passwd = \"EHARAmaika@2000\", database = \"mydatabase\")\n",
    "\n",
    "mycursor = mydb.cursor()\n",
    "\n",
    "sql = \"DELETE FROM customers WHERE ADDRESS = 'Mountain 21'\"\n",
    "\n",
    "mycursor.execute(sql)\n",
    "\n",
    "mydb.commit()\n",
    "\n",
    "print(mycursor.rowcount,\"record(s) deleted.\")"
   ]
  },
  {
   "cell_type": "markdown",
   "id": "3c23012c-98dd-4831-9051-115d0f47eeac",
   "metadata": {},
   "source": [
    "<b>NOTE : </b>\n",
    "* Notice the statement: mydb.commit(). It is required to make the changes, otherwise no changes are made to the table.\n",
    "* the WHERE clause in the DELETE syntax: The WHERE clause specifies which record(s) that should be deleted. If you omit the WHERE clause, all records will be deleted!"
   ]
  },
  {
   "cell_type": "markdown",
   "id": "6a285875-b1b9-4919-8c73-511113260ccb",
   "metadata": {},
   "source": [
    "### Prevent SQL Injection\n",
    "It is considered a good practice to escape the values of any query, also in delete statements. This is to prevent SQL injections, which is a common web hacking technique to destroy or misuse your database. The mysql.connector module uses the placeholder %s to escape values in the delete statement:"
   ]
  },
  {
   "cell_type": "markdown",
   "id": "6a6bbf10-4eb8-481e-bef1-577c96ccc48d",
   "metadata": {},
   "source": [
    "<b>Escape values by using the placeholder %s method:</b>"
   ]
  },
  {
   "cell_type": "code",
   "execution_count": 2,
   "id": "dcec7aaf-7700-4ffe-bb59-f3d54a82ca29",
   "metadata": {},
   "outputs": [
    {
     "name": "stdout",
     "output_type": "stream",
     "text": [
      "1 record(s) deleted\n"
     ]
    }
   ],
   "source": [
    "import mysql.connector\n",
    "\n",
    "mydb = mysql.connector.connect(host = \"localhost\", user = \"root\", passwd = \"EHARAmaika@2000\", database = \"mydatabase\")\n",
    "\n",
    "mycursor = mydb.cursor()\n",
    "\n",
    "sql = \"DELETE FROM customers WHERE address = %s\"\n",
    "adr = (\"Yellow Garden 2\", )\n",
    "\n",
    "mycursor.execute(sql, adr)\n",
    "\n",
    "mydb.commit()\n",
    "\n",
    "print(mycursor.rowcount, \"record(s) deleted\")"
   ]
  },
  {
   "cell_type": "markdown",
   "id": "dfab0174-384c-4090-9b96-a1d4cd9e8e8e",
   "metadata": {},
   "source": [
    "# Drop table"
   ]
  },
  {
   "cell_type": "markdown",
   "id": "7e4fa281-9fa9-4e69-8871-329c5b790047",
   "metadata": {},
   "source": [
    "### Drop a Table\n",
    "You can delete an existing table by using the \"DROP TABLE\" statement:"
   ]
  },
  {
   "cell_type": "markdown",
   "id": "ae4cdf64-4c5d-4a60-8ec0-77dba52ab906",
   "metadata": {},
   "source": [
    "<b>Delete the table \"customers\":</b>"
   ]
  },
  {
   "cell_type": "code",
   "execution_count": 3,
   "id": "84ce900e-d2a3-4741-811a-1fe42268212f",
   "metadata": {},
   "outputs": [],
   "source": [
    "import mysql.connector\n",
    "\n",
    "mydb = mysql.connector.connect(host = \"localhost\", user = \"root\", passwd = \"EHARAmaika@2000\", database = \"mydatabase\")\n",
    "\n",
    "mycursor = mydb.cursor()\n",
    "\n",
    "sql = \"DROP TABLE customers\"\n",
    "\n",
    "mycursor.execute(sql)"
   ]
  },
  {
   "cell_type": "markdown",
   "id": "38468cc3-3f7d-4293-ac29-2302abbf7c94",
   "metadata": {},
   "source": [
    "### Drop Only if Exist\n",
    "If the table you want to delete is already deleted, or for any other reason does not exist, you can use the IF EXISTS keyword to avoid getting an error."
   ]
  },
  {
   "cell_type": "markdown",
   "id": "de3b3f0d-54bb-4e1a-82b2-4a8481d549b1",
   "metadata": {},
   "source": [
    "<b>Delete the table \"customers\" if it exists:</b>"
   ]
  },
  {
   "cell_type": "code",
   "execution_count": 4,
   "id": "2d0899c6-5b20-4cde-81f6-edbc9f40b1cd",
   "metadata": {},
   "outputs": [],
   "source": [
    "import mysql.connector\n",
    "\n",
    "mydb = mysql.connector.connect(host = \"localhost\", user = \"root\", passwd = \"EHARAmaika@2000\", database = \"mydatabase\")\n",
    "\n",
    "mycursor = mydb.cursor()\n",
    "\n",
    "sql = \"DROP TABLE IF EXISTS customers\"\n",
    "\n",
    "mycursor.execute(sql)"
   ]
  },
  {
   "cell_type": "markdown",
   "id": "2c04fcea-dee6-49f3-aea0-4c37b0e7ac7e",
   "metadata": {},
   "source": [
    "# Update table"
   ]
  },
  {
   "cell_type": "markdown",
   "id": "7a5c3461-31cc-454c-aec1-a173dac049a3",
   "metadata": {},
   "source": [
    "### Update the records in Table\n",
    "You can update existing records in a table by using the \"UPDATE\" statement:"
   ]
  },
  {
   "cell_type": "markdown",
   "id": "f0162ce2-0505-47bd-85a5-63ff6df376c4",
   "metadata": {},
   "source": [
    "<b>Overwrite the address column from \"Valley 345\" to \"Canyon 123\":</b>"
   ]
  },
  {
   "cell_type": "code",
   "execution_count": 5,
   "id": "cd74ed18-c7f8-4966-96c0-37f59e97c2c3",
   "metadata": {},
   "outputs": [
    {
     "name": "stdout",
     "output_type": "stream",
     "text": [
      "1 record(s) affected\n"
     ]
    }
   ],
   "source": [
    "import mysql.connector\n",
    "\n",
    "mydb = mysql.connector.connect(host = \"localhost\", user = \"root\", passwd = \"EHARAmaika@2000\", database = \"mydatabase\")\n",
    "\n",
    "mycursor = mydb.cursor()\n",
    "\n",
    "sql = \"UPDATE mycustomer SET place = 'Canyon 123' WHERE place = 'Valley 345'\"\n",
    "\n",
    "mycursor.execute(sql)\n",
    "\n",
    "mydb.commit()\n",
    "\n",
    "print(mycursor.rowcount, \"record(s) affected\")"
   ]
  },
  {
   "cell_type": "markdown",
   "id": "c4108ad2-c25f-4e6d-85ff-376d96e26e63",
   "metadata": {},
   "source": [
    "<b>NOTE : </b>\n",
    "* Notice the statement: mydb.commit(). It is required to make the changes, otherwise no changes are made to the table.\n",
    "* Notice the WHERE clause in the UPDATE syntax:*** The WHERE clause specifies which record or records that should be updated. If you omit the WHERE clause, all records will be updated!"
   ]
  },
  {
   "cell_type": "markdown",
   "id": "4d6ee531-e7bc-4e31-ac46-b8cd73dfae06",
   "metadata": {},
   "source": [
    "### Prevent SQL Injection\n",
    "It is considered a good practice to escape the values of any query, also in update statements. This is to prevent SQL injections, which is a common web hacking technique to destroy or misuse your database. The mysql.connector module uses the placeholder %s to escape values in the delete statement:"
   ]
  },
  {
   "cell_type": "markdown",
   "id": "d0b9951a-0f25-4285-bdb5-2e6bdf97fe29",
   "metadata": {},
   "source": [
    "<b>Escape values by using the placeholder %s method:</b>"
   ]
  },
  {
   "cell_type": "markdown",
   "id": "b8d4bdfa-eaf2-446c-ab3a-f682fbdffd3a",
   "metadata": {},
   "source": [
    "### Prevent SQL Injection\n",
    "It is considered a good practice to escape the values of any query, also in update statements. This is to prevent SQL injections, which is a common web hacking technique to destroy or misuse your database. The mysql.connector module uses the placeholder %s to escape values in the delete statement:"
   ]
  },
  {
   "cell_type": "markdown",
   "id": "f0f739b3-16ac-49f8-a668-bd4f042e354b",
   "metadata": {},
   "source": [
    "<b>Escape values by using the placeholder %s method:</b>"
   ]
  },
  {
   "cell_type": "code",
   "execution_count": 7,
   "id": "fa30cade-564c-4d1c-bff4-78aaebb26db1",
   "metadata": {},
   "outputs": [
    {
     "name": "stdout",
     "output_type": "stream",
     "text": [
      "1 record(s) affected\n"
     ]
    }
   ],
   "source": [
    "import mysql.connector\n",
    "\n",
    "mydb = mysql.connector.connect(host = \"localhost\", user = \"root\", passwd = \"EHARAmaika@2000\", database = \"mydatabase\")\n",
    "\n",
    "mycursor = mydb.cursor()\n",
    "\n",
    "sql = \"UPDATE mycustomer SET place = %s WHERE place = %s\"\n",
    "val =('Valley 345','Canyon 123')\n",
    "\n",
    "mycursor.execute(sql, val)\n",
    "\n",
    "mydb.commit()\n",
    "\n",
    "print(mycursor.rowcount, \"record(s) affected\")"
   ]
  },
  {
   "cell_type": "markdown",
   "id": "518f3db3-0896-43c5-8989-7e82b7c414b3",
   "metadata": {},
   "source": [
    "### Limit the Result\n",
    "You can limit the number of records returned from the query, by using the \"LIMIT\" statement:"
   ]
  },
  {
   "cell_type": "markdown",
   "id": "3d73c13b-4735-4761-b094-c73614be3198",
   "metadata": {},
   "source": [
    "<b>Select the 5 first records in the \"customers\" table:</b>"
   ]
  },
  {
   "cell_type": "code",
   "execution_count": 8,
   "id": "8bd427fc-e4f6-4797-8f60-e62b7a7dc577",
   "metadata": {},
   "outputs": [
    {
     "name": "stdout",
     "output_type": "stream",
     "text": [
      "('Peter', 'Lowstreet 4')\n",
      "('Amy', 'Apple st 652')\n",
      "('Hannah', 'Mountain 21')\n",
      "('Michael', 'Valley 345')\n",
      "('Sandy', 'Ocean blvd 2')\n"
     ]
    }
   ],
   "source": [
    "import mysql.connector\n",
    "\n",
    "mydb = mysql.connector.connect(host = \"localhost\", user = \"root\", passwd = \"EHARAmaika@2000\", database = \"mydatabase\")\n",
    "\n",
    "mycursor = mydb.cursor()\n",
    "\n",
    "sql = \"SELECT * FROM mycustomer LIMIT 5\"\n",
    "\n",
    "mycursor.execute(sql)\n",
    "\n",
    "myresult = mycursor.fetchall()\n",
    "\n",
    "for x in myresult:\n",
    "    print(x)"
   ]
  },
  {
   "cell_type": "markdown",
   "id": "a1a3b7ef-b47b-4550-8e7b-36465b1ce5b5",
   "metadata": {},
   "source": [
    "### Start From Another Position\n",
    "If you want to return five records, starting from the third record, you can use the \"OFFSET\" keyword:"
   ]
  },
  {
   "cell_type": "markdown",
   "id": "91592192-65a1-49a9-a8e4-cf927edc283a",
   "metadata": {},
   "source": [
    "<b>Start from position 3, and return 5 records:</b>"
   ]
  },
  {
   "cell_type": "code",
   "execution_count": 9,
   "id": "96f56542-070b-4fb0-bad0-dd7e354b0579",
   "metadata": {},
   "outputs": [
    {
     "name": "stdout",
     "output_type": "stream",
     "text": [
      "('Hannah', 'Mountain 21')\n",
      "('Michael', 'Valley 345')\n",
      "('Sandy', 'Ocean blvd 2')\n",
      "('Betty', 'Green Grass 1')\n",
      "('Richard', 'Sky st 331')\n"
     ]
    }
   ],
   "source": [
    "import mysql.connector\n",
    "\n",
    "mydb = mysql.connector.connect(host = \"localhost\", user = \"root\", passwd = \"EHARAmaika@2000\", database = \"mydatabase\")\n",
    "\n",
    "mycursor = mydb.cursor()\n",
    "\n",
    "sql = \"SELECT * FROM mycustomer LIMIT 5 OFFSET 2\"\n",
    "\n",
    "mycursor.execute(sql)\n",
    "\n",
    "myresult = mycursor.fetchall()\n",
    "\n",
    "for x in myresult:\n",
    "    print(x)"
   ]
  },
  {
   "cell_type": "markdown",
   "id": "bf8788ac-f078-40a5-a48f-a6824effca35",
   "metadata": {},
   "source": [
    "# join table"
   ]
  },
  {
   "cell_type": "markdown",
   "id": "06e8791e-9bdf-42c7-8110-804142bea2e1",
   "metadata": {},
   "source": [
    "### Join Two or More Tables\n",
    "You can combine rows from two or more tables, based on a related column between them, by using a JOIN statement."
   ]
  },
  {
   "cell_type": "markdown",
   "id": "f2ea9cd5-a736-4c4f-9136-e7161c2e67eb",
   "metadata": {},
   "source": [
    "<b>Consider you have a \"users\" table and a \"products\" table:</b>"
   ]
  },
  {
   "cell_type": "markdown",
   "id": "6baa03c8-7f0a-49b0-9a22-4ce1d29f3d0b",
   "metadata": {},
   "source": [
    "TABLE 1 : users    [id, name, fav]\n",
    "{ id: 1, name: 'John', fav: 154},\n",
    "{ id: 2, name: 'Peter', fav: 154},\n",
    "{ id: 3, name: 'Amy', fav: 155},\n",
    "{ id: 4, name: 'Hannah', fav:},\n",
    "{ id: 5, name: 'Michael', fav:}\n",
    "\n",
    "TABLE 2 : products [id, name]\n",
    "{ id: 154, name: 'Chocolate Heaven' },\n",
    "{ id: 155, name: 'Tasty Lemons' },\n",
    "{ id: 156, name: 'Vanilla Dreams' }"
   ]
  },
  {
   "cell_type": "markdown",
   "id": "73425fa7-440f-4b56-8d32-c2ef4c9ef23c",
   "metadata": {},
   "source": [
    "***let's create tables for join:***"
   ]
  },
  {
   "cell_type": "markdown",
   "id": "4d59b2c9-82e3-4e2a-a0d5-f85786539238",
   "metadata": {},
   "source": [
    "* <b>prepare table 1 : users<b>"
   ]
  },
  {
   "cell_type": "markdown",
   "id": "32737fdc-46c1-4ca0-96e5-96041533ee49",
   "metadata": {},
   "source": [
    "1. create table 1"
   ]
  },
  {
   "cell_type": "code",
   "execution_count": 10,
   "id": "7bd89c91-0063-4d7f-8b18-38981abef2aa",
   "metadata": {},
   "outputs": [],
   "source": [
    "import mysql.connector\n",
    "\n",
    "mydb = mysql.connector.connect(\n",
    "    host = 'localhost',\n",
    "    user = 'root',\n",
    "    passwd = 'EHARAmaika@2000',\n",
    "    database = 'mydatabase')\n",
    "\n",
    "mycursor = mydb.cursor()\n",
    "\n",
    "sql = \"CREATE TABLE users( ID INT, name varchar(20), fav varchar(5))\"\n",
    "\n",
    "mycursor.execute(sql)"
   ]
  },
  {
   "cell_type": "markdown",
   "id": "d433a0a7-d2ab-4a6d-b113-271e7f68ce21",
   "metadata": {},
   "source": [
    "2. insert data in table 1"
   ]
  },
  {
   "cell_type": "code",
   "execution_count": 11,
   "id": "1a41e9ad-7f58-47dc-bd35-988418007a0b",
   "metadata": {},
   "outputs": [
    {
     "name": "stdout",
     "output_type": "stream",
     "text": [
      "5  rows inserted.\n"
     ]
    }
   ],
   "source": [
    "import mysql.connector\n",
    "\n",
    "mydb = mysql.connector.connect(\n",
    "    host = 'localhost',\n",
    "    user = 'root',\n",
    "    passwd = 'EHARAmaika@2000',\n",
    "    database = 'mydatabase')\n",
    "\n",
    "mycursor = mydb.cursor()\n",
    "\n",
    "sql = \"\"\"INSERT INTO users (ID, name, fav) VALUES (%s, %s, %s)\"\"\"\n",
    "val = [\n",
    "    (1,'John','154'),\n",
    "    (2,'Peter','154'),\n",
    "    (3,'Amy','155'),\n",
    "    (4,'Hannah',None),\n",
    "    (5,'Micheal',None)\n",
    "]\n",
    "\n",
    "mycursor.executemany(sql, val)\n",
    "\n",
    "mydb.commit()\n",
    "\n",
    "print(mycursor.rowcount, \" rows inserted.\")"
   ]
  },
  {
   "cell_type": "markdown",
   "id": "7367334b-1603-43df-b520-577a4f20c10c",
   "metadata": {},
   "source": [
    "3. print table 1"
   ]
  },
  {
   "cell_type": "code",
   "execution_count": 12,
   "id": "2563bb66-96bd-4bba-a0dd-629419e8c9c2",
   "metadata": {},
   "outputs": [
    {
     "name": "stdout",
     "output_type": "stream",
     "text": [
      "(1, 'John', '154')\n",
      "(2, 'Peter', '154')\n",
      "(3, 'Amy', '155')\n",
      "(4, 'Hannah', None)\n",
      "(5, 'Micheal', None)\n"
     ]
    }
   ],
   "source": [
    "import mysql.connector\n",
    "\n",
    "mydb = mysql.connector.connect(\n",
    "    host = 'localhost',\n",
    "    user = 'root',\n",
    "    passwd = 'EHARAmaika@2000',\n",
    "    database = 'mydatabase')\n",
    "\n",
    "mycursor = mydb.cursor()\n",
    "\n",
    "sql = \"SELECT * FROM users\"\n",
    "mycursor.execute(sql)\n",
    "\n",
    "myresult = mycursor.fetchall()\n",
    "\n",
    "for x in myresult:\n",
    "    print(x)"
   ]
  },
  {
   "cell_type": "markdown",
   "id": "98bc4798-f07e-4e17-800b-ed65f9eaf417",
   "metadata": {},
   "source": [
    "* <b>prepare table 2 : products<b>"
   ]
  },
  {
   "cell_type": "markdown",
   "id": "0fcb99e2-122e-4639-b740-b7fe8b51c6a4",
   "metadata": {},
   "source": [
    "1. create table 2"
   ]
  },
  {
   "cell_type": "code",
   "execution_count": 13,
   "id": "f6583fbe-663b-45ed-ac8c-84f8b2c808b6",
   "metadata": {},
   "outputs": [],
   "source": [
    "import mysql.connector\n",
    "\n",
    "mydb = mysql.connector.connect(\n",
    "    host = 'localhost',\n",
    "    user = 'root',\n",
    "    passwd = 'EHARAmaika@2000',\n",
    "    database = 'mydatabase')\n",
    "\n",
    "mycursor = mydb.cursor()\n",
    "\n",
    "sql = \"CREATE TABLE products(ID INT, name varchar(20))\"\n",
    "\n",
    "mycursor.execute(sql)"
   ]
  },
  {
   "cell_type": "markdown",
   "id": "22e8961d-17b5-4949-92fc-bf447a431cc2",
   "metadata": {},
   "source": [
    "2. insert data in table 2"
   ]
  },
  {
   "cell_type": "code",
   "execution_count": 14,
   "id": "40bf62da-4923-4a09-aef8-a7b7b37cfe8a",
   "metadata": {},
   "outputs": [
    {
     "name": "stdout",
     "output_type": "stream",
     "text": [
      "3 rows inserted.\n"
     ]
    }
   ],
   "source": [
    "import mysql.connector\n",
    "\n",
    "mydb = mysql.connector.connect(\n",
    "    host = 'localhost',\n",
    "    user = 'root',\n",
    "    passwd = 'EHARAmaika@2000',\n",
    "    database = 'mydatabase')\n",
    "\n",
    "mycursor = mydb.cursor()\n",
    "\n",
    "sql = \"INSERT INTO products VALUES (%s, %s)\"\n",
    "val = [(154,'Chocolate Heaven'),\n",
    "       (154,'Tasty Lemons'),\n",
    "       (156, 'Vanilla Dreams')]\n",
    "\n",
    "mycursor.executemany(sql,val)\n",
    "\n",
    "mydb.commit()\n",
    "\n",
    "print(mycursor.rowcount,\"rows inserted.\")"
   ]
  },
  {
   "cell_type": "markdown",
   "id": "5b4ac22c-1a1c-4067-a32a-b27d20e80adc",
   "metadata": {},
   "source": [
    "3. print table 2"
   ]
  },
  {
   "cell_type": "code",
   "execution_count": 15,
   "id": "b2b023b4-139f-4713-9651-ab0e9cf663b7",
   "metadata": {},
   "outputs": [
    {
     "name": "stdout",
     "output_type": "stream",
     "text": [
      "(154, 'Chocolate Heaven')\n",
      "(154, 'Tasty Lemons')\n",
      "(156, 'Vanilla Dreams')\n"
     ]
    }
   ],
   "source": [
    "import mysql.connector\n",
    "\n",
    "mydb = mysql.connector.connect(host = 'localhost',\n",
    "                       user = 'root',\n",
    "                       passwd = 'EHARAmaika@2000',\n",
    "                      database = \"mydatabase\")\n",
    "mycursor = mydb.cursor()\n",
    "\n",
    "sql =\"SELECT * FROM products\"\n",
    "\n",
    "mycursor.execute(sql)\n",
    "\n",
    "myresult = mycursor.fetchall()\n",
    "\n",
    "for x in myresult:\n",
    "    print(x)"
   ]
  },
  {
   "cell_type": "markdown",
   "id": "5b5531b4-6880-4d3c-be1f-e761a147ed52",
   "metadata": {},
   "source": [
    "### let's see how to use 'JOIN' operations on table 1. users and table 2. products"
   ]
  },
  {
   "cell_type": "markdown",
   "id": "933309e1-4ad3-45bb-9d67-440929d899ee",
   "metadata": {},
   "source": [
    "<pre><b>TABLE 1 :</b>\n",
    "users  =  [id, name, fav]\n",
    "{ id: 1, name: 'John', fav: 154},\n",
    "{ id: 2, name: 'Peter', fav: 154},\n",
    "{ id: 3, name: 'Amy', fav: 155},\n",
    "{ id: 4, name: 'Hannah', fav:},\n",
    "{ id: 5, name: 'Michael', fav:}\n",
    "\n",
    "<b>TABLE 2 :</b>\n",
    "products = [id, name]\n",
    "{ id: 154, name: 'Chocolate Heaven' },\n",
    "{ id: 155, name: 'Tasty Lemons' },\n",
    "{ id: 156, name: 'Vanilla Dreams' } </pre>"
   ]
  },
  {
   "cell_type": "markdown",
   "id": "86913fbf-48d8-4ef7-bfad-52e740685613",
   "metadata": {},
   "source": [
    "* These two tables can be combined by using users' fav field and products' id field."
   ]
  },
  {
   "cell_type": "markdown",
   "id": "ec7c654f-503f-4e62-bb12-49033f07ebb0",
   "metadata": {},
   "source": [
    "<b>Join users and products to see the name of the users favorite product:</b>"
   ]
  },
  {
   "cell_type": "code",
   "execution_count": 16,
   "id": "9ce5b986-2339-4bfd-9649-d63d9ef1d6f1",
   "metadata": {},
   "outputs": [
    {
     "name": "stdout",
     "output_type": "stream",
     "text": [
      "('John', 'Tasty Lemons')\n",
      "('John', 'Chocolate Heaven')\n",
      "('Peter', 'Tasty Lemons')\n",
      "('Peter', 'Chocolate Heaven')\n"
     ]
    }
   ],
   "source": [
    "import mysql.connector\n",
    "\n",
    "mydb = mysql.connector.connect(host = 'localhost',\n",
    "                       user = 'root',\n",
    "                       passwd = 'EHARAmaika@2000',\n",
    "                      database = \"mydatabase\")\n",
    "\n",
    "mycursor = mydb.cursor()\n",
    "\n",
    "sql = \"SELECT \\\n",
    "  users.name AS user, \\\n",
    "  products.name AS favorite \\\n",
    "  FROM users \\\n",
    "  INNER JOIN products ON users.fav = products.id\"\n",
    "\n",
    "mycursor.execute(sql)\n",
    "\n",
    "myresult = mycursor.fetchall()\n",
    "\n",
    "for x in myresult:\n",
    "    print(x)"
   ]
  },
  {
   "cell_type": "markdown",
   "id": "35d7c8a7-6917-43dc-b7d6-6ec43098644c",
   "metadata": {},
   "source": [
    "<b>Note:</b> You can use JOIN instead of INNER JOIN. They will both give you the same result."
   ]
  },
  {
   "cell_type": "markdown",
   "id": "89cd4aef-fdc0-436b-88b9-13a5f43a41f5",
   "metadata": {},
   "source": [
    "### LEFT JOIN\n",
    "In the example above, Hannah, and Michael were excluded from the result, that is because INNER JOIN only shows the records where there is a match. If you want to show all users, even if they do not have a favorite product, use the LEFT JOIN statement:"
   ]
  },
  {
   "cell_type": "markdown",
   "id": "5bd0fed4-5003-4cb6-9832-ff796f8182ba",
   "metadata": {},
   "source": [
    "<b>Select all users and their favorite product:</b>"
   ]
  },
  {
   "cell_type": "code",
   "execution_count": 17,
   "id": "6a0c6ec9-1725-4e76-8961-58de842132c0",
   "metadata": {},
   "outputs": [
    {
     "name": "stdout",
     "output_type": "stream",
     "text": [
      "('John', 'Tasty Lemons')\n",
      "('John', 'Chocolate Heaven')\n",
      "('Peter', 'Tasty Lemons')\n",
      "('Peter', 'Chocolate Heaven')\n",
      "('Amy', None)\n",
      "('Hannah', None)\n",
      "('Micheal', None)\n"
     ]
    }
   ],
   "source": [
    "import mysql.connector\n",
    "\n",
    "mydb = mysql.connector.connect(host = 'localhost',\n",
    "                       user = 'root',\n",
    "                       passwd = 'EHARAmaika@2000',\n",
    "                      database = \"mydatabase\")\n",
    "mycursor = mydb.cursor()\n",
    "\n",
    "sql = \"SELECT \\\n",
    "  users.name AS user, \\\n",
    "  products.name AS favorite \\\n",
    "  FROM users \\\n",
    "  LEFT JOIN products ON users.fav = products.id\"\n",
    "\n",
    "mycursor.execute(sql)\n",
    "\n",
    "myresult = mycursor.fetchall()\n",
    "\n",
    "for x in myresult:\n",
    "    print(x)"
   ]
  },
  {
   "cell_type": "markdown",
   "id": "3d3cd8df-42b9-4bb9-b11f-84065bdf8292",
   "metadata": {},
   "source": [
    "### RIGHT JOIN\n",
    "If you want to return all products, and the users who have them as their favorite, even if no user have them as their favorite, use the RIGHT JOIN statement:"
   ]
  },
  {
   "cell_type": "markdown",
   "id": "1b10b4f1-6b45-4e6e-a46a-30c4ce15f22e",
   "metadata": {},
   "source": [
    "<b>Select all products, and the user(s) who have them as their favorite:</b>"
   ]
  },
  {
   "cell_type": "code",
   "execution_count": 18,
   "id": "1a3c8103-f9da-4241-babb-1cc529e01b80",
   "metadata": {},
   "outputs": [
    {
     "name": "stdout",
     "output_type": "stream",
     "text": [
      "('Peter', 'Chocolate Heaven')\n",
      "('John', 'Chocolate Heaven')\n",
      "('Peter', 'Tasty Lemons')\n",
      "('John', 'Tasty Lemons')\n",
      "(None, 'Vanilla Dreams')\n"
     ]
    }
   ],
   "source": [
    "import mysql.connector\n",
    "\n",
    "mydb = mysql.connector.connect(host = 'localhost',\n",
    "                       user = 'root',\n",
    "                       passwd = 'EHARAmaika@2000',\n",
    "                      database = \"mydatabase\")\n",
    "mycursor = mydb.cursor()\n",
    "\n",
    "sql = \"SELECT \\\n",
    "  users.name AS user, \\\n",
    "  products.name AS favorite \\\n",
    "  FROM users \\\n",
    "  RIGHT JOIN products ON users.fav = products.id\"\n",
    "\n",
    "mycursor.execute(sql)\n",
    "\n",
    "myresult = mycursor.fetchall()\n",
    "\n",
    "for x in myresult:\n",
    "    print(x)"
   ]
  },
  {
   "cell_type": "markdown",
   "id": "57496ea0-debb-49b4-bbbb-a8bc2fd4b200",
   "metadata": {},
   "source": [
    "***you can explore more python techniques for mysql from official python or mysql documantation***"
   ]
  },
  {
   "cell_type": "code",
   "execution_count": null,
   "id": "2a536dee-cef8-4cdf-91f2-4a123a32376c",
   "metadata": {},
   "outputs": [],
   "source": []
  },
  {
   "cell_type": "markdown",
   "id": "0a0f1656-7f65-47ce-92f7-f0c03c3f9613",
   "metadata": {},
   "source": [
    "<pre> <b>Syntax : </b> brief syntax of python for mysql database\n",
    "<blockquote>\n",
    "<b>#import modules</b>\n",
    "import mysql.connector\n",
    "\n",
    "<b>#Create a connection to the MySQL database</b>\n",
    "mydb = mysql.connector.connect(\n",
    "    host = \"localhost\",\n",
    "    user = \"root\",\n",
    "    passwd = \"EHARAmaika@2000\",\n",
    "    database = \"mydatabase\")\n",
    "\n",
    "<b>#Create a cursor object</b>\n",
    "mycursor = mydb.cursor()\n",
    "\n",
    "\n",
    "<b>#insert value by variable if needed</b>\n",
    "sql = \"insert into customers(NAME, ADDRESS) values (%s, %s)\"\n",
    "val = (\"JOHN\", \"HIGHWAY 21\")\n",
    "\n",
    "<b>#Execute an mysql statement</b>\n",
    "mycursor.execute(sql, val)\n",
    "\n",
    "\n",
    "<b>#Commit the changes</b>\n",
    "mydb.commit()\n",
    "\n",
    "<b>#Close the connection</b>\n",
    "mydb.close()\n",
    "\n",
    "<b>#print server massage</b>\n",
    "print(mycursor.rowcount,\"write massage here as database server show on workspace.\")\n",
    "</blockquote></pre>"
   ]
  },
  {
   "cell_type": "markdown",
   "id": "acc50fc9-3c54-4e70-b5c9-40fa47c5b889",
   "metadata": {},
   "source": [
    "# Reference\n",
    "* [w3school](https://www.w3schools.com/python/python_mysql_getstarted.asp)\n",
    "* [official python documentation](https://dev.mysql.com/doc/connector-python/en/connector-python-example-connecting.html)"
   ]
  },
  {
   "cell_type": "code",
   "execution_count": null,
   "id": "eb33c09a-472d-4bc6-a7f4-c3aa420b544d",
   "metadata": {},
   "outputs": [],
   "source": []
  }
 ],
 "metadata": {
  "kernelspec": {
   "display_name": "Python 3 (ipykernel)",
   "language": "python",
   "name": "python3"
  },
  "language_info": {
   "codemirror_mode": {
    "name": "ipython",
    "version": 3
   },
   "file_extension": ".py",
   "mimetype": "text/x-python",
   "name": "python",
   "nbconvert_exporter": "python",
   "pygments_lexer": "ipython3",
   "version": "3.11.7"
  },
  "widgets": {
   "application/vnd.jupyter.widget-state+json": {
    "state": {},
    "version_major": 2,
    "version_minor": 0
   }
  }
 },
 "nbformat": 4,
 "nbformat_minor": 5
}
